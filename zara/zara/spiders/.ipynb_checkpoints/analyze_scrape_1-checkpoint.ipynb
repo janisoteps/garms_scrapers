{
 "cells": [
  {
   "cell_type": "code",
   "execution_count": 1,
   "metadata": {},
   "outputs": [],
   "source": [
    "import jsonlines"
   ]
  },
  {
   "cell_type": "code",
   "execution_count": 2,
   "metadata": {},
   "outputs": [],
   "source": [
    "scrape_file = jsonlines.open('items_zara_uk_2019_dec_1.jsonl', 'r')"
   ]
  },
  {
   "cell_type": "code",
   "execution_count": 3,
   "metadata": {},
   "outputs": [],
   "source": [
    "scrape_cats = []\n",
    "cat_counts = {}"
   ]
  },
  {
   "cell_type": "code",
   "execution_count": 4,
   "metadata": {},
   "outputs": [],
   "source": [
    "for line in scrape_file:\n",
    "    cat = line['category']\n",
    "    if cat not in scrape_cats:\n",
    "        scrape_cats.append(cat)\n",
    "        cat_counts[cat] = 1\n",
    "    else:\n",
    "        cat_counts[cat] += 1"
   ]
  },
  {
   "cell_type": "code",
   "execution_count": 5,
   "metadata": {},
   "outputs": [
    {
     "data": {
      "text/plain": [
       "['outerwear',\n",
       " 'polos',\n",
       " 'bags',\n",
       " 'tshirts',\n",
       " 'accessories perfumes',\n",
       " 'watches',\n",
       " 'knitwear',\n",
       " 'new in',\n",
       " 'daily',\n",
       " 'shoes',\n",
       " 'sweatshirts',\n",
       " 'corners all time',\n",
       " 'bermudas',\n",
       " 'jeans',\n",
       " 'corners street',\n",
       " 'blazers',\n",
       " 'jackets',\n",
       " 'trousers',\n",
       " 'shirts',\n",
       " 'maternity',\n",
       " 'special prices',\n",
       " 'dresses party']"
      ]
     },
     "execution_count": 5,
     "metadata": {},
     "output_type": "execute_result"
    }
   ],
   "source": [
    "scrape_cats"
   ]
  },
  {
   "cell_type": "code",
   "execution_count": null,
   "metadata": {},
   "outputs": [],
   "source": []
  }
 ],
 "metadata": {
  "kernelspec": {
   "display_name": "Python 3",
   "language": "python",
   "name": "python3"
  },
  "language_info": {
   "codemirror_mode": {
    "name": "ipython",
    "version": 3
   },
   "file_extension": ".py",
   "mimetype": "text/x-python",
   "name": "python",
   "nbconvert_exporter": "python",
   "pygments_lexer": "ipython3",
   "version": "3.6.4"
  }
 },
 "nbformat": 4,
 "nbformat_minor": 2
}
