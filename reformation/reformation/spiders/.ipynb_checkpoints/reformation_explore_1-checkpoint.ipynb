{
 "cells": [
  {
   "cell_type": "code",
   "execution_count": 1,
   "metadata": {},
   "outputs": [],
   "source": [
    "import lxml.html\n",
    "import requests\n",
    "import re\n",
    "import json\n",
    "import random"
   ]
  },
  {
   "cell_type": "code",
   "execution_count": 2,
   "metadata": {},
   "outputs": [],
   "source": [
    "headers = {\n",
    "    'accept': 'text/html,application/xhtml+xml,application/xml;q=0.9,image/webp,image/apng,*/*;q=0.8,application/signed-exchange;v=b3',\n",
    "    'accept-encoding': 'gzip, deflate, br',\n",
    "    'accept-language': 'en-US,en;q=0.9,lv;q=0.8',\n",
    "    'cookie': '__stripe_mid=ecfcd4bc-3836-4a10-80ca-5755ba8280e7; optimizelyEndUserId=oeu1561745028803r0.5120157881853862; _gcl_au=1.1.1491299415.1561745029; sd_client_id=240b3c7c-48da-4fec-800a-f6aff1270236; _ga=GA1.2.1367291857.1561745030; cto_lwid=08d81a8b-ffe7-47c6-921f-0f6c332f9b2a; GlobalE_CT_Data=%7B%22CUID%22%3A%22fc395b9c-8ca1-4507-873d-2e3b074aa991%22%7D; _fbp=fb.1.1561745030037.2100361300; rmStore=amid:40090|dmid:8251; GlobalE_Data=%7B%22countryISO%22%3A%22DE%22%2C%22currencyCode%22%3A%22EUR%22%2C%22cultureCode%22%3A%22de%22%7D; GlobalE_IsOperated=false; _gid=GA1.2.1725193924.1562071864; view_sort_cookie=2; __stripe_sid=716e1ace-aaf0-4ed1-8824-cebbdefa7e7e; _reformation-weblinc_session=TDdlNEVKK3BWTTNZQ0YvbEdiOG1LK0RtU2F2Vk9lOXNPR05Oak5jblZCSUhVMFVVaEJoOTVkdWZacThOYk1qMzZsWnM0Ykc0cWM2ZWlSREQ5ZDlGZlQ3dk9EKzlvUjhnODBRdm02WFBLMEY4cEZ4Tm1ZTXBEKzJhamtZQXl5RWVtNGFoN3BoUEdMNWdNMDFvMEYwcVdnPT0tLUxuVXoxWkRxZS80alo5L2RRR1NweUE9PQ%3D%3D--42f0b2fe258ca55a93cf8ae78591c3ae42e251e1; stc115232=env:1562105686%7C20190802221446%7C20190702224446%7C1%7C1047835:20200701221446|uid:1561745030189.639098719.376615.115232.264403305.79:20200701221446|srchist:1047835%3A1562105686%3A20190802221446:20200701221446|tsa:2041602218:20190702224446; _gat_UA-26305999-1=1; GlobalE_Tags_Data=%7B%22cachePin%22%3A1562105687410%2C%22hitCount%22%3A1%7D; _derived_epik=dj0yJnU9YUo3Q2pYMmliX295Zk5OMHZqQ0sxejZ4M1NmR1JYcnYmbj1pb2QtVzBZYnc0UXpyYTV1b2l0OGVRJm09NyZ0PUFBQUFBRjBiMTFj',\n",
    "    'pragma': 'no-cache',\n",
    "    'referer': 'https://www.thereformation.com/',\n",
    "    'upgrade-insecure-requests': '1',\n",
    "    'user-agent': 'Mozilla/5.0 (Macintosh; Intel Mac OS X 10_14_5) AppleWebKit/537.36 (KHTML, like Gecko) Chrome/75.0.3770.100 Safari/537.36'\n",
    "}"
   ]
  },
  {
   "cell_type": "code",
   "execution_count": 3,
   "metadata": {},
   "outputs": [],
   "source": [
    "sitemap_req = requests.get('https://www.thereformation.com/sitemap', headers=headers)\n",
    "sitemap_doc = lxml.html.fromstring(sitemap_req.text)"
   ]
  },
  {
   "cell_type": "code",
   "execution_count": 4,
   "metadata": {},
   "outputs": [],
   "source": [
    "sitemap_links = sitemap_doc.xpath('.//li[@class=\"sitemap__item\"]')"
   ]
  },
  {
   "cell_type": "code",
   "execution_count": 5,
   "metadata": {},
   "outputs": [],
   "source": [
    "cat_urls = []"
   ]
  },
  {
   "cell_type": "code",
   "execution_count": 6,
   "metadata": {},
   "outputs": [],
   "source": [
    "for sitemap_link in sitemap_links:\n",
    "    sitemap_url = sitemap_link.xpath('.//a/@href')[0]\n",
    "    if 'http' not in sitemap_url and 'categories' in sitemap_url:\n",
    "        cat_name_slug = sitemap_url.split('categories/')[1]\n",
    "        cat_name_arr = [cat_string for cat_string in cat_name_slug.split('-') if cat_string.isalpha()]\n",
    "        cat_name = ' '.join(cat_name_arr).title()\n",
    "        cat_urls.append({\n",
    "            'cat_url': 'https://www.thereformation.com' + sitemap_url,\n",
    "            'cat_name': cat_name\n",
    "        })"
   ]
  },
  {
   "cell_type": "code",
   "execution_count": 7,
   "metadata": {},
   "outputs": [
    {
     "data": {
      "text/plain": [
       "[{'cat_url': 'https://www.thereformation.com/categories/dresses',\n",
       "  'cat_name': 'Dresses'},\n",
       " {'cat_url': 'https://www.thereformation.com/categories/tops',\n",
       "  'cat_name': 'Tops'},\n",
       " {'cat_url': 'https://www.thereformation.com/categories/bottoms',\n",
       "  'cat_name': 'Bottoms'},\n",
       " {'cat_url': 'https://www.thereformation.com/categories/jumpsuits',\n",
       "  'cat_name': 'Jumpsuits'},\n",
       " {'cat_url': 'https://www.thereformation.com/categories/accessories',\n",
       "  'cat_name': 'Accessories'},\n",
       " {'cat_url': 'https://www.thereformation.com/categories/swim',\n",
       "  'cat_name': 'Swim'},\n",
       " {'cat_url': 'https://www.thereformation.com/categories/jeans',\n",
       "  'cat_name': 'Jeans'},\n",
       " {'cat_url': 'https://www.thereformation.com/categories/dresses-1',\n",
       "  'cat_name': 'Dresses'},\n",
       " {'cat_url': 'https://www.thereformation.com/categories/ref-jeans-tops',\n",
       "  'cat_name': 'Ref Jeans Tops'},\n",
       " {'cat_url': 'https://www.thereformation.com/categories/best-of-ref',\n",
       "  'cat_name': 'Best Of Ref'},\n",
       " {'cat_url': 'https://www.thereformation.com/categories/ref-jeans',\n",
       "  'cat_name': 'Ref Jeans'},\n",
       " {'cat_url': 'https://www.thereformation.com/categories/back-in-stock',\n",
       "  'cat_name': 'Back In Stock'},\n",
       " {'cat_url': 'https://www.thereformation.com/categories/new',\n",
       "  'cat_name': 'New'},\n",
       " {'cat_url': 'https://www.thereformation.com/categories/just-in-dresses',\n",
       "  'cat_name': 'Just In Dresses'},\n",
       " {'cat_url': 'https://www.thereformation.com/categories/just-in-ref-jeans',\n",
       "  'cat_name': 'Just In Ref Jeans'},\n",
       " {'cat_url': 'https://www.thereformation.com/categories/almost-gone',\n",
       "  'cat_name': 'Almost Gone'},\n",
       " {'cat_url': 'https://www.thereformation.com/categories/bridesmaids',\n",
       "  'cat_name': 'Bridesmaids'},\n",
       " {'cat_url': 'https://www.thereformation.com/categories/guests',\n",
       "  'cat_name': 'Guests'},\n",
       " {'cat_url': 'https://www.thereformation.com/categories/brides',\n",
       "  'cat_name': 'Brides'},\n",
       " {'cat_url': 'https://www.thereformation.com/categories/ref-jeans-sweaters-sweatshirts',\n",
       "  'cat_name': 'Ref Jeans Sweaters Sweatshirts'},\n",
       " {'cat_url': 'https://www.thereformation.com/categories/tees',\n",
       "  'cat_name': 'Tees'},\n",
       " {'cat_url': 'https://www.thereformation.com/categories/weddings-parties',\n",
       "  'cat_name': 'Weddings Parties'},\n",
       " {'cat_url': 'https://www.thereformation.com/categories/this-week-at-ref',\n",
       "  'cat_name': 'This Week At Ref'},\n",
       " {'cat_url': 'https://www.thereformation.com/categories/bodysuits',\n",
       "  'cat_name': 'Bodysuits'}]"
      ]
     },
     "execution_count": 7,
     "metadata": {},
     "output_type": "execute_result"
    }
   ],
   "source": [
    "cat_urls"
   ]
  },
  {
   "cell_type": "code",
   "execution_count": 8,
   "metadata": {},
   "outputs": [],
   "source": [
    "cat_req = requests.get('https://www.thereformation.com/categories/dresses', headers=headers)\n",
    "cat_doc = lxml.html.fromstring(cat_req.text)"
   ]
  },
  {
   "cell_type": "code",
   "execution_count": 9,
   "metadata": {},
   "outputs": [],
   "source": [
    "next_page = cat_doc.xpath('.//link[@rel = \"next\"]/@href')"
   ]
  },
  {
   "cell_type": "code",
   "execution_count": 10,
   "metadata": {},
   "outputs": [
    {
     "data": {
      "text/plain": [
       "['https://www.thereformation.com/categories/dresses?page=2']"
      ]
     },
     "execution_count": 10,
     "metadata": {},
     "output_type": "execute_result"
    }
   ],
   "source": [
    "next_page"
   ]
  },
  {
   "cell_type": "code",
   "execution_count": 11,
   "metadata": {},
   "outputs": [],
   "source": [
    "prod_tiles = cat_doc.xpath('.//div[@class=\"product-summary\"]')"
   ]
  },
  {
   "cell_type": "code",
   "execution_count": 14,
   "metadata": {},
   "outputs": [
    {
     "data": {
      "text/plain": [
       "'/products/zayn-dress?color=Rev&via=Z2lkOi8vcmVmb3JtYXRpb24td2VibGluYy9Xb3JrYXJlYTo6Q2F0YWxvZzo6Q2F0ZWdvcnkvNWE2YWRmZDJmOTJlYTExNmNmMDRlOWM2'"
      ]
     },
     "execution_count": 14,
     "metadata": {},
     "output_type": "execute_result"
    }
   ],
   "source": [
    "prod_tiles[0].xpath('.//a[@class=\"product-summary__media-link\"]/@href')[0]"
   ]
  },
  {
   "cell_type": "code",
   "execution_count": 16,
   "metadata": {},
   "outputs": [
    {
     "data": {
      "text/plain": [
       "'Zayn Dress'"
      ]
     },
     "execution_count": 16,
     "metadata": {},
     "output_type": "execute_result"
    }
   ],
   "source": [
    "prod_tiles[0].xpath('.//h2[@class=\"product-summary__name\"]/a/text()')[0]"
   ]
  },
  {
   "cell_type": "code",
   "execution_count": 17,
   "metadata": {},
   "outputs": [],
   "source": [
    "prod_list = []\n",
    "for prod_tile in prod_tiles:\n",
    "    prod_url = 'https://www.thereformation.com' + prod_tile.xpath('.//a[@class=\"product-summary__media-link\"]/@href')[0]\n",
    "    prod_name = prod_tile.xpath('.//h2[@class=\"product-summary__name\"]/a/text()')[0]\n",
    "    prod_list.append({\n",
    "        'prod_url': prod_url,\n",
    "        'prod_name': prod_name\n",
    "    })\n",
    "    "
   ]
  },
  {
   "cell_type": "code",
   "execution_count": 18,
   "metadata": {},
   "outputs": [
    {
     "data": {
      "text/plain": [
       "[{'prod_url': 'https://www.thereformation.com/products/zayn-dress?color=Rev&via=Z2lkOi8vcmVmb3JtYXRpb24td2VibGluYy9Xb3JrYXJlYTo6Q2F0YWxvZzo6Q2F0ZWdvcnkvNWE2YWRmZDJmOTJlYTExNmNmMDRlOWM2',\n",
       "  'prod_name': 'Zayn Dress'},\n",
       " {'prod_url': 'https://www.thereformation.com/products/jet-dress?color=Salta&via=Z2lkOi8vcmVmb3JtYXRpb24td2VibGluYy9Xb3JrYXJlYTo6Q2F0YWxvZzo6Q2F0ZWdvcnkvNWE2YWRmZDJmOTJlYTExNmNmMDRlOWM2',\n",
       "  'prod_name': 'Jet Dress'},\n",
       " {'prod_url': 'https://www.thereformation.com/products/vivianne-dress?color=Rochelle&via=Z2lkOi8vcmVmb3JtYXRpb24td2VibGluYy9Xb3JrYXJlYTo6Q2F0YWxvZzo6Q2F0ZWdvcnkvNWE2YWRmZDJmOTJlYTExNmNmMDRlOWM2',\n",
       "  'prod_name': 'Vivianne Dress'},\n",
       " {'prod_url': 'https://www.thereformation.com/products/rey-dress?color=Emerald&via=Z2lkOi8vcmVmb3JtYXRpb24td2VibGluYy9Xb3JrYXJlYTo6Q2F0YWxvZzo6Q2F0ZWdvcnkvNWE2YWRmZDJmOTJlYTExNmNmMDRlOWM2',\n",
       "  'prod_name': 'Rey Dress'},\n",
       " {'prod_url': 'https://www.thereformation.com/products/daze-dress?color=Black&via=Z2lkOi8vcmVmb3JtYXRpb24td2VibGluYy9Xb3JrYXJlYTo6Q2F0YWxvZzo6Q2F0ZWdvcnkvNWE2YWRmZDJmOTJlYTExNmNmMDRlOWM2',\n",
       "  'prod_name': 'Daze Dress'},\n",
       " {'prod_url': 'https://www.thereformation.com/products/celeste-dress?color=Persephone&via=Z2lkOi8vcmVmb3JtYXRpb24td2VibGluYy9Xb3JrYXJlYTo6Q2F0YWxvZzo6Q2F0ZWdvcnkvNWE2YWRmZDJmOTJlYTExNmNmMDRlOWM2',\n",
       "  'prod_name': 'Celeste Dress'},\n",
       " {'prod_url': 'https://www.thereformation.com/products/irma-dress?color=Graciella&via=Z2lkOi8vcmVmb3JtYXRpb24td2VibGluYy9Xb3JrYXJlYTo6Q2F0YWxvZzo6Q2F0ZWdvcnkvNWE2YWRmZDJmOTJlYTExNmNmMDRlOWM2',\n",
       "  'prod_name': 'Irma Dress'},\n",
       " {'prod_url': 'https://www.thereformation.com/products/linah-dress?color=Navy&via=Z2lkOi8vcmVmb3JtYXRpb24td2VibGluYy9Xb3JrYXJlYTo6Q2F0YWxvZzo6Q2F0ZWdvcnkvNWE2YWRmZDJmOTJlYTExNmNmMDRlOWM2',\n",
       "  'prod_name': 'Linah Dress'},\n",
       " {'prod_url': 'https://www.thereformation.com/products/romano-dress?color=Emerald&via=Z2lkOi8vcmVmb3JtYXRpb24td2VibGluYy9Xb3JrYXJlYTo6Q2F0YWxvZzo6Q2F0ZWdvcnkvNWE2YWRmZDJmOTJlYTExNmNmMDRlOWM2',\n",
       "  'prod_name': 'Romano Dress'},\n",
       " {'prod_url': 'https://www.thereformation.com/products/daze-dress?color=Heather+Grey&via=Z2lkOi8vcmVmb3JtYXRpb24td2VibGluYy9Xb3JrYXJlYTo6Q2F0YWxvZzo6Q2F0ZWdvcnkvNWE2YWRmZDJmOTJlYTExNmNmMDRlOWM2',\n",
       "  'prod_name': 'Daze Dress'},\n",
       " {'prod_url': 'https://www.thereformation.com/products/maya-dress?color=Black&via=Z2lkOi8vcmVmb3JtYXRpb24td2VibGluYy9Xb3JrYXJlYTo6Q2F0YWxvZzo6Q2F0ZWdvcnkvNWE2YWRmZDJmOTJlYTExNmNmMDRlOWM2',\n",
       "  'prod_name': 'Maya Dress'},\n",
       " {'prod_url': 'https://www.thereformation.com/products/romano-dress?color=Navy&via=Z2lkOi8vcmVmb3JtYXRpb24td2VibGluYy9Xb3JrYXJlYTo6Q2F0YWxvZzo6Q2F0ZWdvcnkvNWE2YWRmZDJmOTJlYTExNmNmMDRlOWM2',\n",
       "  'prod_name': 'Romano Dress'},\n",
       " {'prod_url': 'https://www.thereformation.com/products/irma-dress?color=Lake&via=Z2lkOi8vcmVmb3JtYXRpb24td2VibGluYy9Xb3JrYXJlYTo6Q2F0YWxvZzo6Q2F0ZWdvcnkvNWE2YWRmZDJmOTJlYTExNmNmMDRlOWM2',\n",
       "  'prod_name': 'Irma Dress'},\n",
       " {'prod_url': 'https://www.thereformation.com/products/gavin-dress?color=Emerald&via=Z2lkOi8vcmVmb3JtYXRpb24td2VibGluYy9Xb3JrYXJlYTo6Q2F0YWxvZzo6Q2F0ZWdvcnkvNWE2YWRmZDJmOTJlYTExNmNmMDRlOWM2',\n",
       "  'prod_name': 'Gavin Dress'},\n",
       " {'prod_url': 'https://www.thereformation.com/products/linah-dress?color=Black&via=Z2lkOi8vcmVmb3JtYXRpb24td2VibGluYy9Xb3JrYXJlYTo6Q2F0YWxvZzo6Q2F0ZWdvcnkvNWE2YWRmZDJmOTJlYTExNmNmMDRlOWM2',\n",
       "  'prod_name': 'Linah Dress'},\n",
       " {'prod_url': 'https://www.thereformation.com/products/wahl-dress?color=Marble+Velvet&via=Z2lkOi8vcmVmb3JtYXRpb24td2VibGluYy9Xb3JrYXJlYTo6Q2F0YWxvZzo6Q2F0ZWdvcnkvNWE2YWRmZDJmOTJlYTExNmNmMDRlOWM2',\n",
       "  'prod_name': 'Wahl Dress'},\n",
       " {'prod_url': 'https://www.thereformation.com/products/wahl-dress?color=Velvet+Stripe&via=Z2lkOi8vcmVmb3JtYXRpb24td2VibGluYy9Xb3JrYXJlYTo6Q2F0YWxvZzo6Q2F0ZWdvcnkvNWE2YWRmZDJmOTJlYTExNmNmMDRlOWM2',\n",
       "  'prod_name': 'Wahl Dress'},\n",
       " {'prod_url': 'https://www.thereformation.com/products/gigi-denim-dress?color=Black&via=Z2lkOi8vcmVmb3JtYXRpb24td2VibGluYy9Xb3JrYXJlYTo6Q2F0YWxvZzo6Q2F0ZWdvcnkvNWE2YWRmZDJmOTJlYTExNmNmMDRlOWM2',\n",
       "  'prod_name': 'Gigi Denim Dress'},\n",
       " {'prod_url': 'https://www.thereformation.com/products/maya-dress?color=Emerald&via=Z2lkOi8vcmVmb3JtYXRpb24td2VibGluYy9Xb3JrYXJlYTo6Q2F0YWxvZzo6Q2F0ZWdvcnkvNWE2YWRmZDJmOTJlYTExNmNmMDRlOWM2',\n",
       "  'prod_name': 'Maya Dress'},\n",
       " {'prod_url': 'https://www.thereformation.com/products/rocki-dress?color=Romy&via=Z2lkOi8vcmVmb3JtYXRpb24td2VibGluYy9Xb3JrYXJlYTo6Q2F0YWxvZzo6Q2F0ZWdvcnkvNWE2YWRmZDJmOTJlYTExNmNmMDRlOWM2',\n",
       "  'prod_name': 'Rocki Dress'}]"
      ]
     },
     "execution_count": 18,
     "metadata": {},
     "output_type": "execute_result"
    }
   ],
   "source": [
    "prod_list"
   ]
  },
  {
   "cell_type": "code",
   "execution_count": 25,
   "metadata": {},
   "outputs": [],
   "source": [
    "prod_req = requests.get('https://www.thereformation.com/products/maya-dress?color=Emerald&via=Z2lkOi8vcmVmb3JtYXRpb24td2VibGluYy9Xb3JrYXJlYTo6Q2F0YWxvZzo6Q2F0ZWdvcnkvNWE2YWRmZDJmOTJlYTExNmNmMDRlOWM2', headers=headers)\n",
    "prod_doc = lxml.html.fromstring(prod_req.text)\n"
   ]
  },
  {
   "cell_type": "code",
   "execution_count": 26,
   "metadata": {},
   "outputs": [],
   "source": [
    "description = prod_doc.xpath('.//div[@itemprop=\"description\"]/text()')[0]"
   ]
  },
  {
   "cell_type": "code",
   "execution_count": 27,
   "metadata": {},
   "outputs": [
    {
     "data": {
      "text/plain": [
       "'Meet the eco rib. This is a mini length, fit and flare dress with a mock neckline and long sleeves.'"
      ]
     },
     "execution_count": 27,
     "metadata": {},
     "output_type": "execute_result"
    }
   ],
   "source": [
    "description"
   ]
  },
  {
   "cell_type": "code",
   "execution_count": 30,
   "metadata": {},
   "outputs": [],
   "source": [
    "alternative_color_opts = prod_doc.xpath('.//li[@class=\"pdp-color-options__color\"]/a/div/text()')"
   ]
  },
  {
   "cell_type": "code",
   "execution_count": 31,
   "metadata": {},
   "outputs": [
    {
     "data": {
      "text/plain": [
       "['Black']"
      ]
     },
     "execution_count": 31,
     "metadata": {},
     "output_type": "execute_result"
    }
   ],
   "source": [
    "alternative_color_opts"
   ]
  },
  {
   "cell_type": "code",
   "execution_count": 32,
   "metadata": {},
   "outputs": [],
   "source": [
    "orig_url = 'https://www.thereformation.com/products/maya-dress?color=Emerald&via=Z2lkOi8vcmVmb3JtYXRpb24td2VibGluYy9Xb3JrYXJlYTo6Q2F0YWxvZzo6Q2F0ZWdvcnkvNWE2YWRmZDJmOTJlYTExNmNmMDRlOWM2'\n",
    "orig_color = orig_url.split('?color=')[1].split('&')[0]\n"
   ]
  },
  {
   "cell_type": "code",
   "execution_count": 33,
   "metadata": {},
   "outputs": [],
   "source": [
    "alt_color_urls = [orig_url.split(orig_color)[0] + alt_color + orig_url.split(orig_color)[1] for alt_color in alternative_color_opts]\n"
   ]
  },
  {
   "cell_type": "code",
   "execution_count": 34,
   "metadata": {},
   "outputs": [
    {
     "data": {
      "text/plain": [
       "['https://www.thereformation.com/products/maya-dress?color=Black&via=Z2lkOi8vcmVmb3JtYXRpb24td2VibGluYy9Xb3JrYXJlYTo6Q2F0YWxvZzo6Q2F0ZWdvcnkvNWE2YWRmZDJmOTJlYTExNmNmMDRlOWM2']"
      ]
     },
     "execution_count": 34,
     "metadata": {},
     "output_type": "execute_result"
    }
   ],
   "source": [
    "alt_color_urls"
   ]
  },
  {
   "cell_type": "code",
   "execution_count": 37,
   "metadata": {},
   "outputs": [],
   "source": [
    "img_urls = prod_doc.xpath('.//img[contains(@class, \"pdp__primary-image-link-image\")]/@data-src')"
   ]
  },
  {
   "cell_type": "code",
   "execution_count": 38,
   "metadata": {},
   "outputs": [
    {
     "data": {
      "text/plain": [
       "['https://media.thereformation.com/image/upload/q_auto:eco/c_scale,w_auto:breakpoints_100_1668_9_20/v1/prod/product_images/maya-dress/emerald/5d6599fa8858db330b9611df/original.jpg',\n",
       " 'https://media.thereformation.com/image/upload/q_auto:eco/c_scale,w_auto:breakpoints_100_1668_9_20/v1/prod/product_images/maya-dress/emerald/5d6599fb8858db330b9611e0/original.jpg',\n",
       " 'https://media.thereformation.com/image/upload/q_auto:eco/c_scale,w_auto:breakpoints_100_1668_9_20/v1/prod/product_images/maya-dress/emerald/5d6599f98858db330b9611dd/original.jpg',\n",
       " 'https://media.thereformation.com/image/upload/q_auto:eco/c_scale,w_auto:breakpoints_100_1668_9_20/v1/prod/product_images/maya-dress/emerald/5d6599f98858db330b9611de/original.jpg',\n",
       " 'https://media.thereformation.com/image/upload/q_auto:eco/c_scale,w_auto:breakpoints_100_1668_9_20/v1/prod/product_images/maya-dress/emerald/5d6599fb8858db330b9611e1/original.jpg',\n",
       " 'https://media.thereformation.com/image/upload/q_auto:eco/c_scale,w_auto:breakpoints_100_1668_9_20/v1/prod/product_images/maya-dress/emerald/5d6599fc8858db330b9611e2/original.jpg']"
      ]
     },
     "execution_count": 38,
     "metadata": {},
     "output_type": "execute_result"
    }
   ],
   "source": [
    "img_urls"
   ]
  },
  {
   "cell_type": "markdown",
   "metadata": {},
   "source": [
    "![](https://media.thereformation.com/image/upload/q_auto:eco/c_scale,w_auto:breakpoints_100_1668_9_20/v1/prod/product_images/maya-dress/emerald/5d6599fa8858db330b9611df/original.jpg)"
   ]
  },
  {
   "cell_type": "code",
   "execution_count": 39,
   "metadata": {},
   "outputs": [],
   "source": [
    "product_prices_string = prod_doc.xpath('.//p[@class=\"product-prices__price\"]/span/@data-fp')[0]"
   ]
  },
  {
   "cell_type": "code",
   "execution_count": 40,
   "metadata": {},
   "outputs": [
    {
     "data": {
      "text/plain": [
       "'{\"defaults\":{\"GBP\":100.0,\"EUR\":115.0,\"CAD\":150.0}}'"
      ]
     },
     "execution_count": 40,
     "metadata": {},
     "output_type": "execute_result"
    }
   ],
   "source": [
    "product_prices_string"
   ]
  },
  {
   "cell_type": "code",
   "execution_count": 41,
   "metadata": {},
   "outputs": [],
   "source": [
    "prod_prices_json = json.loads(product_prices_string)"
   ]
  },
  {
   "cell_type": "code",
   "execution_count": 42,
   "metadata": {},
   "outputs": [
    {
     "data": {
      "text/plain": [
       "{'defaults': {'GBP': 100.0, 'EUR': 115.0, 'CAD': 150.0}}"
      ]
     },
     "execution_count": 42,
     "metadata": {},
     "output_type": "execute_result"
    }
   ],
   "source": [
    "prod_prices_json"
   ]
  },
  {
   "cell_type": "code",
   "execution_count": 43,
   "metadata": {},
   "outputs": [],
   "source": [
    "price = prod_prices_json['defaults']['GBP']"
   ]
  },
  {
   "cell_type": "code",
   "execution_count": 44,
   "metadata": {},
   "outputs": [
    {
     "data": {
      "text/plain": [
       "100.0"
      ]
     },
     "execution_count": 44,
     "metadata": {},
     "output_type": "execute_result"
    }
   ],
   "source": [
    "price"
   ]
  },
  {
   "cell_type": "code",
   "execution_count": null,
   "metadata": {},
   "outputs": [],
   "source": []
  },
  {
   "cell_type": "code",
   "execution_count": 49,
   "metadata": {},
   "outputs": [],
   "source": [
    "size_opts = prod_doc.xpath('.//div[@class=\"pdp-size-options__size-button\"]')"
   ]
  },
  {
   "cell_type": "code",
   "execution_count": 50,
   "metadata": {},
   "outputs": [
    {
     "data": {
      "text/plain": [
       "[<Element div at 0x10644fef8>,\n",
       " <Element div at 0x10644fe08>,\n",
       " <Element div at 0x10644fea8>,\n",
       " <Element div at 0x10644ff98>,\n",
       " <Element div at 0x106452048>]"
      ]
     },
     "execution_count": 50,
     "metadata": {},
     "output_type": "execute_result"
    }
   ],
   "source": [
    "size_opts"
   ]
  },
  {
   "cell_type": "code",
   "execution_count": 52,
   "metadata": {},
   "outputs": [],
   "source": [
    "size_stock = []\n",
    "for size_opt in size_opts:\n",
    "    size_json_string = size_opt.xpath('.//input/@data-pdp-size-button')[0]\n",
    "    size_json = json.loads(size_json_string)\n",
    "    size = size_json['size']\n",
    "    \n",
    "    disabled_match = size_opt.xpath('.//input/@disabled')\n",
    "    disabled = False\n",
    "    if len(disabled_match) > 0:\n",
    "        disabled = True\n",
    "    \n",
    "    size_stock.append({\n",
    "        'size': size,\n",
    "        'stock': 'In stock' if disabled is False else 'Out of stock'\n",
    "    })\n",
    "    "
   ]
  },
  {
   "cell_type": "code",
   "execution_count": 53,
   "metadata": {},
   "outputs": [
    {
     "data": {
      "text/plain": [
       "[{'size': 'XS', 'stock': 'In stock'},\n",
       " {'size': 'S', 'stock': 'In stock'},\n",
       " {'size': 'M', 'stock': 'In stock'},\n",
       " {'size': 'L', 'stock': 'In stock'},\n",
       " {'size': 'XL', 'stock': 'In stock'}]"
      ]
     },
     "execution_count": 53,
     "metadata": {},
     "output_type": "execute_result"
    }
   ],
   "source": [
    "size_stock"
   ]
  },
  {
   "cell_type": "code",
   "execution_count": null,
   "metadata": {},
   "outputs": [],
   "source": [
    "# shop = Field()\n",
    "#     name = Field()\n",
    "#     price = Field()\n",
    "#     prod_url = Field()\n",
    "#     prod_id = Field()\n",
    "#     image_urls = Field()\n",
    "#     image_hash = Field()\n",
    "#     sex = Field()\n",
    "#     sale = Field()\n",
    "#     saleprice = Field()\n",
    "#     color_string = Field()\n",
    "#     color_hex = Field()\n",
    "#     brand = Field()\n",
    "#     currency = Field()\n",
    "#     date = Field()\n",
    "#     description = Field()\n",
    "#     category = Field()\n",
    "#     size_stock = Field()"
   ]
  }
 ],
 "metadata": {
  "kernelspec": {
   "display_name": "Python 3",
   "language": "python",
   "name": "python3"
  },
  "language_info": {
   "codemirror_mode": {
    "name": "ipython",
    "version": 3
   },
   "file_extension": ".py",
   "mimetype": "text/x-python",
   "name": "python",
   "nbconvert_exporter": "python",
   "pygments_lexer": "ipython3",
   "version": "3.6.5"
  }
 },
 "nbformat": 4,
 "nbformat_minor": 2
}
