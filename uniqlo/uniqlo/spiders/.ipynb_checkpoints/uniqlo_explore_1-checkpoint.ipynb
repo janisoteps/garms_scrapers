{
 "cells": [
  {
   "cell_type": "code",
   "execution_count": 2,
   "metadata": {},
   "outputs": [],
   "source": [
    "import lxml.html\n",
    "import requests\n",
    "import re\n",
    "import json\n",
    "import random"
   ]
  },
  {
   "cell_type": "code",
   "execution_count": 3,
   "metadata": {},
   "outputs": [
    {
     "data": {
      "text/html": [
       "<style>.container { width:100% !important; }</style>"
      ],
      "text/plain": [
       "<IPython.core.display.HTML object>"
      ]
     },
     "metadata": {},
     "output_type": "display_data"
    }
   ],
   "source": [
    "from IPython.core.display import display, HTML\n",
    "display(HTML(\"<style>.container { width:100% !important; }</style>\"))"
   ]
  },
  {
   "cell_type": "code",
   "execution_count": 6,
   "metadata": {},
   "outputs": [],
   "source": [
    "headers = {\n",
    "    'accept': 'text/html,application/xhtml+xml,application/xml;q=0.9,image/webp,image/apng,*/*;q=0.8,application/signed-exchange;v=b3;q=0.9',\n",
    "    'accept-encoding': 'gzip, deflate, br',\n",
    "    'accept-language': 'en-US,en;q=0.9,lv;q=0.8',\n",
    "    'cache-control': 'no-cache',\n",
    "    'cookie': 'OptanonAlertBoxClosed=2020-02-24T05:47:24.678Z; OptanonConsent=isIABGlobal=false&datestamp=Mon+Feb+24+2020+06%3A47%3A24+GMT%2B0100+(Central+European+Standard+Time)&version=5.6.0&landingPath=NotLandingPage&groups=0_50971%3A1%2C1%3A1%2C0_50972%3A1%2C2%3A1%2C0_50975%3A1%2C3%3A1%2C4%3A1%2C0_50969%3A1%2C0_50968%3A1%2C0_50967%3A1%2C0_50966%3A1%2C0_50965%3A1%2C0_53717%3A1%2C0_50963%3A1%2C0_50962%3A1%2C0_50973%3A1%2C0_50970%3A1; __cfduid=dbdc4fb7e465ec62c4cc5cb65897ba7881582523233; dwac_3201ce5c4e7bf5630633c3e425=mAOs8MV1zXgTvUL4mWBTMlK6-Cu0zr0V6nE%3D|dw-only|||GBP|false|Europe%2FBerlin|true; cqcid=adu6ws6VTAd1bqSMGA4dauIK8O; sid=mAOs8MV1zXgTvUL4mWBTMlK6-Cu0zr0V6nE; geoSite=IT; dwpersonalization_8af1144abc5a7219343b18330f0adea9=11065e4207b1629861b0bd7dff20200226000000000; dwanonymous_8af1144abc5a7219343b18330f0adea9=adu6ws6VTAd1bqSMGA4dauIK8O; __cq_dnt=0; dw_dnt=0; dwsid=CkXq21MY6QmZT-_-6gtfxMD8vgAio5lkYIPOQh0osyynOopFDAh_BzlsJbMWdBoMZHiRB-4ycXuFN8xFnq_dYg==; bm_sz=FC01FC103869196B4016E7C37CC14BA9~YAAQBfAWAm5SHWpwAQAAFTi8dQa61wVUJeYjvJMS4hoCCNrEQZqMT0BENJITw7XkYSCvDQFUkSvbi1G4TVDXIT6nBr4D/4gwD3kFPQmi/9ljpQo2Qft0F8ijwMbqn9Q/dkpcKk7/6FKRQxd2KU8l3pFgZ7HaideP5TMG/YjFaWj768niBME5LTMf/IZAZnXX; _ga=GA1.2.906641138.1582523235; _gid=GA1.2.1945931590.1582523235; _gcl_au=1.1.1591417003.1582523235; _mibhv=anon-1582523235884-8456175242_8273; _micpn=esp:-1::1582523235884; _ALGOLIA=anonymous-b8da3a88-45f4-4875-8bd5-edbacb1f516a; dw=1; dw_cookies_accepted=1; ak_bmsc=439CD5A118119D634FE29D9E549348370216F0059B7000006263535EE07A2557~plp9aGyk+EMA/095hrxiMS2yKx5jnDJ0b65W66lHan+JYVuGhyad9orlyCxIQTdCNuUYe8rRiYE5i95vwEzdPpl+KIxpiZeX+YHdtFolZxEIkqU3ECOFNlga51pVKP3bXBqNhwAAP1x7PZtUFzH/nziSOnvwkemGP3jy41X+TymiiawUDSTTFRiBHOXY6rLEdXqXEY8wUEpURHJSOMYaUCk9hIIRvZx2tkUeox//1y/Bj9dDVj1klcL/YdwcqYfQoq; _abck=D6F3887E65647CD64034118E5ED67414~0~YAAQBfAWAnFSHWpwAQAAZ0u8dQN2UrYqudlXWrJhRs+rhLBGxya1ipEXthtjwAcZHSs8OuQCipx/2Z7R7OTsUKr1S4wt4gTUh8rSC/tAHSRKExTBSJRtNZCZMZ4tiQmFkjRyQbP7hK8XJWqry2ZdIhvwsu1j0cCMbHufiteMhp7s+y0RzBfhnu3h+z1pC8vnmD/hkZ7VYFGomWo0HkYAg4PQkrvOrhY6moms2s9dANjhf/w7GRKdDuG4dU3XkGcXM5nfNHFFifs7gHbYUkX+e+XcK5AdHU+sTI8LkJ6nLG2YUYssGsOvT8cLW/MSilslYI7yvnhmuw==~-1~-1~-1; __cq_uuid=d81b0bb0-c018-11e9-b6cd-25e4f7339976; __cq_seg=0~0.00!1~0.00!2~0.00!3~0.00!4~0.00!5~0.00!6~0.00!7~0.00!8~0.00!9~0.00; sc.InTg=a; sc.ASP.NET_SESSIONID=v0exfq0b3qhrvxu0p5xmnykw; bounceClientVisit3083v=N4IgNgDiBcIBYBcEQM4FIDMBBNAmAYnvgO6kB0ArgHYCWAjmAPZkDGjAtkRQNZECmVInA58QAGhAAnGCFLEyAc0aMFYPq2Y8QAXyA; bm_sv=459FAF2108CBD2FB5F94CC7B41CC572E~13YlTf7pbHjZZoJpFFijY2CK3BUBVxOMshF8EsCGdBddKWLfCZLZCAdY9Mm17AulZme/i/PQIcGGDa5O8aL81D2TgxZ3R04Y48FE2oMOemzYW17ZvkxDZHWc8MarzJUfrc46Ry5zoNx/w4qeLNNM/jNXZfWlveFcPwCnoms6j2g=; _gat_UA-1566247-1=1',\n",
    "    'pragma': 'no-cache',\n",
    "    'referer': 'https://www.uniqlo.com/uk/en/home',\n",
    "    'sec-fetch-dest': 'document',\n",
    "    'sec-fetch-mode': 'navigate',\n",
    "    'sec-fetch-site': 'same-origin',\n",
    "    'sec-fetch-user': '?1',\n",
    "    'upgrade-insecure-requests': '1',\n",
    "    'user-agent': 'Mozilla/5.0 (Macintosh; Intel Mac OS X 10_14_6) AppleWebKit/537.36 (KHTML, like Gecko) Chrome/80.0.3987.116 Safari/537.36'\n",
    "}"
   ]
  },
  {
   "cell_type": "code",
   "execution_count": 8,
   "metadata": {},
   "outputs": [],
   "source": [
    "home_req = requests.get('https://www.uniqlo.com/uk/en/women', headers=headers)"
   ]
  },
  {
   "cell_type": "code",
   "execution_count": 9,
   "metadata": {},
   "outputs": [],
   "source": [
    "home_doc = lxml.html.fromstring(home_req.text)"
   ]
  },
  {
   "cell_type": "code",
   "execution_count": 10,
   "metadata": {},
   "outputs": [],
   "source": [
    "cats = home_doc.xpath('.//div[@class=\"category-content\"]/div/div/div/div/ul/li/a')"
   ]
  },
  {
   "cell_type": "code",
   "execution_count": 18,
   "metadata": {},
   "outputs": [],
   "source": [
    "cat_dicts = []\n",
    "for cat in cats:\n",
    "    cat_url = cat.xpath('.//@href')[0]\n",
    "    cat_name = cat.xpath('.//text()')[0].strip()\n",
    "    if '/women'in cat_url:\n",
    "        cat_dicts.append({\n",
    "            'cat_name': cat_name,\n",
    "            'cat_url': cat_url,\n",
    "            'sex': 'women'\n",
    "        })\n",
    "    if '/men' in cat_url:\n",
    "        cat_dicts.append({\n",
    "            'cat_name': cat_name,\n",
    "            'cat_url': cat_url,\n",
    "            'sex': 'men'\n",
    "        })"
   ]
  },
  {
   "cell_type": "code",
   "execution_count": 19,
   "metadata": {},
   "outputs": [
    {
     "data": {
      "text/plain": [
       "[{'cat_name': 'New Arrivals',\n",
       "  'cat_url': 'https://www.uniqlo.com/uk/en/women/featured/new-arrivals',\n",
       "  'sex': 'women'},\n",
       " {'cat_name': 'All Coats, Jackets, Parkas & Vests',\n",
       "  'cat_url': 'https://www.uniqlo.com/uk/en/women/outerwear/coats-jackets',\n",
       "  'sex': 'women'},\n",
       " {'cat_name': 'Ultra Light Down Outerwear -',\n",
       "  'cat_url': 'https://www.uniqlo.com/uk/en/women/outerwear/down-coats-jackets-vests',\n",
       "  'sex': 'women'},\n",
       " {'cat_name': 'Knitted Jumpers & Cardigans',\n",
       "  'cat_url': 'https://www.uniqlo.com/uk/en/women/knitwear/jumpers-cardigans',\n",
       "  'sex': 'women'},\n",
       " {'cat_name': 'Sweatshirts & Hoodies',\n",
       "  'cat_url': 'https://www.uniqlo.com/uk/en/women/tops/sweatshirts-hoodies',\n",
       "  'sex': 'women'},\n",
       " {'cat_name': 'Dresses & Jumpsuits',\n",
       "  'cat_url': 'https://www.uniqlo.com/uk/en/women/tops/dresses-jumpsuits',\n",
       "  'sex': 'women'},\n",
       " {'cat_name': 'Shirts & Blouses',\n",
       "  'cat_url': 'https://www.uniqlo.com/uk/en/women/tops/shirts-blouses',\n",
       "  'sex': 'women'},\n",
       " {'cat_name': 'T-Shirts & Tops',\n",
       "  'cat_url': 'https://www.uniqlo.com/uk/en/women/tops/t-shirts-polo-shirts',\n",
       "  'sex': 'women'},\n",
       " {'cat_name': 'Tank Tops & Camisoles',\n",
       "  'cat_url': 'https://www.uniqlo.com/uk/en/women/tops/tank-tops-camisoles',\n",
       "  'sex': 'women'},\n",
       " {'cat_name': 'UT: Graphic Print Collections',\n",
       "  'cat_url': 'https://www.uniqlo.com/uk/en/women/featured/ut-graphic-print-collections',\n",
       "  'sex': 'women'},\n",
       " {'cat_name': 'Jeans',\n",
       "  'cat_url': 'https://www.uniqlo.com/uk/en/women/bottoms/jeans',\n",
       "  'sex': 'women'},\n",
       " {'cat_name': 'Trousers, Leggings & Joggers',\n",
       "  'cat_url': 'https://www.uniqlo.com/uk/en/women/bottoms/trousers-leggings-sweatpants',\n",
       "  'sex': 'women'},\n",
       " {'cat_name': 'Skirts & Shorts',\n",
       "  'cat_url': 'https://www.uniqlo.com/uk/en/women/bottoms/skirts-shorts',\n",
       "  'sex': 'women'},\n",
       " {'cat_name': 'HEATTECH Thermal Clothing',\n",
       "  'cat_url': 'https://www.uniqlo.com/uk/en/women/innerwear-and-loungewear/innerwear',\n",
       "  'sex': 'women'},\n",
       " {'cat_name': 'Coordinates & Matching Sets',\n",
       "  'cat_url': 'https://www.uniqlo.com/uk/en/women/featured/coordinates-matching-sets',\n",
       "  'sex': 'women'},\n",
       " {'cat_name': 'Loungewear & Pyjamas',\n",
       "  'cat_url': 'https://www.uniqlo.com/uk/en/women/innerwear-and-loungewear/loungewear-pyjamas',\n",
       "  'sex': 'women'},\n",
       " {'cat_name': 'Bras & Underwear -',\n",
       "  'cat_url': 'https://www.uniqlo.com/uk/en/women/innerwear-and-loungewear/bras-and-underwear',\n",
       "  'sex': 'women'},\n",
       " {'cat_name': 'Socks & Tights',\n",
       "  'cat_url': 'https://www.uniqlo.com/uk/en/women/innerwear-and-loungewear/socks-tights-leggings',\n",
       "  'sex': 'women'},\n",
       " {'cat_name': 'Accessories & Shoes',\n",
       "  'cat_url': 'https://www.uniqlo.com/uk/en/women/accessories/accessories-shoes',\n",
       "  'sex': 'women'},\n",
       " {'cat_name': 'Swimwear',\n",
       "  'cat_url': 'https://www.uniqlo.com/uk/en/women/accessories/swimwear-beachwear',\n",
       "  'sex': 'women'},\n",
       " {'cat_name': 'Sport Utility Wear',\n",
       "  'cat_url': 'https://www.uniqlo.com/uk/en/women/featured/activewear',\n",
       "  'sex': 'women'},\n",
       " {'cat_name': 'AIRism Collection',\n",
       "  'cat_url': 'https://www.uniqlo.com/uk/en/women/featured/airism',\n",
       "  'sex': 'women'},\n",
       " {'cat_name': 'Ezy Ankle Length Trousers',\n",
       "  'cat_url': 'https://www.uniqlo.com/uk/en/women/bottoms/trousers-leggings-sweatpants/ezy-ankle-length-trousers',\n",
       "  'sex': 'women'},\n",
       " {'cat_name': 'Ines De La Fressange Spring/Summer 2020',\n",
       "  'cat_url': 'https://www.uniqlo.com/uk/en/collaborations/women/ines-de-la-fressange',\n",
       "  'sex': 'women'},\n",
       " {'cat_name': 'Maternity',\n",
       "  'cat_url': 'https://www.uniqlo.com/uk/en/women/bottoms/maternity',\n",
       "  'sex': 'women'},\n",
       " {'cat_name': 'Petite & Plus Sizes',\n",
       "  'cat_url': 'https://www.uniqlo.com/uk/en/women/featured/extended-sizes',\n",
       "  'sex': 'women'},\n",
       " {'cat_name': '',\n",
       "  'cat_url': 'https://www.uniqlo.com/uk/en/collaborations/women/uniqlo-u',\n",
       "  'sex': 'women'},\n",
       " {'cat_name': 'New Arrivals',\n",
       "  'cat_url': 'https://www.uniqlo.com/uk/en/men/featured/new-arrivals',\n",
       "  'sex': 'men'},\n",
       " {'cat_name': 'All Coats, Jackets, Parkas & Vests',\n",
       "  'cat_url': 'https://www.uniqlo.com/uk/en/men/outerwear/coats-jackets',\n",
       "  'sex': 'men'},\n",
       " {'cat_name': 'Ultra Light Down Outerwear -',\n",
       "  'cat_url': 'https://www.uniqlo.com/uk/en/men/outerwear/down-coats-jackets-vests',\n",
       "  'sex': 'men'},\n",
       " {'cat_name': 'Knitted Jumpers & Cardigans',\n",
       "  'cat_url': 'https://www.uniqlo.com/uk/en/men/knitwear/jumpers-cardigans',\n",
       "  'sex': 'men'},\n",
       " {'cat_name': 'Sweatshirts & Hoodies',\n",
       "  'cat_url': 'https://www.uniqlo.com/uk/en/men/tops/sweatshirts-hoodies',\n",
       "  'sex': 'men'},\n",
       " {'cat_name': 'All Shirts',\n",
       "  'cat_url': 'https://www.uniqlo.com/uk/en/men/tops/shirts',\n",
       "  'sex': 'men'},\n",
       " {'cat_name': 'Smart Shirts',\n",
       "  'cat_url': 'https://www.uniqlo.com/uk/en/men/tops/shirts/smart-shirts',\n",
       "  'sex': 'men'},\n",
       " {'cat_name': 'Casual Shirts',\n",
       "  'cat_url': 'https://www.uniqlo.com/uk/en/men/tops/shirts/casual-shirts',\n",
       "  'sex': 'men'},\n",
       " {'cat_name': 'T-Shirts & Tops',\n",
       "  'cat_url': 'https://www.uniqlo.com/uk/en/men/tops/t-shirts-tops',\n",
       "  'sex': 'men'},\n",
       " {'cat_name': 'Polo Shirts',\n",
       "  'cat_url': 'https://www.uniqlo.com/uk/en/men/tops/polo-shirts',\n",
       "  'sex': 'men'},\n",
       " {'cat_name': 'UT: Graphic Print Collections',\n",
       "  'cat_url': 'https://www.uniqlo.com/uk/en/men/featured/ut-graphic-print-collections',\n",
       "  'sex': 'men'},\n",
       " {'cat_name': 'Jeans',\n",
       "  'cat_url': 'https://www.uniqlo.com/uk/en/men/bottoms/jeans',\n",
       "  'sex': 'men'},\n",
       " {'cat_name': 'Trousers, Chinos & Joggers',\n",
       "  'cat_url': 'https://www.uniqlo.com/uk/en/men/bottoms/trousers-chinos-sweatpants',\n",
       "  'sex': 'men'},\n",
       " {'cat_name': 'Shorts',\n",
       "  'cat_url': 'https://www.uniqlo.com/uk/en/men/bottoms/shorts',\n",
       "  'sex': 'men'},\n",
       " {'cat_name': 'HEATTECH Thermal Clothing',\n",
       "  'cat_url': 'https://www.uniqlo.com/uk/en/men/innerwear-loungewear/innerwear',\n",
       "  'sex': 'men'},\n",
       " {'cat_name': 'Coordinates & Matching Sets',\n",
       "  'cat_url': 'https://www.uniqlo.com/uk/en/men/featured/coordinates-matching-sets',\n",
       "  'sex': 'men'},\n",
       " {'cat_name': 'Loungewear & Pyjamas',\n",
       "  'cat_url': 'https://www.uniqlo.com/uk/en/men/innerwear-loungewear/loungewear-pyjamas',\n",
       "  'sex': 'men'},\n",
       " {'cat_name': 'Underwear -',\n",
       "  'cat_url': 'https://www.uniqlo.com/uk/en/men/innerwear-loungewear/underwear',\n",
       "  'sex': 'men'},\n",
       " {'cat_name': 'Socks -',\n",
       "  'cat_url': 'https://www.uniqlo.com/uk/en/men/innerwear-loungewear/socks',\n",
       "  'sex': 'men'},\n",
       " {'cat_name': 'Accessories & Shoes',\n",
       "  'cat_url': 'https://www.uniqlo.com/uk/en/men/accessories/accessories-shoes',\n",
       "  'sex': 'men'},\n",
       " {'cat_name': 'Swimwear',\n",
       "  'cat_url': 'https://www.uniqlo.com/uk/en/men/accessories/swimwear',\n",
       "  'sex': 'men'},\n",
       " {'cat_name': 'Sport Utility Wear',\n",
       "  'cat_url': 'https://www.uniqlo.com/uk/en/men/featured/activewear',\n",
       "  'sex': 'men'},\n",
       " {'cat_name': 'UNIQLO U Spring/Summer 2020',\n",
       "  'cat_url': 'https://www.uniqlo.com/uk/en/collaborations/men/uniqlo-u',\n",
       "  'sex': 'men'},\n",
       " {'cat_name': 'AIRism Collection',\n",
       "  'cat_url': 'https://www.uniqlo.com/uk/en/men/featured/airism',\n",
       "  'sex': 'men'},\n",
       " {'cat_name': 'EZY Ankle Length Trousers',\n",
       "  'cat_url': 'https://www.uniqlo.com/uk/en/men/bottoms/trousers-chinos-sweatpants/ezy-ankle-length-trousers',\n",
       "  'sex': 'men'},\n",
       " {'cat_name': 'Australia 2020 Gamewear',\n",
       "  'cat_url': 'https://www.uniqlo.com/uk/en/men/featured/activewear/performance-gamewear',\n",
       "  'sex': 'men'},\n",
       " {'cat_name': 'Plus Sizes',\n",
       "  'cat_url': 'https://www.uniqlo.com/uk/en/men/featured/extended-sizes',\n",
       "  'sex': 'men'},\n",
       " {'cat_name': '',\n",
       "  'cat_url': 'https://www.uniqlo.com/uk/en/men/featured/ut-graphic-print-collections/neo-miyage',\n",
       "  'sex': 'men'},\n",
       " {'cat_name': '',\n",
       "  'cat_url': 'https://www.uniqlo.com/uk/en/women/featured/new-arrivals',\n",
       "  'sex': 'women'},\n",
       " {'cat_name': '',\n",
       "  'cat_url': 'https://www.uniqlo.com/uk/en/men/featured/new-arrivals',\n",
       "  'sex': 'men'},\n",
       " {'cat_name': 'Women',\n",
       "  'cat_url': 'https://www.uniqlo.com/uk/en/women/featured/limited-offers',\n",
       "  'sex': 'women'},\n",
       " {'cat_name': 'Men',\n",
       "  'cat_url': 'https://www.uniqlo.com/uk/en/men/featured/limited-offers',\n",
       "  'sex': 'men'},\n",
       " {'cat_name': 'Women',\n",
       "  'cat_url': 'https://www.uniqlo.com/uk/en/women/featured/multibuy-offers',\n",
       "  'sex': 'women'},\n",
       " {'cat_name': 'Men',\n",
       "  'cat_url': 'https://www.uniqlo.com/uk/en/men/featured/multibuy-offers',\n",
       "  'sex': 'men'},\n",
       " {'cat_name': '',\n",
       "  'cat_url': 'https://www.uniqlo.com/uk/en/men/knitwear/jumpers-cardigans/extra-fine-merino-jumpers-cardigans',\n",
       "  'sex': 'men'},\n",
       " {'cat_name': '',\n",
       "  'cat_url': 'https://www.uniqlo.com/uk/en/women/outerwear/down-coats-jackets-vests/ultra-light-down-jackets',\n",
       "  'sex': 'women'}]"
      ]
     },
     "execution_count": 19,
     "metadata": {},
     "output_type": "execute_result"
    }
   ],
   "source": [
    "cat_dicts"
   ]
  },
  {
   "cell_type": "code",
   "execution_count": null,
   "metadata": {},
   "outputs": [],
   "source": []
  },
  {
   "cell_type": "code",
   "execution_count": 20,
   "metadata": {},
   "outputs": [],
   "source": [
    "cat_req = requests.get('https://www.uniqlo.com/uk/en/women/tops/dresses-jumpsuits', headers=headers)"
   ]
  },
  {
   "cell_type": "code",
   "execution_count": 21,
   "metadata": {},
   "outputs": [],
   "source": [
    "cat_doc = lxml.html.fromstring(cat_req.text)"
   ]
  },
  {
   "cell_type": "code",
   "execution_count": 32,
   "metadata": {},
   "outputs": [],
   "source": [
    "prod_urls = cat_doc.xpath('.//div[contains(@class, \"productTile__imageContainer\")]/a/@data-seoproducturl')"
   ]
  },
  {
   "cell_type": "code",
   "execution_count": 33,
   "metadata": {},
   "outputs": [],
   "source": [
    "# prod_urls = [f'https://www.uniqlo.com{prod_url_match}' for prod_url_match in prod_url_matches]"
   ]
  },
  {
   "cell_type": "code",
   "execution_count": 34,
   "metadata": {},
   "outputs": [
    {
     "data": {
      "text/plain": [
       "['https://www.uniqlo.com/uk/en/product/women-uniqlo-u-34-sleeved-shirt-dress-stand-collar-425581.html?dwvar_425581_size=SMA002&dwvar_425581_color=COL08&cgid=IDshirtdress12811',\n",
       " 'https://www.uniqlo.com/uk/en/product/women-uniqlo-u-drawstring-long-sleeved-shirt-dress-425582.html?dwvar_425582_color=COL08&dwvar_425582_size=SMA002&cgid=IDshirtdress12811',\n",
       " 'https://www.uniqlo.com/uk/en/product/women-rayon-printed-34-sleeved-shirt-dress-426613.html?dwvar_426613_color=COL17&dwvar_426613_size=SMA001&cgid=IDshirtdress12811',\n",
       " 'https://www.uniqlo.com/uk/en/product/women-rayon-34-sleeved-shirt-dress-422506.html?dwvar_422506_color=COL11&dwvar_422506_size=SMA001&cgid=IDshirtdress12811',\n",
       " 'https://www.uniqlo.com/uk/en/product/women-ines-rayon-open-collar-short-sleeved-dress-423187.html?dwvar_423187_size=SMA002&dwvar_423187_color=COL69&cgid=IDshirtdress12811',\n",
       " 'https://www.uniqlo.com/uk/en/product/women-linen-blend-long-sleeved-shirt-dress-427504.html?dwvar_427504_size=SMA001&dwvar_427504_color=COL56&cgid=IDshirtdress12811',\n",
       " 'https://www.uniqlo.com/uk/en/product/women-uniqlo-u-parachute-short-sleeved-shirt-dress-425583.html?dwvar_425583_color=COL22&dwvar_425583_size=SMA001&cgid=IDshirtdress12811',\n",
       " 'https://www.uniqlo.com/uk/en/product/women-uniqlo-u-denim-long-sleeved-shirt-dress-426031.html?dwvar_426031_size=SMA001&dwvar_426031_color=COL09&cgid=IDshirtdress12811',\n",
       " 'https://www.uniqlo.com/uk/en/product/women-uniqlo-u-crew-neck-short-sleeved-t-shirt-dress-422516.html?dwvar_422516_color=COL22&dwvar_422516_size=SMA001&cgid=IDmidi-dress2816',\n",
       " 'https://www.uniqlo.com/uk/en/product/women-ines-printed-rayon-crepe-cami-dress-426488.html?dwvar_426488_color=COL30&dwvar_426488_size=SMA002&cgid=IDmidi-dress2816',\n",
       " 'https://www.uniqlo.com/uk/en/product/women-ines-rayon-crepe-wrap-short-sleeved-dress-423189.html?dwvar_423189_color=COL36&dwvar_423189_size=SMA002&cgid=IDmidi-dress2816',\n",
       " 'https://www.uniqlo.com/uk/en/product/women-waffle-v-neck-long-sleeved-dress-422510.html?dwvar_422510_size=SMA001&dwvar_422510_color=COL51&cgid=IDmidi-dress2816',\n",
       " 'https://www.uniqlo.com/uk/en/product/women-uniqlo-u-crew-neck-sleeveless-dress-426029.html?dwvar_426029_color=COL68&dwvar_426029_size=SMA001&cgid=IDmidi-dress2816',\n",
       " 'https://www.uniqlo.com/uk/en/product/women-ines-cotton-linen-blend-short-sleeved-gathered-dress-423195.html?dwvar_423195_color=COL03&dwvar_423195_size=SMA002&cgid=IDmidi-dress2816',\n",
       " 'https://www.uniqlo.com/uk/en/product/women-rayon-printed-34-sleeved-shirt-dress-426613.html?dwvar_426613_color=COL17&dwvar_426613_size=SMA001&cgid=IDmidi-dress2816',\n",
       " 'https://www.uniqlo.com/uk/en/product/women-uniqlo-u-denim-long-sleeved-shirt-dress-426031.html?dwvar_426031_size=SMA001&dwvar_426031_color=COL09&cgid=IDmidi-dress2816',\n",
       " 'https://www.uniqlo.com/uk/en/product/women-ines-printed-pleated-sleeveless-dress-423194.html?dwvar_423194_size=SMA001&dwvar_423194_color=COL01&cgid=IDmidi-dress2816',\n",
       " 'https://www.uniqlo.com/uk/en/product/women-rayon-34-sleeved-shirt-dress-422506.html?dwvar_422506_color=COL11&dwvar_422506_size=SMA001&cgid=IDmidi-dress2816',\n",
       " 'https://www.uniqlo.com/uk/en/product/women-3d-cotton-flared-short-sleeved-dress-422527.html?dwvar_422527_color=COL31&dwvar_422527_size=SMA001&cgid=IDmidi-dress2816',\n",
       " 'https://www.uniqlo.com/uk/en/product/women-ultra-stretch-soft-half-sleeved-dress-428252.html?dwvar_428252_size=SMA002&dwvar_428252_color=COL11&cgid=IDmidi-dress2816',\n",
       " 'https://www.uniqlo.com/uk/en/product/women-3d-knit-cotton-ribbed-crew-neck-dress-427400.html?dwvar_427400_color=COL42&dwvar_427400_size=SMA001&cgid=IDmidi-dress2816',\n",
       " 'https://www.uniqlo.com/uk/en/product/women-mercerised-cotton-gathered-34-sleeved-dress-426314.html?dwvar_426314_size=SMA002&dwvar_426314_color=COL35&cgid=IDmidi-dress2816',\n",
       " 'https://www.uniqlo.com/uk/en/product/women-linen-blend-a-line-sleeveless-dress-426339.html?dwvar_426339_size=SMA001&dwvar_426339_color=COL31&cgid=IDmidi-dress2816',\n",
       " 'https://www.uniqlo.com/uk/en/product/women-linen-blend-short-sleeved-cocoon-dress-425127.html?dwvar_425127_color=COL47&dwvar_425127_size=SMA001&cgid=IDmidi-dress2816',\n",
       " 'https://www.uniqlo.com/uk/en/product/women-uniqlo-u-polo-half-sleeved-dress-423199.html?dwvar_423199_color=COL50&dwvar_423199_size=SMA001&cgid=IDmidi-dress2816',\n",
       " 'https://www.uniqlo.com/uk/en/product/women-uniqlo-u-denim-drawstring-long-sleeved-dress-426026.html?dwvar_426026_size=SMA002&dwvar_426026_color=COL26&cgid=IDmidi-dress2816',\n",
       " 'https://www.uniqlo.com/uk/en/product/women-ultra-stretch-airism-short-sleeved-dress-428253.html?dwvar_428253_size=SMA002&dwvar_428253_color=COL71&cgid=IDmidi-dress2816',\n",
       " 'https://www.uniqlo.com/uk/en/product/women-3d-cotton-flared-short-sleeved-dress-422527.html?dwvar_422527_color=COL31&dwvar_422527_size=SMA001&cgid=IDknit1282',\n",
       " 'https://www.uniqlo.com/uk/en/product/women-3d-knit-cotton-ribbed-crew-neck-dress-427400.html?dwvar_427400_color=COL42&dwvar_427400_size=SMA001&cgid=IDknit1282',\n",
       " 'https://www.uniqlo.com/uk/en/product/women-linen-blend-jumpsuit-422504.html?dwvar_422504_size=SMA001&dwvar_422504_color=COL09&cgid=IDjumpsuit12810',\n",
       " 'https://www.uniqlo.com/uk/en/product/women-linen-blend-jumpsuit-422504.html?dwvar_422504_size=SMA001&dwvar_422504_color=COL56&cgid=IDjumpsuit12810',\n",
       " 'https://www.uniqlo.com/uk/en/product/women-linen-blend-jumpsuit-422504.html?dwvar_422504_size=SMA001&dwvar_422504_color=COL67&cgid=IDjumpsuit12810',\n",
       " 'https://www.uniqlo.com/uk/en/product/women-printed-half-sleeved-jumpsuit-427845.html?dwvar_427845_size=SMA001&dwvar_427845_color=COL09&cgid=IDjumpsuit12810',\n",
       " 'https://www.uniqlo.com/uk/en/product/women-half-sleeved-jumpsuit-424762.html?dwvar_424762_color=COL09&dwvar_424762_size=SMA001&cgid=IDjumpsuit12810',\n",
       " 'https://www.uniqlo.com/uk/en/product/women-half-sleeved-jumpsuit-424762.html?dwvar_424762_color=COL57&dwvar_424762_size=SMA001&cgid=IDjumpsuit12810',\n",
       " 'https://www.uniqlo.com/uk/en/product/women-ponte-knit-flared-long-sleeved-dress-427506.html?dwvar_427506_color=COL12&dwvar_427506_size=SMA001&cgid=IDmini-dress2817',\n",
       " 'https://www.uniqlo.com/uk/en/product/women-mercerised-cotton-short-sleeved-maxi-t-shirt-dress-422515.html?dwvar_422515_color=COL54&dwvar_422515_size=SMA001&cgid=IDmaxi-dress2818',\n",
       " 'https://www.uniqlo.com/uk/en/product/women-striped-short-sleeved-long-bra-dress-424192.html?dwvar_424192_color=COL01&dwvar_424192_size=SMA001&cgid=IDmaxi-dress2818',\n",
       " 'https://www.uniqlo.com/uk/en/product/women-short-sleeved-long-bra-dress-422523.html?dwvar_422523_size=SMA001&dwvar_422523_color=COL21&cgid=IDmaxi-dress2818',\n",
       " 'https://www.uniqlo.com/uk/en/product/women-ponte-knit-a-line-half-sleeved-dress-427505.html?dwvar_427505_size=SMA001&dwvar_427505_color=COL09&cgid=IDaline2815',\n",
       " 'https://www.uniqlo.com/uk/en/product/women-ponte-knit-a-line-half-sleeved-dress-427505.html?dwvar_427505_size=SMA001&dwvar_427505_color=COL30&cgid=IDaline2815',\n",
       " 'https://www.uniqlo.com/uk/en/product/women-ponte-knit-a-line-half-sleeved-dress-427505.html?dwvar_427505_size=SMA001&dwvar_427505_color=COL35&cgid=IDaline2815',\n",
       " 'https://www.uniqlo.com/uk/en/product/women-extra-fine-cotton-a-line-split-neck-long-sleeved-dress-422532.html?dwvar_422532_color=COL09&dwvar_422532_size=SMA001&cgid=IDaline2815',\n",
       " 'https://www.uniqlo.com/uk/en/product/women-extra-fine-cotton-a-line-split-neck-long-sleeved-dress-422532.html?dwvar_422532_color=COL31&dwvar_422532_size=SMA001&cgid=IDaline2815',\n",
       " 'https://www.uniqlo.com/uk/en/product/women-extra-fine-cotton-a-line-striped-long-sleeved-dress-426598.html?dwvar_426598_color=COL63&dwvar_426598_size=SMA001&cgid=IDaline2815',\n",
       " 'https://www.uniqlo.com/uk/en/product/women-extra-fine-cotton-a-line-striped-long-sleeved-dress-426598.html?dwvar_426598_color=COL69&dwvar_426598_size=SMA001&cgid=IDaline2815',\n",
       " 'https://www.uniqlo.com/uk/en/product/women-striped-short-sleeved-long-bra-dress-424192.html?dwvar_424192_color=COL01&dwvar_424192_size=SMA001&cgid=IDbra-dress1288',\n",
       " 'https://www.uniqlo.com/uk/en/product/women-short-sleeved-long-bra-dress-422523.html?dwvar_422523_size=SMA001&dwvar_422523_color=COL21&cgid=IDbra-dress1288']"
      ]
     },
     "execution_count": 34,
     "metadata": {},
     "output_type": "execute_result"
    }
   ],
   "source": [
    "prod_urls"
   ]
  },
  {
   "cell_type": "code",
   "execution_count": 31,
   "metadata": {},
   "outputs": [
    {
     "data": {
      "text/plain": [
       "48"
      ]
     },
     "execution_count": 31,
     "metadata": {},
     "output_type": "execute_result"
    }
   ],
   "source": [
    "len(prod_urls)"
   ]
  },
  {
   "cell_type": "code",
   "execution_count": 72,
   "metadata": {},
   "outputs": [],
   "source": [
    "prod_req = requests.get('https://www.uniqlo.com/uk/en/product/women-extra-fine-cotton-a-line-split-neck-long-sleeved-dress-422532.html?dwvar_422532_color=COL09&dwvar_422532_size=SMA001&cgid=IDaline2815', headers=headers)\n"
   ]
  },
  {
   "cell_type": "code",
   "execution_count": 73,
   "metadata": {},
   "outputs": [],
   "source": [
    "prod_doc = lxml.html.fromstring(prod_req.text)"
   ]
  },
  {
   "cell_type": "code",
   "execution_count": 74,
   "metadata": {},
   "outputs": [],
   "source": [
    "shop = 'Uniqlo'"
   ]
  },
  {
   "cell_type": "code",
   "execution_count": 75,
   "metadata": {},
   "outputs": [],
   "source": [
    "name = prod_doc.xpath('.//h1[contains(@class,\"pdp__title\")]/text()')[0]"
   ]
  },
  {
   "cell_type": "code",
   "execution_count": 76,
   "metadata": {},
   "outputs": [
    {
     "data": {
      "text/plain": [
       "'Women Extra Fine Cotton A-Line Split Neck Long Sleeved Dress'"
      ]
     },
     "execution_count": 76,
     "metadata": {},
     "output_type": "execute_result"
    }
   ],
   "source": [
    "name"
   ]
  },
  {
   "cell_type": "code",
   "execution_count": 77,
   "metadata": {},
   "outputs": [],
   "source": [
    "price_original = prod_doc.xpath('.//span[@class=\"price-standard\"]/text()')[0]"
   ]
  },
  {
   "cell_type": "code",
   "execution_count": 78,
   "metadata": {},
   "outputs": [],
   "source": [
    "price_original = float(price_original.strip('£'))"
   ]
  },
  {
   "cell_type": "code",
   "execution_count": 79,
   "metadata": {},
   "outputs": [
    {
     "data": {
      "text/plain": [
       "34.9"
      ]
     },
     "execution_count": 79,
     "metadata": {},
     "output_type": "execute_result"
    }
   ],
   "source": [
    "price_original"
   ]
  },
  {
   "cell_type": "code",
   "execution_count": 80,
   "metadata": {},
   "outputs": [],
   "source": [
    "price_sale = prod_doc.xpath('.//span[contains(@class,\"price-sales\")]/text()')[0]"
   ]
  },
  {
   "cell_type": "code",
   "execution_count": 81,
   "metadata": {},
   "outputs": [],
   "source": [
    "price_sale = float(price_sale.strip('£'))"
   ]
  },
  {
   "cell_type": "code",
   "execution_count": 82,
   "metadata": {},
   "outputs": [
    {
     "data": {
      "text/plain": [
       "24.9"
      ]
     },
     "execution_count": 82,
     "metadata": {},
     "output_type": "execute_result"
    }
   ],
   "source": [
    "price_sale"
   ]
  },
  {
   "cell_type": "code",
   "execution_count": 83,
   "metadata": {},
   "outputs": [],
   "source": [
    "sale = price_original != price_sale"
   ]
  },
  {
   "cell_type": "code",
   "execution_count": 84,
   "metadata": {},
   "outputs": [
    {
     "data": {
      "text/plain": [
       "True"
      ]
     },
     "execution_count": 84,
     "metadata": {},
     "output_type": "execute_result"
    }
   ],
   "source": [
    "sale"
   ]
  },
  {
   "cell_type": "code",
   "execution_count": 91,
   "metadata": {},
   "outputs": [],
   "source": [
    "img_url_matches = prod_doc.xpath('.//img[contains(@class,\"pdp__mainImg\")]/@src')"
   ]
  },
  {
   "cell_type": "code",
   "execution_count": 92,
   "metadata": {},
   "outputs": [],
   "source": [
    "img_urls = [img_url_match.split('?')[0] for img_url_match in img_url_matches]"
   ]
  },
  {
   "cell_type": "code",
   "execution_count": 94,
   "metadata": {},
   "outputs": [
    {
     "data": {
      "text/plain": [
       "['https://image.uniqlo.com/UQ/ST3/WesternCommon/imagesgoods/422532/item/goods_09_422532.jpg']"
      ]
     },
     "execution_count": 94,
     "metadata": {},
     "output_type": "execute_result"
    }
   ],
   "source": [
    "img_urls"
   ]
  },
  {
   "cell_type": "code",
   "execution_count": 95,
   "metadata": {},
   "outputs": [],
   "source": [
    "brand = 'Uniqlo'"
   ]
  },
  {
   "cell_type": "code",
   "execution_count": 96,
   "metadata": {},
   "outputs": [],
   "source": [
    "currency = 'GBP'"
   ]
  },
  {
   "cell_type": "code",
   "execution_count": 114,
   "metadata": {},
   "outputs": [],
   "source": [
    "description = prod_doc.xpath('.//div[contains(@class,\"js-pdpDescription__container\")]/text()')"
   ]
  },
  {
   "cell_type": "code",
   "execution_count": 116,
   "metadata": {},
   "outputs": [],
   "source": [
    "description = '\\n'.join(description)"
   ]
  },
  {
   "cell_type": "code",
   "execution_count": 117,
   "metadata": {},
   "outputs": [
    {
     "data": {
      "text/plain": [
       "'\\nThe elegant feel of pure, extra-fine cotton with a timeless A-line shape. Discover your new favourite all-season dress.\\n- A flattering oversized fit provides a touch of on-trend flair.\\n- Crafted from 100% extra-fine cotton for a soft touch and sophisticated look.\\n- Flared A-line shape and crisp, high quality fabric give this dress a refined and stylish finish.\\n'"
      ]
     },
     "execution_count": 117,
     "metadata": {},
     "output_type": "execute_result"
    }
   ],
   "source": [
    "description"
   ]
  },
  {
   "cell_type": "code",
   "execution_count": 118,
   "metadata": {},
   "outputs": [],
   "source": [
    "color_string = None"
   ]
  },
  {
   "cell_type": "code",
   "execution_count": 119,
   "metadata": {},
   "outputs": [],
   "source": [
    "size_matches = prod_doc.xpath('.//div[contains(@class,\"pdp__swatchBox--size\")]/button')"
   ]
  },
  {
   "cell_type": "code",
   "execution_count": 121,
   "metadata": {},
   "outputs": [],
   "source": [
    "size_stock = []\n",
    "for size_match in size_matches:\n",
    "    size = size_match.xpath('.//@data-size-value')[0]\n",
    "    stock_class = size_match.xpath('.//@class')[0]\n",
    "    if 'pdp__swatch--available' in stock_class:\n",
    "        stock = 'In stock'\n",
    "    else:\n",
    "        stock = 'Out of stock'\n",
    "    size_stock.append({\n",
    "        'stock': stock,\n",
    "        'size': size\n",
    "    })\n",
    "        "
   ]
  },
  {
   "cell_type": "code",
   "execution_count": 122,
   "metadata": {},
   "outputs": [
    {
     "data": {
      "text/plain": [
       "[{'stock': 'In stock', 'size': 'XXS'},\n",
       " {'stock': 'Out of stock', 'size': 'XS'},\n",
       " {'stock': 'Out of stock', 'size': 'S'},\n",
       " {'stock': 'In stock', 'size': 'M'},\n",
       " {'stock': 'Out of stock', 'size': 'L'},\n",
       " {'stock': 'In stock', 'size': 'XL'}]"
      ]
     },
     "execution_count": 122,
     "metadata": {},
     "output_type": "execute_result"
    }
   ],
   "source": [
    "size_stock"
   ]
  },
  {
   "cell_type": "code",
   "execution_count": 123,
   "metadata": {},
   "outputs": [],
   "source": [
    "in_stock_sizes = [size for size in size_stock if size['stock'] == 'In stock']"
   ]
  },
  {
   "cell_type": "code",
   "execution_count": 124,
   "metadata": {},
   "outputs": [
    {
     "data": {
      "text/plain": [
       "[{'stock': 'In stock', 'size': 'XXS'},\n",
       " {'stock': 'In stock', 'size': 'M'},\n",
       " {'stock': 'In stock', 'size': 'XL'}]"
      ]
     },
     "execution_count": 124,
     "metadata": {},
     "output_type": "execute_result"
    }
   ],
   "source": [
    "in_stock_sizes"
   ]
  },
  {
   "cell_type": "code",
   "execution_count": 125,
   "metadata": {},
   "outputs": [],
   "source": [
    "in_stock = len(in_stock_sizes) > 0"
   ]
  },
  {
   "cell_type": "code",
   "execution_count": 126,
   "metadata": {},
   "outputs": [
    {
     "data": {
      "text/plain": [
       "True"
      ]
     },
     "execution_count": 126,
     "metadata": {},
     "output_type": "execute_result"
    }
   ],
   "source": [
    "in_stock"
   ]
  },
  {
   "cell_type": "code",
   "execution_count": null,
   "metadata": {},
   "outputs": [],
   "source": []
  }
 ],
 "metadata": {
  "kernelspec": {
   "display_name": "Python 3",
   "language": "python",
   "name": "python3"
  },
  "language_info": {
   "codemirror_mode": {
    "name": "ipython",
    "version": 3
   },
   "file_extension": ".py",
   "mimetype": "text/x-python",
   "name": "python",
   "nbconvert_exporter": "python",
   "pygments_lexer": "ipython3",
   "version": "3.6.8"
  }
 },
 "nbformat": 4,
 "nbformat_minor": 4
}
