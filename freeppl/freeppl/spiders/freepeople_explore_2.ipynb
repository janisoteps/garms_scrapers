{
 "cells": [
  {
   "cell_type": "code",
   "execution_count": 1,
   "metadata": {},
   "outputs": [],
   "source": [
    "import lxml.html\n",
    "import requests\n",
    "import re\n",
    "import json\n",
    "import random"
   ]
  },
  {
   "cell_type": "code",
   "execution_count": 2,
   "metadata": {},
   "outputs": [],
   "source": [
    "headers = {\n",
    "    'accept-language': 'en',\n",
    "    'cache-control': 'private, max-age=0, proxy-revalidate, no-store, no-cache, must-revalidate',\n",
    "    'content-encoding': 'gzip',\n",
    "    'content-security-policy': 'default-src \\'self\\' \\'unsafe-eval\\' \\'unsafe-inline\\' data: https://*.go-mpulse.net https://cdn.polyfill.io https://*.dynamicyield.com https://intljs.rmtag.com https://d16fk4ms6rqz1v.cloudfront.net https://cdn.merklesearch.com https://cdn.pbbl.co https://s.pinimg.com https://bat.bing.com https://script.crazyegg.com https://assistjs.skimresources.com https://connect.facebook.net https://*.twitter.com https://cdn.groupbycloud.com https://tags.tiqcdn.com https://www.googleadservices.com https://js.appboycdn.com https://static.ads-twitter.com https://js-agent.newrelic.com https://*.afterpay.com https://mpsnare.iesnare.com https://bam.nr-data.net https://*.datasteam.io https://ci-mpsnare.iovation.com https://*.bazaarvoice.com https://*.bluecore.com https://tpc.googlesyndication.com https://*.salesforceliveagent.com https://static.site24x7rum.com https://*.paypal.com https://*.apple.com https://*.criteo.com https://tags.tiqcdn.cn https://adadvisor.net https://s3.amazonaws.com https://www.gstatic.com http://maps.google.cn https://www.myregistry.com https://www.shopstylecollective.com https://www.shopstylecollective.co.uk https://*.agkn.com https://polyfill.io http://ditu.google.cn https://*.clearpay.co.uk https://*.stg-sessionm.com https://*.sessionm.com https://maxcdn.bootstrapcdn.com https://fast.fonts.net https://service.force.com https://urbn.my.salesforce.com https://urbanoutfitters.secure.force.com https://app.curalate.com https://*.cs23.my.salesforce.com https://full-urbanoutfitters.cs23.force.com https://images.ctfassets.net https://*.google.com https://images.contentful.com https://h.nexac.com https://p.dlx.addthis.com https://y8ui6jzp.micpn.com https://ct1.ra.linksynergy.com https://consent.nxtck.com https://consent.mediaforge.com https://consent.jrs5.com https://*.linksynergy.com https://*.fpassets.com https://www.googletagmanager.com https://*.googleapis.com https://*.dc-storm.com https://*.ggpht.com https://*.akstat.io https://*.groupbycloud.com https://static.criteo.com https://cdn.dynamicyield.com https://*.rkdms.com https://*.gstatic.com http://images.freepeople.com https://www.google.ca https://www.google.com.au https://static.criteo.net https://www.google.co.uk https://*.freepeople.com https://*.facebook.com https://www.google.nl https://www.google.de https://user-event-tracker.crazyegg.com https://www.google.fr https://www.google.es https://www.google.com.mx https://www.google.co.jp https://www.google.it https://www.google.co.il https://www.google.com.ar https://cdn.dashhudson.com https://track.securedvisit.com https://cx.atdmt.com https://fonts.gstatic.com https://use.fontawesome.com https://ct.pinterest.com https://c.go-mpulse.net https://nyt2.dc-storm.com https://sentry.io https://*.fls.doubleclick.net https://www.facebook.com https://dis.as.criteo.com https://dis.us.criteo.com https://videos.contentful.com https://www.youtube.com https://dis.eu.criteo.com https://*.api.bazaarvoice.com https://videos.ctfassets.net https://*.g.doubleclick.net https://dev.appboy.com https://*.perimeterx.net https://api.bazaarvoice.com https://www.google-analytics.com https://*.akamaihd.net https://freepeople.wufoo.com https://*.rewardstyle.com https://core.conversant.mgr.consensu.org https://*.scene7.com https://*.cs23.force.com https://*.attn.tv https://*.dotomi.com https://events.attentivemobile.com https://sample-api-v2.crazyegg.com https://*.adsymptotic.com https://t.co https://cdn.honey.io https://g.3gl.net https://r.3gl.net.cn https://r.3gl.net https://*.hotjar.com https://cdn.contentful.com wss://*.hotjar.com https://static.lightning.force.com https://*.hotjar.io https://*.attentivemobile.com;frame-ancestors \\'none\\';report-uri https://sentry.io/api/219529/security/?sentry_key=57d8fc981b394b5e8f2a538e58c4012d',\n",
    "    'content-type': 'text/html; charset=UTF-8',\n",
    "    'date': 'Wed, 08 Jan 2020 23:00:49 GMT',\n",
    "    'expires': 'Fri, 12 Jul 2019 22:45:42 GMT',\n",
    "    'link': '<https://cdn.polyfill.io>;rel=\"preconnect\"',\n",
    "    'locale': 'en_GB',\n",
    "    'pragma': 'no-cache',\n",
    "    'rtss': '1-2-15',\n",
    "    'rtss1': 'a15site',\n",
    "    'server': 'nginx',\n",
    "    'set-cookie': 'FP_CART_ABAN_TEST=1; path=/; domain=.freepeople.com; expires=Wed, 08-Jan-2020 23:30:45 GMT; SSLB=1; path=/; domain=.freepeople.com; expires=Thu, 07-Jan-2021 23:05:20 GMT; SSID_BE=CAA74h04AAAAAAAEXxZe3AaDGARfFl4BAAAAAACwk_dfBF8WXgDRnAW6AAO0ohgABF8WXgEA08EAAwZIGgAEXxZeAQAewQADfhkaAARfFl4BAHPCAAOVaBoABF8WXgEA; path=/; domain=.freepeople.com; expires=Thu, 07-Jan-2021 23:00:45 GMT; SSOD_A15=AE3IAAAAEADg6TAAAgAAAARfFl4dXxZeAAA; path=/; domain=.freepeople.com; expires=Thu, 07-Jan-2021 23:00:45 GMT; urbn_device_type=LARGE; Path=/; urbn_inventory_pool=GB_DIRECT; Path=/; urbn_convenience_currency=\"\"; expires=Tue, 08 Jan 2019 23:00:45 GMT; Path=/; urbn_currency=GBP; Path=/; uofilter=\"\"; expires=Tue, 08 Jan 2019 23:00:45 GMT; Path=/; siteId=fp-uk; Path=/; urbn_search_provider=urbnsearch; Path=/; urbn_language=en-GB; Path=/; urbn_edgescape_site_id=fp-us; Path=/; urbn_site_id=fp-uk; Path=/; bm_sv=2547B965E864723314F152955EC5A247~aPOnq60SZAhXrN3xeFVDwS2NJQMxrICrYZ+O/dlq24gxlqh0NiQNBB1eOycbzJsbjVssdMzewa8XGM2q+YlxFTPDbsPrezQzNOtFMPUwLtuhRK+N/JIMmjRM5DfklBfI9h9/b66S9cbG6NZjODlRQeiID+L3630qtzOrqRlBZz0=; Domain=.freepeople.com; Path=/; Max-Age=7174; HttpOnly',\n",
    "    'status': '200',\n",
    "    'strict-transport-security': 'max-age=15768000',\n",
    "    'vary': 'Accept-Encoding',\n",
    "    'x-akamai-request-id2': '92.122.54.22:1b5fd63b',\n",
    "    'x-akamai-transformed': '9 - 0 pmb=mTOE,1',\n",
    "    'x-frame-options': 'deny',\n",
    "    'x-urbn-context-path': '/uk/',\n",
    "    'x-urbn-site-id': 'fp-uk'\n",
    "}"
   ]
  },
  {
   "cell_type": "code",
   "execution_count": 12,
   "metadata": {},
   "outputs": [],
   "source": [
    "headers_2 = {\n",
    "    'accept': 'text/html,application/xhtml+xml,application/xml;q=0.9,image/webp,image/apng,*/*;q=0.8,application/signed-exchange;v=b3;q=0.9',\n",
    "    'accept-encoding': 'gzip, deflate, br',\n",
    "    'accept-language': 'en-US,en;q=0.9,lv;q=0.8',\n",
    "    'cache-control': 'no-cache',\n",
    "    'cookie': 'SSLB=1; _dy_c_exps=; split_tag_control=Conversant; _dycnst=dg; _dyid=4926938466357341237; _dycst=dk.m.c.ws.; _abck=7799E3DECD839D214D8FCC2BA54D6E62~0~YAAQPVtlX+00TYhuAQAA/zNjhwOpwOXQ5KqPXy+HgeCujvsT7WhpSyGUg/ByAnSQ/xKu2VOsBegD7t1PSCHyM9wMlwPlxxB6IzFzH3kRU7TlD1tx+z/mCusk1qYQfUPJZV1wqGCf1Hrz7ClYI8QUBy+bxpPEZxAOFzq0bFOiA6Rj1I/Jw7gV+xpLstzeLRY2Bz9vlSxEMVK3gWx0LFzyYh14xbQlQz3q8Ol2zI+f06SxPlAIpsKxZjh/r+QtVAzOBb/1pBe03E434Ut8VaDVdIL7SyMTHYSbUdk+Xz5yVmiV1gCKTHbXBNQ/NT2vPcKwxXDNYquhCQ5i7MM=~-1~-1~-1; _ga=GA1.2.1633901761.1578524424; ab.storage.deviceId.ac9d3372-8a20-4479-ad5e-e26b3cb1c321=%7B%22g%22%3A%223c938fa3-33f9-6421-ee34-5fc21297ed9e%22%2C%22c%22%3A1578524423678%2C%22l%22%3A1578524423678%7D; _gcl_au=1.1.1823446121.1578524424; _pxvid=a7067527-326a-11ea-bdee-0242ac12000e; MGX_P=a28de37e-8505-4b3a-8d0b-43fe4d6f2eb7; MGX_U=faccacb1-2748-4af9-ad12-bbeb6e6a008f; MGX_CID=c9586c38-ecf4-452c-ba18-43e1564d9ce6; _mibhv=anon-1578524424177-5072702669_6190; _dy_c_att_exps=; _dy_toffset=0; SS_PWA_SHOP=0; SSID_BE=CABM2h0cACAAAAAEXxZe3AaDGARfFl4HAAAAAACNfDpg4UdZXgDRnMXIAAPbkxsAEMxFXgIAUsoAAxDRGwDhR1leAQDTwQAAHsEAAP_GAACKvAAABboAAEHGAABzwgAAbMkAAA; SSSC_A15=513.G6779710760248608476.7|51397.1807323:51794.1822992; urbn_currency=GBP; urbn_tracer=WOENI7F4YK; AKA_A2=A; siteId=fp-uk; urbn_device_type=LARGE; urbn_data_center_id=US-PA; urbn_language=en-GB; urbn_site_id=fp-uk; urbn_geo_region=EU-LN; urbn_edgescape_site_id=fp-us; urbn_inventory_pool=GB_DIRECT; urbn_channel=web; urbn_auth_payload=%7B%22authToken%22%3A%20%22eyJ0eXAiOiJKV1QiLCJhbGciOiJIUzI1NiJ9.eyJpc3MiOiJmcCIsImV4cCI6MTU4MjkxMDAwOS42MTc5NzEsImlhdCI6MTU4MjkwOTQwOS42MTc5NzEsImRhdGEiOiJ7XCJjcmVhdGVkVGltZVwiOiAxNTc4NTI0NDIwLjU1ODUyOTQsIFwicHJvZmlsZUlkXCI6IFwiWks1Tnk3SXVJMzVORXBVTkJyU0g4b2s0UHBmTUFDdUNjMDdnY2FMV3Bjd2lhalNHZHpPZklPUmdVSk43bnA4ZjVVKzNyczJyeGhqbTRwRDMwQ2NJQnc9PThiODQ3YjI2M2E3NmQ1YWEwNmM4NzUzMDc5MWU0YjQ1OWFiYTE2OTJkOGZjMTUxMzAyNzY1N2Q1M2VlMjNmZDNcIiwgXCJhbm9ueW1vdXNcIjogdHJ1ZSwgXCJ0cmFjZXJcIjogXCJXT0VOSTdGNFlLXCIsIFwic2NvcGVcIjogW1wiR1VFU1RcIl0sIFwic2l0ZUlkXCI6IFwiZnAtdWtcIiwgXCJicmFuZElkXCI6IFwiZnBcIiwgXCJzaXRlR3JvdXBcIjogXCJmcFwiLCBcImRhdGFDZW50ZXJJZFwiOiBcIlVTLVBBXCIsIFwiZ2VvUmVnaW9uXCI6IFwiRVUtTE5cIiwgXCJlZGdlc2NhcGVcIjoge1wicmVnaW9uQ29kZVwiOiBcIkJFXCJ9LCBcImNhcnRJZFwiOiBcIkdHaFBta3grRjJBaFBWRXhVY28rQjB3bTJZdkZKdjZ0aWtPUWI4Y2x1Y1NaTm9WV21xR0F5bngrNVFOUnBXM3I1VSszcnMycnhoam00cEQzMENjSUJ3PT0yMTljMWI3ZmJhZTE5NjNmMzgxNDAzNmM2ODNhNWVhYmQwMTkwNTUxNTU1M2E5NDRhZjEyODU0NmU1NzIyZjc2XCJ9In0.wvaQcSQfHm77FNgrbcrwR9JHGcfEpDRSBeQoMUBOd7c%22%2C%20%22reauthToken%22%3A%20%22eyJ0eXAiOiJKV1QiLCJhbGciOiJIUzI1NiJ9.eyJpc3MiOiJmcCIsImV4cCI6MTU5ODQ2MTQwOS42MTg0Mzk3LCJpYXQiOjE1ODI5MDk0MDkuNjE4NDM5NywiZGF0YSI6IntcImNyZWF0ZWRUaW1lXCI6IDE1ODI5MDk0MDkuNjE4NDI1LCBcInNjb3BlXCI6IFtcIkdVRVNUXCJdLCBcInRyYWNlclwiOiBcIldPRU5JN0Y0WUtcIiwgXCJwcm9maWxlSWRcIjogXCJaSzVOeTdJdUkzNU5FcFVOQnJTSDhvazRQcGZNQUN1Q2MwN2djYUxXcGN3aWFqU0dkek9mSU9SZ1VKTjducDhmNVUrM3JzMnJ4aGptNHBEMzBDY0lCdz09OGI4NDdiMjYzYTc2ZDVhYTA2Yzg3NTMwNzkxZTRiNDU5YWJhMTY5MmQ4ZmMxNTEzMDI3NjU3ZDUzZWUyM2ZkM1wifSJ9.VZublcbACCl3uY6eS7PrbukFWIDDd0YxKKSEXrxdIgI%22%2C%20%22expiresIn%22%3A%20600.0%2C%20%22reauthExpiresIn%22%3A%2015552000.0%2C%20%22scope%22%3A%20%22GUEST%22%2C%20%22tracer%22%3A%20%22WOENI7F4YK%22%2C%20%22dataCenterId%22%3A%20%22US-PA%22%2C%20%22geoRegion%22%3A%20%22EU-LN%22%2C%20%22createdAt%22%3A%201582909409622.7102%2C%20%22authExpiresTime%22%3A%201582909889.622711%2C%20%22reauthExpiresTime%22%3A%201598461409.6227121%7D; urbn_personalization_context=%5B%5B%22device_type%22%2C%20%22LARGE%22%5D%2C%20%5B%22personalization%22%2C%20%5B%5B%22ab%22%2C%20%5B%5B%22SS_PWA_SHOP%22%2C%200%5D%5D%5D%2C%20%5B%22experience%22%2C%20%5B%5B%22image_quality%22%2C%2080%5D%2C%20%5B%22reduced%22%2C%20false%5D%5D%5D%2C%20%5B%22initialized%22%2C%20false%5D%2C%20%5B%22isCallCenterSession%22%2C%20false%5D%2C%20%5B%22isSiteOutsideNorthAmerica%22%2C%20true%5D%2C%20%5B%22isSiteOutsideUSA%22%2C%20true%5D%2C%20%5B%22isViewingInEnglish%22%2C%20true%5D%2C%20%5B%22isViewingRegionalSite%22%2C%20false%5D%2C%20%5B%22loyalty%22%2C%20false%5D%2C%20%5B%22loyaltyPoints%22%2C%20%22%22%5D%2C%20%5B%22privacyRestriction%22%2C%20false%5D%2C%20%5B%22siteDown%22%2C%20false%5D%2C%20%5B%22thirdParty%22%2C%20%5B%5B%22dynamicYield%22%2C%20true%5D%2C%20%5B%22googleMaps%22%2C%20true%5D%2C%20%5B%22moduleImages%22%2C%20true%5D%2C%20%5B%22personalizationQs%22%2C%20%22%22%5D%2C%20%5B%22productImages%22%2C%20true%5D%2C%20%5B%22promoBanners%22%2C%20true%5D%2C%20%5B%22tealium%22%2C%20true%5D%5D%5D%2C%20%5B%22userHasAgreedToCookies%22%2C%20false%5D%5D%5D%2C%20%5B%22scope%22%2C%20%22GUEST%22%5D%2C%20%5B%22user_location%22%2C%20%22c14b2e5b8e5a0c7105bee057cf1be80e%22%5D%5D; akacd_ss1=3760362208~rv=15~id=7a1b1211f192e9445b3b644459e013a6; _dy_csc_ses=t; _dy_ses_load_seq=80441%3A1582909410763; FP_ATTR=other; _dyjsession=c68f3393c2b8f1c652432e014ac4fd27; _dy_geo=ES.EU.ES_CT.ES_CT_Barcelona; _dy_df_geo=Spain..Barcelona; urbn_page_visits_count=%7B%22fp-uk%22%3A1%7D; _gid=GA1.2.2094573328.1582909413; ab.storage.sessionId.ac9d3372-8a20-4479-ad5e-e26b3cb1c321=%7B%22g%22%3A%2214a9c200-28ba-6b2b-5e0c-fac431f6648e%22%2C%22e%22%3A1582911213437%2C%22c%22%3A1582909413438%2C%22l%22%3A1582909413438%7D; mp_dev_mixpanel=%7B%22distinct_id%22%3A%20%2216f876337ad1cb-05cc334bd6ebd5-1d376b5b-232800-16f876337aee5c%22%2C%22bc_persist_updated%22%3A%201578524452426%2C%22customer_language%22%3A%20%22english%22%2C%22g_search_engine%22%3A%20%22google%22%7D; _micpn=esp:-1::1582909413520; stc114946=env:1582909413%7C20200330170333%7C20200228173333%7C1%7C1044753:20210227170333|uid:1578524424314.885409828.4934726.114946.2144372830.:20210227170333|srchist:1044754%3A1581632532%3A20200315222212%7C1044753%3A1582909413%3A20200330170333:20210227170333|tsa:1582909413598.1940282646.7925057.16281568730395524:20200228173333; _derived_epik=dj0yJnU9amlEb1dBbUNZa0VBLVc5NjNCU2RNRml3VzBaaVZnSkImbj1nd2tZTldqN0t5RmpfTVpqWHllRzhBJm09NyZ0PUFBQUFBRjVaUi1V; MGX_VS=1; MGX_PX=33f6da1a-91df-4dfa-8c21-ec4d1d82d5ff; _dy_soct=279600.430785.1582909410*340090.551206.1582909410*342129.554937.1582909410*400408.686131.1582909410*165298.236606.1582909410*264077.403653.1582909410*266365.407945.1582909410*277633.427405.1582909411*368684.613691.1582909412*395757.675105.1582909414; MGX_EID=bnNfc2VnXzAwMA==; urbn_has_accepted_cookies_fp=true; urbn_site_choice=fp-uk->fp-uk; urbn_country=GB; SSRT_A15=DklZXgADAA; SSOD_A15=AASpAAAAEADg6TAAFwAAAARfFl4OSVleAAA; utag_main=v_id:016f87633038003b6baf6d44265603078001e07000c48$_sn:7$_ss:0$_st:1582911592899$ses_id:1582909411426%3Bexp-session$_pn:1%3Bexp-session$isLoggedIn:false%3Bexp-session',\n",
    "    'pragma': 'no-cache',\n",
    "    'referer': 'https://www.freepeople.com/uk/',\n",
    "    'sec-fetch-dest': 'document',\n",
    "    'sec-fetch-mode': 'navigate',\n",
    "    'sec-fetch-site': 'same-origin',\n",
    "    'sec-fetch-user': '?1',\n",
    "    'upgrade-insecure-requests': '1',\n",
    "    'user-agent': 'Mozilla/5.0 (Macintosh; Intel Mac OS X 10_14_6) AppleWebKit/537.36 (KHTML, like Gecko) Chrome/80.0.3987.122 Safari/537.36'\n",
    "}"
   ]
  },
  {
   "cell_type": "code",
   "execution_count": 13,
   "metadata": {},
   "outputs": [],
   "source": [
    "homepage_req = requests.get('https://www.freepeople.com/uk/', headers=headers_2)"
   ]
  },
  {
   "cell_type": "code",
   "execution_count": 14,
   "metadata": {},
   "outputs": [],
   "source": [
    "homepage_doc = lxml.html.fromstring(homepage_req.text)"
   ]
  },
  {
   "cell_type": "code",
   "execution_count": 15,
   "metadata": {},
   "outputs": [],
   "source": [
    "link_matches = homepage_doc.xpath('.//a[contains(@class, \"c-main-navigation__a--level-2\")]')"
   ]
  },
  {
   "cell_type": "code",
   "execution_count": 18,
   "metadata": {},
   "outputs": [],
   "source": [
    "cat_dicts = []\n",
    "for link_match in link_matches:\n",
    "    cat_url = f'https://www.freepeople.com{link_match.xpath(\".//@href\")[0]}'\n",
    "    cat_name = link_match.xpath('.//span/text()')[0].strip()\n",
    "    cat_dicts.append({\n",
    "        'cat_url': cat_url,\n",
    "        'cat_name': cat_name\n",
    "    })"
   ]
  },
  {
   "cell_type": "code",
   "execution_count": 19,
   "metadata": {},
   "outputs": [
    {
     "data": {
      "text/plain": [
       "[{'cat_url': 'https://www.freepeople.com/uk/new-today/',\n",
       "  'cat_name': 'New Today'},\n",
       " {'cat_url': 'https://www.freepeople.com/uk/back-in-stock/',\n",
       "  'cat_name': 'Back In Stock'},\n",
       " {'cat_url': 'https://www.freepeople.com/uk/new-clothes/',\n",
       "  'cat_name': 'New Clothes'},\n",
       " {'cat_url': 'https://www.freepeople.com/uk/new-dresses/',\n",
       "  'cat_name': 'New Dresses'},\n",
       " {'cat_url': 'https://www.freepeople.com/uk/new-tops/',\n",
       "  'cat_name': 'New Tops'},\n",
       " {'cat_url': 'https://www.freepeople.com/uk/new-knitwear/',\n",
       "  'cat_name': 'New Knitwear'},\n",
       " {'cat_url': 'https://www.freepeople.com/uk/new-jackets/',\n",
       "  'cat_name': 'New Jackets'},\n",
       " {'cat_url': 'https://www.freepeople.com/uk/new-bottoms/',\n",
       "  'cat_name': 'New Bottoms'},\n",
       " {'cat_url': 'https://www.freepeople.com/uk/new-intimates/',\n",
       "  'cat_name': 'New Intimates'},\n",
       " {'cat_url': 'https://www.freepeople.com/uk/new-accessories/',\n",
       "  'cat_name': 'New Accessories'},\n",
       " {'cat_url': 'https://www.freepeople.com/uk/new-shoes/',\n",
       "  'cat_name': 'New Shoes'},\n",
       " {'cat_url': 'https://www.freepeople.com/uk/new-beauty/',\n",
       "  'cat_name': 'New Beauty + Wellness'},\n",
       " {'cat_url': 'https://www.freepeople.com/uk/new-movement/',\n",
       "  'cat_name': 'New Activewear'},\n",
       " {'cat_url': 'https://www.freepeople.com/uk/new-swim/',\n",
       "  'cat_name': 'New Swim'},\n",
       " {'cat_url': 'https://www.freepeople.com/uk/most-loved/',\n",
       "  'cat_name': 'Top Rated'},\n",
       " {'cat_url': 'https://www.freepeople.com/uk/new-sale/',\n",
       "  'cat_name': 'New Sale'},\n",
       " {'cat_url': 'https://www.freepeople.com/uk/fp-gift-cards/',\n",
       "  'cat_name': 'Gift Cards'},\n",
       " {'cat_url': 'https://www.freepeople.com/uk/trends/',\n",
       "  'cat_name': 'Editorials'},\n",
       " {'cat_url': 'https://www.freepeople.com/uk/new-clothes/',\n",
       "  'cat_name': 'New Clothes'},\n",
       " {'cat_url': 'https://www.freepeople.com/uk/dresses/', 'cat_name': 'Dresses'},\n",
       " {'cat_url': 'https://www.freepeople.com/uk/tops/', 'cat_name': 'Tops'},\n",
       " {'cat_url': 'https://www.freepeople.com/uk/jackets/', 'cat_name': 'Jackets'},\n",
       " {'cat_url': 'https://www.freepeople.com/uk/knitwear/',\n",
       "  'cat_name': 'Knitwear'},\n",
       " {'cat_url': 'https://www.freepeople.com/uk/jeans/', 'cat_name': 'Denim'},\n",
       " {'cat_url': 'https://www.freepeople.com/uk/trousers/',\n",
       "  'cat_name': 'Trousers'},\n",
       " {'cat_url': 'https://www.freepeople.com/uk/skirts/', 'cat_name': 'Skirts'},\n",
       " {'cat_url': 'https://www.freepeople.com/uk/shorts/', 'cat_name': 'Shorts'},\n",
       " {'cat_url': 'https://www.freepeople.com/uk/jumpsuits-rompers/',\n",
       "  'cat_name': 'Jumpsuits'},\n",
       " {'cat_url': 'https://www.freepeople.com/uk/playsuits-uk/',\n",
       "  'cat_name': 'Playsuits'},\n",
       " {'cat_url': 'https://www.freepeople.com/uk/sets/', 'cat_name': 'Co-ords'},\n",
       " {'cat_url': 'https://www.freepeople.com/uk/fp-movement-shop-all/',\n",
       "  'cat_name': 'Activewear'},\n",
       " {'cat_url': 'https://www.freepeople.com/uk/endless-summer/',\n",
       "  'cat_name': 'Endless Summer'},\n",
       " {'cat_url': 'https://www.freepeople.com/uk/fp-beach-clothing/',\n",
       "  'cat_name': 'FP Beach'},\n",
       " {'cat_url': 'https://www.freepeople.com/uk/swim/', 'cat_name': 'Swim'},\n",
       " {'cat_url': 'https://www.freepeople.com/uk/customer-favourites-clothes/',\n",
       "  'cat_name': 'Top Rated'},\n",
       " {'cat_url': 'https://www.freepeople.com/uk/back-in-stock-clothes/',\n",
       "  'cat_name': 'Back In Stock Clothes'},\n",
       " {'cat_url': 'https://www.freepeople.com/uk/new-dresses/',\n",
       "  'cat_name': 'New Dresses'},\n",
       " {'cat_url': 'https://www.freepeople.com/uk/maxi-dresses/',\n",
       "  'cat_name': 'Maxi Dresses'},\n",
       " {'cat_url': 'https://www.freepeople.com/uk/midi-dresses/',\n",
       "  'cat_name': 'Midi Dresses'},\n",
       " {'cat_url': 'https://www.freepeople.com/uk/mini-dresses/',\n",
       "  'cat_name': 'Mini Dresses'},\n",
       " {'cat_url': 'https://www.freepeople.com/uk/sets-dresses/',\n",
       "  'cat_name': 'Co-ords'},\n",
       " {'cat_url': 'https://www.freepeople.com/uk/jumpsuits-dresses/',\n",
       "  'cat_name': 'Jumpsuits'},\n",
       " {'cat_url': 'https://www.freepeople.com/uk/bodycon-dresses/',\n",
       "  'cat_name': 'Bodycon Dresses'},\n",
       " {'cat_url': 'https://www.freepeople.com/uk/day-dresses/',\n",
       "  'cat_name': 'Day Dresses'},\n",
       " {'cat_url': 'https://www.freepeople.com/uk/night-out-dresses/',\n",
       "  'cat_name': 'Night-Out Dresses'},\n",
       " {'cat_url': 'https://www.freepeople.com/uk/party-dresses/',\n",
       "  'cat_name': 'Party Dresses'},\n",
       " {'cat_url': 'https://www.freepeople.com/uk/printed-dresses/',\n",
       "  'cat_name': 'Printed Dresses'},\n",
       " {'cat_url': 'https://www.freepeople.com/uk/sweater-dresses/',\n",
       "  'cat_name': 'Sweater Dresses'},\n",
       " {'cat_url': 'https://www.freepeople.com/uk/denim-dresses/',\n",
       "  'cat_name': 'Denim Dresses'},\n",
       " {'cat_url': 'https://www.freepeople.com/uk/white-dresses/',\n",
       "  'cat_name': 'White Dresses'},\n",
       " {'cat_url': 'https://www.freepeople.com/uk/black-dresses/',\n",
       "  'cat_name': 'Black Dresses'},\n",
       " {'cat_url': 'https://www.freepeople.com/uk/customer-favorites-dresses/',\n",
       "  'cat_name': 'Top Rated'},\n",
       " {'cat_url': 'https://www.freepeople.com/uk/back-in-stock-dresses/',\n",
       "  'cat_name': 'Back In Stock Dresses'},\n",
       " {'cat_url': 'https://www.freepeople.com/uk/sale-dresses/',\n",
       "  'cat_name': 'Sale Dresses'},\n",
       " {'cat_url': 'https://www.freepeople.com/uk/new-tops/',\n",
       "  'cat_name': 'New Tops'},\n",
       " {'cat_url': 'https://www.freepeople.com/uk/tees/', 'cat_name': 'Basic Tees'},\n",
       " {'cat_url': 'https://www.freepeople.com/uk/graphic-tees/',\n",
       "  'cat_name': 'Graphic Tees'},\n",
       " {'cat_url': 'https://www.freepeople.com/uk/camis-tanks/',\n",
       "  'cat_name': 'Camis & Tanks'},\n",
       " {'cat_url': 'https://www.freepeople.com/uk/blouses/',\n",
       "  'cat_name': 'Shirts + Blouses'},\n",
       " {'cat_url': 'https://www.freepeople.com/uk/kimonos-ponchos/',\n",
       "  'cat_name': 'Kimonos'},\n",
       " {'cat_url': 'https://www.freepeople.com/uk/jackets/', 'cat_name': 'Jackets'},\n",
       " {'cat_url': 'https://www.freepeople.com/uk/knitwear/',\n",
       "  'cat_name': 'Knitwear'},\n",
       " {'cat_url': 'https://www.freepeople.com/uk/sweatshirts-pullovers/',\n",
       "  'cat_name': 'Hoodies + Sweatshirts'},\n",
       " {'cat_url': 'https://www.freepeople.com/uk/bodysuits/', 'cat_name': 'Bodies'},\n",
       " {'cat_url': 'https://www.freepeople.com/uk/crop-tops/',\n",
       "  'cat_name': 'Crop Tops'},\n",
       " {'cat_url': 'https://www.freepeople.com/uk/going-out-tops/',\n",
       "  'cat_name': 'Going Out Tops'},\n",
       " {'cat_url': 'https://www.freepeople.com/uk/tunics/', 'cat_name': 'Tunics'},\n",
       " {'cat_url': 'https://www.freepeople.com/uk/thermals-henleys/',\n",
       "  'cat_name': 'Thermals & Henleys'},\n",
       " {'cat_url': 'https://www.freepeople.com/uk/layering-tops/',\n",
       "  'cat_name': 'The Layering Shop'},\n",
       " {'cat_url': 'https://www.freepeople.com/uk/top-rated/',\n",
       "  'cat_name': 'Top Rated'},\n",
       " {'cat_url': 'https://www.freepeople.com/uk/tops-back-in-stock/',\n",
       "  'cat_name': 'Tops Back in Stock'},\n",
       " {'cat_url': 'https://www.freepeople.com/uk/sale-tops/',\n",
       "  'cat_name': 'Sale Tops'},\n",
       " {'cat_url': 'https://www.freepeople.com/uk/new-denim/',\n",
       "  'cat_name': 'New Denim'},\n",
       " {'cat_url': 'https://www.freepeople.com/uk/the-crvy-collection-denim/',\n",
       "  'cat_name': 'CRVY Jeans'},\n",
       " {'cat_url': 'https://www.freepeople.com/uk/flare-jeans/',\n",
       "  'cat_name': 'Flare Jeans'},\n",
       " {'cat_url': 'https://www.freepeople.com/uk/high-rise-jeans/',\n",
       "  'cat_name': 'High Rise Jeans'},\n",
       " {'cat_url': 'https://www.freepeople.com/uk/skinny-jeans/',\n",
       "  'cat_name': 'Skinny Jeans'},\n",
       " {'cat_url': 'https://www.freepeople.com/uk/wideleg-jeans/',\n",
       "  'cat_name': 'Wideleg Jeans'},\n",
       " {'cat_url': 'https://www.freepeople.com/uk/boyfriend-jeans/',\n",
       "  'cat_name': 'Boyfriend Jeans'},\n",
       " {'cat_url': 'https://www.freepeople.com/uk/straight-leg-jeans/',\n",
       "  'cat_name': 'Straight Leg Jeans'},\n",
       " {'cat_url': 'https://www.freepeople.com/uk/crop-flare-jeans/',\n",
       "  'cat_name': 'Crop Flare Jeans'},\n",
       " {'cat_url': 'https://www.freepeople.com/uk/dungarees/',\n",
       "  'cat_name': 'Dungarees'},\n",
       " {'cat_url': 'https://www.freepeople.com/uk/embellished-jeans/',\n",
       "  'cat_name': 'Statement Denim'},\n",
       " {'cat_url': 'https://www.freepeople.com/uk/denim-shorts/',\n",
       "  'cat_name': 'Denim Shorts + Skirts'},\n",
       " {'cat_url': 'https://www.freepeople.com/uk/denim-jackets/',\n",
       "  'cat_name': 'Denim Jackets'},\n",
       " {'cat_url': 'https://www.freepeople.com/uk/customer-favorites-denim/',\n",
       "  'cat_name': 'Top Rated'},\n",
       " {'cat_url': 'https://www.freepeople.com/uk/back-in-stock-denim/',\n",
       "  'cat_name': 'Back In Stock Denim'},\n",
       " {'cat_url': 'https://www.freepeople.com/uk/sale-bottoms/',\n",
       "  'cat_name': 'Sale Denim'},\n",
       " {'cat_url': 'https://www.freepeople.com/uk/fp-movement-shop-all/',\n",
       "  'cat_name': 'All Activewear'},\n",
       " {'cat_url': 'https://www.freepeople.com/uk/new-movement/',\n",
       "  'cat_name': 'New Activewear'},\n",
       " {'cat_url': 'https://www.freepeople.com/uk/fp-movement-bras/',\n",
       "  'cat_name': 'Bras'},\n",
       " {'cat_url': 'https://www.freepeople.com/uk/fp-movement-tops/',\n",
       "  'cat_name': 'Tops'},\n",
       " {'cat_url': 'https://www.freepeople.com/uk/workout-hoodies-sweatshirts/',\n",
       "  'cat_name': 'Hoodies + Sweatshirts'},\n",
       " {'cat_url': 'https://www.freepeople.com/uk/activewear-outerwear/',\n",
       "  'cat_name': 'Outerwear'},\n",
       " {'cat_url': 'https://www.freepeople.com/uk/fp-movement-bottoms/',\n",
       "  'cat_name': 'Bottoms'},\n",
       " {'cat_url': 'https://www.freepeople.com/uk/fp-movement-leggings/',\n",
       "  'cat_name': 'Leggings'},\n",
       " {'cat_url': 'https://www.freepeople.com/uk/fp-movement-one-pieces/',\n",
       "  'cat_name': 'One-Pieces'},\n",
       " {'cat_url': 'https://www.freepeople.com/uk/fp-movement-to-and-from/',\n",
       "  'cat_name': 'Studio to Street'},\n",
       " {'cat_url': 'https://www.freepeople.com/uk/fp-movement-yoga/',\n",
       "  'cat_name': 'Yoga'},\n",
       " {'cat_url': 'https://www.freepeople.com/uk/fp-movement-dance/',\n",
       "  'cat_name': 'Dance'},\n",
       " {'cat_url': 'https://www.freepeople.com/uk/fp-movement-run/',\n",
       "  'cat_name': 'Run'},\n",
       " {'cat_url': 'https://www.freepeople.com/uk/the-ski-shop-collection/',\n",
       "  'cat_name': 'The Ski Shop'},\n",
       " {'cat_url': 'https://www.freepeople.com/uk/fp-movement-gear/',\n",
       "  'cat_name': 'Gear'},\n",
       " {'cat_url': 'https://www.freepeople.com/uk/active-wellness/',\n",
       "  'cat_name': 'Wellness'},\n",
       " {'cat_url': 'https://www.freepeople.com/uk/customer-favourites-movement/',\n",
       "  'cat_name': 'Top Rated'},\n",
       " {'cat_url': 'https://www.freepeople.com/uk/back-in-stock-fp-movement/',\n",
       "  'cat_name': 'Back In Stock Activewear'},\n",
       " {'cat_url': 'https://www.freepeople.com/uk/shop-all-beauty-wellness/',\n",
       "  'cat_name': 'All Beauty + Wellness'},\n",
       " {'cat_url': 'https://www.freepeople.com/uk/new-beauty/',\n",
       "  'cat_name': 'New Beauty & Wellness'},\n",
       " {'cat_url': 'https://www.freepeople.com/uk/wellness-products/',\n",
       "  'cat_name': 'Wellness'},\n",
       " {'cat_url': 'https://www.freepeople.com/uk/skincare/',\n",
       "  'cat_name': 'Skincare'},\n",
       " {'cat_url': 'https://www.freepeople.com/uk/sunscreen/',\n",
       "  'cat_name': 'Sun Care'},\n",
       " {'cat_url': 'https://www.freepeople.com/uk/makeup/', 'cat_name': 'Cosmetics'},\n",
       " {'cat_url': 'https://www.freepeople.com/uk/body-products/',\n",
       "  'cat_name': 'Body'},\n",
       " {'cat_url': 'https://www.freepeople.com/uk/hair-products/',\n",
       "  'cat_name': 'Hair'},\n",
       " {'cat_url': 'https://www.freepeople.com/uk/oral-care-products/',\n",
       "  'cat_name': 'Oral Care'},\n",
       " {'cat_url': 'https://www.freepeople.com/uk/fragrances/',\n",
       "  'cat_name': 'Aromatherapy'},\n",
       " {'cat_url': 'https://www.freepeople.com/uk/beauty-tools/',\n",
       "  'cat_name': 'Tools & Brushes'},\n",
       " {'cat_url': 'https://www.freepeople.com/uk/self-love/',\n",
       "  'cat_name': 'Self Love'},\n",
       " {'cat_url': 'https://www.freepeople.com/uk/beauty-sleep/',\n",
       "  'cat_name': 'Beauty Sleep'},\n",
       " {'cat_url': 'https://www.freepeople.com/uk/crystals/',\n",
       "  'cat_name': 'The Crystal Shop'},\n",
       " {'cat_url': 'https://www.freepeople.com/uk/wellness-books/',\n",
       "  'cat_name': 'Books'},\n",
       " {'cat_url': 'https://www.freepeople.com/uk/travel-size-toiletries-beauty/',\n",
       "  'cat_name': 'For Your Travels'},\n",
       " {'cat_url': 'https://www.freepeople.com/uk/customer-favourites-beauty-wellness/',\n",
       "  'cat_name': 'Top Rated'},\n",
       " {'cat_url': 'https://www.freepeople.com/uk/vegan-makeup-beauty/',\n",
       "  'cat_name': 'Vegan Beauty'},\n",
       " {'cat_url': 'https://www.freepeople.com/uk/shoes/', 'cat_name': 'All Shoes'},\n",
       " {'cat_url': 'https://www.freepeople.com/uk/new-shoes/',\n",
       "  'cat_name': 'New Shoes'},\n",
       " {'cat_url': 'https://www.freepeople.com/uk/boots/', 'cat_name': 'Boots'},\n",
       " {'cat_url': 'https://www.freepeople.com/uk/flats-loafers/',\n",
       "  'cat_name': 'Flats & Menswear'},\n",
       " {'cat_url': 'https://www.freepeople.com/uk/mules/', 'cat_name': 'Mules'},\n",
       " {'cat_url': 'https://www.freepeople.com/uk/clogs/', 'cat_name': 'Clogs'},\n",
       " {'cat_url': 'https://www.freepeople.com/uk/trainers/',\n",
       "  'cat_name': 'Trainers'},\n",
       " {'cat_url': 'https://www.freepeople.com/uk/heels-wedges/',\n",
       "  'cat_name': 'Heels & Wedges'},\n",
       " {'cat_url': 'https://www.freepeople.com/uk/sandals/', 'cat_name': 'Sandals'},\n",
       " {'cat_url': 'https://www.freepeople.com/uk/slippers/',\n",
       "  'cat_name': 'Slippers'},\n",
       " {'cat_url': 'https://www.freepeople.com/uk/socks/',\n",
       "  'cat_name': 'Socks & Tights'},\n",
       " {'cat_url': 'https://www.freepeople.com/uk/customer-favourites-shoes/',\n",
       "  'cat_name': 'Top Rated'},\n",
       " {'cat_url': 'https://www.freepeople.com/uk/back-in-stock-shoes/',\n",
       "  'cat_name': 'Back In Stock Shoes'},\n",
       " {'cat_url': 'https://www.freepeople.com/uk/sale-shoes/',\n",
       "  'cat_name': 'Sale Shoes'},\n",
       " {'cat_url': 'https://www.freepeople.com/uk/new-accessories/',\n",
       "  'cat_name': 'New Accessories'},\n",
       " {'cat_url': 'https://www.freepeople.com/uk/jewellery/',\n",
       "  'cat_name': 'Jewellery'},\n",
       " {'cat_url': 'https://www.freepeople.com/uk/hair-accessories/',\n",
       "  'cat_name': 'Hair Accessories'},\n",
       " {'cat_url': 'https://www.freepeople.com/uk/bags/', 'cat_name': 'Bags'},\n",
       " {'cat_url': 'https://www.freepeople.com/uk/hats/', 'cat_name': 'Hats'},\n",
       " {'cat_url': 'https://www.freepeople.com/uk/sunglasses/',\n",
       "  'cat_name': 'Sunglasses'},\n",
       " {'cat_url': 'https://www.freepeople.com/uk/scarves/',\n",
       "  'cat_name': 'Scarves + Bandanas'},\n",
       " {'cat_url': 'https://www.freepeople.com/uk/belts/', 'cat_name': 'Belts'},\n",
       " {'cat_url': 'https://www.freepeople.com/uk/socks/',\n",
       "  'cat_name': 'Socks & Tights'},\n",
       " {'cat_url': 'https://www.freepeople.com/uk/hair-active-accessories/',\n",
       "  'cat_name': 'Active Accessories'},\n",
       " {'cat_url': 'https://www.freepeople.com/uk/gloves/', 'cat_name': 'Gloves'},\n",
       " {'cat_url': 'https://www.freepeople.com/uk/cold-weather-accessories/',\n",
       "  'cat_name': 'The Cold Weather Shop'},\n",
       " {'cat_url': 'https://www.freepeople.com/uk/tech-shop/', 'cat_name': 'Tech'},\n",
       " {'cat_url': 'https://www.freepeople.com/uk/games-gifts/',\n",
       "  'cat_name': 'Games & Gifts'},\n",
       " {'cat_url': 'https://www.freepeople.com/uk/customer-favourites-accessories/',\n",
       "  'cat_name': 'Top Rated'},\n",
       " {'cat_url': 'https://www.freepeople.com/uk/back-in-stock-accessories/',\n",
       "  'cat_name': 'Back In Stock Accessories'},\n",
       " {'cat_url': 'https://www.freepeople.com/uk/sale-accessories/',\n",
       "  'cat_name': 'Sale Accessories'},\n",
       " {'cat_url': 'https://www.freepeople.com/uk/all-intimates/',\n",
       "  'cat_name': 'All Intimates'},\n",
       " {'cat_url': 'https://www.freepeople.com/uk/new-intimates/',\n",
       "  'cat_name': 'New Intimates'},\n",
       " {'cat_url': 'https://www.freepeople.com/uk/bras/', 'cat_name': 'Bras'},\n",
       " {'cat_url': 'https://www.freepeople.com/uk/bralettes/',\n",
       "  'cat_name': 'Bralettes'},\n",
       " {'cat_url': 'https://www.freepeople.com/uk/knickers/',\n",
       "  'cat_name': 'Knickers'},\n",
       " {'cat_url': 'https://www.freepeople.com/uk/slips/', 'cat_name': 'Slips'},\n",
       " {'cat_url': 'https://www.freepeople.com/uk/intimates-tops/',\n",
       "  'cat_name': 'Tops'},\n",
       " {'cat_url': 'https://www.freepeople.com/uk/intimates-bottoms/',\n",
       "  'cat_name': 'Bottoms'},\n",
       " {'cat_url': 'https://www.freepeople.com/uk/bodysuits/', 'cat_name': 'Bodies'},\n",
       " {'cat_url': 'https://www.freepeople.com/uk/playsuits/',\n",
       "  'cat_name': 'Playsuits + Onesies'},\n",
       " {'cat_url': 'https://www.freepeople.com/uk/robes-nighties/',\n",
       "  'cat_name': 'Sleep & Lounge'},\n",
       " {'cat_url': 'https://www.freepeople.com/uk/intimates-sets/',\n",
       "  'cat_name': 'Co-ords'},\n",
       " {'cat_url': 'https://www.freepeople.com/uk/seamless-intimates/',\n",
       "  'cat_name': 'Seamless'},\n",
       " {'cat_url': 'https://www.freepeople.com/uk/the-neo-collection/',\n",
       "  'cat_name': 'Neo'},\n",
       " {'cat_url': 'https://www.freepeople.com/uk/duo/', 'cat_name': 'Duo'},\n",
       " {'cat_url': 'https://www.freepeople.com/uk/hemp-and-organic-collection/',\n",
       "  'cat_name': 'Hemp + Organic Collection'},\n",
       " {'cat_url': 'https://www.freepeople.com/uk/invisible-intimates/',\n",
       "  'cat_name': 'Invisible Intimates'},\n",
       " {'cat_url': 'https://www.freepeople.com/uk/fp-exclusives-intimates/',\n",
       "  'cat_name': 'FP Exclusives'},\n",
       " {'cat_url': 'https://www.freepeople.com/uk/customer-favourites-intimates/',\n",
       "  'cat_name': 'Top Rated'},\n",
       " {'cat_url': 'https://www.freepeople.com/uk/back-in-stock-intimates/',\n",
       "  'cat_name': 'Back In Stock Intimates'},\n",
       " {'cat_url': 'https://www.freepeople.com/uk/sale-intimates/',\n",
       "  'cat_name': 'Sale Intimates'},\n",
       " {'cat_url': 'https://www.freepeople.com/uk/all-swimwear/',\n",
       "  'cat_name': 'All Swimwear'},\n",
       " {'cat_url': 'https://www.freepeople.com/uk/new-swim/',\n",
       "  'cat_name': 'New Swim'},\n",
       " {'cat_url': 'https://www.freepeople.com/uk/bikini-tops/',\n",
       "  'cat_name': 'Bikini Tops'},\n",
       " {'cat_url': 'https://www.freepeople.com/uk/bikini-bottoms/',\n",
       "  'cat_name': 'Bikini Bottoms'},\n",
       " {'cat_url': 'https://www.freepeople.com/uk/one-piece/',\n",
       "  'cat_name': 'One Pieces'},\n",
       " {'cat_url': 'https://www.freepeople.com/uk/surfwear/', 'cat_name': 'Surf'},\n",
       " {'cat_url': 'https://www.freepeople.com/uk/sun-suits/',\n",
       "  'cat_name': 'Sun Suits'},\n",
       " {'cat_url': 'https://www.freepeople.com/uk/printed-swimwear/',\n",
       "  'cat_name': 'Prints & Graphics'},\n",
       " {'cat_url': 'https://www.freepeople.com/uk/cover-ups/',\n",
       "  'cat_name': 'Cover-Ups'},\n",
       " {'cat_url': 'https://www.freepeople.com/uk/fp-exclusives-swim/',\n",
       "  'cat_name': 'FP Exclusives'},\n",
       " {'cat_url': 'https://www.freepeople.com/uk/customer-favourites-swim/',\n",
       "  'cat_name': 'Top Rated'},\n",
       " {'cat_url': 'https://www.freepeople.com/uk/new-sale/',\n",
       "  'cat_name': 'New Sale'},\n",
       " {'cat_url': 'https://www.freepeople.com/uk/best-of-sale/',\n",
       "  'cat_name': 'Best of Sale'},\n",
       " {'cat_url': 'https://www.freepeople.com/uk/sale-dresses/',\n",
       "  'cat_name': 'Sale Dresses'},\n",
       " {'cat_url': 'https://www.freepeople.com/uk/sale-tops/',\n",
       "  'cat_name': 'Sale Tops'},\n",
       " {'cat_url': 'https://www.freepeople.com/uk/sale-sweaters/',\n",
       "  'cat_name': 'Sale Knitwear'},\n",
       " {'cat_url': 'https://www.freepeople.com/uk/sale-jackets-outerwear/',\n",
       "  'cat_name': 'Sale Jackets + Coats'},\n",
       " {'cat_url': 'https://www.freepeople.com/uk/sale-bottoms/',\n",
       "  'cat_name': 'Sale Bottoms'},\n",
       " {'cat_url': 'https://www.freepeople.com/uk/sale-intimates/',\n",
       "  'cat_name': 'Sale Intimates'},\n",
       " {'cat_url': 'https://www.freepeople.com/uk/sale-accessories/',\n",
       "  'cat_name': 'Sale Accessories'},\n",
       " {'cat_url': 'https://www.freepeople.com/uk/sale-shoes/',\n",
       "  'cat_name': 'Sale Shoes'},\n",
       " {'cat_url': 'https://www.freepeople.com/uk/sale-fp-movement/',\n",
       "  'cat_name': 'Sale Activewear'},\n",
       " {'cat_url': 'https://www.freepeople.com/uk/sale-swim/',\n",
       "  'cat_name': 'Sale Swim'},\n",
       " {'cat_url': 'https://www.freepeople.com/uk/sale-beach-endless-summer/',\n",
       "  'cat_name': 'Sale FP Beach + Endless Summer'},\n",
       " {'cat_url': 'https://www.freepeople.com/uk/3-for-18-hair-accessories/',\n",
       "  'cat_name': '3 for £18 Scrunchies'},\n",
       " {'cat_url': 'https://www.freepeople.com/uk/3-for-24-socks/',\n",
       "  'cat_name': '3 For £24 Socks'},\n",
       " {'cat_url': 'https://www.freepeople.com/uk/charm-shop/',\n",
       "  'cat_name': '3 For £12 Charms'},\n",
       " {'cat_url': 'https://www.freepeople.com/uk/3-for-27-knickers/',\n",
       "  'cat_name': '3 For £27 Knickers'}]"
      ]
     },
     "execution_count": 19,
     "metadata": {},
     "output_type": "execute_result"
    }
   ],
   "source": [
    "cat_dicts"
   ]
  },
  {
   "cell_type": "code",
   "execution_count": null,
   "metadata": {},
   "outputs": [],
   "source": []
  },
  {
   "cell_type": "code",
   "execution_count": 20,
   "metadata": {},
   "outputs": [],
   "source": [
    "cat_req = requests.get('https://www.freepeople.com/uk/blouses/', headers=headers_2)"
   ]
  },
  {
   "cell_type": "code",
   "execution_count": 21,
   "metadata": {},
   "outputs": [],
   "source": [
    "cat_doc = lxml.html.fromstring(cat_req.text)"
   ]
  },
  {
   "cell_type": "code",
   "execution_count": 22,
   "metadata": {},
   "outputs": [],
   "source": [
    "page_count_regex = re.search(r'page_total_count:\\ \\\"(.*?)\\\"', cat_req.text)"
   ]
  },
  {
   "cell_type": "code",
   "execution_count": 25,
   "metadata": {},
   "outputs": [
    {
     "data": {
      "text/plain": [
       "3"
      ]
     },
     "execution_count": 25,
     "metadata": {},
     "output_type": "execute_result"
    }
   ],
   "source": [
    "int(page_count_regex.group(1))"
   ]
  },
  {
   "cell_type": "code",
   "execution_count": 26,
   "metadata": {},
   "outputs": [],
   "source": [
    "prod_url_matches = cat_doc.xpath('.//a[contains(@class, \"product-tile__image-link\")]')"
   ]
  },
  {
   "cell_type": "code",
   "execution_count": 28,
   "metadata": {},
   "outputs": [
    {
     "name": "stdout",
     "output_type": "stream",
     "text": [
      "/uk/shop/we-the-free-summer-daydream-buttondown/?category=blouses&color=004\n",
      "/uk/shop/lily-of-the-valley-blouse/?category=blouses&color=010\n",
      "/uk/shop/fp-one-waverly-tunic/?category=blouses&color=066\n",
      "/uk/shop/petunia-eyelet-top/?category=blouses&color=011\n",
      "/uk/shop/safari-wrap-top/?category=blouses&color=041\n",
      "/uk/shop/show-me-love-top/?category=blouses&color=001\n",
      "/uk/shop/river-linen-tunic/?category=blouses&color=030\n",
      "/uk/shop/beat-of-my-heart-button-down/?category=blouses&color=001\n",
      "/uk/shop/adriana-woven-tee/?category=blouses&color=011\n",
      "/uk/shop/safari-babe-top/?category=blouses&color=067\n",
      "/uk/shop/celia-printed-blouse/?category=blouses&color=020\n",
      "/uk/shop/saffron-embroidered-tunic/?category=blouses&color=086\n",
      "/uk/shop/marina-denim-top/?category=blouses&color=001\n",
      "/uk/shop/sunshine-blouse/?category=blouses&color=001\n",
      "/uk/shop/washed-black-meadowlark-buttondown/?category=blouses&color=001\n",
      "/uk/shop/paloma-tunic/?category=blouses&color=001\n",
      "/uk/shop/we-the-free-summer-breeze-stripe-pullover/?category=blouses&color=011\n",
      "/uk/shop/a-night-with-you-blouse/?category=blouses&color=080\n",
      "/uk/shop/costa-ballena-patchwork-top/?category=blouses&color=010\n",
      "/uk/shop/evey-top/?category=blouses&color=047\n",
      "/uk/shop/printed-hawaiin-shirt/?category=blouses&color=001\n",
      "/uk/shop/whistle-top/?category=blouses&color=011\n",
      "/uk/shop/scotch-and-soda-cropped-classic-shirt/?category=blouses&color=069\n",
      "/uk/shop/fp-one-waverley-stripe-tunic/?category=blouses&color=001\n",
      "/uk/shop/stevie-cowl-neck/?category=blouses&color=040\n",
      "/uk/shop/dylan-babydoll-railroad-stripe-top/?category=blouses&color=000\n",
      "/uk/shop/waverly-blouse/?category=blouses&color=021\n",
      "/uk/shop/good-feels-stripe-top/?category=blouses&color=085\n",
      "/uk/shop/zinnia-blouse/?category=blouses&color=237\n",
      "/uk/shop/rose-valley-printed-blouse/?category=blouses&color=011\n",
      "/uk/shop/yoko-tunic/?category=blouses&color=030\n",
      "/uk/shop/lights-out-corset/?category=blouses&color=011\n",
      "/uk/shop/tangier-tunic/?category=blouses&color=054\n",
      "/uk/shop/selene-tank/?category=blouses&color=066\n",
      "/uk/shop/plaid-city-maxi-top/?category=blouses&color=050\n",
      "/uk/shop/twyla-top/?category=blouses&color=035\n",
      "/uk/shop/ava-bodysuit/?category=blouses&color=066\n",
      "/uk/shop/with-love-indigo-denim-top/?category=blouses&color=040\n",
      "/uk/shop/cordelia-night-shirt1/?category=blouses&color=011\n",
      "/uk/shop/shirred-perfection-top/?category=blouses&color=030\n",
      "/uk/shop/so-fresh-tunic/?category=blouses&color=011\n",
      "/uk/shop/borderlines-bodysuit/?category=blouses&color=065\n",
      "/uk/shop/lost-dreams-silk-cami/?category=blouses&color=001\n",
      "/uk/shop/animal-twyla-top/?category=blouses&color=029\n",
      "/uk/shop/le-femme-tee/?category=blouses&color=016\n",
      "/uk/shop/into-it-square-neck-crop/?category=blouses&color=041\n",
      "/uk/shop/summer-girl-tank/?category=blouses&color=020\n",
      "/uk/shop/tuck-tunic/?category=blouses&color=024\n",
      "/uk/shop/love-somebody-gauze-top/?category=blouses&color=001\n",
      "/uk/shop/camilla-blouse/?category=blouses&color=040\n",
      "/uk/shop/all-tucks-bodysuit/?category=blouses&color=011\n",
      "/uk/shop/roma-blouse/?category=blouses&color=040\n",
      "/uk/shop/olivia-lace-tee/?category=blouses&color=066\n",
      "/uk/shop/lily-of-the-valley-blouse/?category=blouses&color=010\n",
      "/uk/shop/la-boheme-top/?category=blouses&color=011\n",
      "/uk/shop/mykonos-maxi-top2/?category=blouses&color=001\n",
      "/uk/shop/we-the-free-eliza-tee/?category=blouses&color=270\n",
      "/uk/shop/sadie-tunic/?category=blouses&color=040\n",
      "/uk/shop/blue-ridge-indigo-top/?category=blouses&color=040\n",
      "/uk/shop/for-you-bodysuit/?category=blouses&color=009\n",
      "/uk/shop/sunkissed-top/?category=blouses&color=067\n",
      "/uk/shop/calico-basin-stripe-button-down-jacket/?category=blouses&color=067\n",
      "/uk/shop/tallulah-embroidered-blouse/?category=blouses&color=040\n",
      "/uk/shop/sweet-and-sassy-tee/?category=blouses&color=040\n",
      "/uk/shop/twilight-top-56561780/?category=blouses&color=041\n",
      "/uk/shop/wild-eyes-top/?category=blouses&color=010\n",
      "/uk/shop/persuasion-top/?category=blouses&color=102\n",
      "/uk/shop/wrap-shirt-dress-55665954/?category=blouses&color=001\n",
      "/uk/shop/wake-up-shirt2/?category=blouses&color=008\n",
      "/uk/shop/lola-kimono/?category=blouses&color=009\n",
      "/uk/shop/fp-one-hyacinyth-top/?category=blouses&color=041\n",
      "/uk/shop/so-fari-bodysuit/?category=blouses&color=011\n",
      "/uk/shop/brighter-than-sunshine-printed-tank/?category=blouses&color=011\n",
      "/uk/shop/kelly-western-plaid-shirt/?category=blouses&color=040\n",
      "/uk/shop/georgia-maxi-top/?category=blouses&color=010\n",
      "/uk/shop/sometimes-i-sleep-shirt/?category=blouses&color=010\n",
      "/uk/shop/spring-fling-top/?category=blouses&color=031\n",
      "/uk/shop/cece-poplin-top/?category=blouses&color=010\n",
      "/uk/shop/puff-sleeve-cami/?category=blouses&color=001\n",
      "/uk/shop/meet-me-at-noon-bodysuit/?category=blouses&color=010\n",
      "/uk/shop/all-mine-tank/?category=blouses&color=001\n",
      "/uk/shop/linen-stripe-buttondown-shirt/?category=blouses&color=010\n",
      "/uk/shop/greta-tee/?category=blouses&color=040\n",
      "/uk/shop/plaid-v-neck-top/?category=blouses&color=040\n",
      "/uk/shop/we-the-free-sahara-sounds-maxi-top/?category=blouses&color=040\n",
      "/uk/shop/we-the-free-palm-desert-denim-top/?category=blouses&color=040\n",
      "/uk/shop/rising-sun-blouse/?category=blouses&color=053\n",
      "/uk/shop/shes-ditsy-bodysuit/?category=blouses&color=029\n",
      "/uk/shop/scotch-and-soda-sheer-ruffle-top/?category=blouses&color=009\n",
      "/uk/shop/peek-aye-bodysuit/?category=blouses&color=010\n",
      "/uk/shop/claude-corset/?category=blouses&color=011\n",
      "/uk/shop/sufi-bretta-blouse/?category=blouses&color=015\n",
      "/uk/shop/scotch-and-soda-button-up-shirt/?category=blouses&color=040\n",
      "/uk/shop/daria-shirt/?category=blouses&color=000\n",
      "/uk/shop/charlotte-embroidered-blouse/?category=blouses&color=005\n",
      "/uk/shop/scotch-and-soda-washed-denim-shirt/?category=blouses&color=040\n"
     ]
    }
   ],
   "source": [
    "for prod_url_match in prod_url_matches:\n",
    "    print(prod_url_match.xpath('./@href')[0])"
   ]
  },
  {
   "cell_type": "code",
   "execution_count": null,
   "metadata": {},
   "outputs": [],
   "source": []
  },
  {
   "cell_type": "code",
   "execution_count": null,
   "metadata": {},
   "outputs": [],
   "source": []
  },
  {
   "cell_type": "code",
   "execution_count": null,
   "metadata": {},
   "outputs": [],
   "source": []
  },
  {
   "cell_type": "code",
   "execution_count": 89,
   "metadata": {},
   "outputs": [],
   "source": [
    "prod_req = requests.get('https://www.freepeople.com/uk/shop/days-off-thermal/?category=sale-all&color=271', headers=headers_2)\n",
    "prod_doc = lxml.html.fromstring(prod_req.text)\n"
   ]
  },
  {
   "cell_type": "code",
   "execution_count": 90,
   "metadata": {},
   "outputs": [],
   "source": [
    "current_price_match = re.search('(?<=\\\"highPrice\\\": ).*?(?=,)', prod_req.text)"
   ]
  },
  {
   "cell_type": "code",
   "execution_count": 91,
   "metadata": {},
   "outputs": [
    {
     "data": {
      "text/plain": [
       "'24.95'"
      ]
     },
     "execution_count": 91,
     "metadata": {},
     "output_type": "execute_result"
    }
   ],
   "source": [
    "current_price_match.group(0)"
   ]
  },
  {
   "cell_type": "code",
   "execution_count": 92,
   "metadata": {},
   "outputs": [],
   "source": [
    "current_price = float(current_price_match.group(0))"
   ]
  },
  {
   "cell_type": "code",
   "execution_count": 93,
   "metadata": {},
   "outputs": [
    {
     "data": {
      "text/plain": [
       "24.95"
      ]
     },
     "execution_count": 93,
     "metadata": {},
     "output_type": "execute_result"
    }
   ],
   "source": [
    "current_price"
   ]
  },
  {
   "cell_type": "code",
   "execution_count": 94,
   "metadata": {},
   "outputs": [],
   "source": [
    "orig_price_match = re.search('(?<=product_original_price: \\[\\\").*?(?=\\\")', prod_req.text)"
   ]
  },
  {
   "cell_type": "code",
   "execution_count": 95,
   "metadata": {},
   "outputs": [
    {
     "data": {
      "text/plain": [
       "'58'"
      ]
     },
     "execution_count": 95,
     "metadata": {},
     "output_type": "execute_result"
    }
   ],
   "source": [
    "orig_price_match.group(0)"
   ]
  },
  {
   "cell_type": "code",
   "execution_count": 96,
   "metadata": {},
   "outputs": [],
   "source": [
    "orig_price = float(orig_price_match.group(0))"
   ]
  },
  {
   "cell_type": "code",
   "execution_count": 97,
   "metadata": {},
   "outputs": [],
   "source": [
    "if orig_price > current_price:\n",
    "    price = orig_price\n",
    "    saleprice = current_price\n",
    "    sale = True\n",
    "else:\n",
    "    price = current_price\n",
    "    saleprice = None\n",
    "    sale = False"
   ]
  },
  {
   "cell_type": "code",
   "execution_count": 98,
   "metadata": {},
   "outputs": [
    {
     "data": {
      "text/plain": [
       "True"
      ]
     },
     "execution_count": 98,
     "metadata": {},
     "output_type": "execute_result"
    }
   ],
   "source": [
    "sale"
   ]
  },
  {
   "cell_type": "code",
   "execution_count": 99,
   "metadata": {},
   "outputs": [
    {
     "name": "stdout",
     "output_type": "stream",
     "text": [
      "58.0\n"
     ]
    }
   ],
   "source": [
    "print(price)"
   ]
  },
  {
   "cell_type": "code",
   "execution_count": 100,
   "metadata": {},
   "outputs": [
    {
     "name": "stdout",
     "output_type": "stream",
     "text": [
      "24.95\n"
     ]
    }
   ],
   "source": [
    "print(saleprice)"
   ]
  },
  {
   "cell_type": "code",
   "execution_count": 101,
   "metadata": {},
   "outputs": [],
   "source": [
    "name = prod_doc.xpath('.//h1[contains(@class, \"product-meta__h1\")]/span/text()')[0]"
   ]
  },
  {
   "cell_type": "code",
   "execution_count": 103,
   "metadata": {},
   "outputs": [
    {
     "data": {
      "text/plain": [
       "'Days Off Thermal'"
      ]
     },
     "execution_count": 103,
     "metadata": {},
     "output_type": "execute_result"
    }
   ],
   "source": [
    "name.strip()"
   ]
  },
  {
   "cell_type": "code",
   "execution_count": 104,
   "metadata": {},
   "outputs": [],
   "source": [
    "img_url_paths = prod_doc.xpath('.//img[contains(@class, \"zoom-product-image\")]/@src')"
   ]
  },
  {
   "cell_type": "code",
   "execution_count": 105,
   "metadata": {},
   "outputs": [
    {
     "data": {
      "text/plain": [
       "['//s7d5.scene7.com/is/image/FreePeople/54303888_271_a?$a15-pdp-detail-shot$&hei=900&qlt=80&fit=constrain',\n",
       " '//s7d5.scene7.com/is/image/FreePeople/54303888_271_a?$a15-pdp-detail-shot$&hei=900&qlt=80&fit=constrain',\n",
       " '//s7d5.scene7.com/is/image/FreePeople/54303888_271_b?$a15-pdp-detail-shot$&hei=900&qlt=80&fit=constrain',\n",
       " '//s7d5.scene7.com/is/image/FreePeople/54303888_271_b?$a15-pdp-detail-shot$&hei=900&qlt=80&fit=constrain',\n",
       " '//s7d5.scene7.com/is/image/FreePeople/54303888_271_c?$a15-pdp-detail-shot$&hei=900&qlt=80&fit=constrain',\n",
       " '//s7d5.scene7.com/is/image/FreePeople/54303888_271_c?$a15-pdp-detail-shot$&hei=900&qlt=80&fit=constrain']"
      ]
     },
     "execution_count": 105,
     "metadata": {},
     "output_type": "execute_result"
    }
   ],
   "source": [
    "img_url_paths"
   ]
  },
  {
   "cell_type": "code",
   "execution_count": 106,
   "metadata": {},
   "outputs": [],
   "source": [
    "image_urls = [f'https:{img_url_path}' for img_url_path in img_url_paths]"
   ]
  },
  {
   "cell_type": "code",
   "execution_count": 107,
   "metadata": {},
   "outputs": [
    {
     "data": {
      "text/plain": [
       "['https://s7d5.scene7.com/is/image/FreePeople/54303888_271_a?$a15-pdp-detail-shot$&hei=900&qlt=80&fit=constrain',\n",
       " 'https://s7d5.scene7.com/is/image/FreePeople/54303888_271_a?$a15-pdp-detail-shot$&hei=900&qlt=80&fit=constrain',\n",
       " 'https://s7d5.scene7.com/is/image/FreePeople/54303888_271_b?$a15-pdp-detail-shot$&hei=900&qlt=80&fit=constrain',\n",
       " 'https://s7d5.scene7.com/is/image/FreePeople/54303888_271_b?$a15-pdp-detail-shot$&hei=900&qlt=80&fit=constrain',\n",
       " 'https://s7d5.scene7.com/is/image/FreePeople/54303888_271_c?$a15-pdp-detail-shot$&hei=900&qlt=80&fit=constrain',\n",
       " 'https://s7d5.scene7.com/is/image/FreePeople/54303888_271_c?$a15-pdp-detail-shot$&hei=900&qlt=80&fit=constrain']"
      ]
     },
     "execution_count": 107,
     "metadata": {},
     "output_type": "execute_result"
    }
   ],
   "source": [
    "image_urls"
   ]
  },
  {
   "cell_type": "code",
   "execution_count": 108,
   "metadata": {},
   "outputs": [],
   "source": [
    "brand_regex = re.search(r'brand\\\":\\ \\{\\\"\\@type\\\":\\ \\\"Thing\\\"\\,\\ \\\"name\\\"\\:\\ \\\"(.*?)\\\"', prod_req.text)"
   ]
  },
  {
   "cell_type": "code",
   "execution_count": 109,
   "metadata": {},
   "outputs": [
    {
     "data": {
      "text/plain": [
       "'We The Free'"
      ]
     },
     "execution_count": 109,
     "metadata": {},
     "output_type": "execute_result"
    }
   ],
   "source": [
    "brand_regex.group(1)"
   ]
  },
  {
   "cell_type": "code",
   "execution_count": 110,
   "metadata": {},
   "outputs": [],
   "source": [
    "desc_regex = re.search(r'\\\"description\\\":\\ \\\"(.*?)\\\"', prod_req.text)"
   ]
  },
  {
   "cell_type": "code",
   "execution_count": 111,
   "metadata": {},
   "outputs": [
    {
     "data": {
      "text/plain": [
       "'Staple thermal top from our <a href=\\\\'"
      ]
     },
     "execution_count": 111,
     "metadata": {},
     "output_type": "execute_result"
    }
   ],
   "source": [
    "desc_regex.group(1)"
   ]
  },
  {
   "cell_type": "code",
   "execution_count": 124,
   "metadata": {},
   "outputs": [],
   "source": [
    "description_math = prod_doc.xpath('.//div[contains(@class,\"c-text-truncate__text\")]')[0]"
   ]
  },
  {
   "cell_type": "code",
   "execution_count": 125,
   "metadata": {},
   "outputs": [],
   "source": [
    "description = description_math.text_content()"
   ]
  },
  {
   "cell_type": "code",
   "execution_count": 126,
   "metadata": {},
   "outputs": [
    {
     "data": {
      "text/plain": [
       "'\\n                Staple thermal top from our We The Free collection featured in a heathered waffle-knit fabrication with dropped dolman short sleeves and uneven hemline in a super slouchy oversized silhouette.\\n\\nV-neckline\\nExposed seam detail\\nLower back hemline\\n\\n\\n        '"
      ]
     },
     "execution_count": 126,
     "metadata": {},
     "output_type": "execute_result"
    }
   ],
   "source": [
    "description"
   ]
  },
  {
   "cell_type": "code",
   "execution_count": null,
   "metadata": {},
   "outputs": [],
   "source": []
  },
  {
   "cell_type": "code",
   "execution_count": 127,
   "metadata": {},
   "outputs": [],
   "source": [
    "sizes_match = prod_doc.xpath('.//input[contains(@class, \"js-size-select\")]/@value')"
   ]
  },
  {
   "cell_type": "code",
   "execution_count": 128,
   "metadata": {},
   "outputs": [
    {
     "data": {
      "text/plain": [
       "['XS', 'S', 'M', 'L', 'XL']"
      ]
     },
     "execution_count": 128,
     "metadata": {},
     "output_type": "execute_result"
    }
   ],
   "source": [
    "sizes_match"
   ]
  },
  {
   "cell_type": "code",
   "execution_count": 134,
   "metadata": {},
   "outputs": [],
   "source": [
    "sizes = [{'size': x} for x in sizes_match]"
   ]
  },
  {
   "cell_type": "code",
   "execution_count": 135,
   "metadata": {},
   "outputs": [],
   "source": [
    "sizes_oos_match = prod_doc.xpath('.//li[contains(@class, \"is-back-in-stock\")]/input/@value')"
   ]
  },
  {
   "cell_type": "code",
   "execution_count": 136,
   "metadata": {},
   "outputs": [
    {
     "data": {
      "text/plain": [
       "['S', 'L', 'XL']"
      ]
     },
     "execution_count": 136,
     "metadata": {},
     "output_type": "execute_result"
    }
   ],
   "source": [
    "sizes_oos_match"
   ]
  },
  {
   "cell_type": "code",
   "execution_count": 137,
   "metadata": {},
   "outputs": [],
   "source": [
    "sizes_stock = [{\n",
    "                'stock': 'Out of stock',\n",
    "                'size': size['size']\n",
    "            } if size['size'] in sizes_oos_match else {\n",
    "                'stock': 'In stock',\n",
    "                'size': size['size']\n",
    "            } for size in sizes]"
   ]
  },
  {
   "cell_type": "code",
   "execution_count": 138,
   "metadata": {},
   "outputs": [
    {
     "data": {
      "text/plain": [
       "[{'stock': 'In stock', 'size': 'XS'},\n",
       " {'stock': 'Out of stock', 'size': 'S'},\n",
       " {'stock': 'In stock', 'size': 'M'},\n",
       " {'stock': 'Out of stock', 'size': 'L'},\n",
       " {'stock': 'Out of stock', 'size': 'XL'}]"
      ]
     },
     "execution_count": 138,
     "metadata": {},
     "output_type": "execute_result"
    }
   ],
   "source": [
    "sizes_stock"
   ]
  },
  {
   "cell_type": "code",
   "execution_count": 139,
   "metadata": {},
   "outputs": [],
   "source": [
    "in_stock_sizes = [size for size in sizes_stock if size['stock'] == 'In stock']"
   ]
  },
  {
   "cell_type": "code",
   "execution_count": 140,
   "metadata": {},
   "outputs": [
    {
     "data": {
      "text/plain": [
       "[{'stock': 'In stock', 'size': 'XS'}, {'stock': 'In stock', 'size': 'M'}]"
      ]
     },
     "execution_count": 140,
     "metadata": {},
     "output_type": "execute_result"
    }
   ],
   "source": [
    "in_stock_sizes"
   ]
  },
  {
   "cell_type": "code",
   "execution_count": null,
   "metadata": {},
   "outputs": [],
   "source": []
  }
 ],
 "metadata": {
  "kernelspec": {
   "display_name": "Python 3",
   "language": "python",
   "name": "python3"
  },
  "language_info": {
   "codemirror_mode": {
    "name": "ipython",
    "version": 3
   },
   "file_extension": ".py",
   "mimetype": "text/x-python",
   "name": "python",
   "nbconvert_exporter": "python",
   "pygments_lexer": "ipython3",
   "version": "3.6.8"
  }
 },
 "nbformat": 4,
 "nbformat_minor": 2
}
