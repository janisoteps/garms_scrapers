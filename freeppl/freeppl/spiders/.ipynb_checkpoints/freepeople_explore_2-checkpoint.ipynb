{
 "cells": [
  {
   "cell_type": "code",
   "execution_count": 1,
   "metadata": {},
   "outputs": [],
   "source": [
    "import lxml.html\n",
    "import requests\n",
    "import re\n",
    "import json\n",
    "import random"
   ]
  },
  {
   "cell_type": "code",
   "execution_count": 2,
   "metadata": {},
   "outputs": [],
   "source": [
    "headers = {\n",
    "    'accept-language': 'en',\n",
    "    'cache-control': 'private, max-age=0, proxy-revalidate, no-store, no-cache, must-revalidate',\n",
    "    'content-encoding': 'gzip',\n",
    "    'content-security-policy': 'default-src \\'self\\' \\'unsafe-eval\\' \\'unsafe-inline\\' data: https://*.go-mpulse.net https://cdn.polyfill.io https://*.dynamicyield.com https://intljs.rmtag.com https://d16fk4ms6rqz1v.cloudfront.net https://cdn.merklesearch.com https://cdn.pbbl.co https://s.pinimg.com https://bat.bing.com https://script.crazyegg.com https://assistjs.skimresources.com https://connect.facebook.net https://*.twitter.com https://cdn.groupbycloud.com https://tags.tiqcdn.com https://www.googleadservices.com https://js.appboycdn.com https://static.ads-twitter.com https://js-agent.newrelic.com https://*.afterpay.com https://mpsnare.iesnare.com https://bam.nr-data.net https://*.datasteam.io https://ci-mpsnare.iovation.com https://*.bazaarvoice.com https://*.bluecore.com https://tpc.googlesyndication.com https://*.salesforceliveagent.com https://static.site24x7rum.com https://*.paypal.com https://*.apple.com https://*.criteo.com https://tags.tiqcdn.cn https://adadvisor.net https://s3.amazonaws.com https://www.gstatic.com http://maps.google.cn https://www.myregistry.com https://www.shopstylecollective.com https://www.shopstylecollective.co.uk https://*.agkn.com https://polyfill.io http://ditu.google.cn https://*.clearpay.co.uk https://*.stg-sessionm.com https://*.sessionm.com https://maxcdn.bootstrapcdn.com https://fast.fonts.net https://service.force.com https://urbn.my.salesforce.com https://urbanoutfitters.secure.force.com https://app.curalate.com https://*.cs23.my.salesforce.com https://full-urbanoutfitters.cs23.force.com https://images.ctfassets.net https://*.google.com https://images.contentful.com https://h.nexac.com https://p.dlx.addthis.com https://y8ui6jzp.micpn.com https://ct1.ra.linksynergy.com https://consent.nxtck.com https://consent.mediaforge.com https://consent.jrs5.com https://*.linksynergy.com https://*.fpassets.com https://www.googletagmanager.com https://*.googleapis.com https://*.dc-storm.com https://*.ggpht.com https://*.akstat.io https://*.groupbycloud.com https://static.criteo.com https://cdn.dynamicyield.com https://*.rkdms.com https://*.gstatic.com http://images.freepeople.com https://www.google.ca https://www.google.com.au https://static.criteo.net https://www.google.co.uk https://*.freepeople.com https://*.facebook.com https://www.google.nl https://www.google.de https://user-event-tracker.crazyegg.com https://www.google.fr https://www.google.es https://www.google.com.mx https://www.google.co.jp https://www.google.it https://www.google.co.il https://www.google.com.ar https://cdn.dashhudson.com https://track.securedvisit.com https://cx.atdmt.com https://fonts.gstatic.com https://use.fontawesome.com https://ct.pinterest.com https://c.go-mpulse.net https://nyt2.dc-storm.com https://sentry.io https://*.fls.doubleclick.net https://www.facebook.com https://dis.as.criteo.com https://dis.us.criteo.com https://videos.contentful.com https://www.youtube.com https://dis.eu.criteo.com https://*.api.bazaarvoice.com https://videos.ctfassets.net https://*.g.doubleclick.net https://dev.appboy.com https://*.perimeterx.net https://api.bazaarvoice.com https://www.google-analytics.com https://*.akamaihd.net https://freepeople.wufoo.com https://*.rewardstyle.com https://core.conversant.mgr.consensu.org https://*.scene7.com https://*.cs23.force.com https://*.attn.tv https://*.dotomi.com https://events.attentivemobile.com https://sample-api-v2.crazyegg.com https://*.adsymptotic.com https://t.co https://cdn.honey.io https://g.3gl.net https://r.3gl.net.cn https://r.3gl.net https://*.hotjar.com https://cdn.contentful.com wss://*.hotjar.com https://static.lightning.force.com https://*.hotjar.io https://*.attentivemobile.com;frame-ancestors \\'none\\';report-uri https://sentry.io/api/219529/security/?sentry_key=57d8fc981b394b5e8f2a538e58c4012d',\n",
    "    'content-type': 'text/html; charset=UTF-8',\n",
    "    'date': 'Wed, 08 Jan 2020 23:00:49 GMT',\n",
    "    'expires': 'Fri, 12 Jul 2019 22:45:42 GMT',\n",
    "    'link': '<https://cdn.polyfill.io>;rel=\"preconnect\"',\n",
    "    'locale': 'en_GB',\n",
    "    'pragma': 'no-cache',\n",
    "    'rtss': '1-2-15',\n",
    "    'rtss1': 'a15site',\n",
    "    'server': 'nginx',\n",
    "    'set-cookie': 'FP_CART_ABAN_TEST=1; path=/; domain=.freepeople.com; expires=Wed, 08-Jan-2020 23:30:45 GMT; SSLB=1; path=/; domain=.freepeople.com; expires=Thu, 07-Jan-2021 23:05:20 GMT; SSID_BE=CAA74h04AAAAAAAEXxZe3AaDGARfFl4BAAAAAACwk_dfBF8WXgDRnAW6AAO0ohgABF8WXgEA08EAAwZIGgAEXxZeAQAewQADfhkaAARfFl4BAHPCAAOVaBoABF8WXgEA; path=/; domain=.freepeople.com; expires=Thu, 07-Jan-2021 23:00:45 GMT; SSOD_A15=AE3IAAAAEADg6TAAAgAAAARfFl4dXxZeAAA; path=/; domain=.freepeople.com; expires=Thu, 07-Jan-2021 23:00:45 GMT; urbn_device_type=LARGE; Path=/; urbn_inventory_pool=GB_DIRECT; Path=/; urbn_convenience_currency=\"\"; expires=Tue, 08 Jan 2019 23:00:45 GMT; Path=/; urbn_currency=GBP; Path=/; uofilter=\"\"; expires=Tue, 08 Jan 2019 23:00:45 GMT; Path=/; siteId=fp-uk; Path=/; urbn_search_provider=urbnsearch; Path=/; urbn_language=en-GB; Path=/; urbn_edgescape_site_id=fp-us; Path=/; urbn_site_id=fp-uk; Path=/; bm_sv=2547B965E864723314F152955EC5A247~aPOnq60SZAhXrN3xeFVDwS2NJQMxrICrYZ+O/dlq24gxlqh0NiQNBB1eOycbzJsbjVssdMzewa8XGM2q+YlxFTPDbsPrezQzNOtFMPUwLtuhRK+N/JIMmjRM5DfklBfI9h9/b66S9cbG6NZjODlRQeiID+L3630qtzOrqRlBZz0=; Domain=.freepeople.com; Path=/; Max-Age=7174; HttpOnly',\n",
    "    'status': '200',\n",
    "    'strict-transport-security': 'max-age=15768000',\n",
    "    'vary': 'Accept-Encoding',\n",
    "    'x-akamai-request-id2': '92.122.54.22:1b5fd63b',\n",
    "    'x-akamai-transformed': '9 - 0 pmb=mTOE,1',\n",
    "    'x-frame-options': 'deny',\n",
    "    'x-urbn-context-path': '/uk/',\n",
    "    'x-urbn-site-id': 'fp-uk'\n",
    "}"
   ]
  },
  {
   "cell_type": "code",
   "execution_count": 3,
   "metadata": {},
   "outputs": [],
   "source": [
    "homepage_req = requests.get('https://www.freepeople.com/uk/', headers=headers)"
   ]
  },
  {
   "cell_type": "code",
   "execution_count": 8,
   "metadata": {},
   "outputs": [],
   "source": [
    "homepage_doc = lxml.html.fromstring(homepage_req.text)"
   ]
  },
  {
   "cell_type": "code",
   "execution_count": 9,
   "metadata": {},
   "outputs": [],
   "source": [
    "links = homepage_doc.xpath('.//a[contains(@class, \"main-navigation\")]')"
   ]
  },
  {
   "cell_type": "code",
   "execution_count": 10,
   "metadata": {},
   "outputs": [
    {
     "data": {
      "text/plain": [
       "[]"
      ]
     },
     "execution_count": 10,
     "metadata": {},
     "output_type": "execute_result"
    }
   ],
   "source": [
    "links"
   ]
  },
  {
   "cell_type": "code",
   "execution_count": 12,
   "metadata": {},
   "outputs": [],
   "source": [
    "prod_req = requests.get('https://www.freepeople.com/uk/shop/cowl-girl-slip/?category=dresses&color=066', headers=headers)\n",
    "prod_doc = lxml.html.fromstring(prod_req.text)\n"
   ]
  },
  {
   "cell_type": "code",
   "execution_count": 14,
   "metadata": {},
   "outputs": [
    {
     "ename": "IndexError",
     "evalue": "list index out of range",
     "output_type": "error",
     "traceback": [
      "\u001b[0;31m---------------------------------------------------------------------------\u001b[0m",
      "\u001b[0;31mIndexError\u001b[0m                                Traceback (most recent call last)",
      "\u001b[0;32m<ipython-input-14-bf53f3d6d31c>\u001b[0m in \u001b[0;36m<module>\u001b[0;34m\u001b[0m\n\u001b[0;32m----> 1\u001b[0;31m \u001b[0mcurrent_price\u001b[0m \u001b[0;34m=\u001b[0m \u001b[0mprod_doc\u001b[0m\u001b[0;34m.\u001b[0m\u001b[0mxpath\u001b[0m\u001b[0;34m(\u001b[0m\u001b[0;34m'.//span[contains(@class, \"current-price\")]/text()'\u001b[0m\u001b[0;34m)\u001b[0m\u001b[0;34m[\u001b[0m\u001b[0;36m0\u001b[0m\u001b[0;34m]\u001b[0m\u001b[0;34m\u001b[0m\u001b[0m\n\u001b[0m\u001b[1;32m      2\u001b[0m \u001b[0mcurrent_price\u001b[0m \u001b[0;34m=\u001b[0m \u001b[0mint\u001b[0m\u001b[0;34m(\u001b[0m\u001b[0;34m''\u001b[0m\u001b[0;34m.\u001b[0m\u001b[0mjoin\u001b[0m\u001b[0;34m(\u001b[0m\u001b[0mch\u001b[0m \u001b[0;32mfor\u001b[0m \u001b[0mch\u001b[0m \u001b[0;32min\u001b[0m \u001b[0mcurrent_price\u001b[0m \u001b[0;32mif\u001b[0m \u001b[0mch\u001b[0m\u001b[0;34m.\u001b[0m\u001b[0misalnum\u001b[0m\u001b[0;34m(\u001b[0m\u001b[0;34m)\u001b[0m\u001b[0;34m)\u001b[0m\u001b[0;34m)\u001b[0m\u001b[0;34m\u001b[0m\u001b[0m\n\u001b[1;32m      3\u001b[0m \u001b[0morig_price\u001b[0m \u001b[0;34m=\u001b[0m \u001b[0mprod_doc\u001b[0m\u001b[0;34m.\u001b[0m\u001b[0mxpath\u001b[0m\u001b[0;34m(\u001b[0m\u001b[0;34m'.//span[contains(@class, \"original-price\")]/text()'\u001b[0m\u001b[0;34m)\u001b[0m\u001b[0;34m[\u001b[0m\u001b[0;36m0\u001b[0m\u001b[0;34m]\u001b[0m\u001b[0;34m\u001b[0m\u001b[0m\n\u001b[1;32m      4\u001b[0m \u001b[0;32mif\u001b[0m \u001b[0morig_price\u001b[0m \u001b[0;32mis\u001b[0m \u001b[0;32mnot\u001b[0m \u001b[0;32mNone\u001b[0m\u001b[0;34m:\u001b[0m\u001b[0;34m\u001b[0m\u001b[0m\n\u001b[1;32m      5\u001b[0m     \u001b[0mitem\u001b[0m\u001b[0;34m[\u001b[0m\u001b[0;34m'price'\u001b[0m\u001b[0;34m]\u001b[0m \u001b[0;34m=\u001b[0m \u001b[0mint\u001b[0m\u001b[0;34m(\u001b[0m\u001b[0;34m''\u001b[0m\u001b[0;34m.\u001b[0m\u001b[0mjoin\u001b[0m\u001b[0;34m(\u001b[0m\u001b[0mch\u001b[0m \u001b[0;32mfor\u001b[0m \u001b[0mch\u001b[0m \u001b[0;32min\u001b[0m \u001b[0morig_price\u001b[0m \u001b[0;32mif\u001b[0m \u001b[0mch\u001b[0m\u001b[0;34m.\u001b[0m\u001b[0misalnum\u001b[0m\u001b[0;34m(\u001b[0m\u001b[0;34m)\u001b[0m\u001b[0;34m)\u001b[0m\u001b[0;34m)\u001b[0m\u001b[0;34m\u001b[0m\u001b[0m\n",
      "\u001b[0;31mIndexError\u001b[0m: list index out of range"
     ]
    }
   ],
   "source": [
    "current_price = prod_doc.xpath('.//span[contains(@class, \"current-price\")]/text()')[0]\n",
    "current_price = int(''.join(ch for ch in current_price if ch.isalnum()))\n",
    "orig_price = prod_doc.xpath('.//span[contains(@class, \"original-price\")]/text()')[0]\n",
    "if orig_price is not None:\n",
    "    item['price'] = int(''.join(ch for ch in orig_price if ch.isalnum()))\n",
    "    item['saleprice'] = current_price\n",
    "    item['sale'] = True\n",
    "else:\n",
    "    item['price'] = current_price\n",
    "    item['saleprice'] = None\n",
    "    item['sale'] = False"
   ]
  },
  {
   "cell_type": "code",
   "execution_count": 15,
   "metadata": {},
   "outputs": [],
   "source": [
    "current_price = prod_doc.xpath('.//span[contains(@class, \"current-price\")]/text()')"
   ]
  },
  {
   "cell_type": "code",
   "execution_count": 16,
   "metadata": {},
   "outputs": [
    {
     "data": {
      "text/plain": [
       "[]"
      ]
     },
     "execution_count": 16,
     "metadata": {},
     "output_type": "execute_result"
    }
   ],
   "source": [
    "current_price"
   ]
  },
  {
   "cell_type": "code",
   "execution_count": 17,
   "metadata": {},
   "outputs": [],
   "source": [
    "name_match = prod_doc.xpath('.//h1[contains(@class, \"product-meta__h1\")]/span/text()')"
   ]
  },
  {
   "cell_type": "code",
   "execution_count": 18,
   "metadata": {},
   "outputs": [
    {
     "data": {
      "text/plain": [
       "[]"
      ]
     },
     "execution_count": 18,
     "metadata": {},
     "output_type": "execute_result"
    }
   ],
   "source": [
    "name_match"
   ]
  },
  {
   "cell_type": "code",
   "execution_count": 19,
   "metadata": {},
   "outputs": [
    {
     "data": {
      "text/plain": [
       "2"
      ]
     },
     "execution_count": 19,
     "metadata": {},
     "output_type": "execute_result"
    }
   ],
   "source": [
    "len(prod_doc)"
   ]
  },
  {
   "cell_type": "code",
   "execution_count": 20,
   "metadata": {},
   "outputs": [
    {
     "data": {
      "text/plain": [
       "<Response [403]>"
      ]
     },
     "execution_count": 20,
     "metadata": {},
     "output_type": "execute_result"
    }
   ],
   "source": [
    "prod_req"
   ]
  },
  {
   "cell_type": "code",
   "execution_count": null,
   "metadata": {},
   "outputs": [],
   "source": []
  }
 ],
 "metadata": {
  "kernelspec": {
   "display_name": "Python 3",
   "language": "python",
   "name": "python3"
  },
  "language_info": {
   "codemirror_mode": {
    "name": "ipython",
    "version": 3
   },
   "file_extension": ".py",
   "mimetype": "text/x-python",
   "name": "python",
   "nbconvert_exporter": "python",
   "pygments_lexer": "ipython3",
   "version": "3.6.5"
  }
 },
 "nbformat": 4,
 "nbformat_minor": 2
}
