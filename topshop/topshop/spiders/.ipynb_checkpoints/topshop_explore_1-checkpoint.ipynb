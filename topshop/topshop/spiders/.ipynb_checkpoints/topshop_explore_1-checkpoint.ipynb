{
 "cells": [
  {
   "cell_type": "code",
   "execution_count": 2,
   "metadata": {},
   "outputs": [],
   "source": [
    "import lxml.html\n",
    "import requests\n",
    "import re\n",
    "import json"
   ]
  },
  {
   "cell_type": "code",
   "execution_count": 3,
   "metadata": {},
   "outputs": [],
   "source": [
    "headers = {\n",
    "    'accept': 'text/html,application/xhtml+xml,application/xml;q=0.9,image/webp,image/apng,*/*;q=0.8,application/signed-exchange;v=b3;q=0.9',\n",
    "    'accept-encoding': 'gzip, deflate, br',\n",
    "    'accept-language': 'en-US,en;q=0.9,lv;q=0.8',\n",
    "    'cache-control': 'no-cache',\n",
    "    'cookie': 'bm_sz=787EAD0F7C4B225BF89B711F99FC89C5~YAAQHbsQAh5ii6BuAQAA0v+cfwZh/2+rK6QYlP5kHEdEBDM8UM/DUOjum4mQWBA/BbeklrnTB/86xdMY4PSRCNZBBF7C9NKvwlZ3fHyG/J42OJQoOPeUdJfadY9SOX6ILzVD92mZodCcYAhGwe+QVUg3vJPYk0G956NRlrEJtF31Ms23jyR58D66NUAr35aCDQ==; _blka_uab=45; deviceType=desktop; _gcl_au=1.1.1244171170.1578394001; new_returning_customer=N1578394001429; userId=unspecified; _abck=6AC9134EEEDD2D7AE5099E9C22EE768E~0~YAAQHbsQAihji6BuAQAANiCdfwNHUmtwplCnsbjbaz5zPKusBrSHXgcivEk6/g9QpGdPbpqsAF4qjSIPmokYJM0ypiY2k4O3vdUZeJ/ewBXJ9/IaT/Q8+T7Sz1H4gvyMAauecWKMhRPVH6jmbVBk2209eNkh7sx+ilveRDDHLWTVuSrBcTBzaiLwhhW9JN0T69xf96ASo/5MZRsFIsWDN/knK5T2TWHn3YEkPR8QR0/e1Nd/Jq8m36m7yxVwLkz7qdMizv4CBZnX7KhvGeJrDO09JP+t14CQUWNMSESYPoIJmc/4mMSStxDoldOXczsDBImAMnjFkNw=~-1~-1~-1; peerius_sess=119866084813|942GKDdVZ6xjEW4J4bhAZ2mU8Rb4It0apWMlFz2AyDw; peerius_user=cuid:75168310513|XrYjIeIX2j24alXNkcRSl13Lx16NrZBwJjjCC1Hy1oc; _ga=GA1.2.1493720660.1578394002; _gid=GA1.2.641844300.1578394002; _scid=3ea60883-2f67-41d9-974a-332e2c6b8117; ak_bmsc=8ECA00B9D479C686BA6CE77EB26630FA0210BB1D2A4900008961145ECB7F1234~plxjHWaSPdS0Sgu4BO2BGI4xzERD5EP1Za8vRcYtnM0KUmDcEfVJAjGjmlFBy9GKo+4aVF4ByZ0KDfypjhlJzL2snM8EiE95wmU1H6ImcXcN//yP/YVplYUrXSF8LgvTbIxVsZqAOXYr7wqiX6FEWpCa5IkNUkalt5TLe4g8T4+4Acw+jmtcCJlFdBnyyw6bTr0mJJ6qibFIZLof26FCvgqPRKmzn+gU9ddWOiVY9bT+IMqk8aa+vrl/hOeiwqqJOF; _derived_epik=dj0yJnU9UXA0XzZndG9sSDJRMXpNbFpOWmprY2IteDRtQTI3N1Embj1VWFB6NHdBMnFLVjVRS0FQVmx6UnZBJm09MSZ0PUFBQUFBRjRVWVpJJnJtPTEmcnQ9QUFBQUFGNFVZWkk; _hjid=e3aa1902-572f-4ea2-862e-a7d1830aebc3; TLTSID=58864215198174902923825843741217; GEOIP=GB; source=CoreAPI; tempsession=true; notice_preferences=3:; notice_gdpr_prefs=0,1,2,3::implied,eu; cmapi_gtm_bl=; cmapi_cookie_privacy=permit 1,2,3,4; traceId2=1578394027951R595981; __exponea_etc__=0d2ecee1-313b-11ea-b2a8-8ab630c69043; __exponea_time2__=0.015987873077392578; jsessionid=eyJhbGciOiJIUzI1NiJ9.MTUzZDBlZjQtZGZhMS00Y2Y5LWJjNjItNmI2NWFhODJjZDc5.K3x5SjKL3abM92smNYMnUkKNBYhhAq2b4Q7LJPdKnNc; akavpau_VP_TS=1578394465~id=5fac10c37cd36703cbb2000288f6f8d0; bm_sv=B6C97F78E03F9A83BF7464E129AD5F46~0HJ1r15DcLZnrMxbNou2xo+OjsG/B0QkvQiRwUM3uhyOgQa0j/dfkEkNPPX5mr9hvOiimXwvdZRcNj6FQCR52dUsd6lIwFV0Q+C63WkGUK+9psK3UzES9TlWTnjQEs33bkKqPsQh6FnWMW03nPOHq8O1j1SMQJ/ePXxl6gUF87M=; _dc_gtm_UA-99206402-1=1',\n",
    "    'pragma': 'no-cache',\n",
    "    'referer': 'https://www.topshop.com/',\n",
    "    'sec-fetch-mode': 'navigate',\n",
    "    'sec-fetch-site': 'same-origin',\n",
    "    'sec-fetch-user': '?1',\n",
    "    'upgrade-insecure-requests': '1',\n",
    "    'user-agent': 'Mozilla/5.0 (Macintosh; Intel Mac OS X 10_14_6) AppleWebKit/537.36 (KHTML, like Gecko) Chrome/79.0.3945.88 Safari/537.36',\n",
    "    'brand-code': 'tsuk'\n",
    "}"
   ]
  },
  {
   "cell_type": "code",
   "execution_count": 38,
   "metadata": {},
   "outputs": [],
   "source": [
    "homepage_req = requests.get('https://www.topshop.com/en/tsuk/', headers=headers)"
   ]
  },
  {
   "cell_type": "code",
   "execution_count": 39,
   "metadata": {},
   "outputs": [],
   "source": [
    "homepage_doc = lxml.html.fromstring(homepage_req.text)"
   ]
  },
  {
   "cell_type": "code",
   "execution_count": 40,
   "metadata": {},
   "outputs": [],
   "source": [
    "cat_urls_matches = homepage_doc.xpath('.//div[@class=\"HeaderTopshop-navigation\"]//a[contains(@href, \"/tsuk/category/\")]')\n"
   ]
  },
  {
   "cell_type": "code",
   "execution_count": 41,
   "metadata": {},
   "outputs": [],
   "source": [
    "cat_urls = []\n",
    "for cat_urls_match in cat_urls_matches:\n",
    "    cat_url = cat_urls_match.xpath('@href')\n",
    "    cat_name = cat_urls_match.xpath('text()')\n",
    "    cat_urls.append({\n",
    "        'url': f'https://www.topshop.com{cat_url[0]}',\n",
    "        'name': cat_name[0]\n",
    "    })"
   ]
  },
  {
   "cell_type": "code",
   "execution_count": 42,
   "metadata": {},
   "outputs": [
    {
     "data": {
      "text/plain": [
       "[{'url': 'https://www.topshop.com/en/tsuk/category/new-in-this-week-2169932/new-in-fashion-6367514',\n",
       "  'name': 'New In'},\n",
       " {'url': 'https://www.topshop.com/en/tsuk/category/new-in-this-week-2169932/new-in-fashion-6367514',\n",
       "  'name': 'New In Fashion'},\n",
       " {'url': 'https://www.topshop.com/en/tsuk/category/new-in-this-week-2169932/new-in-dresses-4938909',\n",
       "  'name': 'New In Dresses'},\n",
       " {'url': 'https://www.topshop.com/en/tsuk/category/new-in-this-week-2169932/new-in-shoes-3105666',\n",
       "  'name': 'New In Shoes'},\n",
       " {'url': 'https://www.topshop.com/en/tsuk/category/new-in-this-week-2169932/new-in-bags-accessories-3105675',\n",
       "  'name': 'New In Bags & Accessories'},\n",
       " {'url': 'https://www.topshop.com/en/tsuk/category/new-in-this-week-2169932/new-in-lingerie-nightwear-7394267',\n",
       "  'name': 'New In Lingerie & Nightwear'},\n",
       " {'url': 'https://www.topshop.com/en/tsuk/category/new-in-this-week-2169932/new-in-brands-4293441',\n",
       "  'name': 'New In Brands'},\n",
       " {'url': 'https://www.topshop.com/en/tsuk/category/new-in-this-week-2169932/new-in-boutique-8022897',\n",
       "  'name': 'New In Boutique'},\n",
       " {'url': 'https://www.topshop.com/en/tsuk/category/clothing-427/swimwear-beachwear-3163078',\n",
       "  'name': 'Swim Shop'},\n",
       " {'url': 'https://www.topshop.com/en/tsuk/category/new-in-this-week-2169932/new-in-petite-tall-maternity-6044985',\n",
       "  'name': 'New In Petite, Tall & Maternity'},\n",
       " {'url': 'https://www.topshop.com/en/tsuk/category/new-in-this-week-2169932/new-in-fashion-6367514/petite/N-8d7ZdymZdgl',\n",
       "  'name': 'Petite'},\n",
       " {'url': 'https://www.topshop.com/en/tsuk/category/new-in-this-week-2169932/new-in-fashion-6367514/tall/N-8d7ZdynZdgl',\n",
       "  'name': 'Tall'},\n",
       " {'url': 'https://www.topshop.com/en/tsuk/category/new-in-this-week-2169932/new-in-fashion-6367514/maternity/N-8d7ZdylZdgl',\n",
       "  'name': 'Maternity'},\n",
       " {'url': 'https://www.topshop.com/en/tsuk/category/new-in-this-week-2169932/new-in-fashion-6367514/N-8d7Zdgl?No=0&Nrpp=20&siteId=%2F12556&intcmpid=1_topnav-banner_newin_new-in-fashion',\n",
       "  'name': 'Top Nav - New In'},\n",
       " {'url': 'https://www.topshop.com/en/tsuk/category/clothing-427',\n",
       "  'name': 'Clothing'},\n",
       " {'url': 'https://www.topshop.com/en/tsuk/category/clothing-427/dresses-442',\n",
       "  'name': 'Dresses'},\n",
       " {'url': 'https://www.topshop.com/en/tsuk/category/jeans-6877054/',\n",
       "  'name': 'Jeans'},\n",
       " {'url': 'https://www.topshop.com/en/tsuk/category/clothing-427/denim-4889473',\n",
       "  'name': 'Denim'},\n",
       " {'url': 'https://www.topshop.com/en/tsuk/category/clothing-427/jackets-coats-2390889',\n",
       "  'name': 'Jackets & Coats'},\n",
       " {'url': 'https://www.topshop.com/en/tsuk/category/clothing-427/jackets-coats-2390889/blazers/N-86tZ1yeoZdgl',\n",
       "  'name': 'Blazers'},\n",
       " {'url': 'https://www.topshop.com/en/tsuk/category/clothing-427/jumpers-cardigans-6924635',\n",
       "  'name': 'Jumpers & Cardigans'},\n",
       " {'url': 'https://www.topshop.com/en/tsuk/category/clothing-427/shirts-blouses-4650801',\n",
       "  'name': 'Shirts & Blouses'},\n",
       " {'url': 'https://www.topshop.com/en/tsuk/category/clothing-427/camis-vests-6864668',\n",
       "  'name': 'Camis & Vests'},\n",
       " {'url': 'https://www.topshop.com/en/tsuk/category/clothing-427/t-shirts-6864659',\n",
       "  'name': 'T-Shirts'},\n",
       " {'url': 'https://www.topshop.com/en/tsuk/category/clothing-427/tops-443',\n",
       "  'name': 'Tops'},\n",
       " {'url': 'https://www.topshop.com/en/tsuk/category/clothing-427/hoodies-sweats-6864676',\n",
       "  'name': 'Hoodies & Sweats'},\n",
       " {'url': 'https://www.topshop.com/en/tsuk/category/clothing-427/bodysuits-6864633',\n",
       "  'name': 'Bodysuits'},\n",
       " {'url': 'https://www.topshop.com/en/tsuk/category/clothing-427/shorts-448',\n",
       "  'name': 'Shorts'},\n",
       " {'url': 'https://www.topshop.com/en/tsuk/category/clothing-427/skirts-449',\n",
       "  'name': 'Skirts'},\n",
       " {'url': 'https://www.topshop.com/en/tsuk/category/clothing-427/trousers-leggings-4075710',\n",
       "  'name': 'Trousers & Leggings'},\n",
       " {'url': 'https://www.topshop.com/en/tsuk/category/clothing-427/playsuits-jumpsuits-2159081',\n",
       "  'name': 'Playsuits & Jumpsuits'},\n",
       " {'url': 'https://www.topshop.com/en/tsuk/category/clothing-427/suits-co-ords-4062329',\n",
       "  'name': 'Suits & Co-ords'},\n",
       " {'url': 'https://www.topshop.com/en/tsuk/category/clothing-427/lingerie-nightwear-6914422',\n",
       "  'name': 'Lingerie & Nightwear'},\n",
       " {'url': 'https://www.topshop.com/en/tsuk/category/clothing-427/loungewear-2624035',\n",
       "  'name': 'Loungewear'},\n",
       " {'url': 'https://www.topshop.com/en/tsuk/category/clothing-427/swimwear-beachwear-3163078',\n",
       "  'name': 'Swimwear & Beachwear'},\n",
       " {'url': 'https://www.topshop.com/en/tsuk/category/clothing-427/socks-tights-3283666',\n",
       "  'name': 'Socks & Tights'},\n",
       " {'url': 'https://www.topshop.com/en/tsuk/category/clothing-427/tall-454',\n",
       "  'name': 'Tall'},\n",
       " {'url': 'https://www.topshop.com/en/tsuk/category/clothing-427/petite-455',\n",
       "  'name': 'Petite'},\n",
       " {'url': 'https://www.topshop.com/en/tsuk/category/clothing-427/maternity-456',\n",
       "  'name': 'Maternity'},\n",
       " {'url': 'https://www.topshop.com/en/tsuk/category/clothing-427/topshop-boutique-6924724',\n",
       "  'name': 'Topshop Boutique'},\n",
       " {'url': 'https://www.topshop.com/en/tsuk/category/clothing-427/basicclothing-8341277',\n",
       "  'name': 'Basics'},\n",
       " {'url': 'https://www.topshop.com/en/tsuk/category/clothing-427/idol-8133935',\n",
       "  'name': 'Idol'},\n",
       " {'url': 'https://www.topshop.com/en/tsuk/category/clothing-427/going-out-938',\n",
       "  'name': 'Going Out'},\n",
       " {'url': 'https://www.topshop.com/en/tsuk/category/clothing-427/occasionwear-5635381',\n",
       "  'name': 'Occasionwear'},\n",
       " {'url': 'https://www.topshop.com/en/tsuk/category/clothing-427/workwear-suits-6924734',\n",
       "  'name': 'Workwear & Suits'},\n",
       " {'url': 'https://www.topshop.com/en/tsuk/category/clothing-427/winter-outfits-9250296',\n",
       "  'name': 'Winter Outfits'},\n",
       " {'url': 'https://www.topshop.com/en/tsuk/category/clothing-427/sportswear-5134116',\n",
       "  'name': 'Sportswear'},\n",
       " {'url': 'https://www.topshop.com/en/tsuk/category/clothing-427/sno-7149814',\n",
       "  'name': 'SNO'},\n",
       " {'url': 'https://www.topshop.com/en/tsuk/category/clothing-427/ts-x-considered/N-82zZ2e6lZdgl',\n",
       "  'name': 'CONSIDERED'},\n",
       " {'url': 'https://www.topshop.com/en/tsuk/category/clothing-427/ts-x-calm/N-82zZ2e5kZdgl',\n",
       "  'name': 'CALM x Topshop'},\n",
       " {'url': 'https://www.topshop.com/en/tsuk/category/clothing-427/archive-9479060?cat1=203984&cat2=3943003&intcmpid=2_topnav-banner_clothing',\n",
       "  'name': 'Top Nav - Clothing'},\n",
       " {'url': 'https://www.topshop.com/en/tsuk/category/clothing-427/dresses-442',\n",
       "  'name': 'Dresses'},\n",
       " {'url': 'https://www.topshop.com/en/tsuk/category/clothing-427/dresses-442',\n",
       "  'name': 'Shop All Dresses'},\n",
       " {'url': 'https://www.topshop.com/en/tsuk/category/clothing-427/dresses-442/slip-dresses/N-85cZr32Zdgl',\n",
       "  'name': 'Slip Dresses'},\n",
       " {'url': 'https://www.topshop.com/en/tsuk/category/clothing-427/dresses-442/shirt-dresses/N-85cZr30Zdgl',\n",
       "  'name': 'Shirt Dresses'},\n",
       " {'url': 'https://www.topshop.com/en/tsuk/category/clothing-427/dresses-442/bodycon-dresses/N-85cZr2xZdgl',\n",
       "  'name': 'Bodycon Dresses'},\n",
       " {'url': 'https://www.topshop.com/en/tsuk/category/clothing-427/dresses-442/pinafore-dresses/N-85cZr2yZdgl',\n",
       "  'name': 'Pinafore Dresses'},\n",
       " {'url': 'https://www.topshop.com/en/tsuk/category/clothing-427/dresses-442/wrap-dresses/N-85cZ20tkZdgl',\n",
       "  'name': 'Wrap Dresses'},\n",
       " {'url': 'https://www.topshop.com/en/tsuk/category/clothing-427/dresses-442/shift-dresses/N-85cZr2zZdgl',\n",
       "  'name': 'Shift Dresses'},\n",
       " {'url': 'https://www.topshop.com/en/tsuk/category/clothing-427/dresses-442/skater-dresses/N-85cZr31Zdgl',\n",
       "  'name': 'Skater Dresses'},\n",
       " {'url': 'https://www.topshop.com/en/tsuk/category/brands-4210405/dresses/N-7z2Zqn9Zdgl',\n",
       "  'name': 'Dress Brands'},\n",
       " {'url': 'https://www.topshop.com/en/tsuk/category/clothing-427/dresses-442/mini/N-85cZr7lZdgl',\n",
       "  'name': 'Mini Dresses'},\n",
       " {'url': 'https://www.topshop.com/en/tsuk/category/clothing-427/dresses-442/midi/N-85cZr7kZdgl',\n",
       "  'name': 'Midi Dresses'},\n",
       " {'url': 'https://www.topshop.com/en/tsuk/category/clothing-427/dresses-442/maxi/N-85cZr7jZdgl',\n",
       "  'name': 'Maxi Dresses'},\n",
       " {'url': 'https://www.topshop.com/en/tsuk/category/clothing-427/going-out-938/dresses/N-867Zqn9Zdgl',\n",
       "  'name': 'Going Out Dresses'},\n",
       " {'url': 'https://www.topshop.com/en/tsuk/category/clothing-427/occasionwear-5635381/dresses/N-20icZqn9Zdgl',\n",
       "  'name': 'Occasionwear Dresses'},\n",
       " {'url': 'https://www.topshop.com/en/tsuk/category/clothing-427/workwear-suits-6924734/dresses/N-8cfZqn9Zdgl',\n",
       "  'name': 'Workwear Dresses'},\n",
       " {'url': 'https://www.topshop.com/en/tsuk/category/clothing-427/petite-455/dresses/N-891Zqn9Zdgl',\n",
       "  'name': 'Petite Dresses'},\n",
       " {'url': 'https://www.topshop.com/en/tsuk/category/clothing-427/tall-454/dresses/N-8b0Zqn9Zdgl',\n",
       "  'name': 'Tall Dresses'},\n",
       " {'url': 'https://www.topshop.com/en/tsuk/category/clothing-427/maternity-456/dresses/N-88iZqn9Zdgl',\n",
       "  'name': 'Maternity Dresses'},\n",
       " {'url': 'https://www.topshop.com/en/tsuk/category/clothing-427/dresses-442?intcmpid=3_topnav-banner_dresses_dresses',\n",
       "  'name': 'Top Nav - Shop Dresses'},\n",
       " {'url': 'https://www.topshop.com/en/tsuk/category/jeans-6877054',\n",
       "  'name': 'Jeans'},\n",
       " {'url': 'https://www.topshop.com/en/tsuk/category/jeans-6877054/jamie-jeans/N-275aZq56Zdgl',\n",
       "  'name': 'Jamie Jeans'},\n",
       " {'url': 'https://www.topshop.com/en/tsuk/category/jeans-6877054/joni-jeans/N-275aZq57Zdgl',\n",
       "  'name': 'Joni Jeans'},\n",
       " {'url': 'https://www.topshop.com/en/tsuk/category/jeans-6877054/mom-jeans/N-275aZq5aZdgl',\n",
       "  'name': 'Mom Jeans'},\n",
       " {'url': 'https://www.topshop.com/en/tsuk/category/jeans-6877054/leigh-jeans/N-275aZq58Zdgl',\n",
       "  'name': 'Leigh Jeans'},\n",
       " {'url': 'https://www.topshop.com/en/tsuk/category/jeans-6877054/hayden-jeans/N-275aZ1yebZdgl',\n",
       "  'name': 'Hayden Jeans'},\n",
       " {'url': 'https://www.topshop.com/en/tsuk/category/jeans-6877054/orson-jeans/N-275aZ1y6wZdgl',\n",
       "  'name': 'Orson Jeans'},\n",
       " {'url': 'https://www.topshop.com/en/tsuk/category/jeans-6877054/sidney-jeans/N-275aZ245uZdgl',\n",
       "  'name': 'Sidney Jeans'},\n",
       " {'url': 'https://www.topshop.com/en/tsuk/category/jeans-6877054/',\n",
       "  'name': 'Shop All Jeans'},\n",
       " {'url': 'https://www.topshop.com/en/tsuk/category/jeans-6877054/ripped/N-275aZrz0Zdgl',\n",
       "  'name': 'Ripped Jeans'},\n",
       " {'url': 'https://www.topshop.com/en/tsuk/category/jeans-6877054/skinny/N-275aZr8tZdgl',\n",
       "  'name': 'Skinny Jeans'},\n",
       " {'url': 'https://www.topshop.com/en/tsuk/category/jeans-6877054/straight/N-275aZ1yc9Zdgl',\n",
       "  'name': 'Straight Leg Jeans'},\n",
       " {'url': 'https://www.topshop.com/en/tsuk/category/jeans-6877054/flared/N-275aZr8rZdgl',\n",
       "  'name': 'Flared Jeans'},\n",
       " {'url': 'https://www.topshop.com/en/tsuk/category/jeans-6877054/boyfriend/N-275aZr8qZdgl',\n",
       "  'name': 'Boyfriend Jeans'},\n",
       " {'url': 'https://www.topshop.com/en/tsuk/category/jeans-6877054/wide/N-275aZ2c2sZdgl',\n",
       "  'name': 'Wide Leg Jeans'},\n",
       " {'url': 'https://www.topshop.com/en/tsuk/category/clothing-427/denim-4889473',\n",
       "  'name': 'Shop All Denim'},\n",
       " {'url': 'https://www.topshop.com/en/tsuk/category/clothing-427/denim-4889473/jackets-coats/N-851ZqngZdgl',\n",
       "  'name': 'Denim Jackets'},\n",
       " {'url': 'https://www.topshop.com/en/tsuk/category/clothing-427/denim-4889473/skirts/N-851ZqnrZdgl',\n",
       "  'name': 'Denim Skirts'},\n",
       " {'url': 'https://www.topshop.com/en/tsuk/category/clothing-427/denim-4889473/dresses/N-851Zqn9Zdgl',\n",
       "  'name': 'Denim Dresses'},\n",
       " {'url': 'https://www.topshop.com/en/tsuk/category/clothing-427/denim-4889473/playsuits-jumpsuits/N-851ZqnnZdgl',\n",
       "  'name': 'Denim Playsuits & Jumpsuits'},\n",
       " {'url': 'https://www.topshop.com/en/tsuk/category/jeans-fit-guide-6338428/home?TS=1487259856055',\n",
       "  'name': 'The Jeans Fit Guide'},\n",
       " {'url': 'https://www.topshop.com/en/tsuk/category/jeans-6877054/tall-jeans-6906816',\n",
       "  'name': 'Tall Jeans'},\n",
       " {'url': 'https://www.topshop.com/en/tsuk/category/jeans-6877054/petite-jeans-6906842',\n",
       "  'name': 'Petite Jeans'},\n",
       " {'url': 'https://www.topshop.com/en/tsuk/category/jeans-6877054/maternity-jeans-6906874',\n",
       "  'name': 'Maternity Jeans'},\n",
       " {'url': 'https://www.topshop.com/en/tsuk/category/jeans-6877054?intcmpid=4_topnav-banner_jeans_jeans',\n",
       "  'name': 'Top Nav - Shop Jeans'},\n",
       " {'url': 'https://www.topshop.com/en/tsuk/category/shoes-430',\n",
       "  'name': 'Shoes'},\n",
       " {'url': 'https://www.topshop.com/en/tsuk/category/shoes-430',\n",
       "  'name': 'Shop All Shoes'},\n",
       " {'url': 'https://www.topshop.com/en/tsuk/category/shoes-430/boots-6909314',\n",
       "  'name': 'Boots'},\n",
       " {'url': 'https://www.topshop.com/en/tsuk/category/shoes-430/boots-6909314/ankle-boots/N-20ckZqh2Zdgl',\n",
       "  'name': 'Ankle Boots'},\n",
       " {'url': 'https://www.topshop.com/en/tsuk/category/shoes-430/heels-458',\n",
       "  'name': 'Heels'},\n",
       " {'url': 'https://www.topshop.com/en/tsuk/category/shoes-430/flats-459',\n",
       "  'name': 'Flats'},\n",
       " {'url': 'https://www.topshop.com/en/tsuk/category/shoes-430/trainers-5399321',\n",
       "  'name': 'Trainers'},\n",
       " {'url': 'https://www.topshop.com/en/tsuk/category/shoes-430/sandals-5388227',\n",
       "  'name': 'Sandals'},\n",
       " {'url': 'https://www.topshop.com/en/tsuk/category/shoes-430/heels-458/mules/N-8fnZ1ypcZdgl',\n",
       "  'name': 'Mules'},\n",
       " {'url': 'https://www.topshop.com/en/tsuk/category/shoes-430/black/N-8ewZdeoZdgl',\n",
       "  'name': 'Black Shoes & Boots'},\n",
       " {'url': 'https://www.topshop.com/en/tsuk/category/shoes-430/white/N-8ewZdf2Zdgl',\n",
       "  'name': 'White Shoes & Boots'},\n",
       " {'url': 'https://www.topshop.com/en/tsuk/category/shoes-430/nude/N-8ewZdexZdgl',\n",
       "  'name': 'Nude Shoes & Boots'},\n",
       " {'url': 'https://www.topshop.com/en/tsuk/category/shoes-430/going-out-shoes-4967245',\n",
       "  'name': 'Going Out Shoes'},\n",
       " {'url': 'https://www.topshop.com/en/tsuk/category/shoes-430/chunky-shoes-boots-9103019',\n",
       "  'name': 'Chunky Shoes & Boots'},\n",
       " {'url': 'https://www.topshop.com/en/tsuk/category/shoes-430/western/N-8ewZ2e21Zdgl',\n",
       "  'name': 'Western Shoes & Boots'},\n",
       " {'url': 'https://www.topshop.com/en/tsuk/category/shoes-430/croc-shoes-boots-9103033',\n",
       "  'name': 'Croc Shoes & Boots'},\n",
       " {'url': 'https://www.topshop.com/en/tsuk/category/shoes-430/vegan/N-8ewZ2cnxZdgl',\n",
       "  'name': 'Vegan Shoes'},\n",
       " {'url': 'https://www.topshop.com/en/tsuk/category/shoes-430/wide-fit-shoes-7472646',\n",
       "  'name': 'Wide Fit Shoes'},\n",
       " {'url': 'https://www.topshop.com/en/tsuk/category/shoes-430/boots-6909314?intcmpid=5_topnav-banner_shoes',\n",
       "  'name': 'Top Nav - Shoes'},\n",
       " {'url': 'https://www.topshop.com/en/tsuk/category/bags-accessories-1702216',\n",
       "  'name': 'Bags & Accessories'},\n",
       " {'url': 'https://www.topshop.com/en/tsuk/category/bags-accessories-1702216/bags-purses-462',\n",
       "  'name': 'Bags & Purses'},\n",
       " {'url': 'https://www.topshop.com/en/tsuk/category/bags-accessories-1702216/hats-463',\n",
       "  'name': 'Hats'},\n",
       " {'url': 'https://www.topshop.com/en/tsuk/category/bags-accessories-1702216/scarves-465',\n",
       "  'name': 'Scarves'},\n",
       " {'url': 'https://www.topshop.com/en/tsuk/category/bags-accessories-1702216/sunglasses-468',\n",
       "  'name': 'Sunglasses'},\n",
       " {'url': 'https://www.topshop.com/en/tsuk/category/bags-accessories-1702216/belts-466',\n",
       "  'name': 'Belts'},\n",
       " {'url': 'https://www.topshop.com/en/tsuk/category/clothing-427/socks-tights-3283666',\n",
       "  'name': 'Socks & Tights'},\n",
       " {'url': 'https://www.topshop.com/en/tsuk/category/bags-accessories-1702216/hair-accessories-464',\n",
       "  'name': 'Hair Accessories'},\n",
       " {'url': 'https://www.topshop.com/en/tsuk/category/bags-accessories-1702216/gifts-novelty/N-7ttZqncZdgl',\n",
       "  'name': 'Gifts & Novelty'},\n",
       " {'url': 'https://www.topshop.com/en/tsuk/category/bags-accessories-1702216/jewellery-469',\n",
       "  'name': 'Jewellery'},\n",
       " {'url': 'https://www.topshop.com/en/tsuk/category/bags-accessories-1702216/iphone-accessories-4582259',\n",
       "  'name': 'iPhone Accessories'},\n",
       " {'url': 'https://www.topshop.com/en/tsuk/category/bags-accessories-1702216',\n",
       "  'name': 'Shop All Accessories'},\n",
       " {'url': 'https://www.topshop.com/en/tsuk/category/bags-accessories-1702216/trend-hair-clips-8991458',\n",
       "  'name': 'Trend: Hair Clips'},\n",
       " {'url': 'https://www.topshop.com/en/tsuk/category/bags-accessories-1702216/trend-going-out-accessories-9432893',\n",
       "  'name': 'Trend: Going Out Accessories'},\n",
       " {'url': 'https://www.topshop.com/en/tsuk/category/bags-accessories-1702216/hair-accessories-464/headbands/N-7viZrtmZdgl',\n",
       "  'name': 'Trend: Head Bands'},\n",
       " {'url': 'https://www.topshop.com/en/tsuk/category/bags-accessories-1702216/winter-accessories-3506377',\n",
       "  'name': 'Winter Accessories'},\n",
       " {'url': 'https://www.topshop.com/en/tsuk/category/bags-accessories-1702216/skinny-dip/N-7ttZ21p8Zdgl',\n",
       "  'name': 'Skinnydip'},\n",
       " {'url': 'https://www.topshop.com/en/tsuk/category/brands-4210405/quay-sunglasses/N-7z2Z21p4Zdgl?Nrpp=20&siteId=%2F12556&No=0',\n",
       "  'name': 'Quay Sunglasses'},\n",
       " {'url': 'https://www.topshop.com/en/tsuk/category/bags-accessories-1702216/jewellery-469/N-7vyZ221aZdgl?Nrpp=20&siteId=%2F12556&No=0',\n",
       "  'name': 'House of Freedom Jewellery'},\n",
       " {'url': 'https://www.topshop.com/en/tsuk/category/bags-accessories-1702216/accessories-brands-1911403',\n",
       "  'name': 'Accessories Brands'},\n",
       " {'url': 'https://www.topshop.com/en/tsuk/category/bags-accessories-1702216/bags-purses-462?intcmpid=6_topnav-banner_bagsandaccessories_bags-purses',\n",
       "  'name': 'Top Nav - Bags & Accessories'},\n",
       " {'url': 'https://www.topshop.com/en/tsuk/category/brands-4210405',\n",
       "  'name': 'Brands'},\n",
       " {'url': 'https://www.topshop.com/en/tsuk/category/brands-4210405/brands-a-to-z-4210612/home',\n",
       "  'name': 'Brands A to Z'},\n",
       " {'url': 'https://www.topshop.com/en/tsuk/category/brands-4210405',\n",
       "  'name': 'Shop All Brands'},\n",
       " {'url': 'https://www.topshop.com/en/tsuk/category/brands-4210405/clothing-brands-4224272',\n",
       "  'name': 'Clothing Brands'},\n",
       " {'url': 'https://www.topshop.com/en/tsuk/category/brands-4210405/dresses/N-7z2Zqn9Zdgl',\n",
       "  'name': 'Dress Brands'},\n",
       " {'url': 'https://www.topshop.com/en/tsuk/category/brands-4210405/tops/N-7z2ZqnvZdgl',\n",
       "  'name': 'Tops Brands'},\n",
       " {'url': 'https://www.topshop.com/en/tsuk/category/brands-4210405/accessories-brands-4218529',\n",
       "  'name': 'Accessories Brands'},\n",
       " {'url': 'https://www.topshop.com/en/tsuk/category/brands-4210405/adidas-6008354',\n",
       "  'name': 'adidas'},\n",
       " {'url': 'https://www.topshop.com/en/tsuk/category/brands-4210405/hiit-8455205',\n",
       "  'name': 'HIIT'},\n",
       " {'url': 'https://www.topshop.com/en/tsuk/category/brands-4210405/calvin-klein/N-7z2Z21o6Zdgl',\n",
       "  'name': 'Calvin Klein'},\n",
       " {'url': 'https://www.topshop.com/en/tsuk/category/brands-4210405/tommy-hilfiger/N-7z2Z21tcZdgl',\n",
       "  'name': 'Tommy Hilfiger'},\n",
       " {'url': 'https://www.topshop.com/en/tsuk/category/brands-4210405/levi-s/N-7z2Z2d5mZdgl',\n",
       "  'name': \"Levi's\"},\n",
       " {'url': 'https://www.topshop.com/en/tsuk/category/brands-4210405/champion/N-7z2Z28b9Zdgl',\n",
       "  'name': 'Champion'},\n",
       " {'url': 'https://www.topshop.com/en/tsuk/category/brands-4210405/glamorous/N-7z2Z21ofZdgl',\n",
       "  'name': 'Glamorous'},\n",
       " {'url': 'https://www.topshop.com/en/tsuk/category/brands-4210405/club-l/N-7z2Z28owZdgl',\n",
       "  'name': 'Club L'},\n",
       " {'url': 'https://www.topshop.com/en/tsuk/category/brands-4210405/jaded-london/N-7z2Z21olZdgl',\n",
       "  'name': 'Jaded London'},\n",
       " {'url': 'https://www.topshop.com/en/tsuk/category/brands-4210405/quay-sunglasses/N-7z2Z21p4Zdgl',\n",
       "  'name': 'Quay Sunglasses'},\n",
       " {'url': 'https://www.topshop.com/en/tsuk/category/brands-4210405/adidas-6008354?intcmpid=7_topnav-banner_brands',\n",
       "  'name': 'Top Nav - Brands'},\n",
       " {'url': 'https://www.topshop.com/en/tsuk/category/sale-6923952/shop-all-sale-6912866',\n",
       "  'name': 'Sale'},\n",
       " {'url': 'https://www.topshop.com/en/tsuk/category/sale-6923952/shop-all-sale-6912866',\n",
       "  'name': 'Shop All Sale'},\n",
       " {'url': 'https://www.topshop.com/en/tsuk/category/sale-6923952/shop-all-sale-6912866/jeans/N-8e1ZqnhZdgl',\n",
       "  'name': 'Sale Jeans'},\n",
       " {'url': 'https://www.topshop.com/en/tsuk/category/sale-6923952/shop-all-sale-6912866/jackets-coats/N-8e1ZqngZdgl',\n",
       "  'name': 'Sale Jackets & Coats'},\n",
       " {'url': 'https://www.topshop.com/en/tsuk/category/sale-6923952/shop-all-sale-6912866/knitwear/N-8e1ZqnjZdgl',\n",
       "  'name': 'Sale Knitwear'},\n",
       " {'url': 'https://www.topshop.com/en/tsuk/category/sale-6923952/shop-all-sale-6912866/tops/N-8e1ZqnvZdgl',\n",
       "  'name': 'Sale Tops'},\n",
       " {'url': 'https://www.topshop.com/en/tsuk/category/sale-6923952/shop-all-sale-6912866/dresses/N-8e1Zqn9Zdgl',\n",
       "  'name': 'Sale Dresses'},\n",
       " {'url': 'https://www.topshop.com/en/tsuk/category/sale-6923952/shop-all-sale-6912866/shoes/N-8e1ZqnpZdgl',\n",
       "  'name': 'Sale Shoes'},\n",
       " {'url': 'https://www.topshop.com/en/tsuk/category/sale-6923952/shop-all-sale-6912866/bags/N-8e1Zqn4Zdgl',\n",
       "  'name': 'Sale Bags'},\n",
       " {'url': 'https://www.topshop.com/en/tsuk/category/sale-6923952/shop-all-sale-6912866/boutique/N-8e1Zre8Zdgl',\n",
       "  'name': 'Sale Topshop Boutique'},\n",
       " {'url': 'https://www.topshop.com/en/tsuk/category/sale-6923952/shop-all-sale-6912866/petite/N-8e1ZdymZdgl',\n",
       "  'name': 'Sale Petite'},\n",
       " {'url': 'https://www.topshop.com/en/tsuk/category/sale-6923952/shop-all-sale-6912866/tall/N-8e1ZdynZdgl',\n",
       "  'name': 'Sale Tall'},\n",
       " {'url': 'https://www.topshop.com/en/tsuk/category/sale-6923952/shop-all-sale-6912866/maternity/N-8e1ZdylZdgl',\n",
       "  'name': 'Sale Maternity'},\n",
       " {'url': 'https://www.topshop.com/en/tsuk/category/sale-6923952/multi-buy-6924772/3-for-2-knickers/N-8dwZ24tuZdgl',\n",
       "  'name': '3 For 2 Knickers'},\n",
       " {'url': 'https://www.topshop.com/en/tsuk/category/sale-6923952/multi-buy-6924772/3-for-8-socks/N-8dwZrhsZdgl',\n",
       "  'name': '3 For £8 Socks'},\n",
       " {'url': 'https://www.topshop.com/en/tsuk/category/sale-6923952/multi-buy-6924772/jersey-2-for-12/N-8dwZ2cdrZdgl',\n",
       "  'name': '2 For £12 Tops'},\n",
       " {'url': 'https://www.topshop.com/en/tsuk/category/topshop-students-student-discount-2316596/home?TS=1392132268317',\n",
       "  'name': 'Student Discount'},\n",
       " {'url': 'https://www.topshop.com/en/tsuk/category/sale-6923952/up-to-30-off-selected-lines-7717603',\n",
       "  'name': 'Up To 30% Off Selected Lines'},\n",
       " {'url': 'https://www.topshop.com/en/tsuk/category/sale-6923952/shop-all-sale-6912866?intcmpid=8_topnav-banner_sale',\n",
       "  'name': 'Top Nav - Sale'}]"
      ]
     },
     "execution_count": 42,
     "metadata": {},
     "output_type": "execute_result"
    }
   ],
   "source": [
    "cat_urls"
   ]
  },
  {
   "cell_type": "code",
   "execution_count": null,
   "metadata": {},
   "outputs": [],
   "source": []
  },
  {
   "cell_type": "code",
   "execution_count": 85,
   "metadata": {},
   "outputs": [],
   "source": [
    "cat_req = requests.get('https://www.topshop.com/en/tsuk/category/new-in-this-week-2169932/new-in-dresses-4938909', headers=headers)\n",
    "cat_doc = lxml.html.fromstring(cat_req.text)\n"
   ]
  },
  {
   "cell_type": "code",
   "execution_count": 86,
   "metadata": {},
   "outputs": [],
   "source": [
    "breadcrumbs_string = re.search('(?<=\\\"breadcrumbs\\\"\\:\\[).*?(?=\\])', cat_req.text)"
   ]
  },
  {
   "cell_type": "code",
   "execution_count": 87,
   "metadata": {},
   "outputs": [
    {
     "data": {
      "text/plain": [
       "'{\"label\":\"Home\",\"url\":\"/\"},{\"label\":\"New In\",\"category\":\"208491\",\"url\":\"/en/tsuk/category/new-in-this-week-2169932\"},{\"label\":\"New In Dresses\",\"category\":\"208491,2724496\"}'"
      ]
     },
     "execution_count": 87,
     "metadata": {},
     "output_type": "execute_result"
    }
   ],
   "source": [
    "breadcrumbs_string.group(0)"
   ]
  },
  {
   "cell_type": "code",
   "execution_count": 88,
   "metadata": {},
   "outputs": [],
   "source": [
    "cat_id_match = re.findall('(?<=category\\\"\\:\\\").*?(?=\\\")', breadcrumbs_string.group(0))"
   ]
  },
  {
   "cell_type": "code",
   "execution_count": 89,
   "metadata": {},
   "outputs": [
    {
     "data": {
      "text/plain": [
       "['208491', '208491,2724496']"
      ]
     },
     "execution_count": 89,
     "metadata": {},
     "output_type": "execute_result"
    }
   ],
   "source": [
    "cat_id_match"
   ]
  },
  {
   "cell_type": "code",
   "execution_count": 90,
   "metadata": {},
   "outputs": [],
   "source": [
    "cat_id = cat_id_match[1]"
   ]
  },
  {
   "cell_type": "code",
   "execution_count": 91,
   "metadata": {},
   "outputs": [
    {
     "data": {
      "text/plain": [
       "'208491,2724496'"
      ]
     },
     "execution_count": 91,
     "metadata": {},
     "output_type": "execute_result"
    }
   ],
   "source": [
    "cat_id"
   ]
  },
  {
   "cell_type": "code",
   "execution_count": 92,
   "metadata": {},
   "outputs": [],
   "source": [
    "first_api_request_url = f'https://www.topshop.com/api/products?currentPage=1&pageSize=24&category={cat_id}'\n",
    "first_api_request = requests.get(first_api_request_url, headers=headers)"
   ]
  },
  {
   "cell_type": "code",
   "execution_count": 93,
   "metadata": {},
   "outputs": [],
   "source": [
    "first_api_req_json = json.loads(first_api_request.text)"
   ]
  },
  {
   "cell_type": "code",
   "execution_count": 94,
   "metadata": {},
   "outputs": [],
   "source": [
    "prod_count = first_api_req_json['totalProducts']"
   ]
  },
  {
   "cell_type": "code",
   "execution_count": 95,
   "metadata": {},
   "outputs": [
    {
     "data": {
      "text/plain": [
       "51"
      ]
     },
     "execution_count": 95,
     "metadata": {},
     "output_type": "execute_result"
    }
   ],
   "source": [
    "prod_count"
   ]
  },
  {
   "cell_type": "code",
   "execution_count": 96,
   "metadata": {},
   "outputs": [],
   "source": [
    "page_count = int(prod_count / 24)"
   ]
  },
  {
   "cell_type": "code",
   "execution_count": 97,
   "metadata": {},
   "outputs": [
    {
     "data": {
      "text/plain": [
       "2"
      ]
     },
     "execution_count": 97,
     "metadata": {},
     "output_type": "execute_result"
    }
   ],
   "source": [
    "page_count"
   ]
  },
  {
   "cell_type": "code",
   "execution_count": 98,
   "metadata": {},
   "outputs": [
    {
     "name": "stdout",
     "output_type": "stream",
     "text": [
      "page: 1\n",
      "page: 2\n"
     ]
    }
   ],
   "source": [
    "prod_list = []\n",
    "for i in range(0, page_count):\n",
    "    print(f'page: {i + 1}')\n",
    "    req_url = f'https://www.topshop.com/api/products?currentPage={i + 1}&pageSize=24&category={cat_id}'\n",
    "    api_request = requests.get(req_url, headers=headers)\n",
    "    response_json = json.loads(api_request.text)\n",
    "    response_prods = response_json['products']\n",
    "    for response_prod in response_prods:\n",
    "        prod_name = response_prod['name']\n",
    "        img_slug_list = response_prod['additionalAssets']\n",
    "        img_index_list = []\n",
    "        img_urls = []\n",
    "        for img_slug_dict in img_slug_list:\n",
    "            img_index = img_slug_dict['index']\n",
    "            if img_index not in img_index_list:\n",
    "                img_index_list.append(img_index)\n",
    "                img_slug = img_slug_dict['url']\n",
    "                img_slug_1 = img_slug.replace('media', 'images')\n",
    "                img_slug_2 = img_slug_1.replace('wcsstore', 'i')\n",
    "                img_slug_split = img_slug_2.split('?$')\n",
    "                img_url = f'{img_slug_split[0]}?$w1000$&fmt=jpg&qlt=80'\n",
    "                img_urls.append(img_url)\n",
    "        current_price = float(response_prod['unitPrice'])\n",
    "        try:\n",
    "            was_price = float(response_prod['wasPrice'])\n",
    "        except:\n",
    "            was_price = None\n",
    "        sale = was_price is not None\n",
    "        if sale:\n",
    "            price = was_price\n",
    "            saleprice = current_price\n",
    "        else:\n",
    "            price = current_price\n",
    "            saleprice = None\n",
    "        \n",
    "        prod_url = f'https://www.topshop.com{response_prod[\"productUrl\"]}'\n",
    "        \n",
    "        prod_list.append({\n",
    "            'prod_name': prod_name,\n",
    "            'prod_url': prod_url,\n",
    "            'img_urls': img_urls,\n",
    "            'price': price,\n",
    "            'saleprice': saleprice,\n",
    "            'sale': sale\n",
    "        })"
   ]
  },
  {
   "cell_type": "code",
   "execution_count": 99,
   "metadata": {},
   "outputs": [
    {
     "data": {
      "text/plain": [
       "[{'prod_name': 'Blue Plisse Shirred Wrap Dress',\n",
       "  'prod_url': 'https://www.topshop.com/en/tsuk/product/new-in-this-week-2169932/new-in-dresses-4938909/blue-plisse-shirred-wrap-dress-9518185',\n",
       "  'img_urls': ['http://images.topshop.com/i/TopShop/TS10J09SBLE_F_1.jpg?$w1000$&fmt=jpg&qlt=80',\n",
       "   'http://images.topshop.com/i/TopShop/TS10J09SBLE_M_1.jpg?$w1000$&fmt=jpg&qlt=80'],\n",
       "  'price': 35.0,\n",
       "  'saleprice': None,\n",
       "  'sale': False},\n",
       " {'prod_name': 'Open Back Animal Print Midi Dress',\n",
       "  'prod_url': 'https://www.topshop.com/en/tsuk/product/new-in-this-week-2169932/new-in-dresses-4938909/open-back-animal-print-midi-dress-9515369',\n",
       "  'img_urls': ['http://images.topshop.com/i/TopShop/TS10S23SMUL_F_1.jpg?$w1000$&fmt=jpg&qlt=80',\n",
       "   'http://images.topshop.com/i/TopShop/TS10S23SMUL_M_1.jpg?$w1000$&fmt=jpg&qlt=80'],\n",
       "  'price': 39.0,\n",
       "  'saleprice': None,\n",
       "  'sale': False},\n",
       " {'prod_name': 'Grey Ribbed Square Neck Belted Midi Dress',\n",
       "  'prod_url': 'https://www.topshop.com/en/tsuk/product/new-in-this-week-2169932/new-in-dresses-4938909/grey-ribbed-square-neck-belted-midi-dress-9516104',\n",
       "  'img_urls': ['http://images.topshop.com/i/TopShop/TS10I15SGYM_F_1.jpg?$w1000$&fmt=jpg&qlt=80',\n",
       "   'http://images.topshop.com/i/TopShop/TS10I15SGYM_M_1.jpg?$w1000$&fmt=jpg&qlt=80'],\n",
       "  'price': 29.0,\n",
       "  'saleprice': None,\n",
       "  'sale': False},\n",
       " {'prod_name': 'Black Corset Ribbed Midi Dress',\n",
       "  'prod_url': 'https://www.topshop.com/en/tsuk/product/new-in-this-week-2169932/new-in-dresses-4938909/black-corset-ribbed-midi-dress-9516108',\n",
       "  'img_urls': ['http://images.topshop.com/i/TopShop/TS10I33SBLK_F_1.jpg?$w1000$&fmt=jpg&qlt=80',\n",
       "   'http://images.topshop.com/i/TopShop/TS10I33SBLK_M_1.jpg?$w1000$&fmt=jpg&qlt=80'],\n",
       "  'price': 35.0,\n",
       "  'saleprice': None,\n",
       "  'sale': False},\n",
       " {'prod_name': 'Ribbed Corset Midi Dress',\n",
       "  'prod_url': 'https://www.topshop.com/en/tsuk/product/new-in-this-week-2169932/new-in-dresses-4938909/ribbed-corset-midi-dress-9516112',\n",
       "  'img_urls': ['http://images.topshop.com/i/TopShop/TS10I33SNUD_F_1.jpg?$w1000$&fmt=jpg&qlt=80',\n",
       "   'http://images.topshop.com/i/TopShop/TS10I33SNUD_M_1.jpg?$w1000$&fmt=jpg&qlt=80'],\n",
       "  'price': 35.0,\n",
       "  'saleprice': None,\n",
       "  'sale': False},\n",
       " {'prod_name': 'Ribbed Square Neck Belted Midi Dress',\n",
       "  'prod_url': 'https://www.topshop.com/en/tsuk/product/new-in-this-week-2169932/new-in-dresses-4938909/ribbed-square-neck-belted-midi-dress-9515285',\n",
       "  'img_urls': ['http://images.topshop.com/i/TopShop/TS10I15SMUS_F_1.jpg?$w1000$&fmt=jpg&qlt=80',\n",
       "   'http://images.topshop.com/i/TopShop/TS10I15SMUS_M_1.jpg?$w1000$&fmt=jpg&qlt=80'],\n",
       "  'price': 29.0,\n",
       "  'saleprice': None,\n",
       "  'sale': False},\n",
       " {'prod_name': 'Leopard Print Ruffle Midi Dress',\n",
       "  'prod_url': 'https://www.topshop.com/en/tsuk/product/new-in-this-week-2169932/new-in-dresses-4938909/leopard-print-ruffle-midi-dress-9508778',\n",
       "  'img_urls': ['http://images.topshop.com/i/TopShop/TS10S55SMUL_F_1.jpg?$w1000$&fmt=jpg&qlt=80',\n",
       "   'http://images.topshop.com/i/TopShop/TS10S55SMUL_M_1.jpg?$w1000$&fmt=jpg&qlt=80'],\n",
       "  'price': 49.0,\n",
       "  'saleprice': None,\n",
       "  'sale': False},\n",
       " {'prod_name': 'Red Ruffle Chuck On Mini Dress',\n",
       "  'prod_url': 'https://www.topshop.com/en/tsuk/product/new-in-this-week-2169932/new-in-dresses-4938909/red-ruffle-chuck-on-mini-dress-9508767',\n",
       "  'img_urls': ['http://images.topshop.com/i/TopShop/TS10M27SRED_F_1.jpg?$w1000$&fmt=jpg&qlt=80',\n",
       "   'http://images.topshop.com/i/TopShop/TS10M27SRED_M_1.jpg?$w1000$&fmt=jpg&qlt=80'],\n",
       "  'price': 39.0,\n",
       "  'saleprice': None,\n",
       "  'sale': False},\n",
       " {'prod_name': '**Printed Slip Dress By Topshop Boutique',\n",
       "  'prod_url': 'https://www.topshop.com/en/tsuk/product/new-in-this-week-2169932/new-in-dresses-4938909/printed-slip-dress-by-topshop-boutique-9508871',\n",
       "  'img_urls': ['http://images.topshop.com/i/TopShop/TS25S08RMUL_F_1.jpg?$w1000$&fmt=jpg&qlt=80',\n",
       "   'http://images.topshop.com/i/TopShop/TS25S08RMUL_M_1.jpg?$w1000$&fmt=jpg&qlt=80'],\n",
       "  'price': 79.0,\n",
       "  'saleprice': None,\n",
       "  'sale': False},\n",
       " {'prod_name': 'Black Corduroy Cap Sleeve Bodycon Dress',\n",
       "  'prod_url': 'https://www.topshop.com/en/tsuk/product/new-in-this-week-2169932/new-in-dresses-4938909/black-corduroy-cap-sleeve-bodycon-dress-9508751',\n",
       "  'img_urls': ['http://images.topshop.com/i/TopShop/TS05P35PBLK_F_1.jpg?$w1000$&fmt=jpg&qlt=80',\n",
       "   'http://images.topshop.com/i/TopShop/TS05P35PBLK_M_1.jpg?$w1000$&fmt=jpg&qlt=80'],\n",
       "  'price': 39.0,\n",
       "  'saleprice': None,\n",
       "  'sale': False},\n",
       " {'prod_name': 'Yellow Check Tie Wrap Midi Dress',\n",
       "  'prod_url': 'https://www.topshop.com/en/tsuk/product/new-in-this-week-2169932/new-in-dresses-4938909/yellow-check-tie-wrap-midi-dress-9507705',\n",
       "  'img_urls': ['http://images.topshop.com/i/TopShop/TS10S29SYLW_F_1.jpg?$w1000$&fmt=jpg&qlt=80',\n",
       "   'http://images.topshop.com/i/TopShop/TS10S29SYLW_M_1.jpg?$w1000$&fmt=jpg&qlt=80'],\n",
       "  'price': 39.0,\n",
       "  'saleprice': None,\n",
       "  'sale': False},\n",
       " {'prod_name': 'Green Daisy Tie Wrap Midi Dress',\n",
       "  'prod_url': 'https://www.topshop.com/en/tsuk/product/new-in-this-week-2169932/new-in-dresses-4938909/green-daisy-tie-wrap-midi-dress-9508771',\n",
       "  'img_urls': ['http://images.topshop.com/i/TopShop/TS10S29SGRN_F_1.jpg?$w1000$&fmt=jpg&qlt=80',\n",
       "   'http://images.topshop.com/i/TopShop/TS10S29SGRN_M_1.jpg?$w1000$&fmt=jpg&qlt=80'],\n",
       "  'price': 39.0,\n",
       "  'saleprice': None,\n",
       "  'sale': False},\n",
       " {'prod_name': 'Green Check Taffeta Skater Dress',\n",
       "  'prod_url': 'https://www.topshop.com/en/tsuk/product/new-in-this-week-2169932/new-in-dresses-4938909/green-check-taffeta-skater-dress-9502853',\n",
       "  'img_urls': ['http://images.topshop.com/i/TopShop/TS10S27SGRN_F_1.jpg?$w1000$&fmt=jpg&qlt=80',\n",
       "   'http://images.topshop.com/i/TopShop/TS10S27SGRN_M_1.jpg?$w1000$&fmt=jpg&qlt=80'],\n",
       "  'price': 49.0,\n",
       "  'saleprice': None,\n",
       "  'sale': False},\n",
       " {'prod_name': 'Beige Seersucker Check Midi Dress',\n",
       "  'prod_url': 'https://www.topshop.com/en/tsuk/product/new-in-this-week-2169932/new-in-dresses-4938909/beige-seersucker-check-midi-dress-9502810',\n",
       "  'img_urls': ['http://images.topshop.com/i/TopShop/TS10S32SBGE_F_1.jpg?$w1000$&fmt=jpg&qlt=80',\n",
       "   'http://images.topshop.com/i/TopShop/TS10S32SBGE_M_1.jpg?$w1000$&fmt=jpg&qlt=80'],\n",
       "  'price': 49.0,\n",
       "  'saleprice': None,\n",
       "  'sale': False},\n",
       " {'prod_name': 'Floral Print Midi Dress',\n",
       "  'prod_url': 'https://www.topshop.com/en/tsuk/product/new-in-this-week-2169932/new-in-dresses-4938909/floral-print-midi-dress-9502811',\n",
       "  'img_urls': ['http://images.topshop.com/i/TopShop/TS10S28SMUL_F_1.jpg?$w1000$&fmt=jpg&qlt=80',\n",
       "   'http://images.topshop.com/i/TopShop/TS10S28SMUL_M_1.jpg?$w1000$&fmt=jpg&qlt=80'],\n",
       "  'price': 39.0,\n",
       "  'saleprice': None,\n",
       "  'sale': False},\n",
       " {'prod_name': 'Red Seersucker Check Midi Dress',\n",
       "  'prod_url': 'https://www.topshop.com/en/tsuk/product/new-in-this-week-2169932/new-in-dresses-4938909/red-seersucker-check-midi-dress-9502861',\n",
       "  'img_urls': ['http://images.topshop.com/i/TopShop/TS10S32SRED_F_1.jpg?$w1000$&fmt=jpg&qlt=80',\n",
       "   'http://images.topshop.com/i/TopShop/TS10S32SRED_M_1.jpg?$w1000$&fmt=jpg&qlt=80'],\n",
       "  'price': 49.0,\n",
       "  'saleprice': None,\n",
       "  'sale': False},\n",
       " {'prod_name': 'Stretch Denim Button Down Shirt Dress',\n",
       "  'prod_url': 'https://www.topshop.com/en/tsuk/product/new-in-this-week-2169932/new-in-dresses-4938909/stretch-denim-button-down-shirt-dress-9502679',\n",
       "  'img_urls': ['http://images.topshop.com/i/TopShop/TS05P27QMDT_F_1.jpg?$w1000$&fmt=jpg&qlt=80',\n",
       "   'http://images.topshop.com/i/TopShop/TS05P27QMDT_M_1.jpg?$w1000$&fmt=jpg&qlt=80'],\n",
       "  'price': 39.0,\n",
       "  'saleprice': None,\n",
       "  'sale': False},\n",
       " {'prod_name': 'Black Open Back Midi Dress',\n",
       "  'prod_url': 'https://www.topshop.com/en/tsuk/product/new-in-this-week-2169932/new-in-dresses-4938909/black-open-back-midi-dress-9496302',\n",
       "  'img_urls': ['http://images.topshop.com/i/TopShop/TS10I11SBLK_F_1.jpg?$w1000$&fmt=jpg&qlt=80',\n",
       "   'http://images.topshop.com/i/TopShop/TS10I11SBLK_M_1.jpg?$w1000$&fmt=jpg&qlt=80'],\n",
       "  'price': 29.0,\n",
       "  'saleprice': None,\n",
       "  'sale': False},\n",
       " {'prod_name': 'Black Long Sleeve Tiered Midi Dress',\n",
       "  'prod_url': 'https://www.topshop.com/en/tsuk/product/new-in-this-week-2169932/new-in-dresses-4938909/black-long-sleeve-tiered-midi-dress-9498405',\n",
       "  'img_urls': ['http://images.topshop.com/i/TopShop/TS10S34SBLK_F_1.jpg?$w1000$&fmt=jpg&qlt=80',\n",
       "   'http://images.topshop.com/i/TopShop/TS10S34SBLK_M_1.jpg?$w1000$&fmt=jpg&qlt=80'],\n",
       "  'price': 29.0,\n",
       "  'saleprice': None,\n",
       "  'sale': False},\n",
       " {'prod_name': 'Blue Animal Tie Cardigan Dress',\n",
       "  'prod_url': 'https://www.topshop.com/en/tsuk/product/new-in-this-week-2169932/new-in-dresses-4938909/blue-animal-tie-cardigan-dress-9498397',\n",
       "  'img_urls': ['http://images.topshop.com/i/TopShop/TS10I38SBLE_F_1.jpg?$w1000$&fmt=jpg&qlt=80',\n",
       "   'http://images.topshop.com/i/TopShop/TS10I38SBLE_M_1.jpg?$w1000$&fmt=jpg&qlt=80'],\n",
       "  'price': 29.0,\n",
       "  'saleprice': None,\n",
       "  'sale': False},\n",
       " {'prod_name': 'Blush Pink Animal Tie Cardigan Dress',\n",
       "  'prod_url': 'https://www.topshop.com/en/tsuk/product/new-in-this-week-2169932/new-in-dresses-4938909/blush-pink-animal-tie-cardigan-dress-9498401',\n",
       "  'img_urls': ['http://images.topshop.com/i/TopShop/TS10I38SBLS_F_1.jpg?$w1000$&fmt=jpg&qlt=80',\n",
       "   'http://images.topshop.com/i/TopShop/TS10I38SBLS_M_1.jpg?$w1000$&fmt=jpg&qlt=80'],\n",
       "  'price': 29.0,\n",
       "  'saleprice': None,\n",
       "  'sale': False},\n",
       " {'prod_name': 'Ecru Check Shirred Midi Shirt Dress',\n",
       "  'prod_url': 'https://www.topshop.com/en/tsuk/product/new-in-this-week-2169932/new-in-dresses-4938909/ecru-check-shirred-midi-shirt-dress-9498413',\n",
       "  'img_urls': ['http://images.topshop.com/i/TopShop/TS10T09SECR_F_1.jpg?$w1000$&fmt=jpg&qlt=80',\n",
       "   'http://images.topshop.com/i/TopShop/TS10T09SECR_M_1.jpg?$w1000$&fmt=jpg&qlt=80'],\n",
       "  'price': 49.0,\n",
       "  'saleprice': None,\n",
       "  'sale': False},\n",
       " {'prod_name': 'Multicoloured Paisley Midi Shirt Dress',\n",
       "  'prod_url': 'https://www.topshop.com/en/tsuk/product/new-in-this-week-2169932/new-in-dresses-4938909/multicoloured-paisley-midi-shirt-dress-9498417',\n",
       "  'img_urls': ['http://images.topshop.com/i/TopShop/TS10T11SMUL_F_1.jpg?$w1000$&fmt=jpg&qlt=80',\n",
       "   'http://images.topshop.com/i/TopShop/TS10T11SMUL_M_1.jpg?$w1000$&fmt=jpg&qlt=80'],\n",
       "  'price': 49.0,\n",
       "  'saleprice': None,\n",
       "  'sale': False},\n",
       " {'prod_name': 'Black Ribbed Square Neck Belted Midi Dress',\n",
       "  'prod_url': 'https://www.topshop.com/en/tsuk/product/new-in-this-week-2169932/new-in-dresses-4938909/black-ribbed-square-neck-belted-midi-dress-9496303',\n",
       "  'img_urls': ['http://images.topshop.com/i/TopShop/TS10I15SBLK_F_1.jpg?$w1000$&fmt=jpg&qlt=80',\n",
       "   'http://images.topshop.com/i/TopShop/TS10I15SBLK_M_1.jpg?$w1000$&fmt=jpg&qlt=80'],\n",
       "  'price': 29.0,\n",
       "  'saleprice': None,\n",
       "  'sale': False},\n",
       " {'prod_name': 'Green Check Shirred Midi Shirt Dress',\n",
       "  'prod_url': 'https://www.topshop.com/en/tsuk/product/new-in-this-week-2169932/new-in-dresses-4938909/green-check-shirred-midi-shirt-dress-9498409',\n",
       "  'img_urls': ['http://images.topshop.com/i/TopShop/TS10T09SGRN_F_1.jpg?$w1000$&fmt=jpg&qlt=80',\n",
       "   'http://images.topshop.com/i/TopShop/TS10T09SGRN_M_1.jpg?$w1000$&fmt=jpg&qlt=80'],\n",
       "  'price': 49.0,\n",
       "  'saleprice': None,\n",
       "  'sale': False},\n",
       " {'prod_name': 'Cream Open Back Midi Dress',\n",
       "  'prod_url': 'https://www.topshop.com/en/tsuk/product/new-in-this-week-2169932/new-in-dresses-4938909/cream-open-back-midi-dress-9496306',\n",
       "  'img_urls': ['http://images.topshop.com/i/TopShop/TS10I11SCRM_F_1.jpg?$w1000$&fmt=jpg&qlt=80',\n",
       "   'http://images.topshop.com/i/TopShop/TS10I11SCRM_M_1.jpg?$w1000$&fmt=jpg&qlt=80'],\n",
       "  'price': 29.0,\n",
       "  'saleprice': None,\n",
       "  'sale': False},\n",
       " {'prod_name': 'Ruffle Floral Print Chuck On Mini Dress',\n",
       "  'prod_url': 'https://www.topshop.com/en/tsuk/product/new-in-this-week-2169932/new-in-dresses-4938909/ruffle-floral-print-chuck-on-mini-dress-9494595',\n",
       "  'img_urls': ['http://images.topshop.com/i/TopShop/TS10M27SMUL_F_1.jpg?$w1000$&fmt=jpg&qlt=80',\n",
       "   'http://images.topshop.com/i/TopShop/TS10M27SMUL_M_1.jpg?$w1000$&fmt=jpg&qlt=80'],\n",
       "  'price': 39.0,\n",
       "  'saleprice': None,\n",
       "  'sale': False},\n",
       " {'prod_name': 'Black Plain Cardigan Dress',\n",
       "  'prod_url': 'https://www.topshop.com/en/tsuk/product/new-in-this-week-2169932/new-in-dresses-4938909/black-plain-cardigan-dress-9486865',\n",
       "  'img_urls': ['http://images.topshop.com/i/TopShop/TS10J10SBLK_F_1.jpg?$w1000$&fmt=jpg&qlt=80',\n",
       "   'http://images.topshop.com/i/TopShop/TS10J10SBLK_M_1.jpg?$w1000$&fmt=jpg&qlt=80'],\n",
       "  'price': 29.0,\n",
       "  'saleprice': None,\n",
       "  'sale': False},\n",
       " {'prod_name': 'Black Spot Shirred Mini Dress',\n",
       "  'prod_url': 'https://www.topshop.com/en/tsuk/product/new-in-this-week-2169932/new-in-dresses-4938909/black-spot-shirred-mini-dress-9485081',\n",
       "  'img_urls': ['http://images.topshop.com/i/TopShop/TS10J08SBLK_F_1.jpg?$w1000$&fmt=jpg&qlt=80',\n",
       "   'http://images.topshop.com/i/TopShop/TS10J08SBLK_M_1.jpg?$w1000$&fmt=jpg&qlt=80'],\n",
       "  'price': 35.0,\n",
       "  'saleprice': None,\n",
       "  'sale': False},\n",
       " {'prod_name': 'Ecru Airtex Mesh Midi Dress',\n",
       "  'prod_url': 'https://www.topshop.com/en/tsuk/product/new-in-this-week-2169932/new-in-dresses-4938909/ecru-airtex-mesh-midi-dress-9485082',\n",
       "  'img_urls': ['http://images.topshop.com/i/TopShop/TS10I12SECR_F_1.jpg?$w1000$&fmt=jpg&qlt=80',\n",
       "   'http://images.topshop.com/i/TopShop/TS10I12SECR_M_1.jpg?$w1000$&fmt=jpg&qlt=80'],\n",
       "  'price': 45.0,\n",
       "  'saleprice': None,\n",
       "  'sale': False},\n",
       " {'prod_name': 'Lily Print Tie Neck Mini Dress',\n",
       "  'prod_url': 'https://www.topshop.com/en/tsuk/product/new-in-this-week-2169932/new-in-dresses-4938909/lily-print-tie-neck-mini-dress-9489079',\n",
       "  'img_urls': ['http://images.topshop.com/i/TopShop/TS10T07SMON_F_1.jpg?$w1000$&fmt=jpg&qlt=80',\n",
       "   'http://images.topshop.com/i/TopShop/TS10T07SMON_M_1.jpg?$w1000$&fmt=jpg&qlt=80'],\n",
       "  'price': 35.0,\n",
       "  'saleprice': None,\n",
       "  'sale': False},\n",
       " {'prod_name': 'Spot Tiered Midi Shirt Dress',\n",
       "  'prod_url': 'https://www.topshop.com/en/tsuk/product/new-in-this-week-2169932/new-in-dresses-4938909/spot-tiered-midi-shirt-dress-9489077',\n",
       "  'img_urls': ['http://images.topshop.com/i/TopShop/TS10T06SMUL_F_1.jpg?$w1000$&fmt=jpg&qlt=80',\n",
       "   'http://images.topshop.com/i/TopShop/TS10T06SMUL_M_1.jpg?$w1000$&fmt=jpg&qlt=80'],\n",
       "  'price': 49.0,\n",
       "  'saleprice': None,\n",
       "  'sale': False},\n",
       " {'prod_name': 'Black And White Dandelion Tie Midi Wrap Dress',\n",
       "  'prod_url': 'https://www.topshop.com/en/tsuk/product/new-in-this-week-2169932/new-in-dresses-4938909/black-and-white-dandelion-tie-midi-wrap-dress-9489075',\n",
       "  'img_urls': ['http://images.topshop.com/i/TopShop/TS10S29SMON_F_1.jpg?$w1000$&fmt=jpg&qlt=80',\n",
       "   'http://images.topshop.com/i/TopShop/TS10S29SMON_M_1.jpg?$w1000$&fmt=jpg&qlt=80'],\n",
       "  'price': 39.0,\n",
       "  'saleprice': None,\n",
       "  'sale': False},\n",
       " {'prod_name': 'White Textured Mini Shirt Dress',\n",
       "  'prod_url': 'https://www.topshop.com/en/tsuk/product/new-in-this-week-2169932/new-in-dresses-4938909/white-textured-mini-shirt-dress-9475735',\n",
       "  'img_urls': ['http://images.topshop.com/i/TopShop/TS10T08SWHT_F_1.jpg?$w1000$&fmt=jpg&qlt=80',\n",
       "   'http://images.topshop.com/i/TopShop/TS10T08SWHT_M_1.jpg?$w1000$&fmt=jpg&qlt=80'],\n",
       "  'price': 39.0,\n",
       "  'saleprice': None,\n",
       "  'sale': False},\n",
       " {'prod_name': 'Khaki Oversized Cocoon Knitted Dress',\n",
       "  'prod_url': 'https://www.topshop.com/en/tsuk/product/new-in-this-week-2169932/new-in-dresses-4938909/khaki-oversized-cocoon-knitted-dress-9479240',\n",
       "  'img_urls': ['http://images.topshop.com/i/TopShop/TS23D03SKHA_F_1.jpg?$w1000$&fmt=jpg&qlt=80',\n",
       "   'http://images.topshop.com/i/TopShop/TS23D03SKHA_M_1.jpg?$w1000$&fmt=jpg&qlt=80'],\n",
       "  'price': 39.0,\n",
       "  'saleprice': None,\n",
       "  'sale': False},\n",
       " {'prod_name': '**Burgundy Embelished Maxi Dress by Lace & Beads',\n",
       "  'prod_url': 'https://www.topshop.com/en/tsuk/product/new-in-this-week-2169932/new-in-dresses-4938909/burgundy-embelished-maxi-dress-by-lace-beads-9496368',\n",
       "  'img_urls': ['http://images.topshop.com/i/TopShop/TS62M01RBRG_F_1.jpg?$w1000$&fmt=jpg&qlt=80',\n",
       "   'http://images.topshop.com/i/TopShop/TS62M01RBRG_M_1.jpg?$w1000$&fmt=jpg&qlt=80'],\n",
       "  'price': 90.0,\n",
       "  'saleprice': None,\n",
       "  'sale': False},\n",
       " {'prod_name': '**MATERNITY Black Drawstring Midi Dress',\n",
       "  'prod_url': 'https://www.topshop.com/en/tsuk/product/new-in-this-week-2169932/new-in-dresses-4938909/maternity-black-drawstring-midi-dress-9508967',\n",
       "  'img_urls': ['http://images.topshop.com/i/TopShop/TS44D14SBLK_F_1.jpg?$w1000$&fmt=jpg&qlt=80',\n",
       "   'http://images.topshop.com/i/TopShop/TS44D14SBLK_M_1.jpg?$w1000$&fmt=jpg&qlt=80'],\n",
       "  'price': 35.0,\n",
       "  'saleprice': None,\n",
       "  'sale': False},\n",
       " {'prod_name': 'PETITE Khaki Snake Print Crinkle Mini Dress',\n",
       "  'prod_url': 'https://www.topshop.com/en/tsuk/product/new-in-this-week-2169932/new-in-dresses-4938909/petite-khaki-snake-print-crinkle-mini-dress-9507365',\n",
       "  'img_urls': ['http://images.topshop.com/i/TopShop/TS26J03SKHA_F_1.jpg?$w1000$&fmt=jpg&qlt=80',\n",
       "   'http://images.topshop.com/i/TopShop/TS26J03SKHA_M_1.jpg?$w1000$&fmt=jpg&qlt=80'],\n",
       "  'price': 25.0,\n",
       "  'saleprice': None,\n",
       "  'sale': False},\n",
       " {'prod_name': 'TALL Snake Crinkle Long Sleeve Mini Dress',\n",
       "  'prod_url': 'https://www.topshop.com/en/tsuk/product/new-in-this-week-2169932/new-in-dresses-4938909/tall-snake-crinkle-long-sleeve-mini-dress-9508932',\n",
       "  'img_urls': ['http://images.topshop.com/i/TopShop/TS30D02SKHA_F_1.jpg?$w1000$&fmt=jpg&qlt=80',\n",
       "   'http://images.topshop.com/i/TopShop/TS30D02SKHA_M_1.jpg?$w1000$&fmt=jpg&qlt=80'],\n",
       "  'price': 25.0,\n",
       "  'saleprice': None,\n",
       "  'sale': False},\n",
       " {'prod_name': '**MATERNITY Brushed Chuck On Midi Dress',\n",
       "  'prod_url': 'https://www.topshop.com/en/tsuk/product/new-in-this-week-2169932/new-in-dresses-4938909/maternity-brushed-chuck-on-midi-dress-9508971',\n",
       "  'img_urls': ['http://images.topshop.com/i/TopShop/TS44H01SGYM_F_1.jpg?$w1000$&fmt=jpg&qlt=80',\n",
       "   'http://images.topshop.com/i/TopShop/TS44H01SGYM_M_1.jpg?$w1000$&fmt=jpg&qlt=80'],\n",
       "  'price': 35.0,\n",
       "  'saleprice': None,\n",
       "  'sale': False},\n",
       " {'prod_name': 'TALL Multicoloured Paisley Midi Shirt Dress',\n",
       "  'prod_url': 'https://www.topshop.com/en/tsuk/product/new-in-this-week-2169932/new-in-dresses-4938909/tall-multicoloured-paisley-midi-shirt-dress-9508936',\n",
       "  'img_urls': ['http://images.topshop.com/i/TopShop/TS30D10SMUL_F_1.jpg?$w1000$&fmt=jpg&qlt=80',\n",
       "   'http://images.topshop.com/i/TopShop/TS30D10SMUL_M_1.jpg?$w1000$&fmt=jpg&qlt=80'],\n",
       "  'price': 49.0,\n",
       "  'saleprice': None,\n",
       "  'sale': False},\n",
       " {'prod_name': 'TALL Red Animal Mini Shirt Dress',\n",
       "  'prod_url': 'https://www.topshop.com/en/tsuk/product/new-in-this-week-2169932/new-in-dresses-4938909/tall-red-animal-mini-shirt-dress-9508934',\n",
       "  'img_urls': ['http://images.topshop.com/i/TopShop/TS30D03SRED_F_1.jpg?$w1000$&fmt=jpg&qlt=80',\n",
       "   'http://images.topshop.com/i/TopShop/TS30D03SRED_M_1.jpg?$w1000$&fmt=jpg&qlt=80'],\n",
       "  'price': 39.0,\n",
       "  'saleprice': None,\n",
       "  'sale': False},\n",
       " {'prod_name': 'PETITE Plain Black Cardigan Flippy Dress',\n",
       "  'prod_url': 'https://www.topshop.com/en/tsuk/product/new-in-this-week-2169932/new-in-dresses-4938909/petite-plain-black-cardigan-flippy-dress-9508904',\n",
       "  'img_urls': ['http://images.topshop.com/i/TopShop/TS26J02SBLK_F_1.jpg?$w1000$&fmt=jpg&qlt=80',\n",
       "   'http://images.topshop.com/i/TopShop/TS26J02SBLK_M_1.jpg?$w1000$&fmt=jpg&qlt=80'],\n",
       "  'price': 29.0,\n",
       "  'saleprice': None,\n",
       "  'sale': False},\n",
       " {'prod_name': 'TALL Black V-Neck Ruched Midi Dress',\n",
       "  'prod_url': 'https://www.topshop.com/en/tsuk/product/new-in-this-week-2169932/new-in-dresses-4938909/tall-black-v-neck-ruched-midi-dress-9502989',\n",
       "  'img_urls': ['http://images.topshop.com/i/TopShop/TS30D04SBLK_F_1.jpg?$w1000$&fmt=jpg&qlt=80',\n",
       "   'http://images.topshop.com/i/TopShop/TS30D04SBLK_M_1.jpg?$w1000$&fmt=jpg&qlt=80'],\n",
       "  'price': 55.0,\n",
       "  'saleprice': None,\n",
       "  'sale': False},\n",
       " {'prod_name': 'PETITE Black Satin Wrap Mini Dress',\n",
       "  'prod_url': 'https://www.topshop.com/en/tsuk/product/new-in-this-week-2169932/new-in-dresses-4938909/petite-black-satin-wrap-mini-dress-9497402',\n",
       "  'img_urls': ['http://images.topshop.com/i/TopShop/TS26G03SBLK_F_1.jpg?$w1000$&fmt=jpg&qlt=80',\n",
       "   'http://images.topshop.com/i/TopShop/TS26G03SBLK_M_1.jpg?$w1000$&fmt=jpg&qlt=80'],\n",
       "  'price': 29.0,\n",
       "  'saleprice': None,\n",
       "  'sale': False},\n",
       " {'prod_name': '**MATERNITY Black and White Midi Textured Check Dress',\n",
       "  'prod_url': 'https://www.topshop.com/en/tsuk/product/new-in-this-week-2169932/new-in-dresses-4938909/maternity-black-and-white-midi-textured-check-dress-9498540',\n",
       "  'img_urls': ['http://images.topshop.com/i/TopShop/TS44D05SMON_F_1.jpg?$w1000$&fmt=jpg&qlt=80',\n",
       "   'http://images.topshop.com/i/TopShop/TS44D05SMON_M_1.jpg?$w1000$&fmt=jpg&qlt=80'],\n",
       "  'price': 49.0,\n",
       "  'saleprice': None,\n",
       "  'sale': False},\n",
       " {'prod_name': 'TALL Black and White Bubble Textured Midi Check Dress',\n",
       "  'prod_url': 'https://www.topshop.com/en/tsuk/product/new-in-this-week-2169932/new-in-dresses-4938909/tall-black-and-white-bubble-textured-midi-check-dress-9502860',\n",
       "  'img_urls': ['http://images.topshop.com/i/TopShop/TS30D26SMON_F_1.jpg?$w1000$&fmt=jpg&qlt=80',\n",
       "   'http://images.topshop.com/i/TopShop/TS30D26SMON_M_1.jpg?$w1000$&fmt=jpg&qlt=80'],\n",
       "  'price': 49.0,\n",
       "  'saleprice': None,\n",
       "  'sale': False},\n",
       " {'prod_name': '**MATERNITY Black and White Paisley Print Shirt Dress',\n",
       "  'prod_url': 'https://www.topshop.com/en/tsuk/product/new-in-this-week-2169932/new-in-dresses-4938909/maternity-black-and-white-paisley-print-shirt-dress-9493905',\n",
       "  'img_urls': ['http://images.topshop.com/i/TopShop/TS44D03SMON_F_1.jpg?$w1000$&fmt=jpg&qlt=80',\n",
       "   'http://images.topshop.com/i/TopShop/TS44D03SMON_M_1.jpg?$w1000$&fmt=jpg&qlt=80'],\n",
       "  'price': 49.0,\n",
       "  'saleprice': None,\n",
       "  'sale': False}]"
      ]
     },
     "execution_count": 99,
     "metadata": {},
     "output_type": "execute_result"
    }
   ],
   "source": [
    "prod_list"
   ]
  },
  {
   "cell_type": "code",
   "execution_count": null,
   "metadata": {},
   "outputs": [],
   "source": []
  },
  {
   "cell_type": "code",
   "execution_count": 4,
   "metadata": {},
   "outputs": [],
   "source": [
    "prod_req = requests.get('https://www.topshop.com/en/tsuk/product/new-in-this-week-2169932/new-in-dresses-4938909/blue-plisse-shirred-wrap-dress-9518185', headers=headers)\n",
    "prod_doc = lxml.html.fromstring(prod_req.text)\n"
   ]
  },
  {
   "cell_type": "code",
   "execution_count": 14,
   "metadata": {},
   "outputs": [],
   "source": [
    "prod_info_string_match = re.search('(?<=window\\.__INITIAL_STATE__\\=).*?(?=window\\.version\\=\\{)', prod_req.text, re.I | re.DOTALL)\n"
   ]
  },
  {
   "cell_type": "code",
   "execution_count": 15,
   "metadata": {},
   "outputs": [],
   "source": [
    "prod_info_string = prod_info_string_match.group(0).strip()[:-1]"
   ]
  },
  {
   "cell_type": "code",
   "execution_count": 16,
   "metadata": {},
   "outputs": [],
   "source": [
    "prod_info_json = json.loads(prod_info_string)"
   ]
  },
  {
   "cell_type": "code",
   "execution_count": 19,
   "metadata": {},
   "outputs": [],
   "source": [
    "color_string = prod_info_json['currentProduct']['colour'].lower()"
   ]
  },
  {
   "cell_type": "code",
   "execution_count": 20,
   "metadata": {},
   "outputs": [
    {
     "data": {
      "text/plain": [
       "'blue'"
      ]
     },
     "execution_count": 20,
     "metadata": {},
     "output_type": "execute_result"
    }
   ],
   "source": [
    "color_string"
   ]
  },
  {
   "cell_type": "code",
   "execution_count": 21,
   "metadata": {},
   "outputs": [],
   "source": [
    "description = prod_info_json['currentProduct']['description']"
   ]
  },
  {
   "cell_type": "code",
   "execution_count": 22,
   "metadata": {},
   "outputs": [
    {
     "data": {
      "text/plain": [
       "'This dress is designed with plisse fabrication and made with long sleeves. Detailed with wrap with tie at side, this ensemble will always be a great option. 100% Polyester. Machine wash.&lt;br /&gt;&lt;br /&gt;&lt;b&gt;Model&#x27;s height is 5&#x27;9 and she wears a size 8. &lt;/b&gt;'"
      ]
     },
     "execution_count": 22,
     "metadata": {},
     "output_type": "execute_result"
    }
   ],
   "source": [
    "description"
   ]
  },
  {
   "cell_type": "code",
   "execution_count": 23,
   "metadata": {},
   "outputs": [],
   "source": [
    "image_list = prod_info_json['currentProduct']['assets']"
   ]
  },
  {
   "cell_type": "code",
   "execution_count": 25,
   "metadata": {},
   "outputs": [],
   "source": [
    "img_index_list = []\n",
    "img_urls = []\n",
    "for img_slug_dict in image_list:\n",
    "    img_index = img_slug_dict['index']\n",
    "    if img_index not in img_index_list:\n",
    "        img_index_list.append(img_index)\n",
    "        img_slug = img_slug_dict['url']\n",
    "        img_slug_split = img_slug.split('?$')\n",
    "        img_url = f'{img_slug_split[0]}?$w1000$&fmt=jpg&qlt=80'\n",
    "        img_urls.append(img_url)"
   ]
  },
  {
   "cell_type": "code",
   "execution_count": 26,
   "metadata": {},
   "outputs": [
    {
     "data": {
      "text/plain": [
       "['https://images.topshop.com/i/TopShop/TS10J09SBLE_M_1.jpg?$w1000$&fmt=jpg&qlt=80',\n",
       " 'https://images.topshop.com/i/TopShop/TS10J09SBLE_F_1.jpg?$w1000$&fmt=jpg&qlt=80',\n",
       " 'https://images.topshop.com/i/TopShop/TS10J09SBLE_M_2.jpg?$w1000$&fmt=jpg&qlt=80',\n",
       " 'https://images.topshop.com/i/TopShop/TS10J09SBLE_M_3.jpg?$w1000$&fmt=jpg&qlt=80']"
      ]
     },
     "execution_count": 26,
     "metadata": {},
     "output_type": "execute_result"
    }
   ],
   "source": [
    "img_urls"
   ]
  },
  {
   "cell_type": "markdown",
   "metadata": {},
   "source": [
    "![](https://images.topshop.com/i/TopShop/TS10J09SBLE_M_1.jpg?$w1000$&fmt=jpg&qlt=80)"
   ]
  },
  {
   "cell_type": "markdown",
   "metadata": {},
   "source": [
    "![](https://images.topshop.com/i/TopShop/TS10J09SBLE_F_1.jpg?$w1000$&fmt=jpg&qlt=80)"
   ]
  },
  {
   "cell_type": "markdown",
   "metadata": {},
   "source": [
    "![](https://images.topshop.com/i/TopShop/TS10J09SBLE_M_2.jpg?$w1000$&fmt=jpg&qlt=80)"
   ]
  },
  {
   "cell_type": "markdown",
   "metadata": {},
   "source": [
    "![](https://images.topshop.com/i/TopShop/TS10J09SBLE_M_3.jpg?$w1000$&fmt=jpg&qlt=80)"
   ]
  },
  {
   "cell_type": "code",
   "execution_count": 27,
   "metadata": {},
   "outputs": [],
   "source": [
    "size_list = prod_info_json['currentProduct']['items']"
   ]
  },
  {
   "cell_type": "code",
   "execution_count": 28,
   "metadata": {},
   "outputs": [],
   "source": [
    "size_stock = [{\n",
    "    'size': size_dict['size'],\n",
    "    'stock': size_dict['stockText']\n",
    "} for size_dict in size_list]"
   ]
  },
  {
   "cell_type": "code",
   "execution_count": 29,
   "metadata": {},
   "outputs": [
    {
     "data": {
      "text/plain": [
       "[{'size': '4', 'stock': 'Out of stock'},\n",
       " {'size': '6', 'stock': 'In stock'},\n",
       " {'size': '8', 'stock': 'In stock'},\n",
       " {'size': '10', 'stock': 'In stock'},\n",
       " {'size': '12', 'stock': 'In stock'},\n",
       " {'size': '14', 'stock': 'In stock'},\n",
       " {'size': '16', 'stock': 'In stock'},\n",
       " {'size': '18', 'stock': 'In stock'}]"
      ]
     },
     "execution_count": 29,
     "metadata": {},
     "output_type": "execute_result"
    }
   ],
   "source": [
    "size_stock"
   ]
  },
  {
   "cell_type": "code",
   "execution_count": 30,
   "metadata": {},
   "outputs": [],
   "source": [
    "in_stock_sizes = [size_dict for size_dict in size_stock if size_dict['stock'] == 'In stock']"
   ]
  },
  {
   "cell_type": "code",
   "execution_count": 31,
   "metadata": {},
   "outputs": [
    {
     "data": {
      "text/plain": [
       "[{'size': '6', 'stock': 'In stock'},\n",
       " {'size': '8', 'stock': 'In stock'},\n",
       " {'size': '10', 'stock': 'In stock'},\n",
       " {'size': '12', 'stock': 'In stock'},\n",
       " {'size': '14', 'stock': 'In stock'},\n",
       " {'size': '16', 'stock': 'In stock'},\n",
       " {'size': '18', 'stock': 'In stock'}]"
      ]
     },
     "execution_count": 31,
     "metadata": {},
     "output_type": "execute_result"
    }
   ],
   "source": [
    "in_stock_sizes"
   ]
  },
  {
   "cell_type": "code",
   "execution_count": null,
   "metadata": {},
   "outputs": [],
   "source": []
  }
 ],
 "metadata": {
  "kernelspec": {
   "display_name": "Python 3",
   "language": "python",
   "name": "python3"
  },
  "language_info": {
   "codemirror_mode": {
    "name": "ipython",
    "version": 3
   },
   "file_extension": ".py",
   "mimetype": "text/x-python",
   "name": "python",
   "nbconvert_exporter": "python",
   "pygments_lexer": "ipython3",
   "version": "3.6.5"
  }
 },
 "nbformat": 4,
 "nbformat_minor": 2
}
