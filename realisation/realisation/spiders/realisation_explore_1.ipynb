{
 "cells": [
  {
   "cell_type": "code",
   "execution_count": 1,
   "metadata": {},
   "outputs": [],
   "source": [
    "import lxml.html\n",
    "import requests\n",
    "import re\n",
    "import json\n",
    "import random"
   ]
  },
  {
   "cell_type": "code",
   "execution_count": 2,
   "metadata": {},
   "outputs": [
    {
     "data": {
      "text/html": [
       "<style>.container { width:100% !important; }</style>"
      ],
      "text/plain": [
       "<IPython.core.display.HTML object>"
      ]
     },
     "metadata": {},
     "output_type": "display_data"
    }
   ],
   "source": [
    "from IPython.core.display import display, HTML\n",
    "display(HTML(\"<style>.container { width:100% !important; }</style>\"))"
   ]
  },
  {
   "cell_type": "code",
   "execution_count": 3,
   "metadata": {},
   "outputs": [],
   "source": [
    "headers = {\n",
    "    'accept': 'text/html,application/xhtml+xml,application/xml;q=0.9,image/webp,image/apng,*/*;q=0.8,application/signed-exchange;v=b3;q=0.9',\n",
    "    'accept-encoding': 'gzip, deflate, br',\n",
    "    'accept-language': 'en-US,en;q=0.9,lv;q=0.8',\n",
    "    'cache-control': 'no-cache',\n",
    "    'cookie': 'SHOP_SESSION_TOKEN=hjah5gqbsmemqpaaq1od9d3jsr; fornax_anonymousId=1e661674-c48d-4838-bd74-27edc0242d5f; _ga=GA1.2.1188411923.1582637235; _gid=GA1.2.1692255772.1582637235; STORE_VISITOR=1; landing_site=https://realisationpar.com/; SHOP_SESSION_TOKEN=hjah5gqbsmemqpaaq1od9d3jsr; XSRF-TOKEN=9be3f20f8068d185e63434560af8df13a45b60c42958649a717e639925922072; fornax_anonymousId=1e661674-c48d-4838-bd74-27edc0242d5f; _ga=GA1.3.1188411923.1582637235; _gid=GA1.3.1692255772.1582637235; optiMonkSession=1582637241; _ZB_STATIC_DR_widgetsUpdateTime={\"1274665\":1580682178}; _ZB_STATIC_DR_firstTimeVisit=1582637242057; _ZB_STATIC_DR_currentSessionTimeVisit=1582637242057; _ZB_STATIC_VIEW_THROUGH_WIDGET_1274665=1274665; _ZB_STATS_IMPRESSION.5b5fceb7=true; _ZB_STATS_IMPRESSION_PREMIUM_=true; _privy_606FF7E8D0289F2D9A9D8436=%7B%22uuid%22%3A%22660e971d-606a-43cb-9355-0b7f9c008efa%22%2C%22cart_value%22%3A0%2C%22variations%22%3A%7B%7D%2C%22country_code%22%3A%22ES%22%2C%22region_code%22%3A%22ES_56%22%2C%22postal_code%22%3A%2208015%22%7D; __zlcmid=wviwJwIbf8H1L4; XSRF-TOKEN=19d288e98243c4f063ec30e7cf5dda014a8f5481d70ddb71c167877fd0559279; location-popup=1; lastVisitedCategory=27; __atuvc=1%7C9; _ZB_ADMIN_TIME_STAMP_=1582638780489; _ZB_ADMIN_LAST_URL_=https://uk.realisationpar.com/; optiMonkClient=N4IgTAzAjAHDIC5QGMCGjRgyVyAuiADADQ4AOZiUArDGAGwQDsYT9pyAToiNQCYAjegE5IUZNTAAzGBEKEosMMgEBTKSFIA7APZ8qpPAFd0CEiADOPZABsdF1foC+T0lIBuVWg2ZgALFCkNp4INHSMMEzCfto6ZCEwLkA===; _ZB_STATS_VISIT_521324=1582641550068',\n",
    "    'pragma': 'no-cache',\n",
    "    'referer': 'https://uk.realisationpar.com/',\n",
    "    'sec-fetch-dest': 'document',\n",
    "    'sec-fetch-mode': 'navigate',\n",
    "    'sec-fetch-site': 'same-origin',\n",
    "    'sec-fetch-user': '?1',\n",
    "    'upgrade-insecure-requests': '1',\n",
    "    'user-agent': 'Mozilla/5.0 (Macintosh; Intel Mac OS X 10_14_6) AppleWebKit/537.36 (KHTML, like Gecko) Chrome/80.0.3987.116 Safari/537.36'\n",
    "}"
   ]
  },
  {
   "cell_type": "code",
   "execution_count": 5,
   "metadata": {},
   "outputs": [],
   "source": [
    "home_req = requests.get('https://uk.realisationpar.com/shop/everything/', headers=headers)"
   ]
  },
  {
   "cell_type": "code",
   "execution_count": 6,
   "metadata": {},
   "outputs": [],
   "source": [
    "home_doc = lxml.html.fromstring(home_req.text)"
   ]
  },
  {
   "cell_type": "code",
   "execution_count": 7,
   "metadata": {},
   "outputs": [],
   "source": [
    "cat_matches = home_doc.xpath('.//li[@class=\"navPage-subMenu-item\"]/a') "
   ]
  },
  {
   "cell_type": "code",
   "execution_count": 8,
   "metadata": {},
   "outputs": [],
   "source": [
    "cat_dicts = []\n",
    "for cat_match in cat_matches:\n",
    "    cat_url = cat_match.xpath('.//@href')[0]\n",
    "    cat_name = cat_match.xpath('.//text()')[0]\n",
    "    cat_dicts.append({\n",
    "        'cat_url': cat_url,\n",
    "        'cat_name': cat_name\n",
    "    })"
   ]
  },
  {
   "cell_type": "code",
   "execution_count": 9,
   "metadata": {},
   "outputs": [
    {
     "data": {
      "text/plain": [
       "[{'cat_url': 'https://uk.realisationpar.com/shop/everything/',\n",
       "  'cat_name': 'Everything'},\n",
       " {'cat_url': 'https://uk.realisationpar.com/shop/elton-john-for-real/',\n",
       "  'cat_name': 'Elton John for Réal'},\n",
       " {'cat_url': 'https://uk.realisationpar.com/shop/dresses/',\n",
       "  'cat_name': 'Dresses'},\n",
       " {'cat_url': 'https://uk.realisationpar.com/shop/jumpsuits/',\n",
       "  'cat_name': 'Jumpsuits'},\n",
       " {'cat_url': 'https://uk.realisationpar.com/shop/skirts/',\n",
       "  'cat_name': 'Skirts'},\n",
       " {'cat_url': 'https://uk.realisationpar.com/shop/tops/', 'cat_name': 'Tops'},\n",
       " {'cat_url': 'https://uk.realisationpar.com/shop/farewell-sale/',\n",
       "  'cat_name': 'Farewell Sale'}]"
      ]
     },
     "execution_count": 9,
     "metadata": {},
     "output_type": "execute_result"
    }
   ],
   "source": [
    "cat_dict"
   ]
  },
  {
   "cell_type": "code",
   "execution_count": 10,
   "metadata": {},
   "outputs": [],
   "source": [
    "cat_req = requests.get('https://uk.realisationpar.com/shop/dresses/', headers=headers)"
   ]
  },
  {
   "cell_type": "code",
   "execution_count": 11,
   "metadata": {},
   "outputs": [],
   "source": [
    "cat_doc = lxml.html.fromstring(cat_req.text)"
   ]
  },
  {
   "cell_type": "code",
   "execution_count": 12,
   "metadata": {},
   "outputs": [],
   "source": [
    "prod_urls = cat_doc.xpath('.//h4[contains(@class,\"product-name\")]/a/@href')"
   ]
  },
  {
   "cell_type": "code",
   "execution_count": 13,
   "metadata": {},
   "outputs": [
    {
     "data": {
      "text/plain": [
       "['https://uk.realisationpar.com/the-little-jeannie-snow-leopard/',\n",
       " 'https://uk.realisationpar.com/the-nikita-white-graffiti/',\n",
       " 'https://uk.realisationpar.com/the-levon-black-graffiti/',\n",
       " 'https://uk.realisationpar.com/the-amoreena-cloud/',\n",
       " 'https://uk.realisationpar.com/the-tiny-dancer-hammersmith/',\n",
       " 'https://uk.realisationpar.com/the-sacrifice-black-snake/',\n",
       " 'https://uk.realisationpar.com/mary-jane-shrooms/',\n",
       " 'https://uk.realisationpar.com/ivy-eden/',\n",
       " 'https://uk.realisationpar.com/the-isabelli-iluminismo/',\n",
       " 'https://uk.realisationpar.com/the-isabelli-rosalita/',\n",
       " 'https://uk.realisationpar.com/the-alba-rosalita/',\n",
       " 'https://uk.realisationpar.com/the-alba-white-strawberry/',\n",
       " 'https://uk.realisationpar.com/the-inez-black-strawberry/',\n",
       " 'https://uk.realisationpar.com/the-capulet-jupiter/',\n",
       " 'https://uk.realisationpar.com/the-capulet-karma/',\n",
       " 'https://uk.realisationpar.com/the-montague-tripping/',\n",
       " 'https://uk.realisationpar.com/the-amelia-midnight/',\n",
       " 'https://uk.realisationpar.com/the-allegra-milky-way/',\n",
       " 'https://uk.realisationpar.com/the-allegra-verona/',\n",
       " 'https://uk.realisationpar.com/the-lou-milky-way/',\n",
       " 'https://uk.realisationpar.com/the-isabelli-verona/',\n",
       " 'https://uk.realisationpar.com/the-liv-iluminismo/',\n",
       " 'https://uk.realisationpar.com/the-liv-rosalita/',\n",
       " 'https://uk.realisationpar.com/the-iris-pleasures/',\n",
       " 'https://uk.realisationpar.com/the-venus-pleasures/',\n",
       " 'https://uk.realisationpar.com/the-venus-red-squiggle/',\n",
       " 'https://uk.realisationpar.com/the-luna-white-strawberry/',\n",
       " 'https://uk.realisationpar.com/the-luna-black-strawberry/',\n",
       " 'https://uk.realisationpar.com/the-devon-flower-power/',\n",
       " 'https://uk.realisationpar.com/the-allegra-black-dragon/',\n",
       " 'https://uk.realisationpar.com/the-allegra-yellow-dragon/',\n",
       " 'https://uk.realisationpar.com/the-iris-hypnotic/',\n",
       " 'https://uk.realisationpar.com/the-tia-dusty-pink/',\n",
       " 'https://uk.realisationpar.com/the-owens-voodoo/',\n",
       " 'https://uk.realisationpar.com/the-iggy-yellow-polka-dot/',\n",
       " 'https://uk.realisationpar.com/the-juliet-rouge-fleur/',\n",
       " 'https://uk.realisationpar.com/the-juliet-italia-spot/',\n",
       " 'https://uk.realisationpar.com/the-julia-black-and-white-spot/',\n",
       " 'https://uk.realisationpar.com/the-julia-rouge-fleur/',\n",
       " 'https://uk.realisationpar.com/the-julia-purple-haze/',\n",
       " 'https://uk.realisationpar.com/the-amelia-nudite/',\n",
       " 'https://uk.realisationpar.com/the-amelia-poison-ivy/',\n",
       " 'https://uk.realisationpar.com/the-amelia-post-modern/',\n",
       " 'https://uk.realisationpar.com/the-leekley-bellissima/',\n",
       " 'https://uk.realisationpar.com/the-alexandra-red-star/',\n",
       " 'https://uk.realisationpar.com/the-alexandra-italia-spot/',\n",
       " 'https://uk.realisationpar.com/the-alexandra-star-struck/',\n",
       " 'https://uk.realisationpar.com/the-alexandra-dusty-blue-spot/',\n",
       " 'https://uk.realisationpar.com/the-alexandra-navy-star/',\n",
       " 'https://uk.realisationpar.com/the-teale-wild-cherry/',\n",
       " 'https://uk.realisationpar.com/the-teale-purple-haze/',\n",
       " 'https://uk.realisationpar.com/the-teale-rouge-fleur/',\n",
       " 'https://uk.realisationpar.com/the-vivienne-nudite/',\n",
       " 'https://uk.realisationpar.com/the-vivienne-purple-haze/',\n",
       " 'https://uk.realisationpar.com/the-vivienne-tiger/',\n",
       " 'https://uk.realisationpar.com/the-christy-black/',\n",
       " 'https://uk.realisationpar.com/the-christy-ivory/',\n",
       " 'https://uk.realisationpar.com/the-christy-tiger/',\n",
       " 'https://uk.realisationpar.com/the-christy-as-if/',\n",
       " 'https://uk.realisationpar.com/the-christy-sunflower/',\n",
       " 'https://uk.realisationpar.com/the-christy-wild-cherry/',\n",
       " 'https://uk.realisationpar.com/the-jeet-flower-power/',\n",
       " 'https://uk.realisationpar.com/the-1996-zodiac/',\n",
       " 'https://uk.realisationpar.com/the-emilie-shibuya/',\n",
       " 'https://uk.realisationpar.com/the-emilie-shanghai-nights/',\n",
       " 'https://uk.realisationpar.com/the-ozzie-pansy/',\n",
       " 'https://uk.realisationpar.com/the-ozzie-navy-star/',\n",
       " 'https://uk.realisationpar.com/the-ozzie-poison-ivy/',\n",
       " 'https://uk.realisationpar.com/the-violette-black-white-spot/',\n",
       " 'https://uk.realisationpar.com/the-elke-post-modern/',\n",
       " 'https://uk.realisationpar.com/the-kate-summer-loving-green/',\n",
       " 'https://uk.realisationpar.com/the-kate-black-white-spot/',\n",
       " 'https://uk.realisationpar.com/the-valentina-purple-haze/',\n",
       " 'https://uk.realisationpar.com/the-valentina-daisy/',\n",
       " 'https://uk.realisationpar.com/the-luella-summer-loving-blue/',\n",
       " 'https://uk.realisationpar.com/the-goldie-star-struck/',\n",
       " 'https://uk.realisationpar.com/the-mary-jane-sunflower/',\n",
       " 'https://uk.realisationpar.com/the-devon-white-squiggle/',\n",
       " 'https://uk.realisationpar.com/the-sunny-morning-glory/',\n",
       " 'https://uk.realisationpar.com/the-valentina-cherry/',\n",
       " 'https://uk.realisationpar.com/the-iggy-bellissima/',\n",
       " 'https://uk.realisationpar.com/the-jeet-315/',\n",
       " 'https://uk.realisationpar.com/the-violette-summer-loving-green/',\n",
       " 'https://uk.realisationpar.com/the-goldie-cherry/',\n",
       " 'https://uk.realisationpar.com/the-1996-black/']"
      ]
     },
     "execution_count": 13,
     "metadata": {},
     "output_type": "execute_result"
    }
   ],
   "source": [
    "prod_urls"
   ]
  },
  {
   "cell_type": "code",
   "execution_count": 4,
   "metadata": {},
   "outputs": [],
   "source": [
    "prod_req = requests.get('https://uk.realisationpar.com/the-1996-zodiac/', headers=headers)"
   ]
  },
  {
   "cell_type": "code",
   "execution_count": 5,
   "metadata": {},
   "outputs": [],
   "source": [
    "prod_doc = lxml.html.fromstring(prod_req.text)"
   ]
  },
  {
   "cell_type": "code",
   "execution_count": 6,
   "metadata": {},
   "outputs": [],
   "source": [
    "shop = 'Realisation Par'"
   ]
  },
  {
   "cell_type": "code",
   "execution_count": 7,
   "metadata": {},
   "outputs": [],
   "source": [
    "name_1 = prod_doc.xpath('.//h1[@class=\"productView-title\"]/text()')[0].strip()"
   ]
  },
  {
   "cell_type": "code",
   "execution_count": 8,
   "metadata": {},
   "outputs": [],
   "source": [
    "name_2 = prod_doc.xpath('.//meta[@name=\"description\"]/@content')[0].strip()"
   ]
  },
  {
   "cell_type": "code",
   "execution_count": 9,
   "metadata": {},
   "outputs": [],
   "source": [
    "name = f'{name_1}. {name_2}'"
   ]
  },
  {
   "cell_type": "code",
   "execution_count": 10,
   "metadata": {},
   "outputs": [
    {
     "data": {
      "text/plain": [
       "\"The 1996 - Zodiac. The 1996 dress is a 90's style, bias cut slip dress with a v-neckline & low scooped back. Original zodiac design embroidery on silk satin. Shop Online now.\""
      ]
     },
     "execution_count": 10,
     "metadata": {},
     "output_type": "execute_result"
    }
   ],
   "source": [
    "name"
   ]
  },
  {
   "cell_type": "code",
   "execution_count": 11,
   "metadata": {},
   "outputs": [],
   "source": [
    "price_current_match = prod_doc.xpath('.//meta[@property=\"product:price:amount\"]/@content')"
   ]
  },
  {
   "cell_type": "code",
   "execution_count": 12,
   "metadata": {},
   "outputs": [],
   "source": [
    "price_current = float(price_current_match[0])"
   ]
  },
  {
   "cell_type": "code",
   "execution_count": 13,
   "metadata": {},
   "outputs": [
    {
     "data": {
      "text/plain": [
       "250.0"
      ]
     },
     "execution_count": 13,
     "metadata": {},
     "output_type": "execute_result"
    }
   ],
   "source": [
    "price_current"
   ]
  },
  {
   "cell_type": "code",
   "execution_count": 14,
   "metadata": {},
   "outputs": [],
   "source": [
    "price_was_match = prod_doc.xpath('.//meta[@property=\"og:price:standard_amount\"]/@content')"
   ]
  },
  {
   "cell_type": "code",
   "execution_count": 15,
   "metadata": {},
   "outputs": [],
   "source": [
    "price_was = None\n",
    "if len(price_was_match) > 0:\n",
    "    price_was = float(price_was_match[0])"
   ]
  },
  {
   "cell_type": "code",
   "execution_count": 20,
   "metadata": {},
   "outputs": [
    {
     "data": {
      "text/plain": [
       "240.0"
      ]
     },
     "execution_count": 20,
     "metadata": {},
     "output_type": "execute_result"
    }
   ],
   "source": [
    "price_was"
   ]
  },
  {
   "cell_type": "code",
   "execution_count": 21,
   "metadata": {},
   "outputs": [],
   "source": [
    "if price_was is not None and price_was > price_current:\n",
    "    sale = True\n",
    "    price = price_was\n",
    "    saleprice = price_current\n",
    "else:\n",
    "    sale = False\n",
    "    price = price_current\n",
    "    saleprice = None"
   ]
  },
  {
   "cell_type": "code",
   "execution_count": 22,
   "metadata": {},
   "outputs": [
    {
     "data": {
      "text/plain": [
       "False"
      ]
     },
     "execution_count": 22,
     "metadata": {},
     "output_type": "execute_result"
    }
   ],
   "source": [
    "sale"
   ]
  },
  {
   "cell_type": "code",
   "execution_count": 23,
   "metadata": {},
   "outputs": [
    {
     "data": {
      "text/plain": [
       "250.0"
      ]
     },
     "execution_count": 23,
     "metadata": {},
     "output_type": "execute_result"
    }
   ],
   "source": [
    "price"
   ]
  },
  {
   "cell_type": "code",
   "execution_count": 24,
   "metadata": {},
   "outputs": [
    {
     "name": "stdout",
     "output_type": "stream",
     "text": [
      "None\n"
     ]
    }
   ],
   "source": [
    "print(saleprice)"
   ]
  },
  {
   "cell_type": "code",
   "execution_count": 70,
   "metadata": {},
   "outputs": [],
   "source": [
    "image_urls = prod_doc.xpath('.//img[contains(@class,\"productView-image--default\")]/@src')"
   ]
  },
  {
   "cell_type": "code",
   "execution_count": 71,
   "metadata": {},
   "outputs": [
    {
     "data": {
      "text/plain": [
       "['https://cdn11.bigcommerce.com/s-cuoa9yoomq/images/stencil/759x1000/products/722/6889/SUNNY_MorningGlory___73590.1543971322.500.659__87924__58613__04692.1554875824.jpg?c=2',\n",
       " 'https://cdn11.bigcommerce.com/s-cuoa9yoomq/images/stencil/759x1000/products/722/6890/SUNNY_MorningGlory_2__60237.1543971326.500.659__46064__55677__24198.1554875824.jpg?c=2',\n",
       " 'https://cdn11.bigcommerce.com/s-cuoa9yoomq/images/stencil/759x1000/products/722/6891/SUNNY_MorningGlory_4__24819.1543971331.500.659__43263__08736__80064.1554875824.jpg?c=2',\n",
       " 'https://cdn11.bigcommerce.com/s-cuoa9yoomq/images/stencil/759x1000/products/722/6892/SUNNY_MorningGlory_3__98028.1543971328.500.659__94660__97423__46991.1554875824.jpg?c=2',\n",
       " 'https://cdn11.bigcommerce.com/s-cuoa9yoomq/images/stencil/759x1000/products/722/6893/SUNNY_MorningGlory_5__29482.1543971334.500.659__70630__22147__95612.1554875824.jpg?c=2',\n",
       " 'https://cdn11.bigcommerce.com/s-cuoa9yoomq/images/stencil/759x1000/products/722/6894/SUNNY_MorningGlory_Studio_1__90463__68664__48346.1554875824.jpg?c=2',\n",
       " 'https://cdn11.bigcommerce.com/s-cuoa9yoomq/images/stencil/759x1000/products/722/6895/SUNNY_MorningGlory_Studio_2__14232__78282__31007.1554875824.jpg?c=2',\n",
       " 'https://cdn11.bigcommerce.com/s-cuoa9yoomq/images/stencil/759x1000/products/722/6896/SUNNY_MorningGlory_6_grey__84925__58468__61773.1554875824.jpg?c=2',\n",
       " 'https://cdn11.bigcommerce.com/s-cuoa9yoomq/images/stencil/759x1000/products/722/6897/SUNNY_MorningGlory_7_grey__10086__70035__55667.1554875824.jpg?c=2',\n",
       " 'https://cdn11.bigcommerce.com/s-cuoa9yoomq/images/stencil/759x1000/products/722/6898/MorningGlory_Swatch__71142.1543456775.500.659__57161__09190__35181.1554875824.jpg?c=2',\n",
       " 'https://cdn11.bigcommerce.com/s-cuoa9yoomq/images/stencil/759x1000/products/722/6899/SUNNY_MorningGlory_Front__61265.1543456741.500.659__07883__30558__03574.1554875824.jpg?c=2']"
      ]
     },
     "execution_count": 71,
     "metadata": {},
     "output_type": "execute_result"
    }
   ],
   "source": [
    "image_urls"
   ]
  },
  {
   "cell_type": "code",
   "execution_count": 72,
   "metadata": {},
   "outputs": [],
   "source": [
    "sex = 'women'"
   ]
  },
  {
   "cell_type": "code",
   "execution_count": 73,
   "metadata": {},
   "outputs": [],
   "source": [
    "brand = 'Realisation Par'"
   ]
  },
  {
   "cell_type": "code",
   "execution_count": 75,
   "metadata": {},
   "outputs": [],
   "source": [
    "currency = 'GBP'"
   ]
  },
  {
   "cell_type": "code",
   "execution_count": 83,
   "metadata": {},
   "outputs": [],
   "source": [
    "description = prod_doc.xpath('.//div[@id=\"tab-description\"]//span/text()')"
   ]
  },
  {
   "cell_type": "code",
   "execution_count": 84,
   "metadata": {},
   "outputs": [
    {
     "data": {
      "text/plain": [
       "[\"We are saying goodbye to the 'Sunny - Morning Glory', its your last chance buy. Get in quick before it's, gone but not forgotten!\",\n",
       " 'Sale item: Return for exchange or store credit only.',\n",
       " 'Sunny - tied 3 ways: a halter, cross back or straight down straps. She’s the perfect after beach dress, the one you just need to slip on to race down and grab those flowers from the markets, throw on straight out of the shower and race to where ever you are headed - turning up as ‘SUNNY’ as you always hoped!',\n",
       " 'Mid thigh in length (short version of the Jeet)',\n",
       " 'Straps able to be worn 3 ways, halter, cross back and straight down straps',\n",
       " 'Centre back skirt zip',\n",
       " '100% silk crepe',\n",
       " 'No lining',\n",
       " 'Original print\\xa0',\n",
       " '\\xa0designed by Réalisation',\n",
       " 'Notes:',\n",
       " 'Our Dreamgirls Valentina and Devon wear a size S. The Sunny is a mini dress, may not be suitable for girls over 5\\'9\". We use flash photography, refer to the image of the colour\\xa0swatch for best colour accuracy.\\xa0',\n",
       " '100% Silk',\n",
       " 'Dry Clean only ',\n",
       " 'Send us an email']"
      ]
     },
     "execution_count": 84,
     "metadata": {},
     "output_type": "execute_result"
    }
   ],
   "source": [
    "description"
   ]
  },
  {
   "cell_type": "code",
   "execution_count": 85,
   "metadata": {},
   "outputs": [],
   "source": [
    "size_matches = prod_doc.xpath('.//div[contains(@class,\"size-options\")]/label')"
   ]
  },
  {
   "cell_type": "code",
   "execution_count": 93,
   "metadata": {},
   "outputs": [],
   "source": [
    "size_stock = []\n",
    "for size_match in size_matches:\n",
    "    size_stock.append({\n",
    "        'size': size_match.xpath('.//text()')[1],\n",
    "        'stock': 'In stock'\n",
    "    })"
   ]
  },
  {
   "cell_type": "code",
   "execution_count": 94,
   "metadata": {},
   "outputs": [
    {
     "data": {
      "text/plain": [
       "[{'size': 'XXS', 'stock': 'In stock'},\n",
       " {'size': 'XS', 'stock': 'In stock'},\n",
       " {'size': 'S', 'stock': 'In stock'},\n",
       " {'size': 'M', 'stock': 'In stock'},\n",
       " {'size': 'L', 'stock': 'In stock'},\n",
       " {'size': 'XL', 'stock': 'In stock'},\n",
       " {'size': 'XXL', 'stock': 'In stock'}]"
      ]
     },
     "execution_count": 94,
     "metadata": {},
     "output_type": "execute_result"
    }
   ],
   "source": [
    "size_stock"
   ]
  },
  {
   "cell_type": "code",
   "execution_count": 95,
   "metadata": {},
   "outputs": [],
   "source": [
    "in_stock = True"
   ]
  },
  {
   "cell_type": "code",
   "execution_count": null,
   "metadata": {},
   "outputs": [],
   "source": []
  }
 ],
 "metadata": {
  "kernelspec": {
   "display_name": "Python 3",
   "language": "python",
   "name": "python3"
  },
  "language_info": {
   "codemirror_mode": {
    "name": "ipython",
    "version": 3
   },
   "file_extension": ".py",
   "mimetype": "text/x-python",
   "name": "python",
   "nbconvert_exporter": "python",
   "pygments_lexer": "ipython3",
   "version": "3.6.8"
  }
 },
 "nbformat": 4,
 "nbformat_minor": 4
}
