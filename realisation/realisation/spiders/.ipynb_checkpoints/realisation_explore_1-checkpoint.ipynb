{
 "cells": [
  {
   "cell_type": "code",
   "execution_count": 1,
   "metadata": {},
   "outputs": [],
   "source": [
    "import lxml.html\n",
    "import requests\n",
    "import re\n",
    "import json\n",
    "import random"
   ]
  },
  {
   "cell_type": "code",
   "execution_count": 2,
   "metadata": {},
   "outputs": [
    {
     "data": {
      "text/html": [
       "<style>.container { width:100% !important; }</style>"
      ],
      "text/plain": [
       "<IPython.core.display.HTML object>"
      ]
     },
     "metadata": {},
     "output_type": "display_data"
    }
   ],
   "source": [
    "from IPython.core.display import display, HTML\n",
    "display(HTML(\"<style>.container { width:100% !important; }</style>\"))"
   ]
  },
  {
   "cell_type": "code",
   "execution_count": 3,
   "metadata": {},
   "outputs": [],
   "source": [
    "headers = {\n",
    "    'accept': 'text/html,application/xhtml+xml,application/xml;q=0.9,image/webp,image/apng,*/*;q=0.8,application/signed-exchange;v=b3;q=0.9',\n",
    "    'accept-encoding': 'gzip, deflate, br',\n",
    "    'accept-language': 'en-US,en;q=0.9,lv;q=0.8',\n",
    "    'cache-control': 'no-cache',\n",
    "    'cookie': 'SHOP_SESSION_TOKEN=hjah5gqbsmemqpaaq1od9d3jsr; fornax_anonymousId=1e661674-c48d-4838-bd74-27edc0242d5f; _ga=GA1.2.1188411923.1582637235; _gid=GA1.2.1692255772.1582637235; STORE_VISITOR=1; landing_site=https://realisationpar.com/; SHOP_SESSION_TOKEN=hjah5gqbsmemqpaaq1od9d3jsr; XSRF-TOKEN=9be3f20f8068d185e63434560af8df13a45b60c42958649a717e639925922072; fornax_anonymousId=1e661674-c48d-4838-bd74-27edc0242d5f; _ga=GA1.3.1188411923.1582637235; _gid=GA1.3.1692255772.1582637235; optiMonkSession=1582637241; _ZB_STATIC_DR_widgetsUpdateTime={\"1274665\":1580682178}; _ZB_STATIC_DR_firstTimeVisit=1582637242057; _ZB_STATIC_DR_currentSessionTimeVisit=1582637242057; _ZB_STATIC_VIEW_THROUGH_WIDGET_1274665=1274665; _ZB_STATS_IMPRESSION.5b5fceb7=true; _ZB_STATS_IMPRESSION_PREMIUM_=true; _privy_606FF7E8D0289F2D9A9D8436=%7B%22uuid%22%3A%22660e971d-606a-43cb-9355-0b7f9c008efa%22%2C%22cart_value%22%3A0%2C%22variations%22%3A%7B%7D%2C%22country_code%22%3A%22ES%22%2C%22region_code%22%3A%22ES_56%22%2C%22postal_code%22%3A%2208015%22%7D; __zlcmid=wviwJwIbf8H1L4; XSRF-TOKEN=19d288e98243c4f063ec30e7cf5dda014a8f5481d70ddb71c167877fd0559279; location-popup=1; lastVisitedCategory=27; __atuvc=1%7C9; _ZB_ADMIN_TIME_STAMP_=1582638780489; _ZB_ADMIN_LAST_URL_=https://uk.realisationpar.com/; optiMonkClient=N4IgTAzAjAHDIC5QGMCGjRgyVyAuiADADQ4AOZiUArDGAGwQDsYT9pyAToiNQCYAjegE5IUZNTAAzGBEKEosMMgEBTKSFIA7APZ8qpPAFd0CEiADOPZABsdF1foC+T0lIBuVWg2ZgALFCkNp4INHSMMEzCfto6ZCEwLkA===; _ZB_STATS_VISIT_521324=1582641550068',\n",
    "    'pragma': 'no-cache',\n",
    "    'referer': 'https://uk.realisationpar.com/',\n",
    "    'sec-fetch-dest': 'document',\n",
    "    'sec-fetch-mode': 'navigate',\n",
    "    'sec-fetch-site': 'same-origin',\n",
    "    'sec-fetch-user': '?1',\n",
    "    'upgrade-insecure-requests': '1',\n",
    "    'user-agent': 'Mozilla/5.0 (Macintosh; Intel Mac OS X 10_14_6) AppleWebKit/537.36 (KHTML, like Gecko) Chrome/80.0.3987.116 Safari/537.36'\n",
    "}"
   ]
  },
  {
   "cell_type": "code",
   "execution_count": 4,
   "metadata": {},
   "outputs": [],
   "source": [
    "home_req = requests.get('https://uk.realisationpar.com/shop/everything/', headers=headers)"
   ]
  },
  {
   "cell_type": "code",
   "execution_count": 5,
   "metadata": {},
   "outputs": [],
   "source": [
    "home_doc = lxml.html.fromstring(home_req.text)"
   ]
  },
  {
   "cell_type": "code",
   "execution_count": 7,
   "metadata": {},
   "outputs": [],
   "source": [
    "cat_matches = home_doc.xpath('.//li[@class=\"navPage-subMenu-item\"]/a') "
   ]
  },
  {
   "cell_type": "code",
   "execution_count": 9,
   "metadata": {},
   "outputs": [],
   "source": [
    "cat_dict = []\n",
    "for cat_match in cat_matches:\n",
    "    cat_url = cat_match.xpath('.//@href')[0]\n",
    "    cat_name = cat_match.xpath('.//text()')[0]\n",
    "    cat_dict.append({\n",
    "        'cat_url': cat_url,\n",
    "        'cat_name': cat_name\n",
    "    })"
   ]
  },
  {
   "cell_type": "code",
   "execution_count": 10,
   "metadata": {},
   "outputs": [
    {
     "data": {
      "text/plain": [
       "[{'cat_url': 'https://uk.realisationpar.com/shop/everything/',\n",
       "  'cat_name': 'Everything'},\n",
       " {'cat_url': 'https://uk.realisationpar.com/shop/elton-john-for-real/',\n",
       "  'cat_name': 'Elton John for Réal'},\n",
       " {'cat_url': 'https://uk.realisationpar.com/shop/dresses/',\n",
       "  'cat_name': 'Dresses'},\n",
       " {'cat_url': 'https://uk.realisationpar.com/shop/jumpsuits/',\n",
       "  'cat_name': 'Jumpsuits'},\n",
       " {'cat_url': 'https://uk.realisationpar.com/shop/skirts/',\n",
       "  'cat_name': 'Skirts'},\n",
       " {'cat_url': 'https://uk.realisationpar.com/shop/tops/', 'cat_name': 'Tops'},\n",
       " {'cat_url': 'https://uk.realisationpar.com/shop/farewell-sale/',\n",
       "  'cat_name': 'Farewell Sale'}]"
      ]
     },
     "execution_count": 10,
     "metadata": {},
     "output_type": "execute_result"
    }
   ],
   "source": [
    "cat_dict"
   ]
  },
  {
   "cell_type": "code",
   "execution_count": 11,
   "metadata": {},
   "outputs": [],
   "source": [
    "cat_req = requests.get('https://uk.realisationpar.com/shop/dresses/', headers=headers)"
   ]
  },
  {
   "cell_type": "code",
   "execution_count": 12,
   "metadata": {},
   "outputs": [],
   "source": [
    "cat_doc = lxml.html.fromstring(cat_req.text)"
   ]
  },
  {
   "cell_type": "code",
   "execution_count": null,
   "metadata": {},
   "outputs": [],
   "source": []
  }
 ],
 "metadata": {
  "kernelspec": {
   "display_name": "Python 3",
   "language": "python",
   "name": "python3"
  },
  "language_info": {
   "codemirror_mode": {
    "name": "ipython",
    "version": 3
   },
   "file_extension": ".py",
   "mimetype": "text/x-python",
   "name": "python",
   "nbconvert_exporter": "python",
   "pygments_lexer": "ipython3",
   "version": "3.6.8"
  }
 },
 "nbformat": 4,
 "nbformat_minor": 4
}
