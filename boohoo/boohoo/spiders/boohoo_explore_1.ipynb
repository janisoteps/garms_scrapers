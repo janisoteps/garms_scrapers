{
 "cells": [
  {
   "cell_type": "code",
   "execution_count": 44,
   "metadata": {},
   "outputs": [],
   "source": [
    "import lxml.html\n",
    "import requests\n",
    "import re\n",
    "import json\n",
    "import random\n",
    "import math\n",
    "from IPython.display import Image"
   ]
  },
  {
   "cell_type": "code",
   "execution_count": 2,
   "metadata": {},
   "outputs": [],
   "source": [
    "headers = {\n",
    "    'accept': 'text/html,application/xhtml+xml,application/xml;q=0.9,image/webp,image/apng,*/*;q=0.8,application/signed-exchange;v=b3',\n",
    "    'accept-encoding': 'gzip, deflate, br',\n",
    "    'accept-language': 'en-US,en;q=0.9,lv;q=0.8',\n",
    "    'cache-control': 'no-cache',\n",
    "    'cookie': '__cfduid=de6bab5f9b68cb380ef4b941545ef25eb1560717279; dwac_901934c2df27fe61a1e3d786c2=P5kOg8ksRdY4FNCsE33SGW63EtPWjruw3Ic%3D|dw-only|||GBP|false|Europe%2FLondon|true; cqcid=ac4G2blima1O28eecvkX8f8Q6R; sid=P5kOg8ksRdY4FNCsE33SGW63EtPWjruw3Ic; dwanonymous_3c96516478c33a12ebf223e921102926=ac4G2blima1O28eecvkX8f8Q6R; __cq_dnt=0; dw_dnt=0; dwsid=OWc0R1QfI8VvEC2-yw3jbWhJKBdLvd2ji4MqFJ7H12Vh4DaFMTg_YkQNp1HbaKM_nvYsNmrjPDCYYVBqNU-PyA==; mt.v=2.668808714.1560717288370; locationProtocol=https%3A; _gcl_au=1.1.1180915791.1560717290; __adal_first_visit=1560717290174; _ga=GA1.2.1094295532.1560717290; _gid=GA1.2.1918252411.1560717290; _scid=e9b4b24f-5cbd-4e52-9e40-a8e2197336b6; cd_user_id=16b61ffebb163f-0a6be026537f59-37647e03-232800-16b61ffebb252e; __cq_seg=0~0.00!1~0.00!2~0.00!3~0.00!4~0.00!5~0.00!6~0.00!7~0.00!8~0.00!9~0.00; _cs_c=1; _fbp=fb.1.1560717290889.1104685392; riTrack_WRSID=1560717293029544604; cto_lwid=c2f1d4a0-58d8-4a51-9129-f4539767a8fa; dw_locale=en_GB; __cq_uuid=ccdcf580-d6ce-11e8-af72-ef24856155e0; dwsecuretoken_3c96516478c33a12ebf223e921102926=ggHn-BU4Ko_lGpii1HkrnDP-YiDUfP4psA==; __adal_session_start=1560724388629; __adal_last_visit=1560724388629; C360i=242D6DB82A99425B9532965155D13D12|eyJjcmVhdGVkIjoxNTYwNzE3MjkwNjYwLCJ1cGRhdGVkIjoxNTYwNzI0Mzg4Nzg0LCJ0YWciOiIyLTIuMjQtNiIsImNvdW50Ijo2LCJldGFnIjoiNjk2MDkyNzE3MDY1MTA0NDU5MDAwMDAwMzU5ODNiMWQwN2QxNGVjMDc0YjdlOTdkNDAyMGU0YjhjNDNlIn0=; C360i=242D6DB82A99425B9532965155D13D12|eyJjcmVhdGVkIjoxNTYwNzE3MjkwNjYwLCJ1cGRhdGVkIjoxNTYwNzI0Mzg4Nzg0LCJ0YWciOiIyLTIuMjQtNiIsImNvdW50Ijo2LCJldGFnIjoiNjk2MDkyNzE3MDY1MTA0NDU5MDAwMDAwMzU5ODNiMWQwN2QxNGVjMDc0YjdlOTdkNDAyMGU0YjhjNDNlIn0=; _cs_id=e8c4a580-fe87-a8cb-bf2f-24e89f4f7e98.1560717290.5.1560766227.1560766227.1499948428.1594881290777; _cs_s=1.0; dw=1; dw_cookies_accepted=1',\n",
    "    'pragma': 'no-cache',\n",
    "    'referer': 'https://www.boohoo.com',\n",
    "    'upgrade-insecure-requests': '1',\n",
    "    'user-agent': 'Mozilla/5.0 (Macintosh; Intel Mac OS X 10_14_5) AppleWebKit/537.36 (KHTML, like Gecko) Chrome/74.0.3729.169 Safari/537.36'\n",
    "}"
   ]
  },
  {
   "cell_type": "code",
   "execution_count": 3,
   "metadata": {},
   "outputs": [],
   "source": [
    "sitemap_req = requests.get('https://www.boohoo.com/page/sitemap.html', headers=headers)"
   ]
  },
  {
   "cell_type": "code",
   "execution_count": 4,
   "metadata": {},
   "outputs": [],
   "source": [
    "sitemap_doc = lxml.html.fromstring(sitemap_req.text)"
   ]
  },
  {
   "cell_type": "code",
   "execution_count": 5,
   "metadata": {},
   "outputs": [],
   "source": [
    "cat_links = sitemap_doc.xpath('.//h4[@class=\"sitemap-subtitle\"]/a')"
   ]
  },
  {
   "cell_type": "code",
   "execution_count": 6,
   "metadata": {},
   "outputs": [],
   "source": [
    "cat_link_arr = []"
   ]
  },
  {
   "cell_type": "code",
   "execution_count": 7,
   "metadata": {},
   "outputs": [],
   "source": [
    "for cat_link in cat_links:\n",
    "    cat_url = cat_link.xpath('.//@href')[0]\n",
    "    cat_name_dirty = cat_link.xpath('.//text()')[0]\n",
    "    cat_name = re.sub(r'([^\\s\\w]|_)+', '', cat_name_dirty).strip()\n",
    "    link_dict = {\n",
    "        'cat_url': cat_url,\n",
    "        'cat_name': cat_name\n",
    "    }\n",
    "    cat_link_arr.append(link_dict)"
   ]
  },
  {
   "cell_type": "code",
   "execution_count": null,
   "metadata": {},
   "outputs": [],
   "source": [
    "# re.sub(r'([^\\s\\w]|_)+', '', '↵Style Steals↵')"
   ]
  },
  {
   "cell_type": "code",
   "execution_count": null,
   "metadata": {},
   "outputs": [],
   "source": [
    "# cat_link_arr"
   ]
  },
  {
   "cell_type": "code",
   "execution_count": 8,
   "metadata": {},
   "outputs": [],
   "source": [
    "def get_sex(url_string):\n",
    "    if 'womens' in url_string or 'maternity' in url_string:\n",
    "        return 'women'\n",
    "    else:\n",
    "        return 'men'"
   ]
  },
  {
   "cell_type": "code",
   "execution_count": 9,
   "metadata": {},
   "outputs": [],
   "source": [
    "cat_link_sex_arr = [{\n",
    "    'cat_url': cat_link['cat_url'],\n",
    "    'cat_name': cat_link['cat_name'],\n",
    "    'cat_sex': get_sex(cat_link['cat_url'])\n",
    "} for cat_link in cat_link_arr]"
   ]
  },
  {
   "cell_type": "code",
   "execution_count": null,
   "metadata": {},
   "outputs": [],
   "source": [
    "# cat_link_sex_arr"
   ]
  },
  {
   "cell_type": "code",
   "execution_count": 10,
   "metadata": {},
   "outputs": [],
   "source": [
    "cat_page_req = requests.get('https://www.boohoo.com/womens/skirts/midi-skirts', headers=headers)"
   ]
  },
  {
   "cell_type": "code",
   "execution_count": 11,
   "metadata": {},
   "outputs": [],
   "source": [
    "cat_page_doc = lxml.html.fromstring(cat_page_req.text)"
   ]
  },
  {
   "cell_type": "code",
   "execution_count": 12,
   "metadata": {},
   "outputs": [],
   "source": [
    "prod_count_match = cat_page_doc.xpath('.//div[contains(@class, \"js-product-count\")]/text()')"
   ]
  },
  {
   "cell_type": "code",
   "execution_count": 13,
   "metadata": {},
   "outputs": [],
   "source": [
    "prod_count_string = prod_count_match[0].strip()"
   ]
  },
  {
   "cell_type": "code",
   "execution_count": 14,
   "metadata": {},
   "outputs": [],
   "source": [
    "prod_count = int(re.sub(\"\\D\", \"\", prod_count_string))"
   ]
  },
  {
   "cell_type": "code",
   "execution_count": 15,
   "metadata": {},
   "outputs": [
    {
     "data": {
      "text/plain": [
       "256"
      ]
     },
     "execution_count": 15,
     "metadata": {},
     "output_type": "execute_result"
    }
   ],
   "source": [
    "prod_count"
   ]
  },
  {
   "cell_type": "code",
   "execution_count": 16,
   "metadata": {},
   "outputs": [],
   "source": [
    "page_count = math.ceil(prod_count / 60)"
   ]
  },
  {
   "cell_type": "code",
   "execution_count": 17,
   "metadata": {},
   "outputs": [
    {
     "data": {
      "text/plain": [
       "5"
      ]
     },
     "execution_count": 17,
     "metadata": {},
     "output_type": "execute_result"
    }
   ],
   "source": [
    "page_count"
   ]
  },
  {
   "cell_type": "code",
   "execution_count": 18,
   "metadata": {},
   "outputs": [],
   "source": [
    "prod_arr = []"
   ]
  },
  {
   "cell_type": "code",
   "execution_count": 19,
   "metadata": {},
   "outputs": [
    {
     "name": "stdout",
     "output_type": "stream",
     "text": [
      "0\n",
      "60\n",
      "120\n",
      "180\n",
      "240\n"
     ]
    }
   ],
   "source": [
    "for k in range(0,page_count):\n",
    "    print(k * 60)\n",
    "    req_url = 'https://www.boohoo.com/womens/skirts/midi-skirts' + '?sz=60&start=' + str(k * 60)\n",
    "    cat_page_req = requests.get(req_url, headers=headers)\n",
    "    cat_page_doc = lxml.html.fromstring(cat_page_req.text)\n",
    "    product_tiles = cat_page_doc.xpath('.//div[@class=\"product-tile\"]')\n",
    "    for product_tile in product_tiles:\n",
    "        prod_url = product_tile.xpath('.//a[contains(@class, \"name-link\")]/@href')[0]\n",
    "        prod_name = product_tile.xpath('.//a[contains(@class, \"name-link\")]/text()')[0]\n",
    "        prod_arr.append({\n",
    "            'prod_url': 'https://www.boohoo.com' + prod_url,\n",
    "            'prod_name': prod_name.strip()\n",
    "        })"
   ]
  },
  {
   "cell_type": "code",
   "execution_count": 20,
   "metadata": {},
   "outputs": [
    {
     "data": {
      "text/plain": [
       "256"
      ]
     },
     "execution_count": 20,
     "metadata": {},
     "output_type": "execute_result"
    }
   ],
   "source": [
    "len(prod_arr)"
   ]
  },
  {
   "cell_type": "code",
   "execution_count": null,
   "metadata": {},
   "outputs": [],
   "source": [
    "prod_arr"
   ]
  },
  {
   "cell_type": "code",
   "execution_count": null,
   "metadata": {},
   "outputs": [],
   "source": [
    "#     shop = Field()\n",
    "#     name = Field()\n",
    "#     price = Field()\n",
    "#     prod_url = Field()\n",
    "#     image_urls = Field()\n",
    "#     image_hash = Field()\n",
    "#     sex = Field()\n",
    "#     sale = Field()\n",
    "#     saleprice = Field()\n",
    "\n",
    "#     brand = Field()\n",
    "#     currency = Field()\n",
    "#     date = Field()\n",
    "#     description = Field()\n",
    "#     color_string = Field()\n",
    "#     color_hex = Field()\n",
    "#     category = Field()\n",
    "#     size_stock = Field()"
   ]
  },
  {
   "cell_type": "code",
   "execution_count": 21,
   "metadata": {},
   "outputs": [],
   "source": [
    "prod_page_req = requests.get('https://www.boohoo.com/recycled-rib-twist-detail-crop-midi-skirt-co-ord/FZZ88507-2.html', headers=headers)\n"
   ]
  },
  {
   "cell_type": "code",
   "execution_count": 22,
   "metadata": {},
   "outputs": [],
   "source": [
    "prod_page_doc = lxml.html.fromstring(prod_page_req.text)"
   ]
  },
  {
   "cell_type": "code",
   "execution_count": 23,
   "metadata": {},
   "outputs": [],
   "source": [
    "price_match = prod_page_doc.xpath('.//span[contains(@itemprop, \"price\")]/@content')"
   ]
  },
  {
   "cell_type": "code",
   "execution_count": 24,
   "metadata": {},
   "outputs": [
    {
     "data": {
      "text/plain": [
       "1"
      ]
     },
     "execution_count": 24,
     "metadata": {},
     "output_type": "execute_result"
    }
   ],
   "source": [
    "len(price_match)"
   ]
  },
  {
   "cell_type": "code",
   "execution_count": 25,
   "metadata": {},
   "outputs": [],
   "source": [
    "price = None\n",
    "if len(price_match) > 0:\n",
    "    price = float(price_match[0])"
   ]
  },
  {
   "cell_type": "code",
   "execution_count": 26,
   "metadata": {},
   "outputs": [
    {
     "data": {
      "text/plain": [
       "17.6"
      ]
     },
     "execution_count": 26,
     "metadata": {},
     "output_type": "execute_result"
    }
   ],
   "source": [
    "price"
   ]
  },
  {
   "cell_type": "code",
   "execution_count": 27,
   "metadata": {},
   "outputs": [],
   "source": [
    "price_class_match = prod_page_doc.xpath('.//span[contains(@itemprop, \"price\")]/@class')\n",
    "price_class = None\n",
    "if len(price_class_match) > 0:\n",
    "    price_class = price_class_match[0]"
   ]
  },
  {
   "cell_type": "code",
   "execution_count": 28,
   "metadata": {},
   "outputs": [
    {
     "data": {
      "text/plain": [
       "'price-sales'"
      ]
     },
     "execution_count": 28,
     "metadata": {},
     "output_type": "execute_result"
    }
   ],
   "source": [
    "price_class"
   ]
  },
  {
   "cell_type": "code",
   "execution_count": 29,
   "metadata": {
    "scrolled": true
   },
   "outputs": [
    {
     "data": {
      "text/plain": [
       "True"
      ]
     },
     "execution_count": 29,
     "metadata": {},
     "output_type": "execute_result"
    }
   ],
   "source": [
    "'sales' in price_class"
   ]
  },
  {
   "cell_type": "code",
   "execution_count": 30,
   "metadata": {},
   "outputs": [],
   "source": [
    "sale = 'sales' in price_class"
   ]
  },
  {
   "cell_type": "code",
   "execution_count": 31,
   "metadata": {
    "scrolled": true
   },
   "outputs": [
    {
     "data": {
      "text/plain": [
       "True"
      ]
     },
     "execution_count": 31,
     "metadata": {},
     "output_type": "execute_result"
    }
   ],
   "source": [
    "sale"
   ]
  },
  {
   "cell_type": "code",
   "execution_count": 32,
   "metadata": {},
   "outputs": [],
   "source": [
    "description_match = prod_page_doc.xpath('.//meta[@property=\"og:description\"]/@content')\n",
    "description = None\n",
    "if len(description_match) > 0:\n",
    "    description = description_match[0]"
   ]
  },
  {
   "cell_type": "code",
   "execution_count": 33,
   "metadata": {},
   "outputs": [
    {
     "data": {
      "text/plain": [
       "'Co-ordinates are the quick way to quirky this season  Make way for the matchy-matchy trend this season as style gets streamlined with co-ord sets. Top to toe prints are conversation starters with crop tops, skorts and skirts all in on the action. Break it up with a waist belt and add a quirky clutch for instant style kudos.'"
      ]
     },
     "execution_count": 33,
     "metadata": {},
     "output_type": "execute_result"
    }
   ],
   "source": [
    "description"
   ]
  },
  {
   "cell_type": "code",
   "execution_count": 35,
   "metadata": {},
   "outputs": [],
   "source": [
    "primary_img_match = prod_page_doc.xpath('.//img[contains(@class, \"js-primary-image\")]/@src')\n",
    "primary_img = None\n",
    "if len(primary_img_match) > 0:\n",
    "    primary_img = primary_img_match[0]"
   ]
  },
  {
   "cell_type": "code",
   "execution_count": 36,
   "metadata": {},
   "outputs": [
    {
     "data": {
      "text/plain": [
       "'//i1.adis.ws/i/boohooamplience/fzz88507_black_xl?$product_image_main$'"
      ]
     },
     "execution_count": 36,
     "metadata": {},
     "output_type": "execute_result"
    }
   ],
   "source": [
    "primary_img"
   ]
  },
  {
   "cell_type": "code",
   "execution_count": 37,
   "metadata": {},
   "outputs": [],
   "source": [
    "prim_im_split = primary_img.split('?')"
   ]
  },
  {
   "cell_type": "code",
   "execution_count": 38,
   "metadata": {},
   "outputs": [
    {
     "data": {
      "text/plain": [
       "['//i1.adis.ws/i/boohooamplience/fzz88507_black_xl', '$product_image_main$']"
      ]
     },
     "execution_count": 38,
     "metadata": {},
     "output_type": "execute_result"
    }
   ],
   "source": [
    "prim_im_split"
   ]
  },
  {
   "cell_type": "code",
   "execution_count": 47,
   "metadata": {},
   "outputs": [],
   "source": [
    "secondary_imgs = []\n",
    "for t in range(1,4):\n",
    "    sec_img_url = f'https:{prim_im_split[0]}_{t}?{prim_im_split[1]}'\n",
    "    secondary_imgs.append(sec_img_url)"
   ]
  },
  {
   "cell_type": "code",
   "execution_count": 48,
   "metadata": {},
   "outputs": [
    {
     "data": {
      "text/plain": [
       "['https://i1.adis.ws/i/boohooamplience/fzz88507_black_xl_1?$product_image_main$',\n",
       " 'https://i1.adis.ws/i/boohooamplience/fzz88507_black_xl_2?$product_image_main$',\n",
       " 'https://i1.adis.ws/i/boohooamplience/fzz88507_black_xl_3?$product_image_main$']"
      ]
     },
     "execution_count": 48,
     "metadata": {},
     "output_type": "execute_result"
    }
   ],
   "source": [
    "secondary_imgs"
   ]
  },
  {
   "cell_type": "markdown",
   "metadata": {},
   "source": [
    "![title](https://i1.adis.ws/i/boohooamplience/fzz88507_black_xl_3?$product_image_main$)\n"
   ]
  },
  {
   "cell_type": "markdown",
   "metadata": {},
   "source": [
    "![](https://i1.adis.ws/i/boohooamplience/fzz88507_black_xl_1?$product_image_main$)"
   ]
  },
  {
   "cell_type": "code",
   "execution_count": 51,
   "metadata": {},
   "outputs": [],
   "source": [
    "color_match = prod_page_doc.xpath('.//div[contains(text(), \"Colour\")]/span/text()')\n",
    "color_string = None\n",
    "if len(color_match) > 0:\n",
    "    color_string = color_match[0].strip()"
   ]
  },
  {
   "cell_type": "code",
   "execution_count": 52,
   "metadata": {},
   "outputs": [
    {
     "data": {
      "text/plain": [
       "'black'"
      ]
     },
     "execution_count": 52,
     "metadata": {},
     "output_type": "execute_result"
    }
   ],
   "source": [
    "color_string"
   ]
  },
  {
   "cell_type": "code",
   "execution_count": 54,
   "metadata": {},
   "outputs": [],
   "source": [
    "size_matches = prod_page_doc.xpath('.//ul[contains(@class, \"swatches size\")]/li/span/@data-variation-values')\n",
    "size_arr = []\n",
    "for size_match in size_matches:\n",
    "    size_json = json.loads(size_match)\n",
    "#     print(size_json)\n",
    "    size_arr.append({\n",
    "                'stock': 'In stock',\n",
    "                'size': size_json['attributeValue']\n",
    "            })"
   ]
  },
  {
   "cell_type": "code",
   "execution_count": 55,
   "metadata": {},
   "outputs": [
    {
     "data": {
      "text/plain": [
       "[{'stock': 'In stock', 'size': '6'},\n",
       " {'stock': 'In stock', 'size': '8'},\n",
       " {'stock': 'In stock', 'size': '10'},\n",
       " {'stock': 'In stock', 'size': '12'},\n",
       " {'stock': 'In stock', 'size': '14'},\n",
       " {'stock': 'In stock', 'size': '16'}]"
      ]
     },
     "execution_count": 55,
     "metadata": {},
     "output_type": "execute_result"
    }
   ],
   "source": [
    "size_arr"
   ]
  },
  {
   "cell_type": "code",
   "execution_count": null,
   "metadata": {},
   "outputs": [],
   "source": []
  }
 ],
 "metadata": {
  "kernelspec": {
   "display_name": "Python 3",
   "language": "python",
   "name": "python3"
  },
  "language_info": {
   "codemirror_mode": {
    "name": "ipython",
    "version": 3
   },
   "file_extension": ".py",
   "mimetype": "text/x-python",
   "name": "python",
   "nbconvert_exporter": "python",
   "pygments_lexer": "ipython3",
   "version": "3.6.4"
  }
 },
 "nbformat": 4,
 "nbformat_minor": 2
}
