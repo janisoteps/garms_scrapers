{
 "cells": [
  {
   "cell_type": "code",
   "execution_count": 1,
   "metadata": {},
   "outputs": [],
   "source": [
    "import lxml.html\n",
    "import requests\n",
    "import re\n",
    "import json\n",
    "import random"
   ]
  },
  {
   "cell_type": "code",
   "execution_count": 2,
   "metadata": {},
   "outputs": [
    {
     "data": {
      "text/html": [
       "<style>.container { width:100% !important; }</style>"
      ],
      "text/plain": [
       "<IPython.core.display.HTML object>"
      ]
     },
     "metadata": {},
     "output_type": "display_data"
    }
   ],
   "source": [
    "from IPython.core.display import display, HTML\n",
    "display(HTML(\"<style>.container { width:100% !important; }</style>\"))"
   ]
  },
  {
   "cell_type": "code",
   "execution_count": 3,
   "metadata": {},
   "outputs": [],
   "source": [
    "headers = {\n",
    "    'accept': 'text/html,application/xhtml+xml,application/xml;q=0.9,image/webp,image/apng,*/*;q=0.8,application/signed-exchange;v=b3;q=0.9',\n",
    "    'accept-encoding': 'gzip, deflate, br',\n",
    "    'accept-language': 'en-US,en;q=0.9,lv;q=0.8',\n",
    "    'cache-control': 'no-cache',\n",
    "    'cookie': '__cfduid=d24d068113b31bf517ab1ae9ef96c5dd51577707171; __cq_dnt=0; dw_dnt=0; dwanonymous_4887ae275d2e3149dd6a6534fdd472df=abYE6YkyBPG7yF0FcYS5tiuoTK; dwac_bc082iaaiTywMaaadqlmYUVd5G=VP0qIhrI5ogqrkXLgiZzTeg4eFyTuF7m1xI%3D|dw-only|||EUR|false|Europe%2FAmsterdam|true; dwsecuretoken_4887ae275d2e3149dd6a6534fdd472df=Q-JV78G2bhPgfU_xMYWe2ANzlDcpJMZsHw==; mt.v=2.2099170123.1577707188214; dw_cookies_accepted=1; mt.pc=2.1; _gcl_au=1.1.1332640076.1577707189; mt.g.829f7900=2.2099170123.1577707188214; _ga=GA1.2.2114291612.1577707189; _gid=GA1.2.1727498562.1577707189; __cq_uuid=d81b0bb0-c018-11e9-b6cd-25e4f7339976; customer_club_closed=true; _ga_cookie=VP0qIhrI5ogqrkXLgiZzTeg4eFyTuF7m1xI; dwanonymous_982e1e223e55662daee7d57e25e7fcbe=abkHVe7TmzGw4pIX0yx9xVWeNv; __cq_bc=%7B%22abbt-BSE-South%22%3A%5B%7B%22id%22%3A%2227000430%22%7D%5D%7D; tfc-l=%7B%22a%22%3A%7B%22v%22%3A%22b6a25f19-3715-427f-af0f-6537aae18ce1%22%2C%22e%22%3A1577794171%7D%7D; sid=DdVt9MxTXWhjjaL6ODIfnuq4DCNo5kCVquk; dwsid=msRSJsKqjTogfCt44u3rQH2pM_FmH5DH6RjnjAlgSpXIIEh0hYx0SphckDjDYEw9CkgT_fnGUKw_fGWuI6MIOQ==; dwanonymous_91b08f347cfea20452b0e969603162ea=acl14ydlTWfmy9xaxlGBOLYrcw; dwac_49c0f6ae5a5eb5be1f9fbe29ac=DdVt9MxTXWhjjaL6ODIfnuq4DCNo5kCVquk%3D|dw-only|||EUR|false|Europe%2FAmsterdam|true; dwsecuretoken_91b08f347cfea20452b0e969603162ea=CPQSS9Raga1bApK3S8EUCEi3PMGWqu7gWQ==; dwac_bcJ6oiaaiTPCaaaadq9ngUVd5G=DdVt9MxTXWhjjaL6ODIfnuq4DCNo5kCVquk%3D|dw-only|||EUR|false|Europe%2FAmsterdam|true; dwsecuretoken_982e1e223e55662daee7d57e25e7fcbe=CbM9C01fXJ8a62tSjlqFHJ1oeTz4lkcA7g==; cqcid=abkHVe7TmzGw4pIX0yx9xVWeNv; AMP_TOKEN=%24NOT_FOUND; _dc_gtm_UA-66188758-43=1; _dc_gtm_UA-66188758-20=1; __cq_seg=0~0.47!1~0.07!2~0.05!3~0.23!4~-0.06!5~-0.25!6~0.06!7~-0.54!8~-0.56!9~0.22',\n",
    "    'pragma': 'no-cache',\n",
    "    'referer': 'https://www.noisymay.com/gb/en/home',\n",
    "    'sec-fetch-mode': 'navigate',\n",
    "    'sec-fetch-site': 'same-origin',\n",
    "    'sec-fetch-user': '?1',\n",
    "    'upgrade-insecure-requests': '1',\n",
    "    'user-agent': 'Mozilla/5.0 (Macintosh; Intel Mac OS X 10_14_6) AppleWebKit/537.36 (KHTML, like Gecko) Chrome/79.0.3945.88 Safari/537.36'\n",
    "}"
   ]
  },
  {
   "cell_type": "code",
   "execution_count": 18,
   "metadata": {},
   "outputs": [],
   "source": [
    "cat_page_req = requests.get('https://www.noisymay.com/gb/en/nm/clothing/?sz=60&start=0', headers=headers)"
   ]
  },
  {
   "cell_type": "code",
   "execution_count": 19,
   "metadata": {},
   "outputs": [],
   "source": [
    "cat_page_doc = lxml.html.fromstring(cat_page_req.text)"
   ]
  },
  {
   "cell_type": "code",
   "execution_count": 20,
   "metadata": {},
   "outputs": [],
   "source": [
    "prod_count_match = re.search('(?<=nm-shop-by-category\\\",\\\"items\\\"\\:).*?(?=\\})', cat_page_req.text)"
   ]
  },
  {
   "cell_type": "code",
   "execution_count": 21,
   "metadata": {},
   "outputs": [],
   "source": [
    "if prod_count_match is not None:\n",
    "    prod_count = int(prod_count_match.group(0))"
   ]
  },
  {
   "cell_type": "code",
   "execution_count": 22,
   "metadata": {},
   "outputs": [
    {
     "data": {
      "text/plain": [
       "442"
      ]
     },
     "execution_count": 22,
     "metadata": {},
     "output_type": "execute_result"
    }
   ],
   "source": [
    "prod_count"
   ]
  },
  {
   "cell_type": "code",
   "execution_count": 23,
   "metadata": {},
   "outputs": [],
   "source": [
    "pages = int(prod_count / 60) + 1"
   ]
  },
  {
   "cell_type": "code",
   "execution_count": 24,
   "metadata": {},
   "outputs": [
    {
     "data": {
      "text/plain": [
       "8"
      ]
     },
     "execution_count": 24,
     "metadata": {},
     "output_type": "execute_result"
    }
   ],
   "source": [
    "pages"
   ]
  },
  {
   "cell_type": "code",
   "execution_count": 25,
   "metadata": {},
   "outputs": [],
   "source": [
    "prod_urls = cat_page_doc.xpath('.//a[contains(@class, \"plp__products__item__image-container\")]/@href')"
   ]
  },
  {
   "cell_type": "code",
   "execution_count": 26,
   "metadata": {},
   "outputs": [
    {
     "data": {
      "text/plain": [
       "['https://www.noisymay.com/gb/en/nm/clothing/new-in/nmcallie-high-waist-skinny-fit-jeans-27007982.html?cgid=nm-new-in-clothing&dwvar_colorPattern=27007982_BlackDenim',\n",
       " 'https://www.noisymay.com/gb/en/nm/clothing/teddy-jacket-27010169.html?cgid=nm-shop-by-category&dwvar_colorPattern=27010169_WhitePepper',\n",
       " 'https://www.noisymay.com/gb/en/nm/clothing/teddy-jacket-27010169.html?cgid=nm-shop-by-category&dwvar_colorPattern=27010169_Black',\n",
       " 'https://www.noisymay.com/gb/en/nm/clothing/normal-waist-biker-trousers-27010539.html?cgid=nm-shop-by-category&dwvar_colorPattern=27010539_Black',\n",
       " 'https://www.noisymay.com/gb/en/nm/clothing/jackets/teddy-coat-27003719.html?cgid=nm-jackets&dwvar_colorPattern=27003719_Kalamata_723634',\n",
       " 'https://www.noisymay.com/gb/en/nm/noisy-news/double-denim/nmcallie-high-waist-skinny-fit-jeans-27007979.html?cgid=nm-denim-heroes&dwvar_colorPattern=27007979_MediumBlueDenim',\n",
       " 'https://www.noisymay.com/gb/en/nm/new-in/knit-cardigan-27008363.html?cgid=nm-new-in&dwvar_colorPattern=27008363_Black',\n",
       " 'https://www.noisymay.com/gb/en/nm/clothing/nmcallie-high-waist-skinny-fit-jeans-27009380.html?cgid=nm-shop-by-category&dwvar_colorPattern=27009380_BlackDenim',\n",
       " 'https://www.noisymay.com/gb/en/nm/clothing/jeans/nmeve-low-waist-skinny-fit-jeans-27009447.html?cgid=nm-jeans&dwvar_colorPattern=27009447_Black',\n",
       " 'https://www.noisymay.com/gb/en/nm/new-in/knit-cardigan-27008363.html?cgid=nm-new-in&dwvar_colorPattern=27008363_Olivine',\n",
       " 'https://www.noisymay.com/gb/en/nm/clothing/jackets/padded-jacket-27010256.html?cgid=nm-jackets&dwvar_colorPattern=27010256_MistyRose',\n",
       " 'https://www.noisymay.com/gb/en/nm/great-offers/teddy-cardigan-27010270.html?cgid=nm-great-offers&dwvar_colorPattern=27010270_BrownSugar',\n",
       " 'https://www.noisymay.com/gb/en/nm/clothing/jackets/padded-jacket-27010256.html?cgid=nm-jackets&dwvar_colorPattern=27010256_Olivine',\n",
       " 'https://www.noisymay.com/gb/en/nm/clothing/jackets/teddy-coat-27003719.html?cgid=nm-jackets&dwvar_colorPattern=27003719_Burro',\n",
       " 'https://www.noisymay.com/gb/en/nm/great-offers/padded-jacket-27008504.html?cgid=nm-great-offers&dwvar_colorPattern=27008504_GreenSulphur',\n",
       " 'https://www.noisymay.com/gb/en/nm/clothing/denim-dress-27010912.html?cgid=nm-shop-by-category&dwvar_colorPattern=27010912_Black',\n",
       " 'https://www.noisymay.com/gb/en/nm/clothing/high-neck-top-27013428.html?cgid=nm-shop-by-category&dwvar_colorPattern=27013428_TealGreen_802165',\n",
       " 'https://www.noisymay.com/gb/en/nm/clothing/tops/v-neck-top-27012723.html?cgid=nm-tops&dwvar_colorPattern=27012723_Jadeite',\n",
       " 'https://www.noisymay.com/gb/en/nm/clothing/glitter-mini-dress-27009556.html?cgid=nm-shop-by-category&dwvar_colorPattern=27009556_Black',\n",
       " 'https://www.noisymay.com/gb/en/nm/noisy-news/trending--monochromes/high-waist-corduroy-skirt-27008658.html?cgid=nm-monochromes&dwvar_colorPattern=27008658_Black',\n",
       " 'https://www.noisymay.com/gb/en/nm/noisy-news/comfy-and-chic/short-velvet-skirt-27009922.html?cgid=nm-comfyandchic&dwvar_colorPattern=27009922_Black',\n",
       " 'https://www.noisymay.com/gb/en/nm/noisy-news/double-denim/denim-jacket-27010905.html?cgid=nm-denim-heroes&dwvar_colorPattern=27010905_BlackDenim',\n",
       " 'https://www.noisymay.com/gb/en/nm/clothing/new-in/long-sleeve-cardigan-27009813.html?cgid=nm-new-in-clothing&dwvar_colorPattern=27009813_Peat',\n",
       " 'https://www.noisymay.com/gb/en/nm/noisy-news/shop-party-styles/glitter-body-27009302.html?cgid=nm-partystyles&dwvar_colorPattern=27009302_GoldColour',\n",
       " 'https://www.noisymay.com/gb/en/nm/clothing/long-jacket-27009669.html?cgid=nm-shop-by-category&dwvar_colorPattern=27009669_Black',\n",
       " 'https://www.noisymay.com/gb/en/nm/clothing/low-waist-skinny-fit-jeans-27012004.html?cgid=nm-shop-by-category&dwvar_colorPattern=27012004_MediumBlueDenim',\n",
       " 'https://www.noisymay.com/gb/en/nm/clothing/jeans/nmvicky-normal-waist-skinny-fit-jeans-27009739.html?cgid=nm-jeans&dwvar_colorPattern=27009739_MediumBlueDenim',\n",
       " 'https://www.noisymay.com/gb/en/nm/new-in/corduroy-skirt-27008506.html?cgid=nm-new-in&dwvar_colorPattern=27008506_Black',\n",
       " 'https://www.noisymay.com/gb/en/nm/clothing/normal-waist-skinny-fit-jeans-27010462.html?cgid=nm-shop-by-category&dwvar_colorPattern=27010462_RockyRoad',\n",
       " 'https://www.noisymay.com/gb/en/nm/jeans-guide/callie-jeans/high-waist-skinny-fit-jeans-27010813.html?cgid=nm-jeansguide-callie&dwvar_colorPattern=27010813_LightBlueDenim',\n",
       " 'https://www.noisymay.com/gb/en/nm/clothing/jeans/high-wasited-loose-fit-jeans-27010954.html?cgid=nm-jeans&dwvar_colorPattern=27010954_MediumBlueDenim',\n",
       " 'https://www.noisymay.com/gb/en/nm/clothing/long-sleeved-shirt-27011229.html?cgid=nm-shop-by-category&dwvar_colorPattern=27011229_Black',\n",
       " 'https://www.noisymay.com/gb/en/nm/clothing/long-cardigan-27009814.html?cgid=nm-shop-by-category&dwvar_colorPattern=27009814_BurntHenna',\n",
       " 'https://www.noisymay.com/gb/en/nm/noisy-news/best-basics/normal-waisted-skirt-27010977.html?cgid=nm-best-basics&dwvar_colorPattern=27010977_Black',\n",
       " 'https://www.noisymay.com/gb/en/nm/new-in/corduroy-skirt-27008506.html?cgid=nm-new-in&dwvar_colorPattern=27008506_Olivine',\n",
       " 'https://www.noisymay.com/gb/en/nm/clothing/tops/v-neck-top-27012723.html?cgid=nm-tops&dwvar_colorPattern=27012723_Black',\n",
       " 'https://www.noisymay.com/gb/en/nm/clothing/high-neck-top-27009871.html?cgid=nm-shop-by-category&dwvar_colorPattern=27009871_Peyote_743795',\n",
       " 'https://www.noisymay.com/gb/en/nm/noisy-news/double-denim/nmkimmy-normal-waist-skinny-fit-jeans-27009744.html?cgid=nm-denim-heroes&dwvar_colorPattern=27009744_MediumGreyDenim',\n",
       " 'https://www.noisymay.com/gb/en/nm/great-offers/tops/o-neck-knitted-pullover-27008300.html?cgid=nm-great-offers-tops&dwvar_colorPattern=27008300_Black',\n",
       " 'https://www.noisymay.com/gb/en/nm/jeans-guide/lucy-jeans/nmlucy-normal-waist-skinny-fit-jeans-27010147.html?cgid=nm-jeansguide-lucy&dwvar_colorPattern=27010147_MediumBlueDenim',\n",
       " 'https://www.noisymay.com/gb/en/nm/clothing/jeans/nmlucy-cropped-normal-waist-skinny-fit-jeans-27009520.html?cgid=nm-jeans&dwvar_colorPattern=27009520_MediumBlueDenim',\n",
       " 'https://www.noisymay.com/gb/en/nm/noisy-news/trending--monochromes/nomal-waist-knit-skirt-27008289.html?cgid=nm-monochromes&dwvar_colorPattern=27008289_LightGreyMelange',\n",
       " 'https://www.noisymay.com/gb/en/nm/jeans-guide/kimmy-jeans/normal-waist-skinny-fit-jeans-27010859.html?cgid=nm-jeansguide-kimmy&dwvar_colorPattern=27010859_MediumBlueDenim',\n",
       " 'https://www.noisymay.com/gb/en/nm/great-offers/padded-jacket-27008504.html?cgid=nm-great-offers&dwvar_colorPattern=27008504_Black',\n",
       " 'https://www.noisymay.com/gb/en/nm/clothing/normal-waist-cargo-trousers-27012273.html?cgid=nm-shop-by-category&dwvar_colorPattern=27012273_Jadeite',\n",
       " 'https://www.noisymay.com/gb/en/nm/clothing/trousers/normal-waist-cargo-leggings-27012571.html?cgid=nm-pants&dwvar_colorPattern=27012571_Black',\n",
       " 'https://www.noisymay.com/gb/en/nm/clothing/tops/v-neck-t-shirt-27010603.html?cgid=nm-tops&dwvar_colorPattern=27010603_OliveNight_773703',\n",
       " 'https://www.noisymay.com/gb/en/nm/new-in/corduroy-skirt-27009888.html?cgid=nm-new-in&dwvar_colorPattern=27009888_ShadowGray',\n",
       " 'https://www.noisymay.com/gb/en/nm/new-in/corduroy-skirt-27009888.html?cgid=nm-new-in&dwvar_colorPattern=27009888_Sable',\n",
       " 'https://www.noisymay.com/gb/en/nm/clothing/knitted-skirt-27000360.html?cgid=nm-shop-by-category&dwvar_colorPattern=27000360_MediumGreyMelange',\n",
       " 'https://www.noisymay.com/gb/en/nm/new-in/corduroy-skirt-27009888.html?cgid=nm-new-in&dwvar_colorPattern=27009888_NightSky',\n",
       " 'https://www.noisymay.com/gb/en/nm/noisy-news/black-friday-weekend/crocodile-normal-waisted-skirt-27010665.html?cgid=nm-black-weekend&dwvar_colorPattern=27010665_Black',\n",
       " 'https://www.noisymay.com/gb/en/nm/noisy-news/best-basics/chequered-shirt-jacket-27012225.html?cgid=nm-best-basics&dwvar_colorPattern=27012225_Black_779661',\n",
       " 'https://www.noisymay.com/gb/en/nm/clothing/corduroy-jacket-27008659.html?cgid=nm-shop-by-category&dwvar_colorPattern=27008659_Black',\n",
       " 'https://www.noisymay.com/gb/en/nm/clothing/tops/cotted-top-27011222.html?cgid=nm-tops&dwvar_colorPattern=27011222_FieryRed',\n",
       " 'https://www.noisymay.com/gb/en/nm/noisy-news/best-basics/o-neck-top-27012255.html?cgid=nm-best-basics&dwvar_colorPattern=27012255_SnowWhite',\n",
       " 'https://www.noisymay.com/gb/en/nm/clothing/tops/v-neck-t-shirt-27010603.html?cgid=nm-tops&dwvar_colorPattern=27010603_Gardenia_773703',\n",
       " 'https://www.noisymay.com/gb/en/nm/clothing/corduroy-jacket-27008659.html?cgid=nm-shop-by-category&dwvar_colorPattern=27008659_Olivine',\n",
       " 'https://www.noisymay.com/gb/en/nm/new-in/corduroy-skirt-27009888.html?cgid=nm-new-in&dwvar_colorPattern=27009888_Slate',\n",
       " 'https://www.noisymay.com/gb/en/nm/noisy-news/best-basics/high-waisted-trousers-27010429.html?cgid=nm-best-basics&dwvar_colorPattern=27010429_BurntHenna']"
      ]
     },
     "execution_count": 26,
     "metadata": {},
     "output_type": "execute_result"
    }
   ],
   "source": [
    "prod_urls"
   ]
  },
  {
   "cell_type": "code",
   "execution_count": 27,
   "metadata": {},
   "outputs": [],
   "source": [
    "prod_page_req = requests.get('https://www.noisymay.com/gb/en/nm/clothing/nmcallie-high-waist-skinny-fit-jeans-27009380.html?cgid=nm-shop-by-category&dwvar_colorPattern=27009380_BlackDenim', headers=headers)\n"
   ]
  },
  {
   "cell_type": "code",
   "execution_count": 28,
   "metadata": {},
   "outputs": [],
   "source": [
    "prod_page_doc = lxml.html.fromstring(prod_page_req.text)"
   ]
  },
  {
   "cell_type": "code",
   "execution_count": 29,
   "metadata": {},
   "outputs": [],
   "source": [
    "shop = \"Noisy May\""
   ]
  },
  {
   "cell_type": "code",
   "execution_count": 36,
   "metadata": {},
   "outputs": [],
   "source": [
    "name_match = prod_page_doc.xpath('.//h1[@class=\"product-name--visible\"]/text()')"
   ]
  },
  {
   "cell_type": "code",
   "execution_count": 37,
   "metadata": {},
   "outputs": [],
   "source": [
    "name = name_match[0].lower().title()"
   ]
  },
  {
   "cell_type": "code",
   "execution_count": 38,
   "metadata": {},
   "outputs": [
    {
     "data": {
      "text/plain": [
       "'Nmcallie High Waist Skinny Fit Jeans'"
      ]
     },
     "execution_count": 38,
     "metadata": {},
     "output_type": "execute_result"
    }
   ],
   "source": [
    "name"
   ]
  },
  {
   "cell_type": "code",
   "execution_count": 39,
   "metadata": {},
   "outputs": [],
   "source": [
    "price_match = re.search('(?<=\\\"price\\\"\\:\\\").*?(?=\\\")', prod_page_req.text)"
   ]
  },
  {
   "cell_type": "code",
   "execution_count": 41,
   "metadata": {},
   "outputs": [],
   "source": [
    "price = float(price_match.group(0))"
   ]
  },
  {
   "cell_type": "code",
   "execution_count": 42,
   "metadata": {},
   "outputs": [
    {
     "data": {
      "text/plain": [
       "35.0"
      ]
     },
     "execution_count": 42,
     "metadata": {},
     "output_type": "execute_result"
    }
   ],
   "source": [
    "price"
   ]
  },
  {
   "cell_type": "code",
   "execution_count": 43,
   "metadata": {},
   "outputs": [],
   "source": [
    "saleprice_match = re.search('(?<=\\\"salesPrice\\\"\\:\\\").*?(?=\\\")', prod_page_req.text)"
   ]
  },
  {
   "cell_type": "code",
   "execution_count": 45,
   "metadata": {},
   "outputs": [],
   "source": [
    "saleprice = float(saleprice_match.group(0))"
   ]
  },
  {
   "cell_type": "code",
   "execution_count": 46,
   "metadata": {},
   "outputs": [
    {
     "data": {
      "text/plain": [
       "26.25"
      ]
     },
     "execution_count": 46,
     "metadata": {},
     "output_type": "execute_result"
    }
   ],
   "source": [
    "saleprice"
   ]
  },
  {
   "cell_type": "code",
   "execution_count": 47,
   "metadata": {},
   "outputs": [],
   "source": [
    "if saleprice == price:\n",
    "    sale = False\n",
    "else:\n",
    "    sale = True"
   ]
  },
  {
   "cell_type": "code",
   "execution_count": 48,
   "metadata": {},
   "outputs": [
    {
     "data": {
      "text/plain": [
       "True"
      ]
     },
     "execution_count": 48,
     "metadata": {},
     "output_type": "execute_result"
    }
   ],
   "source": [
    "sale"
   ]
  },
  {
   "cell_type": "code",
   "execution_count": 51,
   "metadata": {},
   "outputs": [],
   "source": [
    "prod_json_string = prod_page_doc.xpath('.//script[@class=\"js-structuredData\"]/text()')"
   ]
  },
  {
   "cell_type": "code",
   "execution_count": 53,
   "metadata": {},
   "outputs": [],
   "source": [
    "prod_json = json.loads(prod_json_string[0])"
   ]
  },
  {
   "cell_type": "code",
   "execution_count": 54,
   "metadata": {},
   "outputs": [
    {
     "data": {
      "text/plain": [
       "{'@context': 'http://schema.org',\n",
       " '@type': 'brand',\n",
       " 'name': 'NOISY MAY',\n",
       " 'url': 'https://www.noisymay.com/gb/en',\n",
       " '@graph': [{'@context': 'http://schema.org',\n",
       "   '@type': 'product',\n",
       "   'id': '5714494766032',\n",
       "   'name': 'NMCALLIE HIGH WAIST SKINNY FIT JEANS',\n",
       "   'description': \"- Skinny fit jeans. - High waist. - Stretchy material. - Tapered legs. - Inseam '34': 85 cm. - The model is 177 cm tall and wearing a size 27/34.\",\n",
       "   'brand': {'@type': 'brand', 'name': 'NOISY MAY'},\n",
       "   'gtin8': '5714494766032',\n",
       "   'url': 'https://www.noisymay.com/gb/en/vm/shop-by-category/jeans/nmcallie-high-waist-skinny-fit-jeans-5714494766032.html',\n",
       "   'itemCondition': 'NewCondition',\n",
       "   'color': 'Black',\n",
       "   'offers': {'@type': 'Offer',\n",
       "    'availability': 'OutOfStock',\n",
       "    'price': 26.25,\n",
       "    'priceCurrency': 'GBP'},\n",
       "   'image': 'https://www.noisymay.com/dw/image/v2/ABBT_PRD/on/demandware.static/-/Sites-pim-catalog/default/dw13d20870/pim-static/large/27009380_BlackDenim_001_ProductLarge.jpg?sw=1280',\n",
       "   'category': ''},\n",
       "  {'@context': 'http://schema.org',\n",
       "   '@type': 'product',\n",
       "   'id': '5714494766148',\n",
       "   'name': 'NMCALLIE HIGH WAIST SKINNY FIT JEANS',\n",
       "   'description': \"- Skinny fit jeans. - High waist. - Stretchy material. - Tapered legs. - Inseam '34': 85 cm. - The model is 177 cm tall and wearing a size 27/34.\",\n",
       "   'brand': {'@type': 'brand', 'name': 'NOISY MAY'},\n",
       "   'gtin8': '5714494766148',\n",
       "   'url': 'https://www.noisymay.com/gb/en/vm/shop-by-category/jeans/nmcallie-high-waist-skinny-fit-jeans-5714494766148.html',\n",
       "   'itemCondition': 'NewCondition',\n",
       "   'color': 'Black',\n",
       "   'offers': {'@type': 'Offer',\n",
       "    'availability': 'InStock',\n",
       "    'price': 26.25,\n",
       "    'priceCurrency': 'GBP'},\n",
       "   'image': 'https://www.noisymay.com/dw/image/v2/ABBT_PRD/on/demandware.static/-/Sites-pim-catalog/default/dw13d20870/pim-static/large/27009380_BlackDenim_001_ProductLarge.jpg?sw=1280',\n",
       "   'category': ''},\n",
       "  {'@context': 'http://schema.org',\n",
       "   '@type': 'product',\n",
       "   'id': '5714491770193',\n",
       "   'name': 'NMCALLIE HIGH WAIST SKINNY FIT JEANS',\n",
       "   'description': \"- Skinny fit jeans. - High waist. - Stretchy material. - Tapered legs. - Inseam '34': 85 cm. - The model is 177 cm tall and wearing a size 27/34.\",\n",
       "   'brand': {'@type': 'brand', 'name': 'NOISY MAY'},\n",
       "   'gtin8': '5714491770193',\n",
       "   'url': 'https://www.noisymay.com/gb/en/vm/shop-by-category/jeans/nmcallie-high-waist-skinny-fit-jeans-5714491770193.html',\n",
       "   'itemCondition': 'NewCondition',\n",
       "   'color': 'Black',\n",
       "   'offers': {'@type': 'Offer',\n",
       "    'availability': 'OutOfStock',\n",
       "    'price': 26.25,\n",
       "    'priceCurrency': 'GBP'},\n",
       "   'image': 'https://www.noisymay.com/dw/image/v2/ABBT_PRD/on/demandware.static/-/Sites-pim-catalog/default/dw13d20870/pim-static/large/27009380_BlackDenim_001_ProductLarge.jpg?sw=1280',\n",
       "   'category': ''},\n",
       "  {'@context': 'http://schema.org',\n",
       "   '@type': 'product',\n",
       "   'id': '5714494766131',\n",
       "   'name': 'NMCALLIE HIGH WAIST SKINNY FIT JEANS',\n",
       "   'description': \"- Skinny fit jeans. - High waist. - Stretchy material. - Tapered legs. - Inseam '34': 85 cm. - The model is 177 cm tall and wearing a size 27/34.\",\n",
       "   'brand': {'@type': 'brand', 'name': 'NOISY MAY'},\n",
       "   'gtin8': '5714494766131',\n",
       "   'url': 'https://www.noisymay.com/gb/en/vm/shop-by-category/jeans/nmcallie-high-waist-skinny-fit-jeans-5714494766131.html',\n",
       "   'itemCondition': 'NewCondition',\n",
       "   'color': 'Black',\n",
       "   'offers': {'@type': 'Offer',\n",
       "    'availability': 'OutOfStock',\n",
       "    'price': 26.25,\n",
       "    'priceCurrency': 'GBP'},\n",
       "   'image': 'https://www.noisymay.com/dw/image/v2/ABBT_PRD/on/demandware.static/-/Sites-pim-catalog/default/dw13d20870/pim-static/large/27009380_BlackDenim_001_ProductLarge.jpg?sw=1280',\n",
       "   'category': ''},\n",
       "  {'@context': 'http://schema.org',\n",
       "   '@type': 'product',\n",
       "   'id': '5714494766049',\n",
       "   'name': 'NMCALLIE HIGH WAIST SKINNY FIT JEANS',\n",
       "   'description': \"- Skinny fit jeans. - High waist. - Stretchy material. - Tapered legs. - Inseam '34': 85 cm. - The model is 177 cm tall and wearing a size 27/34.\",\n",
       "   'brand': {'@type': 'brand', 'name': 'NOISY MAY'},\n",
       "   'gtin8': '5714494766049',\n",
       "   'url': 'https://www.noisymay.com/gb/en/vm/shop-by-category/jeans/nmcallie-high-waist-skinny-fit-jeans-5714494766049.html',\n",
       "   'itemCondition': 'NewCondition',\n",
       "   'color': 'Black',\n",
       "   'offers': {'@type': 'Offer',\n",
       "    'availability': 'OutOfStock',\n",
       "    'price': 26.25,\n",
       "    'priceCurrency': 'GBP'},\n",
       "   'image': 'https://www.noisymay.com/dw/image/v2/ABBT_PRD/on/demandware.static/-/Sites-pim-catalog/default/dw13d20870/pim-static/large/27009380_BlackDenim_001_ProductLarge.jpg?sw=1280',\n",
       "   'category': ''},\n",
       "  {'@context': 'http://schema.org',\n",
       "   '@type': 'product',\n",
       "   'id': '5714494766025',\n",
       "   'name': 'NMCALLIE HIGH WAIST SKINNY FIT JEANS',\n",
       "   'description': \"- Skinny fit jeans. - High waist. - Stretchy material. - Tapered legs. - Inseam '34': 85 cm. - The model is 177 cm tall and wearing a size 27/34.\",\n",
       "   'brand': {'@type': 'brand', 'name': 'NOISY MAY'},\n",
       "   'gtin8': '5714494766025',\n",
       "   'url': 'https://www.noisymay.com/gb/en/vm/shop-by-category/jeans/nmcallie-high-waist-skinny-fit-jeans-5714494766025.html',\n",
       "   'itemCondition': 'NewCondition',\n",
       "   'color': 'Black',\n",
       "   'offers': {'@type': 'Offer',\n",
       "    'availability': 'InStock',\n",
       "    'price': 26.25,\n",
       "    'priceCurrency': 'GBP'},\n",
       "   'image': 'https://www.noisymay.com/dw/image/v2/ABBT_PRD/on/demandware.static/-/Sites-pim-catalog/default/dw13d20870/pim-static/large/27009380_BlackDenim_001_ProductLarge.jpg?sw=1280',\n",
       "   'category': ''},\n",
       "  {'@context': 'http://schema.org',\n",
       "   '@type': 'product',\n",
       "   'id': '5714494766056',\n",
       "   'name': 'NMCALLIE HIGH WAIST SKINNY FIT JEANS',\n",
       "   'description': \"- Skinny fit jeans. - High waist. - Stretchy material. - Tapered legs. - Inseam '34': 85 cm. - The model is 177 cm tall and wearing a size 27/34.\",\n",
       "   'brand': {'@type': 'brand', 'name': 'NOISY MAY'},\n",
       "   'gtin8': '5714494766056',\n",
       "   'url': 'https://www.noisymay.com/gb/en/vm/shop-by-category/jeans/nmcallie-high-waist-skinny-fit-jeans-5714494766056.html',\n",
       "   'itemCondition': 'NewCondition',\n",
       "   'color': 'Black',\n",
       "   'offers': {'@type': 'Offer',\n",
       "    'availability': 'OutOfStock',\n",
       "    'price': 26.25,\n",
       "    'priceCurrency': 'GBP'},\n",
       "   'image': 'https://www.noisymay.com/dw/image/v2/ABBT_PRD/on/demandware.static/-/Sites-pim-catalog/default/dw13d20870/pim-static/large/27009380_BlackDenim_001_ProductLarge.jpg?sw=1280',\n",
       "   'category': ''},\n",
       "  {'@context': 'http://schema.org',\n",
       "   '@type': 'product',\n",
       "   'id': '5714494766186',\n",
       "   'name': 'NMCALLIE HIGH WAIST SKINNY FIT JEANS',\n",
       "   'description': \"- Skinny fit jeans. - High waist. - Stretchy material. - Tapered legs. - Inseam '34': 85 cm. - The model is 177 cm tall and wearing a size 27/34.\",\n",
       "   'brand': {'@type': 'brand', 'name': 'NOISY MAY'},\n",
       "   'gtin8': '5714494766186',\n",
       "   'url': 'https://www.noisymay.com/gb/en/vm/shop-by-category/jeans/nmcallie-high-waist-skinny-fit-jeans-5714494766186.html',\n",
       "   'itemCondition': 'NewCondition',\n",
       "   'color': 'Black',\n",
       "   'offers': {'@type': 'Offer',\n",
       "    'availability': 'OutOfStock',\n",
       "    'price': 26.25,\n",
       "    'priceCurrency': 'GBP'},\n",
       "   'image': 'https://www.noisymay.com/dw/image/v2/ABBT_PRD/on/demandware.static/-/Sites-pim-catalog/default/dw13d20870/pim-static/large/27009380_BlackDenim_001_ProductLarge.jpg?sw=1280',\n",
       "   'category': ''},\n",
       "  {'@context': 'http://schema.org',\n",
       "   '@type': 'product',\n",
       "   'id': '5714494767008',\n",
       "   'name': 'NMCALLIE HIGH WAIST SKINNY FIT JEANS',\n",
       "   'description': \"- Skinny fit jeans. - High waist. - Stretchy material. - Tapered legs. - Inseam '34': 85 cm. - The model is 177 cm tall and wearing a size 27/34.\",\n",
       "   'brand': {'@type': 'brand', 'name': 'NOISY MAY'},\n",
       "   'gtin8': '5714494767008',\n",
       "   'url': 'https://www.noisymay.com/gb/en/vm/shop-by-category/jeans/nmcallie-high-waist-skinny-fit-jeans-5714494767008.html',\n",
       "   'itemCondition': 'NewCondition',\n",
       "   'color': 'Black',\n",
       "   'offers': {'@type': 'Offer',\n",
       "    'availability': 'OutOfStock',\n",
       "    'price': 26.25,\n",
       "    'priceCurrency': 'GBP'},\n",
       "   'image': 'https://www.noisymay.com/dw/image/v2/ABBT_PRD/on/demandware.static/-/Sites-pim-catalog/default/dw13d20870/pim-static/large/27009380_BlackDenim_001_ProductLarge.jpg?sw=1280',\n",
       "   'category': ''},\n",
       "  {'@context': 'http://schema.org',\n",
       "   '@type': 'product',\n",
       "   'id': '5714494767015',\n",
       "   'name': 'NMCALLIE HIGH WAIST SKINNY FIT JEANS',\n",
       "   'description': \"- Skinny fit jeans. - High waist. - Stretchy material. - Tapered legs. - Inseam '34': 85 cm. - The model is 177 cm tall and wearing a size 27/34.\",\n",
       "   'brand': {'@type': 'brand', 'name': 'NOISY MAY'},\n",
       "   'gtin8': '5714494767015',\n",
       "   'url': 'https://www.noisymay.com/gb/en/vm/shop-by-category/jeans/nmcallie-high-waist-skinny-fit-jeans-5714494767015.html',\n",
       "   'itemCondition': 'NewCondition',\n",
       "   'color': 'Black',\n",
       "   'offers': {'@type': 'Offer',\n",
       "    'availability': 'OutOfStock',\n",
       "    'price': 26.25,\n",
       "    'priceCurrency': 'GBP'},\n",
       "   'image': 'https://www.noisymay.com/dw/image/v2/ABBT_PRD/on/demandware.static/-/Sites-pim-catalog/default/dw13d20870/pim-static/large/27009380_BlackDenim_001_ProductLarge.jpg?sw=1280',\n",
       "   'category': ''},\n",
       "  {'@context': 'http://schema.org',\n",
       "   '@type': 'product',\n",
       "   'id': '5714494766988',\n",
       "   'name': 'NMCALLIE HIGH WAIST SKINNY FIT JEANS',\n",
       "   'description': \"- Skinny fit jeans. - High waist. - Stretchy material. - Tapered legs. - Inseam '34': 85 cm. - The model is 177 cm tall and wearing a size 27/34.\",\n",
       "   'brand': {'@type': 'brand', 'name': 'NOISY MAY'},\n",
       "   'gtin8': '5714494766988',\n",
       "   'url': 'https://www.noisymay.com/gb/en/vm/shop-by-category/jeans/nmcallie-high-waist-skinny-fit-jeans-5714494766988.html',\n",
       "   'itemCondition': 'NewCondition',\n",
       "   'color': 'Black',\n",
       "   'offers': {'@type': 'Offer',\n",
       "    'availability': 'OutOfStock',\n",
       "    'price': 26.25,\n",
       "    'priceCurrency': 'GBP'},\n",
       "   'image': 'https://www.noisymay.com/dw/image/v2/ABBT_PRD/on/demandware.static/-/Sites-pim-catalog/default/dw13d20870/pim-static/large/27009380_BlackDenim_001_ProductLarge.jpg?sw=1280',\n",
       "   'category': ''},\n",
       "  {'@context': 'http://schema.org',\n",
       "   '@type': 'product',\n",
       "   'id': '5714494766162',\n",
       "   'name': 'NMCALLIE HIGH WAIST SKINNY FIT JEANS',\n",
       "   'description': \"- Skinny fit jeans. - High waist. - Stretchy material. - Tapered legs. - Inseam '34': 85 cm. - The model is 177 cm tall and wearing a size 27/34.\",\n",
       "   'brand': {'@type': 'brand', 'name': 'NOISY MAY'},\n",
       "   'gtin8': '5714494766162',\n",
       "   'url': 'https://www.noisymay.com/gb/en/vm/shop-by-category/jeans/nmcallie-high-waist-skinny-fit-jeans-5714494766162.html',\n",
       "   'itemCondition': 'NewCondition',\n",
       "   'color': 'Black',\n",
       "   'offers': {'@type': 'Offer',\n",
       "    'availability': 'OutOfStock',\n",
       "    'price': 26.25,\n",
       "    'priceCurrency': 'GBP'},\n",
       "   'image': 'https://www.noisymay.com/dw/image/v2/ABBT_PRD/on/demandware.static/-/Sites-pim-catalog/default/dw13d20870/pim-static/large/27009380_BlackDenim_001_ProductLarge.jpg?sw=1280',\n",
       "   'category': ''},\n",
       "  {'@context': 'http://schema.org',\n",
       "   '@type': 'product',\n",
       "   'id': '5714494766179',\n",
       "   'name': 'NMCALLIE HIGH WAIST SKINNY FIT JEANS',\n",
       "   'description': \"- Skinny fit jeans. - High waist. - Stretchy material. - Tapered legs. - Inseam '34': 85 cm. - The model is 177 cm tall and wearing a size 27/34.\",\n",
       "   'brand': {'@type': 'brand', 'name': 'NOISY MAY'},\n",
       "   'gtin8': '5714494766179',\n",
       "   'url': 'https://www.noisymay.com/gb/en/vm/shop-by-category/jeans/nmcallie-high-waist-skinny-fit-jeans-5714494766179.html',\n",
       "   'itemCondition': 'NewCondition',\n",
       "   'color': 'Black',\n",
       "   'offers': {'@type': 'Offer',\n",
       "    'availability': 'OutOfStock',\n",
       "    'price': 26.25,\n",
       "    'priceCurrency': 'GBP'},\n",
       "   'image': 'https://www.noisymay.com/dw/image/v2/ABBT_PRD/on/demandware.static/-/Sites-pim-catalog/default/dw13d20870/pim-static/large/27009380_BlackDenim_001_ProductLarge.jpg?sw=1280',\n",
       "   'category': ''},\n",
       "  {'@context': 'http://schema.org',\n",
       "   '@type': 'product',\n",
       "   'id': '5714494766018',\n",
       "   'name': 'NMCALLIE HIGH WAIST SKINNY FIT JEANS',\n",
       "   'description': \"- Skinny fit jeans. - High waist. - Stretchy material. - Tapered legs. - Inseam '34': 85 cm. - The model is 177 cm tall and wearing a size 27/34.\",\n",
       "   'brand': {'@type': 'brand', 'name': 'NOISY MAY'},\n",
       "   'gtin8': '5714494766018',\n",
       "   'url': 'https://www.noisymay.com/gb/en/vm/shop-by-category/jeans/nmcallie-high-waist-skinny-fit-jeans-5714494766018.html',\n",
       "   'itemCondition': 'NewCondition',\n",
       "   'color': 'Black',\n",
       "   'offers': {'@type': 'Offer',\n",
       "    'availability': 'OutOfStock',\n",
       "    'price': 26.25,\n",
       "    'priceCurrency': 'GBP'},\n",
       "   'image': 'https://www.noisymay.com/dw/image/v2/ABBT_PRD/on/demandware.static/-/Sites-pim-catalog/default/dw13d20870/pim-static/large/27009380_BlackDenim_001_ProductLarge.jpg?sw=1280',\n",
       "   'category': ''},\n",
       "  {'@context': 'http://schema.org',\n",
       "   '@type': 'product',\n",
       "   'id': '5714494766971',\n",
       "   'name': 'NMCALLIE HIGH WAIST SKINNY FIT JEANS',\n",
       "   'description': \"- Skinny fit jeans. - High waist. - Stretchy material. - Tapered legs. - Inseam '34': 85 cm. - The model is 177 cm tall and wearing a size 27/34.\",\n",
       "   'brand': {'@type': 'brand', 'name': 'NOISY MAY'},\n",
       "   'gtin8': '5714494766971',\n",
       "   'url': 'https://www.noisymay.com/gb/en/vm/shop-by-category/jeans/nmcallie-high-waist-skinny-fit-jeans-5714494766971.html',\n",
       "   'itemCondition': 'NewCondition',\n",
       "   'color': 'Black',\n",
       "   'offers': {'@type': 'Offer',\n",
       "    'availability': 'OutOfStock',\n",
       "    'price': 26.25,\n",
       "    'priceCurrency': 'GBP'},\n",
       "   'image': 'https://www.noisymay.com/dw/image/v2/ABBT_PRD/on/demandware.static/-/Sites-pim-catalog/default/dw13d20870/pim-static/large/27009380_BlackDenim_001_ProductLarge.jpg?sw=1280',\n",
       "   'category': ''},\n",
       "  {'@context': 'http://schema.org',\n",
       "   '@type': 'product',\n",
       "   'id': '5714494766995',\n",
       "   'name': 'NMCALLIE HIGH WAIST SKINNY FIT JEANS',\n",
       "   'description': \"- Skinny fit jeans. - High waist. - Stretchy material. - Tapered legs. - Inseam '34': 85 cm. - The model is 177 cm tall and wearing a size 27/34.\",\n",
       "   'brand': {'@type': 'brand', 'name': 'NOISY MAY'},\n",
       "   'gtin8': '5714494766995',\n",
       "   'url': 'https://www.noisymay.com/gb/en/vm/shop-by-category/jeans/nmcallie-high-waist-skinny-fit-jeans-5714494766995.html',\n",
       "   'itemCondition': 'NewCondition',\n",
       "   'color': 'Black',\n",
       "   'offers': {'@type': 'Offer',\n",
       "    'availability': 'OutOfStock',\n",
       "    'price': 26.25,\n",
       "    'priceCurrency': 'GBP'},\n",
       "   'image': 'https://www.noisymay.com/dw/image/v2/ABBT_PRD/on/demandware.static/-/Sites-pim-catalog/default/dw13d20870/pim-static/large/27009380_BlackDenim_001_ProductLarge.jpg?sw=1280',\n",
       "   'category': ''},\n",
       "  {'@context': 'http://schema.org',\n",
       "   '@type': 'product',\n",
       "   'id': '5714494766001',\n",
       "   'name': 'NMCALLIE HIGH WAIST SKINNY FIT JEANS',\n",
       "   'description': \"- Skinny fit jeans. - High waist. - Stretchy material. - Tapered legs. - Inseam '34': 85 cm. - The model is 177 cm tall and wearing a size 27/34.\",\n",
       "   'brand': {'@type': 'brand', 'name': 'NOISY MAY'},\n",
       "   'gtin8': '5714494766001',\n",
       "   'url': 'https://www.noisymay.com/gb/en/vm/shop-by-category/jeans/nmcallie-high-waist-skinny-fit-jeans-5714494766001.html',\n",
       "   'itemCondition': 'NewCondition',\n",
       "   'color': 'Black',\n",
       "   'offers': {'@type': 'Offer',\n",
       "    'availability': 'InStock',\n",
       "    'price': 26.25,\n",
       "    'priceCurrency': 'GBP'},\n",
       "   'image': 'https://www.noisymay.com/dw/image/v2/ABBT_PRD/on/demandware.static/-/Sites-pim-catalog/default/dw13d20870/pim-static/large/27009380_BlackDenim_001_ProductLarge.jpg?sw=1280',\n",
       "   'category': ''},\n",
       "  {'@context': 'http://schema.org',\n",
       "   '@type': 'product',\n",
       "   'id': '5714491770186',\n",
       "   'name': 'NMCALLIE HIGH WAIST SKINNY FIT JEANS',\n",
       "   'description': \"- Skinny fit jeans. - High waist. - Stretchy material. - Tapered legs. - Inseam '34': 85 cm. - The model is 177 cm tall and wearing a size 27/34.\",\n",
       "   'brand': {'@type': 'brand', 'name': 'NOISY MAY'},\n",
       "   'gtin8': '5714491770186',\n",
       "   'url': 'https://www.noisymay.com/gb/en/vm/shop-by-category/jeans/nmcallie-high-waist-skinny-fit-jeans-5714491770186.html',\n",
       "   'itemCondition': 'NewCondition',\n",
       "   'color': 'Black',\n",
       "   'offers': {'@type': 'Offer',\n",
       "    'availability': 'OutOfStock',\n",
       "    'price': 26.25,\n",
       "    'priceCurrency': 'GBP'},\n",
       "   'image': 'https://www.noisymay.com/dw/image/v2/ABBT_PRD/on/demandware.static/-/Sites-pim-catalog/default/dw13d20870/pim-static/large/27009380_BlackDenim_001_ProductLarge.jpg?sw=1280',\n",
       "   'category': ''},\n",
       "  {'@context': 'http://schema.org',\n",
       "   '@type': 'product',\n",
       "   'id': '5714494766155',\n",
       "   'name': 'NMCALLIE HIGH WAIST SKINNY FIT JEANS',\n",
       "   'description': \"- Skinny fit jeans. - High waist. - Stretchy material. - Tapered legs. - Inseam '34': 85 cm. - The model is 177 cm tall and wearing a size 27/34.\",\n",
       "   'brand': {'@type': 'brand', 'name': 'NOISY MAY'},\n",
       "   'gtin8': '5714494766155',\n",
       "   'url': 'https://www.noisymay.com/gb/en/vm/shop-by-category/jeans/nmcallie-high-waist-skinny-fit-jeans-5714494766155.html',\n",
       "   'itemCondition': 'NewCondition',\n",
       "   'color': 'Black',\n",
       "   'offers': {'@type': 'Offer',\n",
       "    'availability': 'OutOfStock',\n",
       "    'price': 26.25,\n",
       "    'priceCurrency': 'GBP'},\n",
       "   'image': 'https://www.noisymay.com/dw/image/v2/ABBT_PRD/on/demandware.static/-/Sites-pim-catalog/default/dw13d20870/pim-static/large/27009380_BlackDenim_001_ProductLarge.jpg?sw=1280',\n",
       "   'category': ''}]}"
      ]
     },
     "execution_count": 54,
     "metadata": {},
     "output_type": "execute_result"
    }
   ],
   "source": [
    "prod_json"
   ]
  },
  {
   "cell_type": "code",
   "execution_count": 57,
   "metadata": {},
   "outputs": [],
   "source": [
    "image_urls = prod_page_doc.xpath('.//img[@data-size=\"maincarousel\"]/@data-src')"
   ]
  },
  {
   "cell_type": "code",
   "execution_count": 58,
   "metadata": {},
   "outputs": [
    {
     "data": {
      "text/plain": [
       "['https://www.noisymay.com/dw/image/v2/ABBT_PRD/on/demandware.static/-/Sites-pim-catalog/default/dwb02d80ad/pim-static/large/27009380_BlackDenim_003_ProductLarge.jpg?sw=685',\n",
       " 'https://www.noisymay.com/dw/image/v2/ABBT_PRD/on/demandware.static/-/Sites-pim-catalog/default/dw853f2604/pim-static/large/27009380_BlackDenim_004_ProductLarge.jpg?sw=685',\n",
       " 'https://www.noisymay.com/dw/image/v2/ABBT_PRD/on/demandware.static/-/Sites-pim-catalog/default/dw13d20870/pim-static/large/27009380_BlackDenim_001_ProductLarge.jpg?sw=685',\n",
       " 'https://www.noisymay.com/dw/image/v2/ABBT_PRD/on/demandware.static/-/Sites-pim-catalog/default/dw4177c52b/pim-static/large/27009380_BlackDenim_005_ProductLarge.jpg?sw=685',\n",
       " 'https://www.noisymay.com/dw/image/v2/ABBT_PRD/on/demandware.static/-/Sites-pim-catalog/default/dwcf5ecc85/pim-static/large/27009380_BlackDenim_006_ProductLarge.jpg?sw=685',\n",
       " 'https://www.noisymay.com/dw/image/v2/ABBT_PRD/on/demandware.static/-/Sites-pim-catalog/default/dw6c95e3cd/pim-static/large/27009380_BlackDenim_007_ProductLarge.jpg?sw=685']"
      ]
     },
     "execution_count": 58,
     "metadata": {},
     "output_type": "execute_result"
    }
   ],
   "source": [
    "image_urls"
   ]
  },
  {
   "cell_type": "code",
   "execution_count": 59,
   "metadata": {},
   "outputs": [],
   "source": [
    "sex = 'women'"
   ]
  },
  {
   "cell_type": "code",
   "execution_count": 60,
   "metadata": {},
   "outputs": [],
   "source": [
    "color_pattern_cats = [\n",
    "            'abstract',\n",
    "            'acid',\n",
    "            'animal',\n",
    "            'apricot',\n",
    "            'beige',\n",
    "            'black',\n",
    "            'blue',\n",
    "            'bright',\n",
    "            'brown',\n",
    "            'burgundy',\n",
    "            'cable',\n",
    "            'camo',\n",
    "            'charcoal',\n",
    "            'check',\n",
    "            'chevron',\n",
    "            'circle',\n",
    "            'clear',\n",
    "            'contrast',\n",
    "            'cream',\n",
    "            'crochet',\n",
    "            'dark',\n",
    "            'dot',\n",
    "            'dye',\n",
    "            'embellished',\n",
    "            'embellishment',\n",
    "            'embroidered',\n",
    "            'embroidery',\n",
    "            'floral',\n",
    "            'flower',\n",
    "            'gingham',\n",
    "            'gold',\n",
    "            'green',\n",
    "            'grey',\n",
    "            'heart',\n",
    "            'indigo',\n",
    "            'jacquard',\n",
    "            'khaki',\n",
    "            'knot',\n",
    "            'lace',\n",
    "            'lattice',\n",
    "            'leopard',\n",
    "            'lettuce',\n",
    "            'light',\n",
    "            'lilac',\n",
    "            'lime',\n",
    "            'logo',\n",
    "            'mango',\n",
    "            'mesh',\n",
    "            'monochrome',\n",
    "            'mustard',\n",
    "            'navy',\n",
    "            'neon',\n",
    "            'nude',\n",
    "            'ombre',\n",
    "            'orange',\n",
    "            'paisley',\n",
    "            'pale',\n",
    "            'palm',\n",
    "            'pattern',\n",
    "            'peach',\n",
    "            'pink',\n",
    "            'pinstripe',\n",
    "            'polka',\n",
    "            'print',\n",
    "            'printed',\n",
    "            'purple',\n",
    "            'rainbow',\n",
    "            'red',\n",
    "            'rib',\n",
    "            'rose',\n",
    "            'rust',\n",
    "            'silver',\n",
    "            'snake',\n",
    "            'spot',\n",
    "            'square',\n",
    "            'star',\n",
    "            'stitch',\n",
    "            'straw',\n",
    "            'stripe',\n",
    "            'striped',\n",
    "            'stripes',\n",
    "            'tan',\n",
    "            'tea',\n",
    "            'textured',\n",
    "            'tiger',\n",
    "            'tortoiseshell',\n",
    "            'triangle',\n",
    "            'tropical',\n",
    "            'vanilla',\n",
    "            'wash',\n",
    "            'washed',\n",
    "            'white',\n",
    "            'yellow',\n",
    "            'zebra'\n",
    "        ]"
   ]
  },
  {
   "cell_type": "code",
   "execution_count": 61,
   "metadata": {},
   "outputs": [],
   "source": [
    "color_match = prod_page_doc.xpath('.//p[@class=\"color-combination\"]/text()')"
   ]
  },
  {
   "cell_type": "code",
   "execution_count": 63,
   "metadata": {},
   "outputs": [
    {
     "data": {
      "text/plain": [
       "'Black / Black Denim'"
      ]
     },
     "execution_count": 63,
     "metadata": {},
     "output_type": "execute_result"
    }
   ],
   "source": [
    "color_match[0]"
   ]
  },
  {
   "cell_type": "code",
   "execution_count": 64,
   "metadata": {},
   "outputs": [],
   "source": [
    "color_words = color_match[0].split(' ')"
   ]
  },
  {
   "cell_type": "code",
   "execution_count": 65,
   "metadata": {},
   "outputs": [],
   "source": [
    "color_cats = [word.lower() for word in color_words if word.lower() in color_pattern_cats]"
   ]
  },
  {
   "cell_type": "code",
   "execution_count": 66,
   "metadata": {},
   "outputs": [
    {
     "data": {
      "text/plain": [
       "['black', 'black']"
      ]
     },
     "execution_count": 66,
     "metadata": {},
     "output_type": "execute_result"
    }
   ],
   "source": [
    "color_cats"
   ]
  },
  {
   "cell_type": "code",
   "execution_count": 67,
   "metadata": {},
   "outputs": [],
   "source": [
    "color_string = None\n",
    "if len(color_cats) > 0:\n",
    "    color_string = color_cats[0]\n",
    "else:\n",
    "    color_string = color_match[0].lower()"
   ]
  },
  {
   "cell_type": "code",
   "execution_count": 68,
   "metadata": {},
   "outputs": [
    {
     "data": {
      "text/plain": [
       "'black'"
      ]
     },
     "execution_count": 68,
     "metadata": {},
     "output_type": "execute_result"
    }
   ],
   "source": [
    "color_string"
   ]
  },
  {
   "cell_type": "code",
   "execution_count": 69,
   "metadata": {},
   "outputs": [],
   "source": [
    "brand = 'Noisy May'"
   ]
  },
  {
   "cell_type": "code",
   "execution_count": 70,
   "metadata": {},
   "outputs": [],
   "source": [
    "currency = '£'"
   ]
  },
  {
   "cell_type": "code",
   "execution_count": 73,
   "metadata": {},
   "outputs": [],
   "source": [
    "desc_1 = prod_page_doc.xpath('.//pre[@class=\"pdp-description__text__short\"]/text()')"
   ]
  },
  {
   "cell_type": "code",
   "execution_count": 76,
   "metadata": {},
   "outputs": [],
   "source": [
    "desc_2 = prod_page_doc.xpath('.//li[contains(@class, \"pdp-description__text__value--fabric\")]/text()')"
   ]
  },
  {
   "cell_type": "code",
   "execution_count": 84,
   "metadata": {},
   "outputs": [],
   "source": [
    "desc_3 = prod_page_doc.xpath('.//li[@class=\"pdp-description__list__item\"]/text()')"
   ]
  },
  {
   "cell_type": "code",
   "execution_count": 86,
   "metadata": {},
   "outputs": [],
   "source": []
  },
  {
   "cell_type": "code",
   "execution_count": 109,
   "metadata": {},
   "outputs": [
    {
     "data": {
      "text/plain": [
       "[\"- Skinny fit jeans.\\n- High waist.\\n- Stretchy material.\\n- Tapered legs.\\n- Inseam '34': 85 cm.\\n- The model is 177 cm tall and wearing a size 27/34.\"]"
      ]
     },
     "execution_count": 109,
     "metadata": {},
     "output_type": "execute_result"
    }
   ],
   "source": [
    "desc_1"
   ]
  },
  {
   "cell_type": "code",
   "execution_count": null,
   "metadata": {},
   "outputs": [],
   "source": []
  },
  {
   "cell_type": "code",
   "execution_count": 88,
   "metadata": {},
   "outputs": [],
   "source": [
    "desc_list = desc_1 + desc_2 + desc_3"
   ]
  },
  {
   "cell_type": "code",
   "execution_count": 89,
   "metadata": {},
   "outputs": [
    {
     "data": {
      "text/plain": [
       "[\"- Skinny fit jeans.\\n- High waist.\\n- Stretchy material.\\n- Tapered legs.\\n- Inseam '34': 85 cm.\\n- The model is 177 cm tall and wearing a size 27/34.\",\n",
       " '98% Cotton, 2% Elastane',\n",
       " '\\n                                Machine wash, half load, short spin cycle at 30°C\\n                            ',\n",
       " '\\n                                Do not bleach\\n                            ',\n",
       " '\\n                                Do not tumble dry\\n                            ',\n",
       " '\\n                                Low temp. iron. Highest temp. 100°C\\n                            ',\n",
       " '\\n                                Do not dry clean\\n                            ',\n",
       " '\\n                                Hang dry\\n                            ']"
      ]
     },
     "execution_count": 89,
     "metadata": {},
     "output_type": "execute_result"
    }
   ],
   "source": [
    "desc_list"
   ]
  },
  {
   "cell_type": "code",
   "execution_count": 93,
   "metadata": {},
   "outputs": [],
   "source": [
    "desc_concat = ' '.join(desc_list)"
   ]
  },
  {
   "cell_type": "code",
   "execution_count": 94,
   "metadata": {},
   "outputs": [],
   "source": [
    "description = desc_concat.replace('  ', '')"
   ]
  },
  {
   "cell_type": "code",
   "execution_count": 95,
   "metadata": {},
   "outputs": [
    {
     "data": {
      "text/plain": [
       "\"- Skinny fit jeans.\\n- High waist.\\n- Stretchy material.\\n- Tapered legs.\\n- Inseam '34': 85 cm.\\n- The model is 177 cm tall and wearing a size 27/34. 98% Cotton, 2% Elastane \\nMachine wash, half load, short spin cycle at 30°C\\n \\nDo not bleach\\n \\nDo not tumble dry\\n \\nLow temp. iron. Highest temp. 100°C\\n \\nDo not dry clean\\n \\nHang dry\\n\""
      ]
     },
     "execution_count": 95,
     "metadata": {},
     "output_type": "execute_result"
    }
   ],
   "source": [
    "description"
   ]
  },
  {
   "cell_type": "code",
   "execution_count": 99,
   "metadata": {},
   "outputs": [],
   "source": [
    "category_match = re.search('(?<=\\\"category\\\"\\:\\\").*?(?=\\\")', prod_page_req.text)"
   ]
  },
  {
   "cell_type": "code",
   "execution_count": 100,
   "metadata": {},
   "outputs": [
    {
     "data": {
      "text/plain": [
       "'JEANS'"
      ]
     },
     "execution_count": 100,
     "metadata": {},
     "output_type": "execute_result"
    }
   ],
   "source": [
    "category_match.group(0)"
   ]
  },
  {
   "cell_type": "code",
   "execution_count": 101,
   "metadata": {},
   "outputs": [],
   "source": [
    "category = category_match.group(0).lower()"
   ]
  },
  {
   "cell_type": "code",
   "execution_count": 102,
   "metadata": {},
   "outputs": [
    {
     "data": {
      "text/plain": [
       "'jeans'"
      ]
     },
     "execution_count": 102,
     "metadata": {},
     "output_type": "execute_result"
    }
   ],
   "source": [
    "category"
   ]
  },
  {
   "cell_type": "code",
   "execution_count": 103,
   "metadata": {},
   "outputs": [],
   "source": [
    "size_match = prod_page_doc.xpath('.//ul[@data-group-id=\"size\"]/li/a/div/text()')"
   ]
  },
  {
   "cell_type": "code",
   "execution_count": 104,
   "metadata": {},
   "outputs": [
    {
     "data": {
      "text/plain": [
       "['25', '26', '27']"
      ]
     },
     "execution_count": 104,
     "metadata": {},
     "output_type": "execute_result"
    }
   ],
   "source": [
    "size_match"
   ]
  },
  {
   "cell_type": "code",
   "execution_count": 105,
   "metadata": {},
   "outputs": [],
   "source": [
    "size_stock = [{\n",
    "    'size': size,\n",
    "    'stock': 'In stock'\n",
    "} for size in size_match]"
   ]
  },
  {
   "cell_type": "code",
   "execution_count": 106,
   "metadata": {},
   "outputs": [
    {
     "data": {
      "text/plain": [
       "[{'size': '25', 'stock': 'In stock'},\n",
       " {'size': '26', 'stock': 'In stock'},\n",
       " {'size': '27', 'stock': 'In stock'}]"
      ]
     },
     "execution_count": 106,
     "metadata": {},
     "output_type": "execute_result"
    }
   ],
   "source": [
    "size_stock"
   ]
  },
  {
   "cell_type": "code",
   "execution_count": 107,
   "metadata": {},
   "outputs": [],
   "source": [
    "in_stock = False\n",
    "for size in size_stock:\n",
    "    if size['stock'] == 'In stock':\n",
    "        in_stock = True"
   ]
  },
  {
   "cell_type": "code",
   "execution_count": 108,
   "metadata": {},
   "outputs": [
    {
     "data": {
      "text/plain": [
       "True"
      ]
     },
     "execution_count": 108,
     "metadata": {},
     "output_type": "execute_result"
    }
   ],
   "source": [
    "in_stock"
   ]
  },
  {
   "cell_type": "code",
   "execution_count": null,
   "metadata": {},
   "outputs": [],
   "source": []
  }
 ],
 "metadata": {
  "kernelspec": {
   "display_name": "Python 3",
   "language": "python",
   "name": "python3"
  },
  "language_info": {
   "codemirror_mode": {
    "name": "ipython",
    "version": 3
   },
   "file_extension": ".py",
   "mimetype": "text/x-python",
   "name": "python",
   "nbconvert_exporter": "python",
   "pygments_lexer": "ipython3",
   "version": "3.6.5"
  }
 },
 "nbformat": 4,
 "nbformat_minor": 2
}
