{
 "cells": [
  {
   "cell_type": "code",
   "execution_count": 2,
   "metadata": {},
   "outputs": [],
   "source": [
    "import lxml.html\n",
    "import requests\n",
    "import re\n",
    "import json\n",
    "import random"
   ]
  },
  {
   "cell_type": "code",
   "execution_count": 3,
   "metadata": {},
   "outputs": [
    {
     "data": {
      "text/html": [
       "<style>.container { width:100% !important; }</style>"
      ],
      "text/plain": [
       "<IPython.core.display.HTML object>"
      ]
     },
     "metadata": {},
     "output_type": "display_data"
    }
   ],
   "source": [
    "from IPython.core.display import display, HTML\n",
    "display(HTML(\"<style>.container { width:100% !important; }</style>\"))"
   ]
  },
  {
   "cell_type": "code",
   "execution_count": 4,
   "metadata": {},
   "outputs": [],
   "source": [
    "headers = {\n",
    "    'accept': 'text/html,application/xhtml+xml,application/xml;q=0.9,image/webp,image/apng,*/*;q=0.8,application/signed-exchange;v=b3;q=0.9',\n",
    "    'accept-encoding': 'gzip, deflate, br',\n",
    "    'accept-language': 'en-US,en;q=0.9,lv;q=0.8',\n",
    "    'cookie': '__cfduid=dfe2ec2b5ef383e262a353e07fc4ddde81576845723; secure_customer_sig=; _landing_page=%2Fcollections%2Fdresses; _shopify_y=d09b0828-fee6-463c-ad0b-a8e84b3263f8; _orig_referrer=; cart=161a0377d792f3c95810c584e0242c15; _shopify_country=Germany; _y=d09b0828-fee6-463c-ad0b-a8e84b3263f8; _s=2354528f-4DED-4398-4FB1-11A11BF79BA7; _shopify_s=2354528f-4DED-4398-4FB1-11A11BF79BA7; _shopify_fs=2019-12-20T12%3A42%3A04.738Z; _shopify_sa_p=; cto_lwid=600edc5e-6502-4bf0-abc1-c69b725b98a2; currency=GBP; __adal_ses=*; __adal_ca=so%3Ddirect%26me%3Dnone%26ca%3Ddirect%26co%3D%28not%2520set%29%26ke%3D%28not%2520set%29; __adal_cw=1576845725453; _ga=GA1.3.1000031196.1576845726; _gid=GA1.3.2061175016.1576845726; _gat=1; lc_sso9825745=1576845726336; __lc.visitor_id.9825745=S1576845725.b9d2d0d67f; lc_window_state=minimized; usb_previous_pathname=/collections/dresses; fsb_previous_pathname=/collections/dresses; fsb_total_price_227344=0; KL_FORMS_MODAL={%22disabledForms%22:{%22QCBhbd%22:{%22lastCloseTime%22:1576845741%2C%22successActionTypes%22:[]}}}; cart_sig=; cart_currency=GBP; cart_ts=1576845749; _shopify_sa_t=2019-12-20T12%3A42%3A30.588Z; __adal_id=ed2cc915-c18b-4df5-a3a1-b16262266eb2.1576845725.1.1576845751.1576845725.92140d2d-648d-46fa-891b-3fd9cbd7e0bf; __kla_id=eyIkcmVmZXJyZXIiOnsidHMiOjE1NzY4NDU3MjYsInZhbHVlIjoiIiwiZmlyc3RfcGFnZSI6Imh0dHBzOi8vd3d3Lm5ldmVyZnVsbHlkcmVzc2VkLmNvLnVrL2NvbGxlY3Rpb25zL2RyZXNzZXMifSwiJGxhc3RfcmVmZXJyZXIiOnsidHMiOjE1NzY4NDU3NTIsInZhbHVlIjoiIiwiZmlyc3RfcGFnZSI6Imh0dHBzOi8vd3d3Lm5ldmVyZnVsbHlkcmVzc2VkLmNvLnVrL2NvbGxlY3Rpb25zL2RyZXNzZXMifX0=',\n",
    "    'referer': 'https://www.neverfullydressed.co.uk/',\n",
    "    'sec-fetch-mode': 'navigate',\n",
    "    'sec-fetch-site': 'same-origin',\n",
    "    'sec-fetch-user': '?1',\n",
    "    'upgrade-insecure-requests': '1',\n",
    "    'user-agent': 'Mozilla/5.0 (Macintosh; Intel Mac OS X 10_14_5) AppleWebKit/537.36 (KHTML, like Gecko) Chrome/75.0.3770.100 Safari/537.36'\n",
    "}"
   ]
  },
  {
   "cell_type": "code",
   "execution_count": 5,
   "metadata": {},
   "outputs": [],
   "source": [
    "homepage_req = requests.get('https://www.neverfullydressed.co.uk/', headers=headers)"
   ]
  },
  {
   "cell_type": "code",
   "execution_count": 6,
   "metadata": {},
   "outputs": [],
   "source": [
    "homepage_doc = lxml.html.fromstring(homepage_req.text)"
   ]
  },
  {
   "cell_type": "code",
   "execution_count": 18,
   "metadata": {},
   "outputs": [],
   "source": [
    "all_links = homepage_doc.xpath('.//div[@id=\"navigation\"]//li[@class=\"sub_link\"]/a/@href')"
   ]
  },
  {
   "cell_type": "code",
   "execution_count": 19,
   "metadata": {},
   "outputs": [
    {
     "data": {
      "text/plain": [
       "['/collections/newness',\n",
       " '/collections/bestsellers',\n",
       " '/collections/dresses',\n",
       " '/collections/skirts',\n",
       " '/collections/co-ords',\n",
       " '/collections/tops',\n",
       " '/collections/knitwear',\n",
       " '/collections/jackets-coats',\n",
       " '/collections/trousers-shorts',\n",
       " '/collections/made-designed-in-london',\n",
       " '/collections/charitees',\n",
       " '/collections/back-in-stock',\n",
       " '/collections/accessories',\n",
       " '/collections/bags',\n",
       " '/collections/hats',\n",
       " '/collections/hair',\n",
       " '/collections/scarves',\n",
       " '/collections/earrings',\n",
       " '/collections/rings',\n",
       " '/collections/necklaces',\n",
       " '/collections/belts',\n",
       " '/collections/phone-cases',\n",
       " '/collections/gift-vouchers',\n",
       " '/collections/brow-kits',\n",
       " '/collections/party-wear',\n",
       " '/collections/party-dresses',\n",
       " '/collections/finishing-touches',\n",
       " '/collections/gifting',\n",
       " '/collections/gift-box',\n",
       " '/collections/gifts-under-20',\n",
       " '/collections/gifts-50-under',\n",
       " '/collections/gifts-100-under']"
      ]
     },
     "execution_count": 19,
     "metadata": {},
     "output_type": "execute_result"
    }
   ],
   "source": [
    "all_links"
   ]
  },
  {
   "cell_type": "code",
   "execution_count": 20,
   "metadata": {},
   "outputs": [],
   "source": [
    "cat_links = [\n",
    "    '/collections/newness',\n",
    "    '/collections/bestsellers',\n",
    "    '/collections/dresses',\n",
    "    '/collections/skirts',\n",
    "    '/collections/co-ords',\n",
    "    '/collections/tops',\n",
    "    '/collections/knitwear',\n",
    "    '/collections/jackets-coats',\n",
    "    '/collections/trousers-shorts',\n",
    "    '/collections/made-designed-in-london',\n",
    "    '/collections/charitees',\n",
    "    '/collections/back-in-stock',\n",
    "    '/collections/accessories',\n",
    "    '/collections/bags',\n",
    "    '/collections/hats',\n",
    "    '/collections/sale'\n",
    "    '/collections/scarves',\n",
    "    '/collections/belts',\n",
    "    '/collections/party-wear',\n",
    "    '/collections/party-dresses'\n",
    "]"
   ]
  },
  {
   "cell_type": "code",
   "execution_count": 21,
   "metadata": {},
   "outputs": [],
   "source": [
    "catpage_req = requests.get('https://www.neverfullydressed.co.uk/collections/dresses', headers=headers)"
   ]
  },
  {
   "cell_type": "code",
   "execution_count": 22,
   "metadata": {},
   "outputs": [],
   "source": [
    "catpage_doc = lxml.html.fromstring(catpage_req.text)"
   ]
  },
  {
   "cell_type": "code",
   "execution_count": 23,
   "metadata": {},
   "outputs": [],
   "source": [
    "next_page = catpage_doc.xpath('.//link[@rel=\"next\"]/@href')"
   ]
  },
  {
   "cell_type": "code",
   "execution_count": 24,
   "metadata": {},
   "outputs": [
    {
     "data": {
      "text/plain": [
       "['/collections/dresses?page=2']"
      ]
     },
     "execution_count": 24,
     "metadata": {},
     "output_type": "execute_result"
    }
   ],
   "source": [
    "next_page"
   ]
  },
  {
   "cell_type": "code",
   "execution_count": 25,
   "metadata": {},
   "outputs": [],
   "source": [
    "prod_urls = catpage_doc.xpath('.//div[@class=\"prod-image\"]/a/@href')"
   ]
  },
  {
   "cell_type": "code",
   "execution_count": 26,
   "metadata": {},
   "outputs": [
    {
     "data": {
      "text/plain": [
       "['/collections/dresses/products/silver-harlowe-maxi-dress',\n",
       " '/collections/dresses/products/gold-ditsy-print-midi-dress-1',\n",
       " '/collections/dresses/products/green-floral-high-neck-midi-dress',\n",
       " '/collections/dresses/products/leopard-floral-wrap-dress',\n",
       " '/collections/dresses/products/black-patti-pansy-mini-dress',\n",
       " '/collections/dresses/products/monaco-modest-print-dress']"
      ]
     },
     "execution_count": 26,
     "metadata": {},
     "output_type": "execute_result"
    }
   ],
   "source": [
    "prod_urls"
   ]
  },
  {
   "cell_type": "code",
   "execution_count": 27,
   "metadata": {},
   "outputs": [],
   "source": [
    "catpage_req_2 = requests.get('https://www.neverfullydressed.co.uk' + next_page[0], headers=headers)"
   ]
  },
  {
   "cell_type": "code",
   "execution_count": 28,
   "metadata": {},
   "outputs": [],
   "source": [
    "catpage_doc_2 = lxml.html.fromstring(catpage_req_2.text)"
   ]
  },
  {
   "cell_type": "code",
   "execution_count": 29,
   "metadata": {},
   "outputs": [],
   "source": [
    "prod_urls_2 = catpage_doc_2.xpath('.//div[@class=\"prod-image\"]/a/@href')"
   ]
  },
  {
   "cell_type": "code",
   "execution_count": 30,
   "metadata": {},
   "outputs": [
    {
     "data": {
      "text/plain": [
       "['/collections/dresses/products/multi-leopard-victoria-wrap-dress',\n",
       " '/collections/dresses/products/red-pink-print-victoria-dress',\n",
       " '/collections/dresses/products/black-patti-peony-print-dress',\n",
       " '/collections/dresses/products/orange-navy-flower-wrap-dress',\n",
       " '/collections/dresses/products/gold-aztec-reversible-wrap-dress',\n",
       " '/collections/dresses/products/black-tiger-print-harlowe-maxi-dress']"
      ]
     },
     "execution_count": 30,
     "metadata": {},
     "output_type": "execute_result"
    }
   ],
   "source": [
    "prod_urls_2"
   ]
  },
  {
   "cell_type": "code",
   "execution_count": 161,
   "metadata": {},
   "outputs": [],
   "source": [
    "prodpage_req = requests.get('https://www.neverfullydressed.co.uk/collections/knitwear/products/morgan-white-lace-top', headers=headers)"
   ]
  },
  {
   "cell_type": "code",
   "execution_count": 162,
   "metadata": {},
   "outputs": [],
   "source": [
    "prodpage_doc = lxml.html.fromstring(prodpage_req.text)"
   ]
  },
  {
   "cell_type": "code",
   "execution_count": 86,
   "metadata": {},
   "outputs": [],
   "source": [
    "prod_images = prodpage_doc.xpath('.//a[@class=\"product-fancybox\"]/img/@data-src')"
   ]
  },
  {
   "cell_type": "code",
   "execution_count": 87,
   "metadata": {},
   "outputs": [
    {
     "data": {
      "text/plain": [
       "['//cdn.shopify.com/s/files/1/1993/8771/products/never-fully-dressed-gold-ditsy-maxi-dress-square_{width}x.jpg?v=1575973324',\n",
       " '//cdn.shopify.com/s/files/1/1993/8771/products/DW_191101_NFD_08_0924_2_{width}x.jpg?v=1575973324',\n",
       " '//cdn.shopify.com/s/files/1/1993/8771/products/never-fully-dressed-gold-ditsy-maxi-dress-2_{width}x.jpg?v=1575973324',\n",
       " '//cdn.shopify.com/s/files/1/1993/8771/products/never-fully-dressed-gold-ditsy-dress-1_{width}x.jpg?v=1575973324']"
      ]
     },
     "execution_count": 87,
     "metadata": {},
     "output_type": "execute_result"
    }
   ],
   "source": [
    "prod_images"
   ]
  },
  {
   "cell_type": "code",
   "execution_count": 88,
   "metadata": {},
   "outputs": [],
   "source": [
    "prod_images_widths = ['https:' + prod_url.replace('{width}', '1000') for prod_url in prod_images]"
   ]
  },
  {
   "cell_type": "code",
   "execution_count": 89,
   "metadata": {},
   "outputs": [
    {
     "data": {
      "text/plain": [
       "['https://cdn.shopify.com/s/files/1/1993/8771/products/never-fully-dressed-gold-ditsy-maxi-dress-square_1000x.jpg?v=1575973324',\n",
       " 'https://cdn.shopify.com/s/files/1/1993/8771/products/DW_191101_NFD_08_0924_2_1000x.jpg?v=1575973324',\n",
       " 'https://cdn.shopify.com/s/files/1/1993/8771/products/never-fully-dressed-gold-ditsy-maxi-dress-2_1000x.jpg?v=1575973324',\n",
       " 'https://cdn.shopify.com/s/files/1/1993/8771/products/never-fully-dressed-gold-ditsy-dress-1_1000x.jpg?v=1575973324']"
      ]
     },
     "execution_count": 89,
     "metadata": {},
     "output_type": "execute_result"
    }
   ],
   "source": [
    "prod_images_widths"
   ]
  },
  {
   "cell_type": "code",
   "execution_count": 163,
   "metadata": {},
   "outputs": [],
   "source": [
    "prod_name = prodpage_doc.xpath('.//h1[@itemprop=\"name\"]/text()')[0].strip()"
   ]
  },
  {
   "cell_type": "code",
   "execution_count": 164,
   "metadata": {},
   "outputs": [
    {
     "data": {
      "text/plain": [
       "'Morgan White Lace Top'"
      ]
     },
     "execution_count": 164,
     "metadata": {},
     "output_type": "execute_result"
    }
   ],
   "source": [
    "prod_name"
   ]
  },
  {
   "cell_type": "code",
   "execution_count": 165,
   "metadata": {},
   "outputs": [],
   "source": [
    "prod_price = prodpage_doc.xpath('.//div[@id=\"product-price\"]/span[@class=\"product-price\"]/span/text()')"
   ]
  },
  {
   "cell_type": "code",
   "execution_count": 166,
   "metadata": {},
   "outputs": [
    {
     "data": {
      "text/plain": [
       "'£29.00 GBP'"
      ]
     },
     "execution_count": 166,
     "metadata": {},
     "output_type": "execute_result"
    }
   ],
   "source": [
    "prod_price[0]"
   ]
  },
  {
   "cell_type": "code",
   "execution_count": 94,
   "metadata": {},
   "outputs": [],
   "source": [
    "prod_price_number = float(re.sub('[^\\d\\.]', '', prod_price[0]))"
   ]
  },
  {
   "cell_type": "code",
   "execution_count": 95,
   "metadata": {},
   "outputs": [
    {
     "data": {
      "text/plain": [
       "79.0"
      ]
     },
     "execution_count": 95,
     "metadata": {},
     "output_type": "execute_result"
    }
   ],
   "source": [
    "prod_price_number"
   ]
  },
  {
   "cell_type": "code",
   "execution_count": 96,
   "metadata": {},
   "outputs": [],
   "source": [
    "was_price = prodpage_doc.xpath('.//div[@id=\"product-price\"]/span[@class=\"was\"]/span/text()')"
   ]
  },
  {
   "cell_type": "code",
   "execution_count": 98,
   "metadata": {},
   "outputs": [],
   "source": [
    "was_price_number = None\n",
    "if len(was_price) > 0:\n",
    "    was_price_number = float(re.sub('[^\\d\\.]', '', was_price[0]))"
   ]
  },
  {
   "cell_type": "code",
   "execution_count": 100,
   "metadata": {},
   "outputs": [],
   "source": [
    "was_price_number"
   ]
  },
  {
   "cell_type": "code",
   "execution_count": 101,
   "metadata": {},
   "outputs": [],
   "source": [
    "sale = False\n",
    "price = None\n",
    "saleprice = None\n",
    "if len(was_price) > 0:\n",
    "    sale = True\n",
    "    price = was_price_number\n",
    "    saleprice = prod_price_number\n",
    "else:\n",
    "    price = prod_price_number"
   ]
  },
  {
   "cell_type": "code",
   "execution_count": 102,
   "metadata": {},
   "outputs": [
    {
     "data": {
      "text/plain": [
       "79.0"
      ]
     },
     "execution_count": 102,
     "metadata": {},
     "output_type": "execute_result"
    }
   ],
   "source": [
    "price"
   ]
  },
  {
   "cell_type": "code",
   "execution_count": 104,
   "metadata": {},
   "outputs": [
    {
     "name": "stdout",
     "output_type": "stream",
     "text": [
      "None\n"
     ]
    }
   ],
   "source": [
    "print(saleprice)"
   ]
  },
  {
   "cell_type": "code",
   "execution_count": 116,
   "metadata": {},
   "outputs": [],
   "source": [
    "color_pattern_cats = [\n",
    "    'abstract',\n",
    "    'acid',\n",
    "    'animal',\n",
    "    'apricot',\n",
    "    'beige',\n",
    "    'black',\n",
    "    'blue',\n",
    "    'bright',\n",
    "    'brown',\n",
    "    'burgundy',\n",
    "    'charcoal',\n",
    "    'check',\n",
    "    'chevron',\n",
    "    'circle',\n",
    "    'clear',\n",
    "    'cream',\n",
    "    'crochet',\n",
    "    'dark',\n",
    "    'dot',\n",
    "    'dye',\n",
    "    'floral',\n",
    "    'flower',\n",
    "    'gingham',\n",
    "    'gold',\n",
    "    'green',\n",
    "    'grey',\n",
    "    'heart',\n",
    "    'indigo',\n",
    "    'jacquard',\n",
    "    'khaki', \n",
    "    'leopard',\n",
    "    'lettuce',\n",
    "    'light',\n",
    "    'lilac',\n",
    "    'lime',\n",
    "    'mango',\n",
    "    'mesh',\n",
    "    'monochrome',\n",
    "    'mustard',\n",
    "    'navy',\n",
    "    'neon',\n",
    "    'nude',\n",
    "    'ombre',\n",
    "    'orange',\n",
    "    'paisley',\n",
    "    'pale',\n",
    "    'palm',\n",
    "    'pattern',\n",
    "    'peach',\n",
    "    'pink',\n",
    "    'pinstripe',\n",
    "    'polka',\n",
    "    'purple',\n",
    "    'rainbow',\n",
    "    'red',\n",
    "    'rib',\n",
    "    'rose',\n",
    "    'rust',\n",
    "    'silver',\n",
    "    'snake',\n",
    "    'spot',\n",
    "    'square',\n",
    "    'star',\n",
    "    'stitch',\n",
    "    'straw',\n",
    "    'stripe',\n",
    "    'striped',\n",
    "    'stripes',\n",
    "    'tan',\n",
    "    'tea',\n",
    "    'tiger',\n",
    "    'tortoiseshell',\n",
    "    'triangle',\n",
    "    'tropical',\n",
    "    'vanilla',\n",
    "    'wash',\n",
    "    'washed',\n",
    "    'white',\n",
    "    'yellow',\n",
    "    'zebra'\n",
    "]"
   ]
  },
  {
   "cell_type": "code",
   "execution_count": 117,
   "metadata": {},
   "outputs": [],
   "source": [
    "prod_name_arr = [word.lower() for word in prod_name.split(' ')]"
   ]
  },
  {
   "cell_type": "code",
   "execution_count": 118,
   "metadata": {},
   "outputs": [
    {
     "data": {
      "text/plain": [
       "['gold', 'ditsy', 'print', 'midi', 'dress']"
      ]
     },
     "execution_count": 118,
     "metadata": {},
     "output_type": "execute_result"
    }
   ],
   "source": [
    "prod_name_arr"
   ]
  },
  {
   "cell_type": "code",
   "execution_count": 119,
   "metadata": {},
   "outputs": [],
   "source": [
    "color_arr = [word for word in prod_name_arr if word in color_pattern_cats]"
   ]
  },
  {
   "cell_type": "code",
   "execution_count": 120,
   "metadata": {},
   "outputs": [
    {
     "data": {
      "text/plain": [
       "['gold']"
      ]
     },
     "execution_count": 120,
     "metadata": {},
     "output_type": "execute_result"
    }
   ],
   "source": [
    "color_arr"
   ]
  },
  {
   "cell_type": "code",
   "execution_count": 122,
   "metadata": {},
   "outputs": [],
   "source": [
    "color_string = None\n",
    "if len(color_arr) > 0:\n",
    "    color_string = color_arr[0]"
   ]
  },
  {
   "cell_type": "code",
   "execution_count": 123,
   "metadata": {},
   "outputs": [
    {
     "data": {
      "text/plain": [
       "'gold'"
      ]
     },
     "execution_count": 123,
     "metadata": {},
     "output_type": "execute_result"
    }
   ],
   "source": [
    "color_string"
   ]
  },
  {
   "cell_type": "code",
   "execution_count": 142,
   "metadata": {},
   "outputs": [],
   "source": [
    "description_match = prodpage_doc.xpath('.//meta[@property=\"og:description\"]/@content')"
   ]
  },
  {
   "cell_type": "code",
   "execution_count": 143,
   "metadata": {},
   "outputs": [
    {
     "data": {
      "text/plain": [
       "'\\nThis Gold Ditsy Print Midi Dress is such a gorgeous floral piece, perfect to take you through all seasons but amazing for party season with its silky finish and gold base! with a cute repeat pattern covering the dress, full length balloon sleeves with stretch in the arm. A beautiful high neck with pleated detail, slightly pinching in at the waist to create a flattering silhouette. Team with a\\xa0knit\\xa0layered over the top for a cool cosy look or dress up with a pair of heels and our\\xa0Green Croc Pearl Handle Bag\\xa0to complete the look. This dress is a maxi style so great for every body shape.\\nModel: 5ft 5\" wears UK 8, wearing 8\\nComposition:100% Polyester'"
      ]
     },
     "execution_count": 143,
     "metadata": {},
     "output_type": "execute_result"
    }
   ],
   "source": [
    "description_match[0]"
   ]
  },
  {
   "cell_type": "code",
   "execution_count": 131,
   "metadata": {},
   "outputs": [],
   "source": [
    "import unicodedata"
   ]
  },
  {
   "cell_type": "code",
   "execution_count": 144,
   "metadata": {},
   "outputs": [],
   "source": [
    "description_decoded = unicodedata.normalize('NFKD', description_match[0])"
   ]
  },
  {
   "cell_type": "code",
   "execution_count": 145,
   "metadata": {},
   "outputs": [
    {
     "data": {
      "text/plain": [
       "'\\nThis Gold Ditsy Print Midi Dress is such a gorgeous floral piece, perfect to take you through all seasons but amazing for party season with its silky finish and gold base! with a cute repeat pattern covering the dress, full length balloon sleeves with stretch in the arm. A beautiful high neck with pleated detail, slightly pinching in at the waist to create a flattering silhouette. Team with a knit layered over the top for a cool cosy look or dress up with a pair of heels and our Green Croc Pearl Handle Bag to complete the look. This dress is a maxi style so great for every body shape.\\nModel: 5ft 5\" wears UK 8, wearing 8\\nComposition:100% Polyester'"
      ]
     },
     "execution_count": 145,
     "metadata": {},
     "output_type": "execute_result"
    }
   ],
   "source": [
    "description_decoded"
   ]
  },
  {
   "cell_type": "code",
   "execution_count": 146,
   "metadata": {},
   "outputs": [
    {
     "data": {
      "text/plain": [
       "str"
      ]
     },
     "execution_count": 146,
     "metadata": {},
     "output_type": "execute_result"
    }
   ],
   "source": [
    "type(description_decoded)"
   ]
  },
  {
   "cell_type": "code",
   "execution_count": 147,
   "metadata": {},
   "outputs": [],
   "source": [
    "description = description_decoded.replace('\\n', '')"
   ]
  },
  {
   "cell_type": "code",
   "execution_count": 148,
   "metadata": {},
   "outputs": [
    {
     "data": {
      "text/plain": [
       "'This Gold Ditsy Print Midi Dress is such a gorgeous floral piece, perfect to take you through all seasons but amazing for party season with its silky finish and gold base! with a cute repeat pattern covering the dress, full length balloon sleeves with stretch in the arm. A beautiful high neck with pleated detail, slightly pinching in at the waist to create a flattering silhouette. Team with a knit layered over the top for a cool cosy look or dress up with a pair of heels and our Green Croc Pearl Handle Bag to complete the look. This dress is a maxi style so great for every body shape.Model: 5ft 5\" wears UK 8, wearing 8Composition:100% Polyester'"
      ]
     },
     "execution_count": 148,
     "metadata": {},
     "output_type": "execute_result"
    }
   ],
   "source": [
    "description"
   ]
  },
  {
   "cell_type": "code",
   "execution_count": 167,
   "metadata": {},
   "outputs": [],
   "source": [
    "prod_json = prodpage_doc.xpath('.//script[@class=\"product-json\"]/text()')"
   ]
  },
  {
   "cell_type": "code",
   "execution_count": 168,
   "metadata": {},
   "outputs": [
    {
     "data": {
      "text/plain": [
       "['\\n    {\"id\":3545395298381,\"title\":\"Morgan White Lace Top\",\"handle\":\"morgan-white-lace-top\",\"description\":\"\\\\u003cp\\\\u003eGet style-ready with the Morgan White Lace Top,\\xa0a\\xa0must have for your\\xa0wardrobe that you can wear time and time again. With its versatile \\\\u003cstrong\\\\u003edetachable slip included\\\\u003c\\\\/strong\\\\u003e\\xa0the sophisticated blouse will wow the crowds at the office. Change it up and layer it over a sassy, sexy\\xa0bra and transform into cocktail queen.\\xa0A classic wardrobe piece to bring outfits together! Can be paired with any of our signature \\\\u003ca href=\\\\\"\\\\/collections\\\\/skirts\\\\\"\\\\u003eskirts\\\\u003c\\\\/a\\\\u003e, casual jeans, or killer heels and steal the show.\\xa0\\\\u003c\\\\/p\\\\u003e\\\\n\\\\u003cp\\\\u003e\\\\u003cspan\\\\u003eXS Best fits UK: 6-8 S UK: 8-10 M UK: 10-12 L UK:12-14 XL UK: 16-18\\\\u003c\\\\/span\\\\u003e\\\\u003c\\\\/p\\\\u003e\\\\n\\\\u003cp\\\\u003e\\\\u003cspan\\\\u003eModel: 5ft5\\\\\" wears UK 8, wearing S\\\\u003c\\\\/span\\\\u003e\\\\u003c\\\\/p\\\\u003e\\\\n\\\\u003cp\\\\u003e\\\\u003cspan\\\\u003eComposition: Viscose\\xa0\\\\u003c\\\\/span\\\\u003e\\\\u003c\\\\/p\\\\u003e\",\"published_at\":\"2019-05-28T13:14:47+01:00\",\"created_at\":\"2019-05-08T15:39:18+01:00\",\"vendor\":\"Never Fully Dressed\",\"type\":\"Tops\",\"tags\":[\"Knitwear\",\"pattern-image-morgan-white\",\"pattern-link-morgan-black-lace-top\",\"pattern-title-morgan-white\",\"Tops\"],\"price\":2900,\"price_min\":2900,\"price_max\":2900,\"available\":true,\"price_varies\":false,\"compare_at_price\":5900,\"compare_at_price_min\":5900,\"compare_at_price_max\":5900,\"compare_at_price_varies\":false,\"variants\":[{\"id\":28174224457805,\"title\":\"Extra Small\",\"option1\":\"Extra Small\",\"option2\":null,\"option3\":null,\"sku\":\"EL-009WEXS\",\"requires_shipping\":true,\"taxable\":true,\"featured_image\":null,\"available\":true,\"name\":\"Morgan White Lace Top - Extra Small\",\"public_title\":\"Extra Small\",\"options\":[\"Extra Small\"],\"price\":2900,\"weight\":250,\"compare_at_price\":5900,\"inventory_quantity\":17,\"inventory_management\":\"shopify\",\"inventory_policy\":\"deny\",\"barcode\":\"5060716271953\"},{\"id\":28174224490573,\"title\":\"Small\",\"option1\":\"Small\",\"option2\":null,\"option3\":null,\"sku\":\"EL-009WESS\",\"requires_shipping\":true,\"taxable\":true,\"featured_image\":null,\"available\":false,\"name\":\"Morgan White Lace Top - Small\",\"public_title\":\"Small\",\"options\":[\"Small\"],\"price\":2900,\"weight\":250,\"compare_at_price\":5900,\"inventory_quantity\":0,\"inventory_management\":\"shopify\",\"inventory_policy\":\"deny\",\"barcode\":\"5060716271960\"},{\"id\":28174224523341,\"title\":\"Medium\",\"option1\":\"Medium\",\"option2\":null,\"option3\":null,\"sku\":\"EL-009WEMM\",\"requires_shipping\":true,\"taxable\":true,\"featured_image\":null,\"available\":false,\"name\":\"Morgan White Lace Top - Medium\",\"public_title\":\"Medium\",\"options\":[\"Medium\"],\"price\":2900,\"weight\":250,\"compare_at_price\":5900,\"inventory_quantity\":0,\"inventory_management\":\"shopify\",\"inventory_policy\":\"deny\",\"barcode\":\"5060716271977\"},{\"id\":28174224556109,\"title\":\"Large\",\"option1\":\"Large\",\"option2\":null,\"option3\":null,\"sku\":\"EL-009WELL\",\"requires_shipping\":true,\"taxable\":true,\"featured_image\":null,\"available\":false,\"name\":\"Morgan White Lace Top - Large\",\"public_title\":\"Large\",\"options\":[\"Large\"],\"price\":2900,\"weight\":250,\"compare_at_price\":5900,\"inventory_quantity\":0,\"inventory_management\":\"shopify\",\"inventory_policy\":\"deny\",\"barcode\":\"5060716271984\"},{\"id\":28174224588877,\"title\":\"Extra Large\",\"option1\":\"Extra Large\",\"option2\":null,\"option3\":null,\"sku\":\"EL-009WEXL\",\"requires_shipping\":true,\"taxable\":true,\"featured_image\":null,\"available\":false,\"name\":\"Morgan White Lace Top - Extra Large\",\"public_title\":\"Extra Large\",\"options\":[\"Extra Large\"],\"price\":2900,\"weight\":250,\"compare_at_price\":5900,\"inventory_quantity\":0,\"inventory_management\":\"shopify\",\"inventory_policy\":\"deny\",\"barcode\":\"5060716271991\"}],\"images\":[\"\\\\/\\\\/cdn.shopify.com\\\\/s\\\\/files\\\\/1\\\\/1993\\\\/8771\\\\/products\\\\/never-fully-dressed-white-morgan-top-12.jpg?v=1574680550\",\"\\\\/\\\\/cdn.shopify.com\\\\/s\\\\/files\\\\/1\\\\/1993\\\\/8771\\\\/products\\\\/never-fully-dressed-white-morgan-top-9.jpg?v=1574680889\",\"\\\\/\\\\/cdn.shopify.com\\\\/s\\\\/files\\\\/1\\\\/1993\\\\/8771\\\\/products\\\\/never-fully-dressed-white-morgan-top-1.jpg?v=1574680889\",\"\\\\/\\\\/cdn.shopify.com\\\\/s\\\\/files\\\\/1\\\\/1993\\\\/8771\\\\/products\\\\/never-fully-dressed-white-morgan-top-6.jpg?v=1574680889\",\"\\\\/\\\\/cdn.shopify.com\\\\/s\\\\/files\\\\/1\\\\/1993\\\\/8771\\\\/products\\\\/never-fully-dressed-white-morgan-top-11.jpg?v=1574680889\",\"\\\\/\\\\/cdn.shopify.com\\\\/s\\\\/files\\\\/1\\\\/1993\\\\/8771\\\\/products\\\\/never-fully-dressed-white-morgan-top-10.jpg?v=1574680881\"],\"featured_image\":\"\\\\/\\\\/cdn.shopify.com\\\\/s\\\\/files\\\\/1\\\\/1993\\\\/8771\\\\/products\\\\/never-fully-dressed-white-morgan-top-12.jpg?v=1574680550\",\"options\":[\"Size\"],\"content\":\"\\\\u003cp\\\\u003eGet style-ready with the Morgan White Lace Top,\\xa0a\\xa0must have for your\\xa0wardrobe that you can wear time and time again. With its versatile \\\\u003cstrong\\\\u003edetachable slip included\\\\u003c\\\\/strong\\\\u003e\\xa0the sophisticated blouse will wow the crowds at the office. Change it up and layer it over a sassy, sexy\\xa0bra and transform into cocktail queen.\\xa0A classic wardrobe piece to bring outfits together! Can be paired with any of our signature \\\\u003ca href=\\\\\"\\\\/collections\\\\/skirts\\\\\"\\\\u003eskirts\\\\u003c\\\\/a\\\\u003e, casual jeans, or killer heels and steal the show.\\xa0\\\\u003c\\\\/p\\\\u003e\\\\n\\\\u003cp\\\\u003e\\\\u003cspan\\\\u003eXS Best fits UK: 6-8 S UK: 8-10 M UK: 10-12 L UK:12-14 XL UK: 16-18\\\\u003c\\\\/span\\\\u003e\\\\u003c\\\\/p\\\\u003e\\\\n\\\\u003cp\\\\u003e\\\\u003cspan\\\\u003eModel: 5ft5\\\\\" wears UK 8, wearing S\\\\u003c\\\\/span\\\\u003e\\\\u003c\\\\/p\\\\u003e\\\\n\\\\u003cp\\\\u003e\\\\u003cspan\\\\u003eComposition: Viscose\\xa0\\\\u003c\\\\/span\\\\u003e\\\\u003c\\\\/p\\\\u003e\"}\\n  ']"
      ]
     },
     "execution_count": 168,
     "metadata": {},
     "output_type": "execute_result"
    }
   ],
   "source": [
    "prod_json"
   ]
  },
  {
   "cell_type": "code",
   "execution_count": 169,
   "metadata": {},
   "outputs": [],
   "source": [
    "prod_json_loaded = json.loads(prod_json[0])"
   ]
  },
  {
   "cell_type": "code",
   "execution_count": 170,
   "metadata": {},
   "outputs": [
    {
     "data": {
      "text/plain": [
       "{'id': 3545395298381,\n",
       " 'title': 'Morgan White Lace Top',\n",
       " 'handle': 'morgan-white-lace-top',\n",
       " 'description': '<p>Get style-ready with the Morgan White Lace Top,\\xa0a\\xa0must have for your\\xa0wardrobe that you can wear time and time again. With its versatile <strong>detachable slip included</strong>\\xa0the sophisticated blouse will wow the crowds at the office. Change it up and layer it over a sassy, sexy\\xa0bra and transform into cocktail queen.\\xa0A classic wardrobe piece to bring outfits together! Can be paired with any of our signature <a href=\"/collections/skirts\">skirts</a>, casual jeans, or killer heels and steal the show.\\xa0</p>\\n<p><span>XS Best fits UK: 6-8 S UK: 8-10 M UK: 10-12 L UK:12-14 XL UK: 16-18</span></p>\\n<p><span>Model: 5ft5\" wears UK 8, wearing S</span></p>\\n<p><span>Composition: Viscose\\xa0</span></p>',\n",
       " 'published_at': '2019-05-28T13:14:47+01:00',\n",
       " 'created_at': '2019-05-08T15:39:18+01:00',\n",
       " 'vendor': 'Never Fully Dressed',\n",
       " 'type': 'Tops',\n",
       " 'tags': ['Knitwear',\n",
       "  'pattern-image-morgan-white',\n",
       "  'pattern-link-morgan-black-lace-top',\n",
       "  'pattern-title-morgan-white',\n",
       "  'Tops'],\n",
       " 'price': 2900,\n",
       " 'price_min': 2900,\n",
       " 'price_max': 2900,\n",
       " 'available': True,\n",
       " 'price_varies': False,\n",
       " 'compare_at_price': 5900,\n",
       " 'compare_at_price_min': 5900,\n",
       " 'compare_at_price_max': 5900,\n",
       " 'compare_at_price_varies': False,\n",
       " 'variants': [{'id': 28174224457805,\n",
       "   'title': 'Extra Small',\n",
       "   'option1': 'Extra Small',\n",
       "   'option2': None,\n",
       "   'option3': None,\n",
       "   'sku': 'EL-009WEXS',\n",
       "   'requires_shipping': True,\n",
       "   'taxable': True,\n",
       "   'featured_image': None,\n",
       "   'available': True,\n",
       "   'name': 'Morgan White Lace Top - Extra Small',\n",
       "   'public_title': 'Extra Small',\n",
       "   'options': ['Extra Small'],\n",
       "   'price': 2900,\n",
       "   'weight': 250,\n",
       "   'compare_at_price': 5900,\n",
       "   'inventory_quantity': 17,\n",
       "   'inventory_management': 'shopify',\n",
       "   'inventory_policy': 'deny',\n",
       "   'barcode': '5060716271953'},\n",
       "  {'id': 28174224490573,\n",
       "   'title': 'Small',\n",
       "   'option1': 'Small',\n",
       "   'option2': None,\n",
       "   'option3': None,\n",
       "   'sku': 'EL-009WESS',\n",
       "   'requires_shipping': True,\n",
       "   'taxable': True,\n",
       "   'featured_image': None,\n",
       "   'available': False,\n",
       "   'name': 'Morgan White Lace Top - Small',\n",
       "   'public_title': 'Small',\n",
       "   'options': ['Small'],\n",
       "   'price': 2900,\n",
       "   'weight': 250,\n",
       "   'compare_at_price': 5900,\n",
       "   'inventory_quantity': 0,\n",
       "   'inventory_management': 'shopify',\n",
       "   'inventory_policy': 'deny',\n",
       "   'barcode': '5060716271960'},\n",
       "  {'id': 28174224523341,\n",
       "   'title': 'Medium',\n",
       "   'option1': 'Medium',\n",
       "   'option2': None,\n",
       "   'option3': None,\n",
       "   'sku': 'EL-009WEMM',\n",
       "   'requires_shipping': True,\n",
       "   'taxable': True,\n",
       "   'featured_image': None,\n",
       "   'available': False,\n",
       "   'name': 'Morgan White Lace Top - Medium',\n",
       "   'public_title': 'Medium',\n",
       "   'options': ['Medium'],\n",
       "   'price': 2900,\n",
       "   'weight': 250,\n",
       "   'compare_at_price': 5900,\n",
       "   'inventory_quantity': 0,\n",
       "   'inventory_management': 'shopify',\n",
       "   'inventory_policy': 'deny',\n",
       "   'barcode': '5060716271977'},\n",
       "  {'id': 28174224556109,\n",
       "   'title': 'Large',\n",
       "   'option1': 'Large',\n",
       "   'option2': None,\n",
       "   'option3': None,\n",
       "   'sku': 'EL-009WELL',\n",
       "   'requires_shipping': True,\n",
       "   'taxable': True,\n",
       "   'featured_image': None,\n",
       "   'available': False,\n",
       "   'name': 'Morgan White Lace Top - Large',\n",
       "   'public_title': 'Large',\n",
       "   'options': ['Large'],\n",
       "   'price': 2900,\n",
       "   'weight': 250,\n",
       "   'compare_at_price': 5900,\n",
       "   'inventory_quantity': 0,\n",
       "   'inventory_management': 'shopify',\n",
       "   'inventory_policy': 'deny',\n",
       "   'barcode': '5060716271984'},\n",
       "  {'id': 28174224588877,\n",
       "   'title': 'Extra Large',\n",
       "   'option1': 'Extra Large',\n",
       "   'option2': None,\n",
       "   'option3': None,\n",
       "   'sku': 'EL-009WEXL',\n",
       "   'requires_shipping': True,\n",
       "   'taxable': True,\n",
       "   'featured_image': None,\n",
       "   'available': False,\n",
       "   'name': 'Morgan White Lace Top - Extra Large',\n",
       "   'public_title': 'Extra Large',\n",
       "   'options': ['Extra Large'],\n",
       "   'price': 2900,\n",
       "   'weight': 250,\n",
       "   'compare_at_price': 5900,\n",
       "   'inventory_quantity': 0,\n",
       "   'inventory_management': 'shopify',\n",
       "   'inventory_policy': 'deny',\n",
       "   'barcode': '5060716271991'}],\n",
       " 'images': ['//cdn.shopify.com/s/files/1/1993/8771/products/never-fully-dressed-white-morgan-top-12.jpg?v=1574680550',\n",
       "  '//cdn.shopify.com/s/files/1/1993/8771/products/never-fully-dressed-white-morgan-top-9.jpg?v=1574680889',\n",
       "  '//cdn.shopify.com/s/files/1/1993/8771/products/never-fully-dressed-white-morgan-top-1.jpg?v=1574680889',\n",
       "  '//cdn.shopify.com/s/files/1/1993/8771/products/never-fully-dressed-white-morgan-top-6.jpg?v=1574680889',\n",
       "  '//cdn.shopify.com/s/files/1/1993/8771/products/never-fully-dressed-white-morgan-top-11.jpg?v=1574680889',\n",
       "  '//cdn.shopify.com/s/files/1/1993/8771/products/never-fully-dressed-white-morgan-top-10.jpg?v=1574680881'],\n",
       " 'featured_image': '//cdn.shopify.com/s/files/1/1993/8771/products/never-fully-dressed-white-morgan-top-12.jpg?v=1574680550',\n",
       " 'options': ['Size'],\n",
       " 'content': '<p>Get style-ready with the Morgan White Lace Top,\\xa0a\\xa0must have for your\\xa0wardrobe that you can wear time and time again. With its versatile <strong>detachable slip included</strong>\\xa0the sophisticated blouse will wow the crowds at the office. Change it up and layer it over a sassy, sexy\\xa0bra and transform into cocktail queen.\\xa0A classic wardrobe piece to bring outfits together! Can be paired with any of our signature <a href=\"/collections/skirts\">skirts</a>, casual jeans, or killer heels and steal the show.\\xa0</p>\\n<p><span>XS Best fits UK: 6-8 S UK: 8-10 M UK: 10-12 L UK:12-14 XL UK: 16-18</span></p>\\n<p><span>Model: 5ft5\" wears UK 8, wearing S</span></p>\\n<p><span>Composition: Viscose\\xa0</span></p>'}"
      ]
     },
     "execution_count": 170,
     "metadata": {},
     "output_type": "execute_result"
    }
   ],
   "source": [
    "prod_json_loaded"
   ]
  },
  {
   "cell_type": "code",
   "execution_count": 153,
   "metadata": {},
   "outputs": [],
   "source": [
    "size_variants = prod_json_loaded['variants']"
   ]
  },
  {
   "cell_type": "code",
   "execution_count": 154,
   "metadata": {},
   "outputs": [
    {
     "data": {
      "text/plain": [
       "[{'id': 30235730444365,\n",
       "  'title': '6',\n",
       "  'option1': '6',\n",
       "  'option2': None,\n",
       "  'option3': None,\n",
       "  'sku': 'NL28450GD06',\n",
       "  'requires_shipping': True,\n",
       "  'taxable': True,\n",
       "  'featured_image': None,\n",
       "  'available': True,\n",
       "  'name': 'Gold Ditsy Print Midi Dress - 6',\n",
       "  'public_title': '6',\n",
       "  'options': ['6'],\n",
       "  'price': 7900,\n",
       "  'weight': 300,\n",
       "  'compare_at_price': None,\n",
       "  'inventory_quantity': 17,\n",
       "  'inventory_management': 'shopify',\n",
       "  'inventory_policy': 'deny',\n",
       "  'barcode': '5056357704714'},\n",
       " {'id': 30235730477133,\n",
       "  'title': '8',\n",
       "  'option1': '8',\n",
       "  'option2': None,\n",
       "  'option3': None,\n",
       "  'sku': 'NL28450GD08',\n",
       "  'requires_shipping': True,\n",
       "  'taxable': True,\n",
       "  'featured_image': None,\n",
       "  'available': True,\n",
       "  'name': 'Gold Ditsy Print Midi Dress - 8',\n",
       "  'public_title': '8',\n",
       "  'options': ['8'],\n",
       "  'price': 7900,\n",
       "  'weight': 300,\n",
       "  'compare_at_price': None,\n",
       "  'inventory_quantity': 96,\n",
       "  'inventory_management': 'shopify',\n",
       "  'inventory_policy': 'deny',\n",
       "  'barcode': '5056357704721'},\n",
       " {'id': 30235730542669,\n",
       "  'title': '10',\n",
       "  'option1': '10',\n",
       "  'option2': None,\n",
       "  'option3': None,\n",
       "  'sku': 'NL28450GD10',\n",
       "  'requires_shipping': True,\n",
       "  'taxable': True,\n",
       "  'featured_image': None,\n",
       "  'available': True,\n",
       "  'name': 'Gold Ditsy Print Midi Dress - 10',\n",
       "  'public_title': '10',\n",
       "  'options': ['10'],\n",
       "  'price': 7900,\n",
       "  'weight': 300,\n",
       "  'compare_at_price': None,\n",
       "  'inventory_quantity': 101,\n",
       "  'inventory_management': 'shopify',\n",
       "  'inventory_policy': 'deny',\n",
       "  'barcode': '5056357704738'},\n",
       " {'id': 30235730575437,\n",
       "  'title': '12',\n",
       "  'option1': '12',\n",
       "  'option2': None,\n",
       "  'option3': None,\n",
       "  'sku': 'NL28450GD12',\n",
       "  'requires_shipping': True,\n",
       "  'taxable': True,\n",
       "  'featured_image': None,\n",
       "  'available': True,\n",
       "  'name': 'Gold Ditsy Print Midi Dress - 12',\n",
       "  'public_title': '12',\n",
       "  'options': ['12'],\n",
       "  'price': 7900,\n",
       "  'weight': 300,\n",
       "  'compare_at_price': None,\n",
       "  'inventory_quantity': 57,\n",
       "  'inventory_management': 'shopify',\n",
       "  'inventory_policy': 'deny',\n",
       "  'barcode': '5056357704745'},\n",
       " {'id': 30235730608205,\n",
       "  'title': '14',\n",
       "  'option1': '14',\n",
       "  'option2': None,\n",
       "  'option3': None,\n",
       "  'sku': 'NL28450GD14',\n",
       "  'requires_shipping': True,\n",
       "  'taxable': True,\n",
       "  'featured_image': None,\n",
       "  'available': True,\n",
       "  'name': 'Gold Ditsy Print Midi Dress - 14',\n",
       "  'public_title': '14',\n",
       "  'options': ['14'],\n",
       "  'price': 7900,\n",
       "  'weight': 300,\n",
       "  'compare_at_price': None,\n",
       "  'inventory_quantity': 21,\n",
       "  'inventory_management': 'shopify',\n",
       "  'inventory_policy': 'deny',\n",
       "  'barcode': '5056357704752'},\n",
       " {'id': 30235730640973,\n",
       "  'title': '16',\n",
       "  'option1': '16',\n",
       "  'option2': None,\n",
       "  'option3': None,\n",
       "  'sku': 'NL28450GD16',\n",
       "  'requires_shipping': True,\n",
       "  'taxable': True,\n",
       "  'featured_image': None,\n",
       "  'available': True,\n",
       "  'name': 'Gold Ditsy Print Midi Dress - 16',\n",
       "  'public_title': '16',\n",
       "  'options': ['16'],\n",
       "  'price': 7900,\n",
       "  'weight': 300,\n",
       "  'compare_at_price': None,\n",
       "  'inventory_quantity': 27,\n",
       "  'inventory_management': 'shopify',\n",
       "  'inventory_policy': 'deny',\n",
       "  'barcode': '5056357704769'},\n",
       " {'id': 30235730673741,\n",
       "  'title': '18',\n",
       "  'option1': '18',\n",
       "  'option2': None,\n",
       "  'option3': None,\n",
       "  'sku': 'NL28450GD18',\n",
       "  'requires_shipping': True,\n",
       "  'taxable': True,\n",
       "  'featured_image': None,\n",
       "  'available': True,\n",
       "  'name': 'Gold Ditsy Print Midi Dress - 18',\n",
       "  'public_title': '18',\n",
       "  'options': ['18'],\n",
       "  'price': 7900,\n",
       "  'weight': 300,\n",
       "  'compare_at_price': None,\n",
       "  'inventory_quantity': 17,\n",
       "  'inventory_management': 'shopify',\n",
       "  'inventory_policy': 'deny',\n",
       "  'barcode': '5056357704776'}]"
      ]
     },
     "execution_count": 154,
     "metadata": {},
     "output_type": "execute_result"
    }
   ],
   "source": [
    "size_variants"
   ]
  },
  {
   "cell_type": "code",
   "execution_count": 155,
   "metadata": {},
   "outputs": [],
   "source": [
    "size_stock = []\n",
    "for size_variant in size_variants:\n",
    "    size = size_variant['title']\n",
    "    available = size_variant['available']\n",
    "    size_stock.append({\n",
    "        'size': size,\n",
    "        'stock': 'In stock' if available else 'Out of stock'\n",
    "    })"
   ]
  },
  {
   "cell_type": "code",
   "execution_count": 156,
   "metadata": {},
   "outputs": [
    {
     "data": {
      "text/plain": [
       "[{'size': '6', 'stock': 'In stock'},\n",
       " {'size': '8', 'stock': 'In stock'},\n",
       " {'size': '10', 'stock': 'In stock'},\n",
       " {'size': '12', 'stock': 'In stock'},\n",
       " {'size': '14', 'stock': 'In stock'},\n",
       " {'size': '16', 'stock': 'In stock'},\n",
       " {'size': '18', 'stock': 'In stock'}]"
      ]
     },
     "execution_count": 156,
     "metadata": {},
     "output_type": "execute_result"
    }
   ],
   "source": [
    "size_stock"
   ]
  },
  {
   "cell_type": "code",
   "execution_count": 159,
   "metadata": {},
   "outputs": [],
   "source": [
    "category = prod_json_loaded['type'].lower()"
   ]
  },
  {
   "cell_type": "code",
   "execution_count": 160,
   "metadata": {},
   "outputs": [
    {
     "data": {
      "text/plain": [
       "'dresses'"
      ]
     },
     "execution_count": 160,
     "metadata": {},
     "output_type": "execute_result"
    }
   ],
   "source": [
    "category"
   ]
  },
  {
   "cell_type": "code",
   "execution_count": 171,
   "metadata": {},
   "outputs": [
    {
     "data": {
      "text/plain": [
       "1.206896551724138"
      ]
     },
     "execution_count": 171,
     "metadata": {},
     "output_type": "execute_result"
    }
   ],
   "source": [
    "35 / 29"
   ]
  },
  {
   "cell_type": "code",
   "execution_count": 177,
   "metadata": {},
   "outputs": [
    {
     "data": {
      "text/plain": [
       "68.77142857142857"
      ]
     },
     "execution_count": 177,
     "metadata": {},
     "output_type": "execute_result"
    }
   ],
   "source": [
    "83 / 1.206896551724138"
   ]
  },
  {
   "cell_type": "code",
   "execution_count": 174,
   "metadata": {},
   "outputs": [
    {
     "data": {
      "text/plain": [
       "69.0"
      ]
     },
     "execution_count": 174,
     "metadata": {},
     "output_type": "execute_result"
    }
   ],
   "source": [
    "round(83 / 1.20689, 0)"
   ]
  },
  {
   "cell_type": "code",
   "execution_count": null,
   "metadata": {},
   "outputs": [],
   "source": []
  }
 ],
 "metadata": {
  "kernelspec": {
   "display_name": "Python 3",
   "language": "python",
   "name": "python3"
  },
  "language_info": {
   "codemirror_mode": {
    "name": "ipython",
    "version": 3
   },
   "file_extension": ".py",
   "mimetype": "text/x-python",
   "name": "python",
   "nbconvert_exporter": "python",
   "pygments_lexer": "ipython3",
   "version": "3.6.9"
  }
 },
 "nbformat": 4,
 "nbformat_minor": 2
}
